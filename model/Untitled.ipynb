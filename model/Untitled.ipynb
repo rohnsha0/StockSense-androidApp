{
 "cells": [
  {
   "cell_type": "code",
   "execution_count": 1,
   "id": "0b34e70c-ba33-43cf-9c0f-67e10c820adb",
   "metadata": {
    "tags": []
   },
   "outputs": [],
   "source": [
    "import yfinance as yf\n",
    "import pandas as pd\n",
    "from datetime import datetime, timedelta\n",
    "import requests\n",
    "import json"
   ]
  },
  {
   "cell_type": "code",
   "execution_count": 2,
   "id": "ab7e0f93-0849-44b1-8a1d-8ce0eedaad63",
   "metadata": {
    "tags": []
   },
   "outputs": [],
   "source": [
    "end_date = datetime.now().date()\n",
    "start_date = end_date - timedelta(days=59)"
   ]
  },
  {
   "cell_type": "code",
   "execution_count": 3,
   "id": "157a9f40-391b-4dfa-8304-c904bfc25884",
   "metadata": {
    "tags": []
   },
   "outputs": [
    {
     "name": "stdout",
     "output_type": "stream",
     "text": [
      "[*********************100%***********************]  1 of 1 completed\n"
     ]
    }
   ],
   "source": [
    "data = yf.download('ITC.NS', interval='30m', start=start_date, end=end_date)"
   ]
  },
  {
   "cell_type": "code",
   "execution_count": 4,
   "id": "5e46d2a5-7bf1-4cae-b8ad-6485f3e609e7",
   "metadata": {
    "tags": []
   },
   "outputs": [
    {
     "data": {
      "text/html": [
       "<div>\n",
       "<style scoped>\n",
       "    .dataframe tbody tr th:only-of-type {\n",
       "        vertical-align: middle;\n",
       "    }\n",
       "\n",
       "    .dataframe tbody tr th {\n",
       "        vertical-align: top;\n",
       "    }\n",
       "\n",
       "    .dataframe thead th {\n",
       "        text-align: right;\n",
       "    }\n",
       "</style>\n",
       "<table border=\"1\" class=\"dataframe\">\n",
       "  <thead>\n",
       "    <tr style=\"text-align: right;\">\n",
       "      <th></th>\n",
       "      <th>Open</th>\n",
       "      <th>High</th>\n",
       "      <th>Low</th>\n",
       "      <th>Close</th>\n",
       "      <th>Adj Close</th>\n",
       "      <th>Volume</th>\n",
       "    </tr>\n",
       "    <tr>\n",
       "      <th>Datetime</th>\n",
       "      <th></th>\n",
       "      <th></th>\n",
       "      <th></th>\n",
       "      <th></th>\n",
       "      <th></th>\n",
       "      <th></th>\n",
       "    </tr>\n",
       "  </thead>\n",
       "  <tbody>\n",
       "    <tr>\n",
       "      <th>2023-03-15 09:30:00</th>\n",
       "      <td>382.950012</td>\n",
       "      <td>382.950012</td>\n",
       "      <td>381.200012</td>\n",
       "      <td>381.799988</td>\n",
       "      <td>381.799988</td>\n",
       "      <td>505609</td>\n",
       "    </tr>\n",
       "    <tr>\n",
       "      <th>2023-03-15 10:00:00</th>\n",
       "      <td>381.899994</td>\n",
       "      <td>382.649994</td>\n",
       "      <td>381.200012</td>\n",
       "      <td>382.000000</td>\n",
       "      <td>382.000000</td>\n",
       "      <td>629478</td>\n",
       "    </tr>\n",
       "    <tr>\n",
       "      <th>2023-03-15 10:30:00</th>\n",
       "      <td>382.049988</td>\n",
       "      <td>382.200012</td>\n",
       "      <td>380.700012</td>\n",
       "      <td>381.000000</td>\n",
       "      <td>381.000000</td>\n",
       "      <td>538956</td>\n",
       "    </tr>\n",
       "    <tr>\n",
       "      <th>2023-03-15 11:00:00</th>\n",
       "      <td>381.000000</td>\n",
       "      <td>381.500000</td>\n",
       "      <td>380.799988</td>\n",
       "      <td>381.500000</td>\n",
       "      <td>381.500000</td>\n",
       "      <td>566482</td>\n",
       "    </tr>\n",
       "    <tr>\n",
       "      <th>2023-03-15 11:30:00</th>\n",
       "      <td>381.500000</td>\n",
       "      <td>381.649994</td>\n",
       "      <td>380.200012</td>\n",
       "      <td>380.250000</td>\n",
       "      <td>380.250000</td>\n",
       "      <td>829525</td>\n",
       "    </tr>\n",
       "  </tbody>\n",
       "</table>\n",
       "</div>"
      ],
      "text/plain": [
       "                           Open        High         Low       Close   \n",
       "Datetime                                                              \n",
       "2023-03-15 09:30:00  382.950012  382.950012  381.200012  381.799988  \\\n",
       "2023-03-15 10:00:00  381.899994  382.649994  381.200012  382.000000   \n",
       "2023-03-15 10:30:00  382.049988  382.200012  380.700012  381.000000   \n",
       "2023-03-15 11:00:00  381.000000  381.500000  380.799988  381.500000   \n",
       "2023-03-15 11:30:00  381.500000  381.649994  380.200012  380.250000   \n",
       "\n",
       "                      Adj Close  Volume  \n",
       "Datetime                                 \n",
       "2023-03-15 09:30:00  381.799988  505609  \n",
       "2023-03-15 10:00:00  382.000000  629478  \n",
       "2023-03-15 10:30:00  381.000000  538956  \n",
       "2023-03-15 11:00:00  381.500000  566482  \n",
       "2023-03-15 11:30:00  380.250000  829525  "
      ]
     },
     "execution_count": 4,
     "metadata": {},
     "output_type": "execute_result"
    }
   ],
   "source": [
    "data.head()"
   ]
  },
  {
   "cell_type": "code",
   "execution_count": 5,
   "id": "55701ed1-2699-4191-bcda-86f23f81adab",
   "metadata": {
    "tags": []
   },
   "outputs": [],
   "source": [
    "data=data.reset_index()"
   ]
  },
  {
   "cell_type": "code",
   "execution_count": 6,
   "id": "ab61b271-3d2b-4314-b085-5921e533b72d",
   "metadata": {
    "tags": []
   },
   "outputs": [],
   "source": [
    "dataDF= requests.get(\"http://127.0.0.1:8000/api/query/ITC.NS/\") "
   ]
  },
  {
   "cell_type": "markdown",
   "id": "97587c16-f706-469a-99fe-58796fd5e286",
   "metadata": {
    "tags": []
   },
   "source": [
    "dataD= dataDF.json()"
   ]
  },
  {
   "cell_type": "code",
   "execution_count": 7,
   "id": "3489c941-ed1c-4211-8b96-d02db54993ae",
   "metadata": {
    "tags": []
   },
   "outputs": [],
   "source": [
    "df= pd.read_json(dataDF.json())"
   ]
  },
  {
   "cell_type": "code",
   "execution_count": 8,
   "id": "bb1ea128-d2c0-4185-a73f-a9334050314b",
   "metadata": {
    "tags": []
   },
   "outputs": [
    {
     "data": {
      "text/html": [
       "<div>\n",
       "<style scoped>\n",
       "    .dataframe tbody tr th:only-of-type {\n",
       "        vertical-align: middle;\n",
       "    }\n",
       "\n",
       "    .dataframe tbody tr th {\n",
       "        vertical-align: top;\n",
       "    }\n",
       "\n",
       "    .dataframe thead th {\n",
       "        text-align: right;\n",
       "    }\n",
       "</style>\n",
       "<table border=\"1\" class=\"dataframe\">\n",
       "  <thead>\n",
       "    <tr style=\"text-align: right;\">\n",
       "      <th></th>\n",
       "      <th>Datetime</th>\n",
       "      <th>Open</th>\n",
       "      <th>High</th>\n",
       "      <th>Low</th>\n",
       "      <th>Close</th>\n",
       "      <th>Adj Close</th>\n",
       "      <th>Volume</th>\n",
       "    </tr>\n",
       "  </thead>\n",
       "  <tbody>\n",
       "    <tr>\n",
       "      <th>0</th>\n",
       "      <td>2023-03-15 09:30:00</td>\n",
       "      <td>382.950012</td>\n",
       "      <td>382.950012</td>\n",
       "      <td>381.200012</td>\n",
       "      <td>381.799988</td>\n",
       "      <td>381.799988</td>\n",
       "      <td>505609</td>\n",
       "    </tr>\n",
       "    <tr>\n",
       "      <th>1</th>\n",
       "      <td>2023-03-15 10:00:00</td>\n",
       "      <td>381.899994</td>\n",
       "      <td>382.649994</td>\n",
       "      <td>381.200012</td>\n",
       "      <td>382.000000</td>\n",
       "      <td>382.000000</td>\n",
       "      <td>629478</td>\n",
       "    </tr>\n",
       "    <tr>\n",
       "      <th>2</th>\n",
       "      <td>2023-03-15 10:30:00</td>\n",
       "      <td>382.049988</td>\n",
       "      <td>382.200012</td>\n",
       "      <td>380.700012</td>\n",
       "      <td>381.000000</td>\n",
       "      <td>381.000000</td>\n",
       "      <td>538956</td>\n",
       "    </tr>\n",
       "    <tr>\n",
       "      <th>3</th>\n",
       "      <td>2023-03-15 11:00:00</td>\n",
       "      <td>381.000000</td>\n",
       "      <td>381.500000</td>\n",
       "      <td>380.799988</td>\n",
       "      <td>381.500000</td>\n",
       "      <td>381.500000</td>\n",
       "      <td>566482</td>\n",
       "    </tr>\n",
       "    <tr>\n",
       "      <th>4</th>\n",
       "      <td>2023-03-15 11:30:00</td>\n",
       "      <td>381.500000</td>\n",
       "      <td>381.649994</td>\n",
       "      <td>380.200012</td>\n",
       "      <td>380.250000</td>\n",
       "      <td>380.250000</td>\n",
       "      <td>829525</td>\n",
       "    </tr>\n",
       "  </tbody>\n",
       "</table>\n",
       "</div>"
      ],
      "text/plain": [
       "             Datetime        Open        High         Low       Close   \n",
       "0 2023-03-15 09:30:00  382.950012  382.950012  381.200012  381.799988  \\\n",
       "1 2023-03-15 10:00:00  381.899994  382.649994  381.200012  382.000000   \n",
       "2 2023-03-15 10:30:00  382.049988  382.200012  380.700012  381.000000   \n",
       "3 2023-03-15 11:00:00  381.000000  381.500000  380.799988  381.500000   \n",
       "4 2023-03-15 11:30:00  381.500000  381.649994  380.200012  380.250000   \n",
       "\n",
       "    Adj Close  Volume  \n",
       "0  381.799988  505609  \n",
       "1  382.000000  629478  \n",
       "2  381.000000  538956  \n",
       "3  381.500000  566482  \n",
       "4  380.250000  829525  "
      ]
     },
     "execution_count": 8,
     "metadata": {},
     "output_type": "execute_result"
    }
   ],
   "source": [
    "df.head()"
   ]
  },
  {
   "cell_type": "code",
   "execution_count": 9,
   "id": "f3afa1c7-9263-4c50-8e64-7c1f0581c612",
   "metadata": {
    "tags": []
   },
   "outputs": [
    {
     "data": {
      "text/plain": [
       "Datetime     datetime64[ns]\n",
       "Open                float64\n",
       "High                float64\n",
       "Low                 float64\n",
       "Close               float64\n",
       "Adj Close           float64\n",
       "Volume                int64\n",
       "dtype: object"
      ]
     },
     "execution_count": 9,
     "metadata": {},
     "output_type": "execute_result"
    }
   ],
   "source": [
    "df.dtypes"
   ]
  },
  {
   "cell_type": "code",
   "execution_count": null,
   "id": "22593803-fd82-47ed-9506-9b454ea0bceb",
   "metadata": {},
   "outputs": [],
   "source": []
  }
 ],
 "metadata": {
  "kernelspec": {
   "display_name": "Python 3 (ipykernel)",
   "language": "python",
   "name": "python3"
  },
  "language_info": {
   "codemirror_mode": {
    "name": "ipython",
    "version": 3
   },
   "file_extension": ".py",
   "mimetype": "text/x-python",
   "name": "python",
   "nbconvert_exporter": "python",
   "pygments_lexer": "ipython3",
   "version": "3.10.9"
  }
 },
 "nbformat": 4,
 "nbformat_minor": 5
}
