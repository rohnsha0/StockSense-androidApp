{
 "cells": [
  {
   "cell_type": "code",
   "execution_count": 1,
   "id": "71b7d6a8-d691-4bb8-973f-f9c688ca6fd9",
   "metadata": {
    "tags": []
   },
   "outputs": [],
   "source": [
    "import yfinance as yf\n",
    "from sklearn.preprocessing import MinMaxScaler\n",
    "import numpy as np\n",
    "import pandas as pd\n",
    "from datetime import datetime, timedelta\n",
    "import requests\n",
    "import json\n",
    "import tensorflow as tf\n",
    "from tensorflow import keras"
   ]
  },
  {
   "cell_type": "code",
   "execution_count": 2,
   "id": "3b5de86d-79cb-44ac-9c46-ce6408007bf4",
   "metadata": {
    "tags": []
   },
   "outputs": [],
   "source": [
    "company= '^NSEI'"
   ]
  },
  {
   "cell_type": "code",
   "execution_count": 3,
   "id": "5686d854-be20-4fce-bae1-fac2850a9277",
   "metadata": {
    "tags": []
   },
   "outputs": [],
   "source": [
    "end_date = datetime.now().date() - timedelta(days=15)\n",
    "start_date = datetime.now().date() - timedelta(days=59)\n",
    "\n",
    "end_date1 = datetime.now().date()\n",
    "start_date1 = datetime.now().date() - timedelta(days=14)"
   ]
  },
  {
   "cell_type": "code",
   "execution_count": 4,
   "id": "22f983c4-1c20-40e2-9011-e092c793c086",
   "metadata": {
    "tags": []
   },
   "outputs": [
    {
     "name": "stdout",
     "output_type": "stream",
     "text": [
      "[*********************100%***********************]  1 of 1 completed\n"
     ]
    },
    {
     "data": {
      "text/html": [
       "<div>\n",
       "<style scoped>\n",
       "    .dataframe tbody tr th:only-of-type {\n",
       "        vertical-align: middle;\n",
       "    }\n",
       "\n",
       "    .dataframe tbody tr th {\n",
       "        vertical-align: top;\n",
       "    }\n",
       "\n",
       "    .dataframe thead th {\n",
       "        text-align: right;\n",
       "    }\n",
       "</style>\n",
       "<table border=\"1\" class=\"dataframe\">\n",
       "  <thead>\n",
       "    <tr style=\"text-align: right;\">\n",
       "      <th></th>\n",
       "      <th>Open</th>\n",
       "      <th>High</th>\n",
       "      <th>Low</th>\n",
       "      <th>Close</th>\n",
       "      <th>Adj Close</th>\n",
       "      <th>Volume</th>\n",
       "    </tr>\n",
       "    <tr>\n",
       "      <th>Datetime</th>\n",
       "      <th></th>\n",
       "      <th></th>\n",
       "      <th></th>\n",
       "      <th></th>\n",
       "      <th></th>\n",
       "      <th></th>\n",
       "    </tr>\n",
       "  </thead>\n",
       "  <tbody>\n",
       "    <tr>\n",
       "      <th>2023-03-16 09:30:00</th>\n",
       "      <td>16913.050781</td>\n",
       "      <td>16917.650391</td>\n",
       "      <td>16850.400391</td>\n",
       "      <td>16883.300781</td>\n",
       "      <td>16883.300781</td>\n",
       "      <td>0</td>\n",
       "    </tr>\n",
       "    <tr>\n",
       "      <th>2023-03-16 10:00:00</th>\n",
       "      <td>16882.199219</td>\n",
       "      <td>16961.300781</td>\n",
       "      <td>16853.199219</td>\n",
       "      <td>16940.750000</td>\n",
       "      <td>16940.750000</td>\n",
       "      <td>0</td>\n",
       "    </tr>\n",
       "    <tr>\n",
       "      <th>2023-03-16 10:30:00</th>\n",
       "      <td>16940.199219</td>\n",
       "      <td>17028.449219</td>\n",
       "      <td>16926.449219</td>\n",
       "      <td>17014.250000</td>\n",
       "      <td>17014.250000</td>\n",
       "      <td>0</td>\n",
       "    </tr>\n",
       "    <tr>\n",
       "      <th>2023-03-16 11:00:00</th>\n",
       "      <td>17014.650391</td>\n",
       "      <td>17046.150391</td>\n",
       "      <td>17001.500000</td>\n",
       "      <td>17023.300781</td>\n",
       "      <td>17023.300781</td>\n",
       "      <td>0</td>\n",
       "    </tr>\n",
       "    <tr>\n",
       "      <th>2023-03-16 11:30:00</th>\n",
       "      <td>17023.650391</td>\n",
       "      <td>17028.550781</td>\n",
       "      <td>16955.900391</td>\n",
       "      <td>16961.900391</td>\n",
       "      <td>16961.900391</td>\n",
       "      <td>0</td>\n",
       "    </tr>\n",
       "  </tbody>\n",
       "</table>\n",
       "</div>"
      ],
      "text/plain": [
       "                             Open          High           Low         Close   \n",
       "Datetime                                                                      \n",
       "2023-03-16 09:30:00  16913.050781  16917.650391  16850.400391  16883.300781  \\\n",
       "2023-03-16 10:00:00  16882.199219  16961.300781  16853.199219  16940.750000   \n",
       "2023-03-16 10:30:00  16940.199219  17028.449219  16926.449219  17014.250000   \n",
       "2023-03-16 11:00:00  17014.650391  17046.150391  17001.500000  17023.300781   \n",
       "2023-03-16 11:30:00  17023.650391  17028.550781  16955.900391  16961.900391   \n",
       "\n",
       "                        Adj Close  Volume  \n",
       "Datetime                                   \n",
       "2023-03-16 09:30:00  16883.300781       0  \n",
       "2023-03-16 10:00:00  16940.750000       0  \n",
       "2023-03-16 10:30:00  17014.250000       0  \n",
       "2023-03-16 11:00:00  17023.300781       0  \n",
       "2023-03-16 11:30:00  16961.900391       0  "
      ]
     },
     "execution_count": 4,
     "metadata": {},
     "output_type": "execute_result"
    }
   ],
   "source": [
    "df = yf.download(company, interval='30m', start=start_date, end=end_date)\n",
    "df.head()"
   ]
  },
  {
   "cell_type": "code",
   "execution_count": null,
   "id": "3e3446b3-44a8-4afa-b5a5-4ce976532a81",
   "metadata": {},
   "outputs": [],
   "source": []
  },
  {
   "cell_type": "code",
   "execution_count": 5,
   "id": "befab8ef-6962-4fd4-868d-981004658ce4",
   "metadata": {
    "tags": []
   },
   "outputs": [],
   "source": [
    "trainSet= df.iloc[:, 1:2].values"
   ]
  },
  {
   "cell_type": "code",
   "execution_count": 6,
   "id": "4290e156-96af-4c1f-a302-15f2466d37e0",
   "metadata": {
    "tags": []
   },
   "outputs": [
    {
     "data": {
      "text/plain": [
       "(336, 6)"
      ]
     },
     "execution_count": 6,
     "metadata": {},
     "output_type": "execute_result"
    }
   ],
   "source": [
    "df.shape"
   ]
  },
  {
   "cell_type": "code",
   "execution_count": 7,
   "id": "79b9ef41-ffae-4acb-9681-1da999bbff45",
   "metadata": {
    "tags": []
   },
   "outputs": [],
   "source": [
    "from sklearn.preprocessing import MinMaxScaler\n",
    "\n",
    "scaler= MinMaxScaler(feature_range=(0,1))"
   ]
  },
  {
   "cell_type": "code",
   "execution_count": 8,
   "id": "fb00b60f-d14f-42ad-b9fc-9271b12a8ff5",
   "metadata": {
    "tags": []
   },
   "outputs": [],
   "source": [
    "trainingSetScaled= scaler.fit_transform(df['Close'].values.reshape(-1,1))"
   ]
  },
  {
   "cell_type": "code",
   "execution_count": 9,
   "id": "8fab11b9-c797-41da-92ef-5290ae68928f",
   "metadata": {
    "tags": []
   },
   "outputs": [],
   "source": [
    "xTRAIN = []\n",
    "yTRAIN = []\n",
    "\n",
    "for i in range(60, len(trainingSetScaled)):\n",
    "    xTRAIN.append(trainingSetScaled[i-60:i, 0])\n",
    "    yTRAIN.append(trainingSetScaled[i, 0])\n",
    "    \n",
    "xTRAIN, yTRAIN= np.array(xTRAIN), np.array(yTRAIN)"
   ]
  },
  {
   "cell_type": "code",
   "execution_count": 10,
   "id": "cbd8001b-4a0a-4fd2-9065-b29386bc062b",
   "metadata": {
    "tags": []
   },
   "outputs": [],
   "source": [
    "xTRAIN= np.reshape(xTRAIN, newshape=(xTRAIN.shape[0], xTRAIN.shape[1], 1))"
   ]
  },
  {
   "cell_type": "code",
   "execution_count": 11,
   "id": "94428c54-0d8b-4ac5-8d29-95fbe0eb9256",
   "metadata": {
    "tags": []
   },
   "outputs": [
    {
     "data": {
      "text/plain": [
       "(336, 1)"
      ]
     },
     "execution_count": 11,
     "metadata": {},
     "output_type": "execute_result"
    }
   ],
   "source": [
    "trainingSetScaled.shape"
   ]
  },
  {
   "cell_type": "code",
   "execution_count": 12,
   "id": "aa2e976f-2662-4a65-9906-2bcfa27011f8",
   "metadata": {
    "tags": []
   },
   "outputs": [
    {
     "data": {
      "text/plain": [
       "(276, 60, 1)"
      ]
     },
     "execution_count": 12,
     "metadata": {},
     "output_type": "execute_result"
    }
   ],
   "source": [
    "xTRAIN.shape"
   ]
  },
  {
   "cell_type": "code",
   "execution_count": 13,
   "id": "2348c85d-8b88-4cce-bd14-1c54a71bef66",
   "metadata": {
    "tags": []
   },
   "outputs": [
    {
     "data": {
      "text/plain": [
       "(276,)"
      ]
     },
     "execution_count": 13,
     "metadata": {},
     "output_type": "execute_result"
    }
   ],
   "source": [
    "yTRAIN.shape"
   ]
  },
  {
   "cell_type": "code",
   "execution_count": 14,
   "id": "5e6b1462-26e3-4444-bdb6-b8a67b2853e6",
   "metadata": {
    "tags": []
   },
   "outputs": [],
   "source": [
    "import tensorflow as tf\n",
    "from tensorflow import keras"
   ]
  },
  {
   "cell_type": "code",
   "execution_count": 23,
   "id": "d182ec53-6429-4327-a724-f1bf5c1d2ec8",
   "metadata": {
    "tags": []
   },
   "outputs": [],
   "source": [
    "regressor= keras.models.Sequential([\n",
    "    keras.layers.LSTM(units=64, return_sequences= True, input_shape= (xTRAIN.shape[1], 1)),\n",
    "    keras.layers.Dropout(rate= 0.2),\n",
    "    keras.layers.LSTM(units=64, return_sequences= True), \n",
    "    keras.layers.Dropout(rate= 0.2),\n",
    "    keras.layers.LSTM(units=64), \n",
    "    keras.layers.Dropout(rate= 0.2),\n",
    "])"
   ]
  },
  {
   "cell_type": "code",
   "execution_count": 24,
   "id": "0a41add4-812a-4cf4-8eb4-74f70717b4e2",
   "metadata": {
    "tags": []
   },
   "outputs": [
    {
     "name": "stdout",
     "output_type": "stream",
     "text": [
      "Model: \"sequential_2\"\n",
      "_________________________________________________________________\n",
      " Layer (type)                Output Shape              Param #   \n",
      "=================================================================\n",
      " lstm_6 (LSTM)               (None, 60, 64)            16896     \n",
      "                                                                 \n",
      " dropout_6 (Dropout)         (None, 60, 64)            0         \n",
      "                                                                 \n",
      " lstm_7 (LSTM)               (None, 60, 64)            33024     \n",
      "                                                                 \n",
      " dropout_7 (Dropout)         (None, 60, 64)            0         \n",
      "                                                                 \n",
      " lstm_8 (LSTM)               (None, 64)                33024     \n",
      "                                                                 \n",
      " dropout_8 (Dropout)         (None, 64)                0         \n",
      "                                                                 \n",
      "=================================================================\n",
      "Total params: 82,944\n",
      "Trainable params: 82,944\n",
      "Non-trainable params: 0\n",
      "_________________________________________________________________\n"
     ]
    }
   ],
   "source": [
    "regressor.summary()"
   ]
  },
  {
   "cell_type": "code",
   "execution_count": 25,
   "id": "fefcacef-bb27-46b4-9c0a-ba9dc874ff36",
   "metadata": {
    "tags": []
   },
   "outputs": [],
   "source": [
    "regressor.compile(optimizer= 'adam', loss= keras.losses.mean_squared_error)"
   ]
  },
  {
   "cell_type": "code",
   "execution_count": 26,
   "id": "941f7d2e-5cd5-4a22-8c08-17d610181f14",
   "metadata": {
    "tags": []
   },
   "outputs": [
    {
     "name": "stdout",
     "output_type": "stream",
     "text": [
      "Epoch 1/150\n",
      "5/5 [==============================] - 4s 66ms/step - loss: 0.3735\n",
      "Epoch 2/150\n",
      "5/5 [==============================] - 0s 28ms/step - loss: 0.3258\n",
      "Epoch 3/150\n",
      "5/5 [==============================] - 0s 27ms/step - loss: 0.2014\n",
      "Epoch 4/150\n",
      "5/5 [==============================] - 0s 27ms/step - loss: 0.1594\n",
      "Epoch 5/150\n",
      "5/5 [==============================] - 0s 29ms/step - loss: 0.1307\n",
      "Epoch 6/150\n",
      "5/5 [==============================] - 0s 27ms/step - loss: 0.1120\n",
      "Epoch 7/150\n",
      "5/5 [==============================] - 0s 27ms/step - loss: 0.0967\n",
      "Epoch 8/150\n",
      "5/5 [==============================] - 0s 29ms/step - loss: 0.0901\n",
      "Epoch 9/150\n",
      "5/5 [==============================] - 0s 27ms/step - loss: 0.0859\n",
      "Epoch 10/150\n",
      "5/5 [==============================] - 0s 27ms/step - loss: 0.0836\n",
      "Epoch 11/150\n",
      "5/5 [==============================] - 0s 28ms/step - loss: 0.0842\n",
      "Epoch 12/150\n",
      "5/5 [==============================] - 0s 26ms/step - loss: 0.0837\n",
      "Epoch 13/150\n",
      "5/5 [==============================] - 0s 27ms/step - loss: 0.0808\n",
      "Epoch 14/150\n",
      "5/5 [==============================] - 0s 26ms/step - loss: 0.0815\n",
      "Epoch 15/150\n",
      "5/5 [==============================] - 0s 29ms/step - loss: 0.0825\n",
      "Epoch 16/150\n",
      "5/5 [==============================] - 0s 28ms/step - loss: 0.0800\n",
      "Epoch 17/150\n",
      "5/5 [==============================] - 0s 25ms/step - loss: 0.0814\n",
      "Epoch 18/150\n",
      "5/5 [==============================] - 0s 26ms/step - loss: 0.0792\n",
      "Epoch 19/150\n",
      "5/5 [==============================] - 0s 27ms/step - loss: 0.0777\n",
      "Epoch 20/150\n",
      "5/5 [==============================] - 0s 27ms/step - loss: 0.0775\n",
      "Epoch 21/150\n",
      "5/5 [==============================] - 0s 27ms/step - loss: 0.0798\n",
      "Epoch 22/150\n",
      "5/5 [==============================] - 0s 26ms/step - loss: 0.0831\n",
      "Epoch 23/150\n",
      "5/5 [==============================] - 0s 26ms/step - loss: 0.0784\n",
      "Epoch 24/150\n",
      "5/5 [==============================] - 0s 28ms/step - loss: 0.0767\n",
      "Epoch 25/150\n",
      "5/5 [==============================] - 0s 26ms/step - loss: 0.0790\n",
      "Epoch 26/150\n",
      "5/5 [==============================] - 0s 26ms/step - loss: 0.0800\n",
      "Epoch 27/150\n",
      "5/5 [==============================] - 0s 34ms/step - loss: 0.0791\n",
      "Epoch 28/150\n",
      "5/5 [==============================] - 0s 35ms/step - loss: 0.0801\n",
      "Epoch 29/150\n",
      "5/5 [==============================] - 0s 25ms/step - loss: 0.0796\n",
      "Epoch 30/150\n",
      "5/5 [==============================] - 0s 26ms/step - loss: 0.0795\n",
      "Epoch 31/150\n",
      "5/5 [==============================] - 0s 29ms/step - loss: 0.0810\n",
      "Epoch 32/150\n",
      "5/5 [==============================] - 0s 28ms/step - loss: 0.0777\n",
      "Epoch 33/150\n",
      "5/5 [==============================] - 0s 29ms/step - loss: 0.0789\n",
      "Epoch 34/150\n",
      "5/5 [==============================] - 0s 26ms/step - loss: 0.0778\n",
      "Epoch 35/150\n",
      "5/5 [==============================] - 0s 27ms/step - loss: 0.0797\n",
      "Epoch 36/150\n",
      "5/5 [==============================] - 0s 38ms/step - loss: 0.0785\n",
      "Epoch 37/150\n",
      "5/5 [==============================] - 0s 27ms/step - loss: 0.0792\n",
      "Epoch 38/150\n",
      "5/5 [==============================] - 0s 29ms/step - loss: 0.0794\n",
      "Epoch 39/150\n",
      "5/5 [==============================] - 0s 36ms/step - loss: 0.0804\n",
      "Epoch 40/150\n",
      "5/5 [==============================] - 0s 27ms/step - loss: 0.0807\n",
      "Epoch 41/150\n",
      "5/5 [==============================] - 0s 25ms/step - loss: 0.0786\n",
      "Epoch 42/150\n",
      "5/5 [==============================] - 0s 26ms/step - loss: 0.0796\n",
      "Epoch 43/150\n",
      "5/5 [==============================] - 0s 26ms/step - loss: 0.0819\n",
      "Epoch 44/150\n",
      "5/5 [==============================] - 0s 26ms/step - loss: 0.0801\n",
      "Epoch 45/150\n",
      "5/5 [==============================] - 0s 28ms/step - loss: 0.0799\n",
      "Epoch 46/150\n",
      "5/5 [==============================] - 0s 30ms/step - loss: 0.0797\n",
      "Epoch 47/150\n",
      "5/5 [==============================] - 0s 29ms/step - loss: 0.0793\n",
      "Epoch 48/150\n",
      "5/5 [==============================] - 0s 28ms/step - loss: 0.0764\n",
      "Epoch 49/150\n",
      "5/5 [==============================] - 0s 27ms/step - loss: 0.0789\n",
      "Epoch 50/150\n",
      "5/5 [==============================] - 0s 26ms/step - loss: 0.0774\n",
      "Epoch 51/150\n",
      "5/5 [==============================] - 0s 28ms/step - loss: 0.0803\n",
      "Epoch 52/150\n",
      "5/5 [==============================] - 0s 27ms/step - loss: 0.0790\n",
      "Epoch 53/150\n",
      "5/5 [==============================] - 0s 27ms/step - loss: 0.0796\n",
      "Epoch 54/150\n",
      "5/5 [==============================] - 0s 28ms/step - loss: 0.0801\n",
      "Epoch 55/150\n",
      "5/5 [==============================] - 0s 28ms/step - loss: 0.0776\n",
      "Epoch 56/150\n",
      "5/5 [==============================] - 0s 25ms/step - loss: 0.0788\n",
      "Epoch 57/150\n",
      "5/5 [==============================] - 0s 26ms/step - loss: 0.0790\n",
      "Epoch 58/150\n",
      "5/5 [==============================] - 0s 27ms/step - loss: 0.0777\n",
      "Epoch 59/150\n",
      "5/5 [==============================] - 0s 26ms/step - loss: 0.0785\n",
      "Epoch 60/150\n",
      "5/5 [==============================] - 0s 27ms/step - loss: 0.0771\n",
      "Epoch 61/150\n",
      "5/5 [==============================] - 0s 26ms/step - loss: 0.0781\n",
      "Epoch 62/150\n",
      "5/5 [==============================] - 0s 27ms/step - loss: 0.0785\n",
      "Epoch 63/150\n",
      "5/5 [==============================] - 0s 28ms/step - loss: 0.0769\n",
      "Epoch 64/150\n",
      "5/5 [==============================] - 0s 32ms/step - loss: 0.0781\n",
      "Epoch 65/150\n",
      "5/5 [==============================] - 0s 27ms/step - loss: 0.0814\n",
      "Epoch 66/150\n",
      "5/5 [==============================] - 0s 27ms/step - loss: 0.0793\n",
      "Epoch 67/150\n",
      "5/5 [==============================] - 0s 27ms/step - loss: 0.0803\n",
      "Epoch 68/150\n",
      "5/5 [==============================] - 0s 27ms/step - loss: 0.0793\n",
      "Epoch 69/150\n",
      "5/5 [==============================] - 0s 27ms/step - loss: 0.0787\n",
      "Epoch 70/150\n",
      "5/5 [==============================] - 0s 26ms/step - loss: 0.0778\n",
      "Epoch 71/150\n",
      "5/5 [==============================] - 0s 28ms/step - loss: 0.0766\n",
      "Epoch 72/150\n",
      "5/5 [==============================] - 0s 25ms/step - loss: 0.0763\n",
      "Epoch 73/150\n",
      "5/5 [==============================] - 0s 25ms/step - loss: 0.0786\n",
      "Epoch 74/150\n",
      "5/5 [==============================] - 0s 27ms/step - loss: 0.0785\n",
      "Epoch 75/150\n",
      "5/5 [==============================] - 0s 26ms/step - loss: 0.0805\n",
      "Epoch 76/150\n",
      "5/5 [==============================] - 0s 26ms/step - loss: 0.0763\n",
      "Epoch 77/150\n",
      "5/5 [==============================] - 0s 25ms/step - loss: 0.0772\n",
      "Epoch 78/150\n",
      "5/5 [==============================] - 0s 27ms/step - loss: 0.0779\n",
      "Epoch 79/150\n",
      "5/5 [==============================] - 0s 27ms/step - loss: 0.0786\n",
      "Epoch 80/150\n",
      "5/5 [==============================] - 0s 25ms/step - loss: 0.0761\n",
      "Epoch 81/150\n",
      "5/5 [==============================] - 0s 25ms/step - loss: 0.0763\n",
      "Epoch 82/150\n",
      "5/5 [==============================] - 0s 25ms/step - loss: 0.0794\n",
      "Epoch 83/150\n",
      "5/5 [==============================] - 0s 26ms/step - loss: 0.0778\n",
      "Epoch 84/150\n",
      "5/5 [==============================] - 0s 25ms/step - loss: 0.0792\n",
      "Epoch 85/150\n",
      "5/5 [==============================] - 0s 25ms/step - loss: 0.0804\n",
      "Epoch 86/150\n",
      "5/5 [==============================] - 0s 26ms/step - loss: 0.0768\n",
      "Epoch 87/150\n",
      "5/5 [==============================] - 0s 27ms/step - loss: 0.0772\n",
      "Epoch 88/150\n",
      "5/5 [==============================] - 0s 28ms/step - loss: 0.0805\n",
      "Epoch 89/150\n",
      "5/5 [==============================] - 0s 25ms/step - loss: 0.0809\n",
      "Epoch 90/150\n",
      "5/5 [==============================] - 0s 25ms/step - loss: 0.0793\n",
      "Epoch 91/150\n",
      "5/5 [==============================] - 0s 26ms/step - loss: 0.0784\n",
      "Epoch 92/150\n",
      "5/5 [==============================] - 0s 25ms/step - loss: 0.0786\n",
      "Epoch 93/150\n",
      "5/5 [==============================] - 0s 25ms/step - loss: 0.0773\n",
      "Epoch 94/150\n",
      "5/5 [==============================] - 0s 27ms/step - loss: 0.0790\n",
      "Epoch 95/150\n",
      "5/5 [==============================] - 0s 28ms/step - loss: 0.0802\n",
      "Epoch 96/150\n",
      "5/5 [==============================] - 0s 26ms/step - loss: 0.0786\n",
      "Epoch 97/150\n",
      "5/5 [==============================] - 0s 27ms/step - loss: 0.0776\n",
      "Epoch 98/150\n",
      "5/5 [==============================] - 0s 25ms/step - loss: 0.0787\n",
      "Epoch 99/150\n",
      "5/5 [==============================] - 0s 25ms/step - loss: 0.0793\n",
      "Epoch 100/150\n",
      "5/5 [==============================] - 0s 26ms/step - loss: 0.0780\n",
      "Epoch 101/150\n",
      "5/5 [==============================] - 0s 27ms/step - loss: 0.0787\n",
      "Epoch 102/150\n",
      "5/5 [==============================] - 0s 24ms/step - loss: 0.0781\n",
      "Epoch 103/150\n",
      "5/5 [==============================] - 0s 28ms/step - loss: 0.0770\n",
      "Epoch 104/150\n",
      "5/5 [==============================] - 0s 29ms/step - loss: 0.0793\n",
      "Epoch 105/150\n",
      "5/5 [==============================] - 0s 26ms/step - loss: 0.0804\n",
      "Epoch 106/150\n",
      "5/5 [==============================] - 0s 23ms/step - loss: 0.0771\n",
      "Epoch 107/150\n",
      "5/5 [==============================] - 0s 23ms/step - loss: 0.0785\n",
      "Epoch 108/150\n",
      "5/5 [==============================] - 0s 24ms/step - loss: 0.0801\n",
      "Epoch 109/150\n",
      "5/5 [==============================] - 0s 24ms/step - loss: 0.0787\n",
      "Epoch 110/150\n",
      "5/5 [==============================] - 0s 22ms/step - loss: 0.0785\n",
      "Epoch 111/150\n",
      "5/5 [==============================] - 0s 24ms/step - loss: 0.0773\n",
      "Epoch 112/150\n",
      "5/5 [==============================] - 0s 24ms/step - loss: 0.0760\n",
      "Epoch 113/150\n",
      "5/5 [==============================] - 0s 24ms/step - loss: 0.0775\n",
      "Epoch 114/150\n",
      "5/5 [==============================] - 0s 25ms/step - loss: 0.0790\n",
      "Epoch 115/150\n",
      "5/5 [==============================] - 0s 22ms/step - loss: 0.0763\n",
      "Epoch 116/150\n",
      "5/5 [==============================] - 0s 23ms/step - loss: 0.0760\n",
      "Epoch 117/150\n",
      "5/5 [==============================] - 0s 23ms/step - loss: 0.0757\n",
      "Epoch 118/150\n",
      "5/5 [==============================] - 0s 23ms/step - loss: 0.0772\n",
      "Epoch 119/150\n",
      "5/5 [==============================] - 0s 24ms/step - loss: 0.0800\n",
      "Epoch 120/150\n",
      "5/5 [==============================] - 0s 23ms/step - loss: 0.0769\n",
      "Epoch 121/150\n",
      "5/5 [==============================] - 0s 24ms/step - loss: 0.0778\n",
      "Epoch 122/150\n",
      "5/5 [==============================] - 0s 25ms/step - loss: 0.0790\n",
      "Epoch 123/150\n",
      "5/5 [==============================] - 0s 23ms/step - loss: 0.0772\n",
      "Epoch 124/150\n",
      "5/5 [==============================] - 0s 22ms/step - loss: 0.0802\n",
      "Epoch 125/150\n",
      "5/5 [==============================] - 0s 24ms/step - loss: 0.0787\n",
      "Epoch 126/150\n",
      "5/5 [==============================] - 0s 25ms/step - loss: 0.0787\n",
      "Epoch 127/150\n",
      "5/5 [==============================] - 0s 22ms/step - loss: 0.0790\n",
      "Epoch 128/150\n",
      "5/5 [==============================] - 0s 24ms/step - loss: 0.0766\n",
      "Epoch 129/150\n",
      "5/5 [==============================] - 0s 24ms/step - loss: 0.0766\n",
      "Epoch 130/150\n",
      "5/5 [==============================] - 0s 24ms/step - loss: 0.0776\n",
      "Epoch 131/150\n",
      "5/5 [==============================] - 0s 25ms/step - loss: 0.0801\n",
      "Epoch 132/150\n",
      "5/5 [==============================] - 0s 23ms/step - loss: 0.0770\n",
      "Epoch 133/150\n",
      "5/5 [==============================] - 0s 24ms/step - loss: 0.0762\n",
      "Epoch 134/150\n",
      "5/5 [==============================] - 0s 23ms/step - loss: 0.0771\n",
      "Epoch 135/150\n",
      "5/5 [==============================] - 0s 23ms/step - loss: 0.0781\n",
      "Epoch 136/150\n",
      "5/5 [==============================] - 0s 28ms/step - loss: 0.0804\n",
      "Epoch 137/150\n",
      "5/5 [==============================] - 0s 23ms/step - loss: 0.0769\n",
      "Epoch 138/150\n",
      "5/5 [==============================] - 0s 23ms/step - loss: 0.0789\n",
      "Epoch 139/150\n",
      "5/5 [==============================] - 0s 24ms/step - loss: 0.0769\n",
      "Epoch 140/150\n",
      "5/5 [==============================] - 0s 24ms/step - loss: 0.0760\n",
      "Epoch 141/150\n",
      "5/5 [==============================] - 0s 22ms/step - loss: 0.0788\n",
      "Epoch 142/150\n",
      "5/5 [==============================] - 0s 23ms/step - loss: 0.0796\n",
      "Epoch 143/150\n",
      "5/5 [==============================] - 0s 24ms/step - loss: 0.0773\n",
      "Epoch 144/150\n",
      "5/5 [==============================] - 0s 23ms/step - loss: 0.0760\n",
      "Epoch 145/150\n",
      "5/5 [==============================] - 0s 23ms/step - loss: 0.0770\n",
      "Epoch 146/150\n",
      "5/5 [==============================] - 0s 23ms/step - loss: 0.0761\n",
      "Epoch 147/150\n",
      "5/5 [==============================] - 0s 24ms/step - loss: 0.0769\n",
      "Epoch 148/150\n",
      "5/5 [==============================] - 0s 24ms/step - loss: 0.0797\n",
      "Epoch 149/150\n",
      "5/5 [==============================] - 0s 24ms/step - loss: 0.0761\n",
      "Epoch 150/150\n",
      "5/5 [==============================] - 0s 23ms/step - loss: 0.0768\n"
     ]
    },
    {
     "data": {
      "text/plain": [
       "<keras.callbacks.History at 0x231086df5e0>"
      ]
     },
     "execution_count": 26,
     "metadata": {},
     "output_type": "execute_result"
    }
   ],
   "source": [
    "regressor.fit(x= xTRAIN, y=yTRAIN, batch_size=64, epochs= 150)"
   ]
  },
  {
   "cell_type": "code",
   "execution_count": 27,
   "id": "82a1215b-90c1-49fa-8bd6-e5c7c678bb2c",
   "metadata": {
    "tags": []
   },
   "outputs": [
    {
     "name": "stdout",
     "output_type": "stream",
     "text": [
      "9/9 [==============================] - 1s 30ms/step\n"
     ]
    }
   ],
   "source": [
    "prdctn= regressor.predict(xTRAIN)"
   ]
  },
  {
   "cell_type": "code",
   "execution_count": null,
   "id": "f1e8bebb-873a-4f8e-90ff-d5185a1fdb3c",
   "metadata": {
    "tags": []
   },
   "outputs": [],
   "source": [
    "regressor.save(f\"../model/exports/{company}-LSTMv3/\")"
   ]
  },
  {
   "cell_type": "code",
   "execution_count": 31,
   "id": "e1cf83bd-e094-4ff0-8055-d7dd5b781a1b",
   "metadata": {
    "tags": []
   },
   "outputs": [
    {
     "name": "stdout",
     "output_type": "stream",
     "text": [
      "[*********************100%***********************]  1 of 1 completed\n"
     ]
    },
    {
     "data": {
      "text/html": [
       "<div>\n",
       "<style scoped>\n",
       "    .dataframe tbody tr th:only-of-type {\n",
       "        vertical-align: middle;\n",
       "    }\n",
       "\n",
       "    .dataframe tbody tr th {\n",
       "        vertical-align: top;\n",
       "    }\n",
       "\n",
       "    .dataframe thead th {\n",
       "        text-align: right;\n",
       "    }\n",
       "</style>\n",
       "<table border=\"1\" class=\"dataframe\">\n",
       "  <thead>\n",
       "    <tr style=\"text-align: right;\">\n",
       "      <th></th>\n",
       "      <th>Open</th>\n",
       "      <th>High</th>\n",
       "      <th>Low</th>\n",
       "      <th>Close</th>\n",
       "      <th>Adj Close</th>\n",
       "      <th>Volume</th>\n",
       "    </tr>\n",
       "    <tr>\n",
       "      <th>Datetime</th>\n",
       "      <th></th>\n",
       "      <th></th>\n",
       "      <th></th>\n",
       "      <th></th>\n",
       "      <th></th>\n",
       "      <th></th>\n",
       "    </tr>\n",
       "  </thead>\n",
       "  <tbody>\n",
       "    <tr>\n",
       "      <th>2023-05-02 09:30:00</th>\n",
       "      <td>18161.449219</td>\n",
       "      <td>18170.199219</td>\n",
       "      <td>18146.050781</td>\n",
       "      <td>18161.650391</td>\n",
       "      <td>18161.650391</td>\n",
       "      <td>0</td>\n",
       "    </tr>\n",
       "    <tr>\n",
       "      <th>2023-05-02 10:00:00</th>\n",
       "      <td>18161.949219</td>\n",
       "      <td>18179.800781</td>\n",
       "      <td>18148.500000</td>\n",
       "      <td>18149.949219</td>\n",
       "      <td>18149.949219</td>\n",
       "      <td>0</td>\n",
       "    </tr>\n",
       "    <tr>\n",
       "      <th>2023-05-02 10:30:00</th>\n",
       "      <td>18149.250000</td>\n",
       "      <td>18167.650391</td>\n",
       "      <td>18143.099609</td>\n",
       "      <td>18154.949219</td>\n",
       "      <td>18154.949219</td>\n",
       "      <td>0</td>\n",
       "    </tr>\n",
       "    <tr>\n",
       "      <th>2023-05-02 11:00:00</th>\n",
       "      <td>18154.599609</td>\n",
       "      <td>18163.400391</td>\n",
       "      <td>18131.199219</td>\n",
       "      <td>18152.050781</td>\n",
       "      <td>18152.050781</td>\n",
       "      <td>0</td>\n",
       "    </tr>\n",
       "    <tr>\n",
       "      <th>2023-05-02 11:30:00</th>\n",
       "      <td>18152.000000</td>\n",
       "      <td>18159.349609</td>\n",
       "      <td>18144.550781</td>\n",
       "      <td>18155.550781</td>\n",
       "      <td>18155.550781</td>\n",
       "      <td>0</td>\n",
       "    </tr>\n",
       "    <tr>\n",
       "      <th>...</th>\n",
       "      <td>...</td>\n",
       "      <td>...</td>\n",
       "      <td>...</td>\n",
       "      <td>...</td>\n",
       "      <td>...</td>\n",
       "      <td>...</td>\n",
       "    </tr>\n",
       "    <tr>\n",
       "      <th>2023-05-12 13:00:00</th>\n",
       "      <td>18307.400391</td>\n",
       "      <td>18313.250000</td>\n",
       "      <td>18295.849609</td>\n",
       "      <td>18295.849609</td>\n",
       "      <td>18295.849609</td>\n",
       "      <td>0</td>\n",
       "    </tr>\n",
       "    <tr>\n",
       "      <th>2023-05-12 13:30:00</th>\n",
       "      <td>18296.300781</td>\n",
       "      <td>18333.949219</td>\n",
       "      <td>18296.300781</td>\n",
       "      <td>18331.900391</td>\n",
       "      <td>18331.900391</td>\n",
       "      <td>0</td>\n",
       "    </tr>\n",
       "    <tr>\n",
       "      <th>2023-05-12 14:00:00</th>\n",
       "      <td>18332.199219</td>\n",
       "      <td>18342.000000</td>\n",
       "      <td>18319.699219</td>\n",
       "      <td>18321.050781</td>\n",
       "      <td>18321.050781</td>\n",
       "      <td>0</td>\n",
       "    </tr>\n",
       "    <tr>\n",
       "      <th>2023-05-12 14:30:00</th>\n",
       "      <td>18321.550781</td>\n",
       "      <td>18338.449219</td>\n",
       "      <td>18310.949219</td>\n",
       "      <td>18329.349609</td>\n",
       "      <td>18329.349609</td>\n",
       "      <td>0</td>\n",
       "    </tr>\n",
       "    <tr>\n",
       "      <th>2023-05-12 15:00:00</th>\n",
       "      <td>18328.800781</td>\n",
       "      <td>18333.449219</td>\n",
       "      <td>18308.349609</td>\n",
       "      <td>18312.199219</td>\n",
       "      <td>18312.199219</td>\n",
       "      <td>0</td>\n",
       "    </tr>\n",
       "  </tbody>\n",
       "</table>\n",
       "<p>108 rows × 6 columns</p>\n",
       "</div>"
      ],
      "text/plain": [
       "                             Open          High           Low         Close   \n",
       "Datetime                                                                      \n",
       "2023-05-02 09:30:00  18161.449219  18170.199219  18146.050781  18161.650391  \\\n",
       "2023-05-02 10:00:00  18161.949219  18179.800781  18148.500000  18149.949219   \n",
       "2023-05-02 10:30:00  18149.250000  18167.650391  18143.099609  18154.949219   \n",
       "2023-05-02 11:00:00  18154.599609  18163.400391  18131.199219  18152.050781   \n",
       "2023-05-02 11:30:00  18152.000000  18159.349609  18144.550781  18155.550781   \n",
       "...                           ...           ...           ...           ...   \n",
       "2023-05-12 13:00:00  18307.400391  18313.250000  18295.849609  18295.849609   \n",
       "2023-05-12 13:30:00  18296.300781  18333.949219  18296.300781  18331.900391   \n",
       "2023-05-12 14:00:00  18332.199219  18342.000000  18319.699219  18321.050781   \n",
       "2023-05-12 14:30:00  18321.550781  18338.449219  18310.949219  18329.349609   \n",
       "2023-05-12 15:00:00  18328.800781  18333.449219  18308.349609  18312.199219   \n",
       "\n",
       "                        Adj Close  Volume  \n",
       "Datetime                                   \n",
       "2023-05-02 09:30:00  18161.650391       0  \n",
       "2023-05-02 10:00:00  18149.949219       0  \n",
       "2023-05-02 10:30:00  18154.949219       0  \n",
       "2023-05-02 11:00:00  18152.050781       0  \n",
       "2023-05-02 11:30:00  18155.550781       0  \n",
       "...                           ...     ...  \n",
       "2023-05-12 13:00:00  18295.849609       0  \n",
       "2023-05-12 13:30:00  18331.900391       0  \n",
       "2023-05-12 14:00:00  18321.050781       0  \n",
       "2023-05-12 14:30:00  18329.349609       0  \n",
       "2023-05-12 15:00:00  18312.199219       0  \n",
       "\n",
       "[108 rows x 6 columns]"
      ]
     },
     "execution_count": 31,
     "metadata": {},
     "output_type": "execute_result"
    }
   ],
   "source": [
    "testDF = yf.download(company, interval='30m', start=start_date1, end=end_date1)\n",
    "testDF"
   ]
  },
  {
   "cell_type": "code",
   "execution_count": 32,
   "id": "389e55a0-69eb-47cf-911a-c25a144e7f54",
   "metadata": {
    "tags": []
   },
   "outputs": [],
   "source": [
    "realSP= testDF['Close'].values"
   ]
  },
  {
   "cell_type": "code",
   "execution_count": 33,
   "id": "b0b39f2a-b963-42e2-ac19-b094e7a600eb",
   "metadata": {
    "tags": []
   },
   "outputs": [],
   "source": [
    "dfTotal= pd.concat((df['Open'], testDF['Open']), axis=0)"
   ]
  },
  {
   "cell_type": "code",
   "execution_count": 34,
   "id": "1d38eef2-00f4-48ae-9995-45097a8e46d8",
   "metadata": {
    "tags": []
   },
   "outputs": [],
   "source": [
    "modelInp= dfTotal[len(dfTotal)-len(testDF)-60:].values"
   ]
  },
  {
   "cell_type": "code",
   "execution_count": 35,
   "id": "efadd80d-1716-4048-bbb8-9a25d60d02e4",
   "metadata": {
    "tags": []
   },
   "outputs": [],
   "source": [
    "modelInp= modelInp.reshape(-1,1)"
   ]
  },
  {
   "cell_type": "code",
   "execution_count": 36,
   "id": "129d98f2-7644-4d32-ab0a-b6f178ae339a",
   "metadata": {
    "tags": []
   },
   "outputs": [],
   "source": [
    "modelInp= scaler.transform(modelInp)"
   ]
  },
  {
   "cell_type": "code",
   "execution_count": 37,
   "id": "215cec3c-4799-4d2a-b96b-659e853a792a",
   "metadata": {
    "tags": []
   },
   "outputs": [],
   "source": [
    "xTEST= []\n",
    "\n",
    "for i in range(60, len(modelInp)):\n",
    "    xTEST.append(modelInp[i-60:i, 0])\n",
    "\n",
    "xTEST= np.array(xTEST)"
   ]
  },
  {
   "cell_type": "code",
   "execution_count": 38,
   "id": "46abbba4-f265-46e6-b2e2-82faf84b9fbc",
   "metadata": {
    "tags": []
   },
   "outputs": [
    {
     "data": {
      "text/plain": [
       "(108, 60)"
      ]
     },
     "execution_count": 38,
     "metadata": {},
     "output_type": "execute_result"
    }
   ],
   "source": [
    "xTEST.shape"
   ]
  },
  {
   "cell_type": "code",
   "execution_count": 39,
   "id": "7508bf79-7a2a-404b-bc04-78fca7301d88",
   "metadata": {
    "tags": []
   },
   "outputs": [],
   "source": [
    "xTEST= np.reshape(xTEST, newshape= (xTEST.shape[0], xTEST.shape[1], 1))"
   ]
  },
  {
   "cell_type": "code",
   "execution_count": 40,
   "id": "90fabbdf-9e5b-485e-b60b-864bcf66bf38",
   "metadata": {
    "tags": []
   },
   "outputs": [],
   "source": [
    "#pred = pred[..., 0]"
   ]
  },
  {
   "cell_type": "code",
   "execution_count": 41,
   "id": "55905254-03e5-422e-91a2-ae829100169c",
   "metadata": {
    "tags": []
   },
   "outputs": [
    {
     "name": "stdout",
     "output_type": "stream",
     "text": [
      "4/4 [==============================] - 0s 35ms/step\n"
     ]
    }
   ],
   "source": [
    "pred= regressor.predict(xTEST)"
   ]
  },
  {
   "cell_type": "code",
   "execution_count": 42,
   "id": "d632f691-866a-4672-8f85-c9fe50db3e7e",
   "metadata": {
    "tags": []
   },
   "outputs": [],
   "source": [
    "pred= scaler.inverse_transform(pred)"
   ]
  },
  {
   "cell_type": "code",
   "execution_count": 43,
   "id": "18057536-819d-4b2a-88cc-a47ffad1db0f",
   "metadata": {
    "tags": []
   },
   "outputs": [
    {
     "data": {
      "text/plain": [
       "(108, 64)"
      ]
     },
     "execution_count": 43,
     "metadata": {},
     "output_type": "execute_result"
    }
   ],
   "source": [
    "pred.shape"
   ]
  },
  {
   "cell_type": "code",
   "execution_count": 44,
   "id": "bab731b6-96d6-4757-a779-f7bdf9932dd1",
   "metadata": {
    "tags": []
   },
   "outputs": [],
   "source": [
    "import matplotlib.pyplot as plt"
   ]
  },
  {
   "cell_type": "code",
   "execution_count": 45,
   "id": "6bc99ada-388b-47ed-a0eb-56188f50264e",
   "metadata": {
    "tags": []
   },
   "outputs": [
    {
     "data": {
      "image/png": "[encoded data removed]",
      "text/plain": [
       "<Figure size 640x480 with 1 Axes>"
      ]
     },
     "metadata": {},
     "output_type": "display_data"
    }
   ],
   "source": [
    "plt.plot(realSP, color= 'r', label= 'real')\n",
    "plt.plot(pred, color= 'b', label= 'pred')\n",
    "plt.legend()\n",
    "plt.show()"
   ]
  },
  {
   "cell_type": "code",
   "execution_count": 46,
   "id": "143aaaeb-a2cd-4213-afb2-b7f96e2bd61b",
   "metadata": {},
   "outputs": [],
   "source": [
    "realData= [modelInp[len(modelInp)+1-60:len(modelInp+1), 0]]"
   ]
  },
  {
   "cell_type": "code",
   "execution_count": null,
   "id": "b7790752-9217-44a3-972f-9d0dd52fc21a",
   "metadata": {
    "tags": []
   },
   "outputs": [],
   "source": [
    "realData= np.array(realData)"
   ]
  },
  {
   "cell_type": "code",
   "execution_count": null,
   "id": "d0d14766-e093-4c4f-96d3-7aba1a23a870",
   "metadata": {
    "tags": []
   },
   "outputs": [],
   "source": [
    "realData= np.reshape(realData, newshape=(realData.shape[0], realData.shape[1], 1))"
   ]
  },
  {
   "cell_type": "code",
   "execution_count": null,
   "id": "d77a0da8-bf64-48a8-a4d5-35661339b47e",
   "metadata": {
    "tags": []
   },
   "outputs": [],
   "source": [
    "prediction= regressor.predict(realData)"
   ]
  },
  {
   "cell_type": "code",
   "execution_count": null,
   "id": "02347ad7-ffae-48ad-a9b2-4ec5c20b1c2a",
   "metadata": {
    "tags": []
   },
   "outputs": [],
   "source": [
    "prediction= scaler.inverse_transform(prediction)"
   ]
  },
  {
   "cell_type": "code",
   "execution_count": null,
   "id": "09566a1f-f9cc-4889-85b2-338b02787ee1",
   "metadata": {
    "tags": []
   },
   "outputs": [],
   "source": [
    "prediction"
   ]
  },
  {
   "cell_type": "code",
   "execution_count": null,
   "id": "47d2cfc1-9428-4cea-b298-6d06daf85b24",
   "metadata": {},
   "outputs": [],
   "source": []
  }
 ],
 "metadata": {
  "kernelspec": {
   "display_name": "Python 3 (ipykernel)",
   "language": "python",
   "name": "python3"
  },
  "language_info": {
   "codemirror_mode": {
    "name": "ipython",
    "version": 3
   },
   "file_extension": ".py",
   "mimetype": "text/x-python",
   "name": "python",
   "nbconvert_exporter": "python",
   "pygments_lexer": "ipython3",
   "version": "3.10.9"
  }
 },
 "nbformat": 4,
 "nbformat_minor": 5
}
