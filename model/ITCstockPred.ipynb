{
 "cells": [
  {
   "cell_type": "code",
   "execution_count": 1,
   "id": "5f8bc665-1853-4fd1-99bd-895d64dde1c6",
   "metadata": {
    "tags": []
   },
   "outputs": [],
   "source": [
    "import pandas as pd\n",
    "import numpy as np\n",
    "import matplotlib.pyplot as plt"
   ]
  },
  {
   "cell_type": "code",
   "execution_count": 2,
   "id": "27706d5f-e610-43d0-b71f-5de38f88506d",
   "metadata": {
    "tags": []
   },
   "outputs": [
    {
     "data": {
      "text/html": [
       "<div>\n",
       "<style scoped>\n",
       "    .dataframe tbody tr th:only-of-type {\n",
       "        vertical-align: middle;\n",
       "    }\n",
       "\n",
       "    .dataframe tbody tr th {\n",
       "        vertical-align: top;\n",
       "    }\n",
       "\n",
       "    .dataframe thead th {\n",
       "        text-align: right;\n",
       "    }\n",
       "</style>\n",
       "<table border=\"1\" class=\"dataframe\">\n",
       "  <thead>\n",
       "    <tr style=\"text-align: right;\">\n",
       "      <th></th>\n",
       "      <th>Date</th>\n",
       "      <th>Open</th>\n",
       "      <th>High</th>\n",
       "      <th>Low</th>\n",
       "      <th>Close</th>\n",
       "      <th>Adj Close</th>\n",
       "      <th>Volume</th>\n",
       "    </tr>\n",
       "  </thead>\n",
       "  <tbody>\n",
       "    <tr>\n",
       "      <th>0</th>\n",
       "      <td>2023-02-27 09:30:00</td>\n",
       "      <td>17438.650391</td>\n",
       "      <td>17450.750000</td>\n",
       "      <td>17334.849609</td>\n",
       "      <td>17335.550781</td>\n",
       "      <td>17335.550781</td>\n",
       "      <td>0</td>\n",
       "    </tr>\n",
       "    <tr>\n",
       "      <th>1</th>\n",
       "      <td>2023-02-27 10:00:00</td>\n",
       "      <td>17334.949219</td>\n",
       "      <td>17345.449219</td>\n",
       "      <td>17301.699219</td>\n",
       "      <td>17324.449219</td>\n",
       "      <td>17324.449219</td>\n",
       "      <td>0</td>\n",
       "    </tr>\n",
       "    <tr>\n",
       "      <th>2</th>\n",
       "      <td>2023-02-27 10:30:00</td>\n",
       "      <td>17325.050781</td>\n",
       "      <td>17332.599609</td>\n",
       "      <td>17307.199219</td>\n",
       "      <td>17327.099609</td>\n",
       "      <td>17327.099609</td>\n",
       "      <td>0</td>\n",
       "    </tr>\n",
       "    <tr>\n",
       "      <th>3</th>\n",
       "      <td>2023-02-27 11:00:00</td>\n",
       "      <td>17327.250000</td>\n",
       "      <td>17381.300781</td>\n",
       "      <td>17324.599609</td>\n",
       "      <td>17351.900391</td>\n",
       "      <td>17351.900391</td>\n",
       "      <td>0</td>\n",
       "    </tr>\n",
       "    <tr>\n",
       "      <th>4</th>\n",
       "      <td>2023-02-27 11:30:00</td>\n",
       "      <td>17352.449219</td>\n",
       "      <td>17395.150391</td>\n",
       "      <td>17343.849609</td>\n",
       "      <td>17378.099609</td>\n",
       "      <td>17378.099609</td>\n",
       "      <td>0</td>\n",
       "    </tr>\n",
       "  </tbody>\n",
       "</table>\n",
       "</div>"
      ],
      "text/plain": [
       "                  Date          Open          High           Low   \n",
       "0  2023-02-27 09:30:00  17438.650391  17450.750000  17334.849609  \\\n",
       "1  2023-02-27 10:00:00  17334.949219  17345.449219  17301.699219   \n",
       "2  2023-02-27 10:30:00  17325.050781  17332.599609  17307.199219   \n",
       "3  2023-02-27 11:00:00  17327.250000  17381.300781  17324.599609   \n",
       "4  2023-02-27 11:30:00  17352.449219  17395.150391  17343.849609   \n",
       "\n",
       "          Close     Adj Close  Volume  \n",
       "0  17335.550781  17335.550781       0  \n",
       "1  17324.449219  17324.449219       0  \n",
       "2  17327.099609  17327.099609       0  \n",
       "3  17351.900391  17351.900391       0  \n",
       "4  17378.099609  17378.099609       0  "
      ]
     },
     "execution_count": 2,
     "metadata": {},
     "output_type": "execute_result"
    }
   ],
   "source": [
    "data= pd.read_csv('../dataset/^NSEI.csv')\n",
    "data.head(5)"
   ]
  },
  {
   "cell_type": "code",
   "execution_count": 3,
   "id": "640564fe-0f2c-4336-a0d7-4e5eafd80197",
   "metadata": {
    "tags": []
   },
   "outputs": [
    {
     "data": {
      "text/plain": [
       "Date          object\n",
       "Open         float64\n",
       "High         float64\n",
       "Low          float64\n",
       "Close        float64\n",
       "Adj Close    float64\n",
       "Volume         int64\n",
       "dtype: object"
      ]
     },
     "execution_count": 3,
     "metadata": {},
     "output_type": "execute_result"
    }
   ],
   "source": [
    "data.dtypes"
   ]
  },
  {
   "cell_type": "code",
   "execution_count": 4,
   "id": "c502558d-b2d9-4a93-b9f5-2e9c7254e58a",
   "metadata": {
    "tags": []
   },
   "outputs": [
    {
     "data": {
      "text/plain": [
       "Index(['Date', 'Open', 'High', 'Low', 'Close', 'Adj Close', 'Volume'], dtype='object')"
      ]
     },
     "execution_count": 4,
     "metadata": {},
     "output_type": "execute_result"
    }
   ],
   "source": [
    "data.columns"
   ]
  },
  {
   "cell_type": "code",
   "execution_count": 5,
   "id": "2a37ee09-1c23-49e1-9e06-00a1e7a9176d",
   "metadata": {
    "tags": []
   },
   "outputs": [],
   "source": [
    "data['Date']= pd.to_datetime(data['Date'], format= '%Y-%m-%d %H:%M:%S')"
   ]
  },
  {
   "cell_type": "code",
   "execution_count": 6,
   "id": "ff394ff5-cc89-4f29-84ae-5a6fed7175ad",
   "metadata": {
    "tags": []
   },
   "outputs": [],
   "source": [
    "data['dateDAY']= data['Date'].dt.day\n",
    "data['dateMONTH']= data['Date'].dt.month\n",
    "data['dateYR']= data['Date'].dt.year\n",
    "data['hours']= data['Date'].dt.hour\n",
    "data['min']= data['Date'].dt.minute"
   ]
  },
  {
   "cell_type": "code",
   "execution_count": 7,
   "id": "cb6bdb2d-b5a0-440e-abb5-eeacafd8bebd",
   "metadata": {
    "tags": []
   },
   "outputs": [
    {
     "data": {
      "text/html": [
       "<div>\n",
       "<style scoped>\n",
       "    .dataframe tbody tr th:only-of-type {\n",
       "        vertical-align: middle;\n",
       "    }\n",
       "\n",
       "    .dataframe tbody tr th {\n",
       "        vertical-align: top;\n",
       "    }\n",
       "\n",
       "    .dataframe thead th {\n",
       "        text-align: right;\n",
       "    }\n",
       "</style>\n",
       "<table border=\"1\" class=\"dataframe\">\n",
       "  <thead>\n",
       "    <tr style=\"text-align: right;\">\n",
       "      <th></th>\n",
       "      <th>Date</th>\n",
       "      <th>Open</th>\n",
       "      <th>High</th>\n",
       "      <th>Low</th>\n",
       "      <th>Close</th>\n",
       "      <th>Adj Close</th>\n",
       "      <th>Volume</th>\n",
       "      <th>dateDAY</th>\n",
       "      <th>dateMONTH</th>\n",
       "      <th>dateYR</th>\n",
       "      <th>hours</th>\n",
       "      <th>min</th>\n",
       "    </tr>\n",
       "  </thead>\n",
       "  <tbody>\n",
       "    <tr>\n",
       "      <th>0</th>\n",
       "      <td>2023-02-27 09:30:00</td>\n",
       "      <td>17438.650391</td>\n",
       "      <td>17450.750000</td>\n",
       "      <td>17334.849609</td>\n",
       "      <td>17335.550781</td>\n",
       "      <td>17335.550781</td>\n",
       "      <td>0</td>\n",
       "      <td>27</td>\n",
       "      <td>2</td>\n",
       "      <td>2023</td>\n",
       "      <td>9</td>\n",
       "      <td>30</td>\n",
       "    </tr>\n",
       "    <tr>\n",
       "      <th>1</th>\n",
       "      <td>2023-02-27 10:00:00</td>\n",
       "      <td>17334.949219</td>\n",
       "      <td>17345.449219</td>\n",
       "      <td>17301.699219</td>\n",
       "      <td>17324.449219</td>\n",
       "      <td>17324.449219</td>\n",
       "      <td>0</td>\n",
       "      <td>27</td>\n",
       "      <td>2</td>\n",
       "      <td>2023</td>\n",
       "      <td>10</td>\n",
       "      <td>0</td>\n",
       "    </tr>\n",
       "    <tr>\n",
       "      <th>2</th>\n",
       "      <td>2023-02-27 10:30:00</td>\n",
       "      <td>17325.050781</td>\n",
       "      <td>17332.599609</td>\n",
       "      <td>17307.199219</td>\n",
       "      <td>17327.099609</td>\n",
       "      <td>17327.099609</td>\n",
       "      <td>0</td>\n",
       "      <td>27</td>\n",
       "      <td>2</td>\n",
       "      <td>2023</td>\n",
       "      <td>10</td>\n",
       "      <td>30</td>\n",
       "    </tr>\n",
       "    <tr>\n",
       "      <th>3</th>\n",
       "      <td>2023-02-27 11:00:00</td>\n",
       "      <td>17327.250000</td>\n",
       "      <td>17381.300781</td>\n",
       "      <td>17324.599609</td>\n",
       "      <td>17351.900391</td>\n",
       "      <td>17351.900391</td>\n",
       "      <td>0</td>\n",
       "      <td>27</td>\n",
       "      <td>2</td>\n",
       "      <td>2023</td>\n",
       "      <td>11</td>\n",
       "      <td>0</td>\n",
       "    </tr>\n",
       "    <tr>\n",
       "      <th>4</th>\n",
       "      <td>2023-02-27 11:30:00</td>\n",
       "      <td>17352.449219</td>\n",
       "      <td>17395.150391</td>\n",
       "      <td>17343.849609</td>\n",
       "      <td>17378.099609</td>\n",
       "      <td>17378.099609</td>\n",
       "      <td>0</td>\n",
       "      <td>27</td>\n",
       "      <td>2</td>\n",
       "      <td>2023</td>\n",
       "      <td>11</td>\n",
       "      <td>30</td>\n",
       "    </tr>\n",
       "    <tr>\n",
       "      <th>...</th>\n",
       "      <td>...</td>\n",
       "      <td>...</td>\n",
       "      <td>...</td>\n",
       "      <td>...</td>\n",
       "      <td>...</td>\n",
       "      <td>...</td>\n",
       "      <td>...</td>\n",
       "      <td>...</td>\n",
       "      <td>...</td>\n",
       "      <td>...</td>\n",
       "      <td>...</td>\n",
       "      <td>...</td>\n",
       "    </tr>\n",
       "    <tr>\n",
       "      <th>463</th>\n",
       "      <td>2023-04-27 13:00:00</td>\n",
       "      <td>17848.900391</td>\n",
       "      <td>17874.849609</td>\n",
       "      <td>17842.349609</td>\n",
       "      <td>17872.599609</td>\n",
       "      <td>17872.599609</td>\n",
       "      <td>0</td>\n",
       "      <td>27</td>\n",
       "      <td>4</td>\n",
       "      <td>2023</td>\n",
       "      <td>13</td>\n",
       "      <td>0</td>\n",
       "    </tr>\n",
       "    <tr>\n",
       "      <th>464</th>\n",
       "      <td>2023-04-27 13:30:00</td>\n",
       "      <td>17873.250000</td>\n",
       "      <td>17891.050781</td>\n",
       "      <td>17870.150391</td>\n",
       "      <td>17888.500000</td>\n",
       "      <td>17888.500000</td>\n",
       "      <td>0</td>\n",
       "      <td>27</td>\n",
       "      <td>4</td>\n",
       "      <td>2023</td>\n",
       "      <td>13</td>\n",
       "      <td>30</td>\n",
       "    </tr>\n",
       "    <tr>\n",
       "      <th>465</th>\n",
       "      <td>2023-04-27 14:00:00</td>\n",
       "      <td>17889.050781</td>\n",
       "      <td>17891.400391</td>\n",
       "      <td>17859.500000</td>\n",
       "      <td>17875.300781</td>\n",
       "      <td>17875.300781</td>\n",
       "      <td>0</td>\n",
       "      <td>27</td>\n",
       "      <td>4</td>\n",
       "      <td>2023</td>\n",
       "      <td>14</td>\n",
       "      <td>0</td>\n",
       "    </tr>\n",
       "    <tr>\n",
       "      <th>466</th>\n",
       "      <td>2023-04-27 14:30:00</td>\n",
       "      <td>17874.349609</td>\n",
       "      <td>17895.400391</td>\n",
       "      <td>17873.650391</td>\n",
       "      <td>17887.699219</td>\n",
       "      <td>17887.699219</td>\n",
       "      <td>0</td>\n",
       "      <td>27</td>\n",
       "      <td>4</td>\n",
       "      <td>2023</td>\n",
       "      <td>14</td>\n",
       "      <td>30</td>\n",
       "    </tr>\n",
       "    <tr>\n",
       "      <th>467</th>\n",
       "      <td>2023-04-27 15:00:00</td>\n",
       "      <td>17886.300781</td>\n",
       "      <td>17931.250000</td>\n",
       "      <td>17884.800781</td>\n",
       "      <td>17923.199219</td>\n",
       "      <td>17923.199219</td>\n",
       "      <td>0</td>\n",
       "      <td>27</td>\n",
       "      <td>4</td>\n",
       "      <td>2023</td>\n",
       "      <td>15</td>\n",
       "      <td>0</td>\n",
       "    </tr>\n",
       "  </tbody>\n",
       "</table>\n",
       "<p>468 rows × 12 columns</p>\n",
       "</div>"
      ],
      "text/plain": [
       "                   Date          Open          High           Low   \n",
       "0   2023-02-27 09:30:00  17438.650391  17450.750000  17334.849609  \\\n",
       "1   2023-02-27 10:00:00  17334.949219  17345.449219  17301.699219   \n",
       "2   2023-02-27 10:30:00  17325.050781  17332.599609  17307.199219   \n",
       "3   2023-02-27 11:00:00  17327.250000  17381.300781  17324.599609   \n",
       "4   2023-02-27 11:30:00  17352.449219  17395.150391  17343.849609   \n",
       "..                  ...           ...           ...           ...   \n",
       "463 2023-04-27 13:00:00  17848.900391  17874.849609  17842.349609   \n",
       "464 2023-04-27 13:30:00  17873.250000  17891.050781  17870.150391   \n",
       "465 2023-04-27 14:00:00  17889.050781  17891.400391  17859.500000   \n",
       "466 2023-04-27 14:30:00  17874.349609  17895.400391  17873.650391   \n",
       "467 2023-04-27 15:00:00  17886.300781  17931.250000  17884.800781   \n",
       "\n",
       "            Close     Adj Close  Volume  dateDAY  dateMONTH  dateYR  hours   \n",
       "0    17335.550781  17335.550781       0       27          2    2023      9  \\\n",
       "1    17324.449219  17324.449219       0       27          2    2023     10   \n",
       "2    17327.099609  17327.099609       0       27          2    2023     10   \n",
       "3    17351.900391  17351.900391       0       27          2    2023     11   \n",
       "4    17378.099609  17378.099609       0       27          2    2023     11   \n",
       "..            ...           ...     ...      ...        ...     ...    ...   \n",
       "463  17872.599609  17872.599609       0       27          4    2023     13   \n",
       "464  17888.500000  17888.500000       0       27          4    2023     13   \n",
       "465  17875.300781  17875.300781       0       27          4    2023     14   \n",
       "466  17887.699219  17887.699219       0       27          4    2023     14   \n",
       "467  17923.199219  17923.199219       0       27          4    2023     15   \n",
       "\n",
       "     min  \n",
       "0     30  \n",
       "1      0  \n",
       "2     30  \n",
       "3      0  \n",
       "4     30  \n",
       "..   ...  \n",
       "463    0  \n",
       "464   30  \n",
       "465    0  \n",
       "466   30  \n",
       "467    0  \n",
       "\n",
       "[468 rows x 12 columns]"
      ]
     },
     "execution_count": 7,
     "metadata": {},
     "output_type": "execute_result"
    }
   ],
   "source": [
    "data"
   ]
  },
  {
   "cell_type": "code",
   "execution_count": 8,
   "id": "d1fe12d2-b42b-4a72-9c80-fc4b19acc00e",
   "metadata": {
    "tags": []
   },
   "outputs": [
    {
     "data": {
      "text/html": [
       "<div>\n",
       "<style scoped>\n",
       "    .dataframe tbody tr th:only-of-type {\n",
       "        vertical-align: middle;\n",
       "    }\n",
       "\n",
       "    .dataframe tbody tr th {\n",
       "        vertical-align: top;\n",
       "    }\n",
       "\n",
       "    .dataframe thead th {\n",
       "        text-align: right;\n",
       "    }\n",
       "</style>\n",
       "<table border=\"1\" class=\"dataframe\">\n",
       "  <thead>\n",
       "    <tr style=\"text-align: right;\">\n",
       "      <th></th>\n",
       "      <th>Date</th>\n",
       "      <th>Open</th>\n",
       "      <th>High</th>\n",
       "      <th>Low</th>\n",
       "      <th>Close</th>\n",
       "      <th>Adj Close</th>\n",
       "      <th>Volume</th>\n",
       "      <th>dateDAY</th>\n",
       "      <th>dateMONTH</th>\n",
       "      <th>dateYR</th>\n",
       "      <th>hours</th>\n",
       "      <th>min</th>\n",
       "    </tr>\n",
       "  </thead>\n",
       "  <tbody>\n",
       "    <tr>\n",
       "      <th>0</th>\n",
       "      <td>2023-02-27 09:30:00</td>\n",
       "      <td>17438.650391</td>\n",
       "      <td>17450.750000</td>\n",
       "      <td>17334.849609</td>\n",
       "      <td>17335.550781</td>\n",
       "      <td>17335.550781</td>\n",
       "      <td>0</td>\n",
       "      <td>27</td>\n",
       "      <td>2</td>\n",
       "      <td>2023</td>\n",
       "      <td>9</td>\n",
       "      <td>30</td>\n",
       "    </tr>\n",
       "    <tr>\n",
       "      <th>1</th>\n",
       "      <td>2023-02-27 10:00:00</td>\n",
       "      <td>17334.949219</td>\n",
       "      <td>17345.449219</td>\n",
       "      <td>17301.699219</td>\n",
       "      <td>17324.449219</td>\n",
       "      <td>17324.449219</td>\n",
       "      <td>0</td>\n",
       "      <td>27</td>\n",
       "      <td>2</td>\n",
       "      <td>2023</td>\n",
       "      <td>10</td>\n",
       "      <td>0</td>\n",
       "    </tr>\n",
       "    <tr>\n",
       "      <th>2</th>\n",
       "      <td>2023-02-27 10:30:00</td>\n",
       "      <td>17325.050781</td>\n",
       "      <td>17332.599609</td>\n",
       "      <td>17307.199219</td>\n",
       "      <td>17327.099609</td>\n",
       "      <td>17327.099609</td>\n",
       "      <td>0</td>\n",
       "      <td>27</td>\n",
       "      <td>2</td>\n",
       "      <td>2023</td>\n",
       "      <td>10</td>\n",
       "      <td>30</td>\n",
       "    </tr>\n",
       "    <tr>\n",
       "      <th>3</th>\n",
       "      <td>2023-02-27 11:00:00</td>\n",
       "      <td>17327.250000</td>\n",
       "      <td>17381.300781</td>\n",
       "      <td>17324.599609</td>\n",
       "      <td>17351.900391</td>\n",
       "      <td>17351.900391</td>\n",
       "      <td>0</td>\n",
       "      <td>27</td>\n",
       "      <td>2</td>\n",
       "      <td>2023</td>\n",
       "      <td>11</td>\n",
       "      <td>0</td>\n",
       "    </tr>\n",
       "    <tr>\n",
       "      <th>4</th>\n",
       "      <td>2023-02-27 11:30:00</td>\n",
       "      <td>17352.449219</td>\n",
       "      <td>17395.150391</td>\n",
       "      <td>17343.849609</td>\n",
       "      <td>17378.099609</td>\n",
       "      <td>17378.099609</td>\n",
       "      <td>0</td>\n",
       "      <td>27</td>\n",
       "      <td>2</td>\n",
       "      <td>2023</td>\n",
       "      <td>11</td>\n",
       "      <td>30</td>\n",
       "    </tr>\n",
       "  </tbody>\n",
       "</table>\n",
       "</div>"
      ],
      "text/plain": [
       "                 Date          Open          High           Low         Close   \n",
       "0 2023-02-27 09:30:00  17438.650391  17450.750000  17334.849609  17335.550781  \\\n",
       "1 2023-02-27 10:00:00  17334.949219  17345.449219  17301.699219  17324.449219   \n",
       "2 2023-02-27 10:30:00  17325.050781  17332.599609  17307.199219  17327.099609   \n",
       "3 2023-02-27 11:00:00  17327.250000  17381.300781  17324.599609  17351.900391   \n",
       "4 2023-02-27 11:30:00  17352.449219  17395.150391  17343.849609  17378.099609   \n",
       "\n",
       "      Adj Close  Volume  dateDAY  dateMONTH  dateYR  hours  min  \n",
       "0  17335.550781       0       27          2    2023      9   30  \n",
       "1  17324.449219       0       27          2    2023     10    0  \n",
       "2  17327.099609       0       27          2    2023     10   30  \n",
       "3  17351.900391       0       27          2    2023     11    0  \n",
       "4  17378.099609       0       27          2    2023     11   30  "
      ]
     },
     "execution_count": 8,
     "metadata": {},
     "output_type": "execute_result"
    }
   ],
   "source": [
    "data2= data.copy()\n",
    "data2.head(5)"
   ]
  },
  {
   "cell_type": "code",
   "execution_count": 9,
   "id": "d952fbdc-95c6-4ca7-88b9-e18650ebcdec",
   "metadata": {
    "tags": []
   },
   "outputs": [],
   "source": [
    "data2.drop(['Date', 'Volume', 'Adj Close'], axis=1, inplace=True)"
   ]
  },
  {
   "cell_type": "code",
   "execution_count": 10,
   "id": "9fb755d7-5c24-41c4-8d7e-9c654d16f0c1",
   "metadata": {
    "tags": []
   },
   "outputs": [
    {
     "data": {
      "text/html": [
       "<div>\n",
       "<style scoped>\n",
       "    .dataframe tbody tr th:only-of-type {\n",
       "        vertical-align: middle;\n",
       "    }\n",
       "\n",
       "    .dataframe tbody tr th {\n",
       "        vertical-align: top;\n",
       "    }\n",
       "\n",
       "    .dataframe thead th {\n",
       "        text-align: right;\n",
       "    }\n",
       "</style>\n",
       "<table border=\"1\" class=\"dataframe\">\n",
       "  <thead>\n",
       "    <tr style=\"text-align: right;\">\n",
       "      <th></th>\n",
       "      <th>Open</th>\n",
       "      <th>High</th>\n",
       "      <th>Low</th>\n",
       "      <th>Close</th>\n",
       "      <th>dateDAY</th>\n",
       "      <th>dateMONTH</th>\n",
       "      <th>dateYR</th>\n",
       "      <th>hours</th>\n",
       "      <th>min</th>\n",
       "    </tr>\n",
       "  </thead>\n",
       "  <tbody>\n",
       "    <tr>\n",
       "      <th>0</th>\n",
       "      <td>17438.650391</td>\n",
       "      <td>17450.750000</td>\n",
       "      <td>17334.849609</td>\n",
       "      <td>17335.550781</td>\n",
       "      <td>27</td>\n",
       "      <td>2</td>\n",
       "      <td>2023</td>\n",
       "      <td>9</td>\n",
       "      <td>30</td>\n",
       "    </tr>\n",
       "    <tr>\n",
       "      <th>1</th>\n",
       "      <td>17334.949219</td>\n",
       "      <td>17345.449219</td>\n",
       "      <td>17301.699219</td>\n",
       "      <td>17324.449219</td>\n",
       "      <td>27</td>\n",
       "      <td>2</td>\n",
       "      <td>2023</td>\n",
       "      <td>10</td>\n",
       "      <td>0</td>\n",
       "    </tr>\n",
       "  </tbody>\n",
       "</table>\n",
       "</div>"
      ],
      "text/plain": [
       "           Open          High           Low         Close  dateDAY  dateMONTH   \n",
       "0  17438.650391  17450.750000  17334.849609  17335.550781       27          2  \\\n",
       "1  17334.949219  17345.449219  17301.699219  17324.449219       27          2   \n",
       "\n",
       "   dateYR  hours  min  \n",
       "0    2023      9   30  \n",
       "1    2023     10    0  "
      ]
     },
     "execution_count": 10,
     "metadata": {},
     "output_type": "execute_result"
    }
   ],
   "source": [
    "data2.head(2)"
   ]
  },
  {
   "cell_type": "code",
   "execution_count": 11,
   "id": "3a670525-1d46-4594-8c11-0ef15106a1b9",
   "metadata": {
    "tags": []
   },
   "outputs": [],
   "source": [
    "features= data2.drop(['High', 'Low', 'Close'], axis=1)\n",
    "labels= data2.drop(['Open', 'dateDAY', 'dateMONTH', 'dateYR', 'hours', 'min'], axis=1)"
   ]
  },
  {
   "cell_type": "code",
   "execution_count": 12,
   "id": "f2188444-6e16-4d71-ad88-b52a6063619e",
   "metadata": {
    "tags": []
   },
   "outputs": [],
   "source": [
    "from sklearn.model_selection import train_test_split\n",
    "featuresTrain, featuresTest, labelsTrain, labelsTest= train_test_split(features, labels, test_size= .1, random_state= 42)"
   ]
  },
  {
   "cell_type": "code",
   "execution_count": 13,
   "id": "44b47c5a-2dab-465b-93c3-0e016ec1642f",
   "metadata": {
    "tags": []
   },
   "outputs": [
    {
     "name": "stdout",
     "output_type": "stream",
     "text": [
      "shape of features:  (468, 6)\n",
      "shape of labels:  (468, 3)\n"
     ]
    }
   ],
   "source": [
    "print(\"shape of features: \", features.shape)\n",
    "print(\"shape of labels: \", labels.shape)"
   ]
  },
  {
   "cell_type": "markdown",
   "id": "f4ebf457-d45f-4a5c-b66e-182e54e2f4a7",
   "metadata": {
    "tags": []
   },
   "source": [
    "# Model Building and Exploration"
   ]
  },
  {
   "cell_type": "code",
   "execution_count": 14,
   "id": "f68d1787-2254-448e-8f7a-b75a6c7fe58f",
   "metadata": {
    "tags": []
   },
   "outputs": [],
   "source": [
    "import tensorflow as tf\n",
    "from tensorflow import keras"
   ]
  },
  {
   "cell_type": "code",
   "execution_count": 15,
   "id": "9f2bf4a5-59f4-4fc9-8726-dbf15c58a9a0",
   "metadata": {
    "tags": []
   },
   "outputs": [],
   "source": [
    "base_mdl= keras.models.load_model('../model/exports/itcStockPred(v2)/')"
   ]
  },
  {
   "cell_type": "code",
   "execution_count": 30,
   "id": "4497d79b-d308-4e1e-bb01-e0c282304e41",
   "metadata": {
    "tags": []
   },
   "outputs": [],
   "source": [
    "model= keras.models.Sequential([\n",
    "    keras.layers.Dense(440, input_shape=(features.shape[1],)),\n",
    "    keras.layers.Dropout(0.5),\n",
    "    #base_mdl,\n",
    "    keras.layers.Dense(32, activation= tf.keras.activations.relu),\n",
    "    keras.layers.Dropout(0.5),\n",
    "    #keras.layers.Dense(156, activation=tf.keras.activations.relu),\n",
    "    #keras.layers.Dropout(0.5),\n",
    "    keras.layers.Dense(3, activation= tf.keras.activations.relu)\n",
    "])"
   ]
  },
  {
   "cell_type": "code",
   "execution_count": 31,
   "id": "ee44c8f8-6452-4f9a-919e-a1b25dc3e7c7",
   "metadata": {
    "tags": []
   },
   "outputs": [],
   "source": [
    "model.layers[0].trainable= True"
   ]
  },
  {
   "cell_type": "code",
   "execution_count": 32,
   "id": "52f566c4-54ce-48f6-99f4-a16c454c7562",
   "metadata": {
    "tags": []
   },
   "outputs": [
    {
     "name": "stdout",
     "output_type": "stream",
     "text": [
      "Model: \"sequential_1\"\n",
      "_________________________________________________________________\n",
      " Layer (type)                Output Shape              Param #   \n",
      "=================================================================\n",
      " dense_3 (Dense)             (None, 440)               3080      \n",
      "                                                                 \n",
      " dropout_2 (Dropout)         (None, 440)               0         \n",
      "                                                                 \n",
      " dense_4 (Dense)             (None, 32)                14112     \n",
      "                                                                 \n",
      " dropout_3 (Dropout)         (None, 32)                0         \n",
      "                                                                 \n",
      " dense_5 (Dense)             (None, 3)                 99        \n",
      "                                                                 \n",
      "=================================================================\n",
      "Total params: 17,291\n",
      "Trainable params: 17,291\n",
      "Non-trainable params: 0\n",
      "_________________________________________________________________\n"
     ]
    }
   ],
   "source": [
    "model.summary()"
   ]
  },
  {
   "cell_type": "code",
   "execution_count": 33,
   "id": "10e306b7-41f3-4556-a2e1-d13e0e353bfe",
   "metadata": {
    "tags": []
   },
   "outputs": [],
   "source": [
    "model.compile(optimizer= 'adam', loss= keras.losses.mean_absolute_error, metrics=['accuracy'])"
   ]
  },
  {
   "cell_type": "code",
   "execution_count": 34,
   "id": "7613e387-3cf6-4ff8-bdb1-b4ca2066ad23",
   "metadata": {
    "tags": []
   },
   "outputs": [
    {
     "name": "stdout",
     "output_type": "stream",
     "text": [
      "Epoch 1/150\n",
      "14/14 [==============================] - 0s 5ms/step - loss: 10682.3906 - accuracy: 0.4679\n",
      "Epoch 2/150\n",
      "14/14 [==============================] - 0s 6ms/step - loss: 6479.9561 - accuracy: 0.1781\n",
      "Epoch 3/150\n",
      "14/14 [==============================] - 0s 5ms/step - loss: 5509.2437 - accuracy: 0.3302\n",
      "Epoch 4/150\n",
      "14/14 [==============================] - 0s 5ms/step - loss: 5165.5337 - accuracy: 0.2993\n",
      "Epoch 5/150\n",
      "14/14 [==============================] - 0s 5ms/step - loss: 4912.1631 - accuracy: 0.2993\n",
      "Epoch 6/150\n",
      "14/14 [==============================] - 0s 5ms/step - loss: 5034.7217 - accuracy: 0.3302\n",
      "Epoch 7/150\n",
      "14/14 [==============================] - 0s 5ms/step - loss: 4898.4175 - accuracy: 0.2375\n",
      "Epoch 8/150\n",
      "14/14 [==============================] - 0s 5ms/step - loss: 5031.4761 - accuracy: 0.3349\n",
      "Epoch 9/150\n",
      "14/14 [==============================] - 0s 6ms/step - loss: 4851.1572 - accuracy: 0.2518\n",
      "Epoch 10/150\n",
      "14/14 [==============================] - 0s 5ms/step - loss: 4796.0669 - accuracy: 0.3183\n",
      "Epoch 11/150\n",
      "14/14 [==============================] - 0s 8ms/step - loss: 4781.1318 - accuracy: 0.3895\n",
      "Epoch 12/150\n",
      "14/14 [==============================] - 0s 5ms/step - loss: 4735.1357 - accuracy: 0.3634\n",
      "Epoch 13/150\n",
      "14/14 [==============================] - 0s 5ms/step - loss: 4698.4307 - accuracy: 0.3587\n",
      "Epoch 14/150\n",
      "14/14 [==============================] - 0s 5ms/step - loss: 4514.6895 - accuracy: 0.3895\n",
      "Epoch 15/150\n",
      "14/14 [==============================] - 0s 5ms/step - loss: 4505.9238 - accuracy: 0.3159\n",
      "Epoch 16/150\n",
      "14/14 [==============================] - 0s 6ms/step - loss: 4436.9663 - accuracy: 0.2827\n",
      "Epoch 17/150\n",
      "14/14 [==============================] - 0s 5ms/step - loss: 4432.2202 - accuracy: 0.2518\n",
      "Epoch 18/150\n",
      "14/14 [==============================] - 0s 5ms/step - loss: 4577.0186 - accuracy: 0.2803\n",
      "Epoch 19/150\n",
      "14/14 [==============================] - 0s 7ms/step - loss: 4238.0366 - accuracy: 0.4038\n",
      "Epoch 20/150\n",
      "14/14 [==============================] - 0s 9ms/step - loss: 4331.8989 - accuracy: 0.4038\n",
      "Epoch 21/150\n",
      "14/14 [==============================] - 0s 8ms/step - loss: 4388.1484 - accuracy: 0.3824\n",
      "Epoch 22/150\n",
      "14/14 [==============================] - 0s 8ms/step - loss: 4375.1484 - accuracy: 0.4086\n",
      "Epoch 23/150\n",
      "14/14 [==============================] - 0s 8ms/step - loss: 4249.8496 - accuracy: 0.2993\n",
      "Epoch 24/150\n",
      "14/14 [==============================] - 0s 8ms/step - loss: 3954.2378 - accuracy: 0.3302\n",
      "Epoch 25/150\n",
      "14/14 [==============================] - 0s 8ms/step - loss: 4361.6890 - accuracy: 0.4442\n",
      "Epoch 26/150\n",
      "14/14 [==============================] - 0s 8ms/step - loss: 4287.8154 - accuracy: 0.4822\n",
      "Epoch 27/150\n",
      "14/14 [==============================] - 0s 8ms/step - loss: 4145.3643 - accuracy: 0.4822\n",
      "Epoch 28/150\n",
      "14/14 [==============================] - 0s 9ms/step - loss: 4355.8545 - accuracy: 0.2969\n",
      "Epoch 29/150\n",
      "14/14 [==============================] - 0s 8ms/step - loss: 4044.5825 - accuracy: 0.3349\n",
      "Epoch 30/150\n",
      "14/14 [==============================] - 0s 7ms/step - loss: 3873.8545 - accuracy: 0.3539\n",
      "Epoch 31/150\n",
      "14/14 [==============================] - 0s 7ms/step - loss: 4034.5696 - accuracy: 0.3254\n",
      "Epoch 32/150\n",
      "14/14 [==============================] - 0s 7ms/step - loss: 3928.4048 - accuracy: 0.4062\n",
      "Epoch 33/150\n",
      "14/14 [==============================] - 0s 6ms/step - loss: 4167.0483 - accuracy: 0.4988\n",
      "Epoch 34/150\n",
      "14/14 [==============================] - 0s 5ms/step - loss: 4362.5767 - accuracy: 0.3872\n",
      "Epoch 35/150\n",
      "14/14 [==============================] - 0s 9ms/step - loss: 4282.7603 - accuracy: 0.3990\n",
      "Epoch 36/150\n",
      "14/14 [==============================] - 0s 7ms/step - loss: 4095.0088 - accuracy: 0.4371\n",
      "Epoch 37/150\n",
      "14/14 [==============================] - 0s 8ms/step - loss: 4415.8403 - accuracy: 0.5012\n",
      "Epoch 38/150\n",
      "14/14 [==============================] - 0s 8ms/step - loss: 4145.6006 - accuracy: 0.4679\n",
      "Epoch 39/150\n",
      "14/14 [==============================] - 0s 7ms/step - loss: 3691.2871 - accuracy: 0.4228\n",
      "Epoch 40/150\n",
      "14/14 [==============================] - 0s 7ms/step - loss: 3889.6863 - accuracy: 0.4014\n",
      "Epoch 41/150\n",
      "14/14 [==============================] - 0s 9ms/step - loss: 4047.6167 - accuracy: 0.4371\n",
      "Epoch 42/150\n",
      "14/14 [==============================] - 0s 6ms/step - loss: 4050.0259 - accuracy: 0.3515\n",
      "Epoch 43/150\n",
      "14/14 [==============================] - 0s 6ms/step - loss: 4048.9888 - accuracy: 0.3397\n",
      "Epoch 44/150\n",
      "14/14 [==============================] - 0s 6ms/step - loss: 3902.4817 - accuracy: 0.3895\n",
      "Epoch 45/150\n",
      "14/14 [==============================] - 0s 6ms/step - loss: 3867.9036 - accuracy: 0.4584\n",
      "Epoch 46/150\n",
      "14/14 [==============================] - 0s 6ms/step - loss: 4047.9990 - accuracy: 0.4371\n",
      "Epoch 47/150\n",
      "14/14 [==============================] - 0s 6ms/step - loss: 4223.0596 - accuracy: 0.3705\n",
      "Epoch 48/150\n",
      "14/14 [==============================] - 0s 6ms/step - loss: 4091.2222 - accuracy: 0.3943\n",
      "Epoch 49/150\n",
      "14/14 [==============================] - 0s 6ms/step - loss: 3725.6721 - accuracy: 0.4299\n",
      "Epoch 50/150\n",
      "14/14 [==============================] - 0s 6ms/step - loss: 3855.1667 - accuracy: 0.4323\n",
      "Epoch 51/150\n",
      "14/14 [==============================] - 0s 5ms/step - loss: 3912.2188 - accuracy: 0.3990\n",
      "Epoch 52/150\n",
      "14/14 [==============================] - 0s 6ms/step - loss: 4151.3164 - accuracy: 0.3943\n",
      "Epoch 53/150\n",
      "14/14 [==============================] - 0s 6ms/step - loss: 3786.6562 - accuracy: 0.3587\n",
      "Epoch 54/150\n",
      "14/14 [==============================] - 0s 6ms/step - loss: 3937.9919 - accuracy: 0.3587\n",
      "Epoch 55/150\n",
      "14/14 [==============================] - 0s 6ms/step - loss: 4133.9927 - accuracy: 0.4133\n",
      "Epoch 56/150\n",
      "14/14 [==============================] - 0s 5ms/step - loss: 3860.8518 - accuracy: 0.3943\n",
      "Epoch 57/150\n",
      "14/14 [==============================] - 0s 6ms/step - loss: 4082.7998 - accuracy: 0.4038\n",
      "Epoch 58/150\n",
      "14/14 [==============================] - 0s 6ms/step - loss: 3947.1956 - accuracy: 0.4418\n",
      "Epoch 59/150\n",
      "14/14 [==============================] - 0s 5ms/step - loss: 3655.4272 - accuracy: 0.4822\n",
      "Epoch 60/150\n",
      "14/14 [==============================] - 0s 6ms/step - loss: 3835.2944 - accuracy: 0.4679\n",
      "Epoch 61/150\n",
      "14/14 [==============================] - 0s 6ms/step - loss: 3533.4778 - accuracy: 0.4584\n",
      "Epoch 62/150\n",
      "14/14 [==============================] - 0s 6ms/step - loss: 3709.6245 - accuracy: 0.5012\n",
      "Epoch 63/150\n",
      "14/14 [==============================] - 0s 6ms/step - loss: 3785.8748 - accuracy: 0.4846\n",
      "Epoch 64/150\n",
      "14/14 [==============================] - 0s 6ms/step - loss: 3996.9014 - accuracy: 0.5249\n",
      "Epoch 65/150\n",
      "14/14 [==============================] - 0s 6ms/step - loss: 3971.5801 - accuracy: 0.4181\n",
      "Epoch 66/150\n",
      "14/14 [==============================] - 0s 6ms/step - loss: 3817.8569 - accuracy: 0.3420\n",
      "Epoch 67/150\n",
      "14/14 [==============================] - 0s 5ms/step - loss: 3816.2876 - accuracy: 0.4228\n",
      "Epoch 68/150\n",
      "14/14 [==============================] - 0s 6ms/step - loss: 3921.4668 - accuracy: 0.4204\n",
      "Epoch 69/150\n",
      "14/14 [==============================] - 0s 5ms/step - loss: 3950.5369 - accuracy: 0.3397\n",
      "Epoch 70/150\n",
      "14/14 [==============================] - 0s 6ms/step - loss: 3642.5989 - accuracy: 0.4109\n",
      "Epoch 71/150\n",
      "14/14 [==============================] - 0s 6ms/step - loss: 3930.9207 - accuracy: 0.4679\n",
      "Epoch 72/150\n",
      "14/14 [==============================] - 0s 6ms/step - loss: 3917.2656 - accuracy: 0.4537\n",
      "Epoch 73/150\n",
      "14/14 [==============================] - 0s 6ms/step - loss: 3787.8984 - accuracy: 0.4489\n",
      "Epoch 74/150\n",
      "14/14 [==============================] - 0s 5ms/step - loss: 3548.8601 - accuracy: 0.4204\n",
      "Epoch 75/150\n",
      "14/14 [==============================] - 0s 6ms/step - loss: 3783.1624 - accuracy: 0.3943\n",
      "Epoch 76/150\n",
      "14/14 [==============================] - 0s 5ms/step - loss: 3780.7668 - accuracy: 0.4418\n",
      "Epoch 77/150\n",
      "14/14 [==============================] - 0s 5ms/step - loss: 3653.3452 - accuracy: 0.3492\n",
      "Epoch 78/150\n",
      "14/14 [==============================] - 0s 5ms/step - loss: 3834.8025 - accuracy: 0.4252\n",
      "Epoch 79/150\n",
      "14/14 [==============================] - 0s 5ms/step - loss: 3715.3232 - accuracy: 0.4513\n",
      "Epoch 80/150\n",
      "14/14 [==============================] - 0s 6ms/step - loss: 3575.7524 - accuracy: 0.3895\n",
      "Epoch 81/150\n",
      "14/14 [==============================] - 0s 5ms/step - loss: 3835.6914 - accuracy: 0.3135\n",
      "Epoch 82/150\n",
      "14/14 [==============================] - 0s 5ms/step - loss: 3502.7634 - accuracy: 0.3990\n",
      "Epoch 83/150\n",
      "14/14 [==============================] - 0s 6ms/step - loss: 3767.0527 - accuracy: 0.4204\n",
      "Epoch 84/150\n",
      "14/14 [==============================] - 0s 6ms/step - loss: 3922.1472 - accuracy: 0.5178\n",
      "Epoch 85/150\n",
      "14/14 [==============================] - 0s 5ms/step - loss: 3566.3906 - accuracy: 0.4941\n",
      "Epoch 86/150\n",
      "14/14 [==============================] - 0s 6ms/step - loss: 3901.7883 - accuracy: 0.3539\n",
      "Epoch 87/150\n",
      "14/14 [==============================] - 0s 6ms/step - loss: 3510.0737 - accuracy: 0.3729\n",
      "Epoch 88/150\n",
      "14/14 [==============================] - 0s 6ms/step - loss: 3730.5923 - accuracy: 0.4584\n",
      "Epoch 89/150\n",
      "14/14 [==============================] - 0s 5ms/step - loss: 3551.4275 - accuracy: 0.4893\n",
      "Epoch 90/150\n",
      "14/14 [==============================] - 0s 6ms/step - loss: 3562.3257 - accuracy: 0.3990\n",
      "Epoch 91/150\n",
      "14/14 [==============================] - 0s 5ms/step - loss: 3716.9937 - accuracy: 0.3658\n",
      "Epoch 92/150\n",
      "14/14 [==============================] - 0s 6ms/step - loss: 3736.0283 - accuracy: 0.3373\n",
      "Epoch 93/150\n",
      "14/14 [==============================] - 0s 5ms/step - loss: 3634.6523 - accuracy: 0.3135\n",
      "Epoch 94/150\n",
      "14/14 [==============================] - 0s 6ms/step - loss: 3889.7031 - accuracy: 0.3088\n",
      "Epoch 95/150\n",
      "14/14 [==============================] - 0s 5ms/step - loss: 3733.2024 - accuracy: 0.2945\n",
      "Epoch 96/150\n",
      "14/14 [==============================] - 0s 6ms/step - loss: 3772.5979 - accuracy: 0.3682\n",
      "Epoch 97/150\n",
      "14/14 [==============================] - 0s 5ms/step - loss: 3888.2639 - accuracy: 0.3682\n",
      "Epoch 98/150\n",
      "14/14 [==============================] - 0s 10ms/step - loss: 3662.2915 - accuracy: 0.4109\n",
      "Epoch 99/150\n",
      "14/14 [==============================] - 0s 8ms/step - loss: 3795.4043 - accuracy: 0.4442\n",
      "Epoch 100/150\n",
      "14/14 [==============================] - 0s 9ms/step - loss: 3945.0549 - accuracy: 0.3990\n",
      "Epoch 101/150\n",
      "14/14 [==============================] - 0s 8ms/step - loss: 3601.8918 - accuracy: 0.3658\n",
      "Epoch 102/150\n",
      "14/14 [==============================] - 0s 9ms/step - loss: 3719.8406 - accuracy: 0.3373\n",
      "Epoch 103/150\n",
      "14/14 [==============================] - 0s 8ms/step - loss: 3777.8027 - accuracy: 0.3444\n",
      "Epoch 104/150\n",
      "14/14 [==============================] - 0s 8ms/step - loss: 3676.3892 - accuracy: 0.3895\n",
      "Epoch 105/150\n",
      "14/14 [==============================] - 0s 7ms/step - loss: 3707.1790 - accuracy: 0.4086\n",
      "Epoch 106/150\n",
      "14/14 [==============================] - 0s 8ms/step - loss: 3665.6057 - accuracy: 0.4109\n",
      "Epoch 107/150\n",
      "14/14 [==============================] - 0s 7ms/step - loss: 3557.8748 - accuracy: 0.3824\n",
      "Epoch 108/150\n",
      "14/14 [==============================] - 0s 8ms/step - loss: 3618.2034 - accuracy: 0.3183\n",
      "Epoch 109/150\n",
      "14/14 [==============================] - 0s 9ms/step - loss: 3499.0085 - accuracy: 0.3634\n",
      "Epoch 110/150\n",
      "14/14 [==============================] - 0s 8ms/step - loss: 3667.6062 - accuracy: 0.4513\n",
      "Epoch 111/150\n",
      "14/14 [==============================] - 0s 8ms/step - loss: 3579.8027 - accuracy: 0.4489\n",
      "Epoch 112/150\n",
      "14/14 [==============================] - 0s 8ms/step - loss: 3781.3916 - accuracy: 0.3967\n",
      "Epoch 113/150\n",
      "14/14 [==============================] - 0s 8ms/step - loss: 3549.3369 - accuracy: 0.4323\n",
      "Epoch 114/150\n",
      "14/14 [==============================] - 0s 9ms/step - loss: 3483.8760 - accuracy: 0.4347\n",
      "Epoch 115/150\n",
      "14/14 [==============================] - 0s 8ms/step - loss: 3680.1475 - accuracy: 0.3990\n",
      "Epoch 116/150\n",
      "14/14 [==============================] - 0s 8ms/step - loss: 3735.8630 - accuracy: 0.4561\n",
      "Epoch 117/150\n",
      "14/14 [==============================] - 0s 8ms/step - loss: 3791.8816 - accuracy: 0.5154\n",
      "Epoch 118/150\n",
      "14/14 [==============================] - 0s 6ms/step - loss: 3680.9268 - accuracy: 0.4299\n",
      "Epoch 119/150\n",
      "14/14 [==============================] - 0s 6ms/step - loss: 3735.5657 - accuracy: 0.3824\n",
      "Epoch 120/150\n",
      "14/14 [==============================] - 0s 5ms/step - loss: 3884.6426 - accuracy: 0.3444\n",
      "Epoch 121/150\n",
      "14/14 [==============================] - 0s 6ms/step - loss: 3489.0769 - accuracy: 0.8100\n",
      "Epoch 122/150\n",
      "14/14 [==============================] - 0s 6ms/step - loss: 3857.3315 - accuracy: 0.6960\n",
      "Epoch 123/150\n",
      "14/14 [==============================] - 0s 9ms/step - loss: 3705.9958 - accuracy: 0.5534\n",
      "Epoch 124/150\n",
      "14/14 [==============================] - 0s 7ms/step - loss: 3702.9600 - accuracy: 0.5012\n",
      "Epoch 125/150\n",
      "14/14 [==============================] - 0s 8ms/step - loss: 3713.7529 - accuracy: 0.4656\n",
      "Epoch 126/150\n",
      "14/14 [==============================] - 0s 8ms/step - loss: 3918.8074 - accuracy: 0.3990\n",
      "Epoch 127/150\n",
      "14/14 [==============================] - 0s 8ms/step - loss: 3648.4666 - accuracy: 0.4727\n",
      "Epoch 128/150\n",
      "14/14 [==============================] - 0s 9ms/step - loss: 3611.0833 - accuracy: 0.6508\n",
      "Epoch 129/150\n",
      "14/14 [==============================] - 0s 8ms/step - loss: 3606.0894 - accuracy: 0.4988\n",
      "Epoch 130/150\n",
      "14/14 [==============================] - 0s 8ms/step - loss: 3848.7930 - accuracy: 0.5819\n",
      "Epoch 131/150\n",
      "14/14 [==============================] - 0s 9ms/step - loss: 3766.3877 - accuracy: 0.5226\n",
      "Epoch 132/150\n",
      "14/14 [==============================] - 0s 9ms/step - loss: 3569.0737 - accuracy: 0.4964\n",
      "Epoch 133/150\n",
      "14/14 [==============================] - 0s 7ms/step - loss: 3512.5476 - accuracy: 0.5653\n",
      "Epoch 134/150\n",
      "14/14 [==============================] - 0s 7ms/step - loss: 3447.4277 - accuracy: 0.5439\n",
      "Epoch 135/150\n",
      "14/14 [==============================] - 0s 7ms/step - loss: 3433.6616 - accuracy: 0.5131\n",
      "Epoch 136/150\n",
      "14/14 [==============================] - 0s 6ms/step - loss: 3495.8914 - accuracy: 0.4276\n",
      "Epoch 137/150\n",
      "14/14 [==============================] - 0s 6ms/step - loss: 3259.8682 - accuracy: 0.4371\n",
      "Epoch 138/150\n",
      "14/14 [==============================] - 0s 6ms/step - loss: 3587.7898 - accuracy: 0.5487\n",
      "Epoch 139/150\n",
      "14/14 [==============================] - 0s 6ms/step - loss: 3507.9973 - accuracy: 0.5986\n",
      "Epoch 140/150\n",
      "14/14 [==============================] - 0s 8ms/step - loss: 3639.1260 - accuracy: 0.5701\n",
      "Epoch 141/150\n",
      "14/14 [==============================] - 0s 8ms/step - loss: 3730.2927 - accuracy: 0.4513\n",
      "Epoch 142/150\n",
      "14/14 [==============================] - 0s 6ms/step - loss: 3611.2620 - accuracy: 0.3943\n",
      "Epoch 143/150\n",
      "14/14 [==============================] - 0s 8ms/step - loss: 3565.8342 - accuracy: 0.4133\n",
      "Epoch 144/150\n",
      "14/14 [==============================] - 0s 8ms/step - loss: 3618.0510 - accuracy: 0.4941\n",
      "Epoch 145/150\n",
      "14/14 [==============================] - 0s 7ms/step - loss: 3361.5000 - accuracy: 0.8314\n",
      "Epoch 146/150\n",
      "14/14 [==============================] - 0s 9ms/step - loss: 3517.5188 - accuracy: 0.9406\n",
      "Epoch 147/150\n",
      "14/14 [==============================] - 0s 9ms/step - loss: 3517.0513 - accuracy: 0.6983\n",
      "Epoch 148/150\n",
      "14/14 [==============================] - 0s 7ms/step - loss: 3562.2744 - accuracy: 0.7197\n",
      "Epoch 149/150\n",
      "14/14 [==============================] - 0s 6ms/step - loss: 3523.7166 - accuracy: 0.6485\n",
      "Epoch 150/150\n",
      "14/14 [==============================] - 0s 6ms/step - loss: 3388.6929 - accuracy: 0.2637\n"
     ]
    },
    {
     "data": {
      "text/plain": [
       "<keras.callbacks.History at 0x2818a640130>"
      ]
     },
     "execution_count": 34,
     "metadata": {},
     "output_type": "execute_result"
    }
   ],
   "source": [
    "model.fit(featuresTrain, labelsTrain, epochs= 150)"
   ]
  },
  {
   "cell_type": "code",
   "execution_count": 28,
   "id": "2fd5d432-6154-479b-bc4c-e83849da239a",
   "metadata": {},
   "outputs": [
    {
     "name": "stdout",
     "output_type": "stream",
     "text": [
      "2/2 [==============================] - 0s 2ms/step\n",
      "dense\n",
      "[[  85.39027   -98.82017    47.362278 ... -123.88141   -32.336437\n",
      "    63.79172 ]\n",
      " [  86.32629   -99.461365   48.101357 ... -124.83388   -31.960686\n",
      "    64.19952 ]\n",
      " [  84.80217   -98.409836   46.89638  ... -123.28966   -32.573174\n",
      "    63.54194 ]\n",
      " ...\n",
      " [  88.03958  -101.67199    50.426105 ... -125.08459   -32.26438\n",
      "    65.305435]\n",
      " [  86.87489  -100.61579    49.513535 ... -124.118935  -32.82762\n",
      "    65.5833  ]\n",
      " [  86.165665 -100.04139    48.94416  ... -123.474724  -33.1308\n",
      "    65.43313 ]]\n",
      "2/2 [==============================] - 0s 2ms/step\n",
      "dropout\n",
      "[[  85.39027   -98.82017    47.362278 ... -123.88141   -32.336437\n",
      "    63.79172 ]\n",
      " [  86.32629   -99.461365   48.101357 ... -124.83388   -31.960686\n",
      "    64.19952 ]\n",
      " [  84.80217   -98.409836   46.89638  ... -123.28966   -32.573174\n",
      "    63.54194 ]\n",
      " ...\n",
      " [  88.03958  -101.67199    50.426105 ... -125.08459   -32.26438\n",
      "    65.305435]\n",
      " [  86.87489  -100.61579    49.513535 ... -124.118935  -32.82762\n",
      "    65.5833  ]\n",
      " [  86.165665 -100.04139    48.94416  ... -123.474724  -33.1308\n",
      "    65.43313 ]]\n",
      "2/2 [==============================] - 0s 2ms/step\n",
      "dense_1\n",
      "[[   0.        0.        0.     ...    0.        0.     4888.898 ]\n",
      " [   0.        0.        0.     ...    0.        0.     4951.2964]\n",
      " [   0.        0.        0.     ...    0.        0.     4850.7646]\n",
      " ...\n",
      " [   0.        0.        0.     ...    0.        0.     4972.925 ]\n",
      " [   0.        0.        0.     ...    0.        0.     4925.2207]\n",
      " [   0.        0.        0.     ...    0.        0.     4889.5786]]\n",
      "2/2 [==============================] - 0s 3ms/step\n",
      "dropout_1\n",
      "[[   0.        0.        0.     ...    0.        0.     4888.898 ]\n",
      " [   0.        0.        0.     ...    0.        0.     4951.2964]\n",
      " [   0.        0.        0.     ...    0.        0.     4850.7646]\n",
      " ...\n",
      " [   0.        0.        0.     ...    0.        0.     4972.925 ]\n",
      " [   0.        0.        0.     ...    0.        0.     4925.2207]\n",
      " [   0.        0.        0.     ...    0.        0.     4889.5786]]\n",
      "2/2 [==============================] - 0s 3ms/step\n",
      "dense_2\n",
      "[[18059.877 18100.371 18135.328]\n",
      " [18291.81  18332.674 18368.355]\n",
      " [17918.143 17958.416 17992.926]\n",
      " [18023.969 18064.438 18099.227]\n",
      " [18157.861 18198.578 18233.773]\n",
      " [17474.324 17514.139 17546.814]\n",
      " [17654.652 17694.674 17728.014]\n",
      " [17848.285 17888.645 17922.559]\n",
      " [18226.002 18266.98  18302.127]\n",
      " [17480.342 17520.12  17552.838]\n",
      " [18161.791 18202.477 18237.697]\n",
      " [18200.758 18241.486 18276.852]\n",
      " [18318.062 18359.021 18394.684]\n",
      " [18239.469 18280.346 18315.773]\n",
      " [17847.943 17888.176 17922.387]\n",
      " [17767.111 17807.42  17840.986]\n",
      " [18376.736 18417.904 18453.547]\n",
      " [18381.34  18422.555 18458.191]\n",
      " [18135.729 18176.504 18211.396]\n",
      " [18210.299 18251.107 18286.459]\n",
      " [17957.533 17998.082 18032.357]\n",
      " [18123.434 18164.082 18199.146]\n",
      " [17871.217 17911.62  17945.602]\n",
      " [18104.812 18145.572 18180.373]\n",
      " [18206.396 18247.143 18282.52 ]\n",
      " [17549.832 17589.695 17622.768]\n",
      " [18160.043 18200.781 18235.945]\n",
      " [18131.596 18172.277 18207.338]\n",
      " [17928.055 17968.383 18002.904]\n",
      " [18119.404 18160.13  18195.02 ]\n",
      " [17352.412 17391.945 17424.34 ]\n",
      " [17607.988 17647.877 17681.18 ]\n",
      " [18165.9   18206.746 18241.777]\n",
      " [18189.895 18230.688 18265.955]\n",
      " [17906.68  17947.178 17981.25 ]\n",
      " [17859.615 17899.785 17934.11 ]\n",
      " [18185.62  18226.348 18261.64 ]\n",
      " [18264.541 18305.443 18340.98 ]\n",
      " [17693.775 17733.834 17767.406]\n",
      " [17644.291 17684.275 17717.607]\n",
      " [17907.664 17947.977 17982.332]\n",
      " [17517.395 17557.201 17590.166]\n",
      " [18169.45  18210.273 18245.348]\n",
      " [18307.176 18348.23  18383.656]\n",
      " [18367.29  18408.479 18444.076]\n",
      " [18189.492 18230.305 18265.535]\n",
      " [18057.02  18097.59  18132.459]]\n"
     ]
    }
   ],
   "source": [
    "for layer in model.layers:\n",
    "    intermediate_layer_model = tf.keras.models.Model(inputs=model.input,\n",
    "                                                     outputs=layer.output)\n",
    "    intermediate_output = intermediate_layer_model.predict(featuresTest)\n",
    "    print(layer.name)\n",
    "    print(intermediate_output)"
   ]
  },
  {
   "cell_type": "code",
   "execution_count": 35,
   "id": "eb70d90e-e6e4-448c-87af-bb3657c48b33",
   "metadata": {
    "tags": []
   },
   "outputs": [
    {
     "name": "stdout",
     "output_type": "stream",
     "text": [
      "2/2 [==============================] - 0s 5ms/step - loss: 1206.6350 - accuracy: 0.0000e+00\n"
     ]
    },
    {
     "data": {
      "text/plain": [
       "[1206.635009765625, 0.0]"
      ]
     },
     "execution_count": 35,
     "metadata": {},
     "output_type": "execute_result"
    }
   ],
   "source": [
    "model.evaluate(featuresTest, labelsTest)"
   ]
  },
  {
   "cell_type": "code",
   "execution_count": 23,
   "id": "953c9e73-875f-4b49-b8fa-e561e842988c",
   "metadata": {
    "tags": []
   },
   "outputs": [],
   "source": [
    "def predFunc(openPrice, day, month, year, model=model):\n",
    "    inputArray = np.array([[openPrice, day, month, year]], dtype='float')\n",
    "    prediction = model.predict(inputArray)\n",
    "    return print(f\"Computed Predictions for ITC Limited on {day}/{month}/{year}.............\\n\"\n",
    "                 f\"High: {prediction[0][0]}\\nLow: {prediction[0][1]}\\nClose: {prediction[0][2]}\")"
   ]
  },
  {
   "cell_type": "code",
   "execution_count": 24,
   "id": "3bb7736f-1781-43ac-98fb-6f8c31ca8c46",
   "metadata": {
    "tags": []
   },
   "outputs": [],
   "source": [
    "from sklearn.preprocessing import MinMaxScaler\n",
    "\n",
    "def predict_prices(open_price, day, month, year, hours, minutes, model):\n",
    "    # Load the trained model\n",
    "    #model = tf.keras.models.load_model('my_model.h5')\n",
    "\n",
    "    # Scale the input features\n",
    "    input_data = np.array([[open_price, day, month, year, hours, minutes]])\n",
    "    scaler = MinMaxScaler()\n",
    "    input_data[:, 0] = scaler.fit_transform(input_data[:, 0].reshape(-1, 1)).flatten()\n",
    "\n",
    "    # Reshape the input data for the LSTM model\n",
    "    input_data = input_data.reshape(-1, 6, 1)\n",
    "\n",
    "    # Make a prediction using the LSTM model\n",
    "    predicted_price = model.predict(input_data)\n",
    "\n",
    "    # Inverse scale the predicted price\n",
    "    predicted_price = scaler.inverse_transform(predicted_price)\n",
    "\n",
    "    return predicted_price[0][0]"
   ]
  },
  {
   "cell_type": "code",
   "execution_count": 25,
   "id": "bc5faa9d-9ed5-41e3-8cc6-a475ee7d823a",
   "metadata": {
    "tags": []
   },
   "outputs": [
    {
     "name": "stdout",
     "output_type": "stream",
     "text": [
      "WARNING:tensorflow:6 out of the last 11 calls to <function Model.make_predict_function.<locals>.predict_function at 0x00000281710513F0> triggered tf.function retracing. Tracing is expensive and the excessive number of tracings could be due to (1) creating @tf.function repeatedly in a loop, (2) passing tensors with different shapes, (3) passing Python objects instead of tensors. For (1), please define your @tf.function outside of the loop. For (2), @tf.function has reduce_retracing=True option that can avoid unnecessary retracing. For (3), please refer to https://www.tensorflow.org/guide/function#controlling_retracing and https://www.tensorflow.org/api_docs/python/tf/function for  more details.\n",
      "1/1 [==============================] - 0s 51ms/step\n"
     ]
    },
    {
     "data": {
      "text/plain": [
       "400.3"
      ]
     },
     "execution_count": 25,
     "metadata": {},
     "output_type": "execute_result"
    }
   ],
   "source": [
    "predict_prices(400.3, 21, 4, 2023, 11, 54, model)"
   ]
  },
  {
   "cell_type": "code",
   "execution_count": 26,
   "id": "911176f3-ce4a-4be3-8d7c-9edd0f52bc7a",
   "metadata": {
    "tags": []
   },
   "outputs": [
    {
     "ename": "InvalidArgumentError",
     "evalue": "Graph execution error:\n\nDetected at node 'sequential/dense/MatMul' defined at (most recent call last):\n    File \"C:\\Users\\Rohan\\miniconda3\\lib\\runpy.py\", line 196, in _run_module_as_main\n      return _run_code(code, main_globals, None,\n    File \"C:\\Users\\Rohan\\miniconda3\\lib\\runpy.py\", line 86, in _run_code\n      exec(code, run_globals)\n    File \"C:\\Users\\Rohan\\miniconda3\\lib\\site-packages\\ipykernel_launcher.py\", line 17, in <module>\n      app.launch_new_instance()\n    File \"C:\\Users\\Rohan\\miniconda3\\lib\\site-packages\\traitlets\\config\\application.py\", line 1043, in launch_instance\n      app.start()\n    File \"C:\\Users\\Rohan\\miniconda3\\lib\\site-packages\\ipykernel\\kernelapp.py\", line 725, in start\n      self.io_loop.start()\n    File \"C:\\Users\\Rohan\\miniconda3\\lib\\site-packages\\tornado\\platform\\asyncio.py\", line 215, in start\n      self.asyncio_loop.run_forever()\n    File \"C:\\Users\\Rohan\\miniconda3\\lib\\asyncio\\base_events.py\", line 603, in run_forever\n      self._run_once()\n    File \"C:\\Users\\Rohan\\miniconda3\\lib\\asyncio\\base_events.py\", line 1906, in _run_once\n      handle._run()\n    File \"C:\\Users\\Rohan\\miniconda3\\lib\\asyncio\\events.py\", line 80, in _run\n      self._context.run(self._callback, *self._args)\n    File \"C:\\Users\\Rohan\\miniconda3\\lib\\site-packages\\ipykernel\\kernelbase.py\", line 513, in dispatch_queue\n      await self.process_one()\n    File \"C:\\Users\\Rohan\\miniconda3\\lib\\site-packages\\ipykernel\\kernelbase.py\", line 502, in process_one\n      await dispatch(*args)\n    File \"C:\\Users\\Rohan\\miniconda3\\lib\\site-packages\\ipykernel\\kernelbase.py\", line 409, in dispatch_shell\n      await result\n    File \"C:\\Users\\Rohan\\miniconda3\\lib\\site-packages\\ipykernel\\kernelbase.py\", line 729, in execute_request\n      reply_content = await reply_content\n    File \"C:\\Users\\Rohan\\miniconda3\\lib\\site-packages\\ipykernel\\ipkernel.py\", line 422, in do_execute\n      res = shell.run_cell(\n    File \"C:\\Users\\Rohan\\miniconda3\\lib\\site-packages\\ipykernel\\zmqshell.py\", line 540, in run_cell\n      return super().run_cell(*args, **kwargs)\n    File \"C:\\Users\\Rohan\\miniconda3\\lib\\site-packages\\IPython\\core\\interactiveshell.py\", line 3006, in run_cell\n      result = self._run_cell(\n    File \"C:\\Users\\Rohan\\miniconda3\\lib\\site-packages\\IPython\\core\\interactiveshell.py\", line 3061, in _run_cell\n      result = runner(coro)\n    File \"C:\\Users\\Rohan\\miniconda3\\lib\\site-packages\\IPython\\core\\async_helpers.py\", line 129, in _pseudo_sync_runner\n      coro.send(None)\n    File \"C:\\Users\\Rohan\\miniconda3\\lib\\site-packages\\IPython\\core\\interactiveshell.py\", line 3266, in run_cell_async\n      has_raised = await self.run_ast_nodes(code_ast.body, cell_name,\n    File \"C:\\Users\\Rohan\\miniconda3\\lib\\site-packages\\IPython\\core\\interactiveshell.py\", line 3445, in run_ast_nodes\n      if await self.run_code(code, result, async_=asy):\n    File \"C:\\Users\\Rohan\\miniconda3\\lib\\site-packages\\IPython\\core\\interactiveshell.py\", line 3505, in run_code\n      exec(code_obj, self.user_global_ns, self.user_ns)\n    File \"C:\\Users\\Rohan\\AppData\\Local\\Temp\\ipykernel_15388\\3955819876.py\", line 1, in <module>\n      model.predict([[400.3, 21, 3, 2023]])\n    File \"C:\\Users\\Rohan\\miniconda3\\lib\\site-packages\\keras\\utils\\traceback_utils.py\", line 65, in error_handler\n      return fn(*args, **kwargs)\n    File \"C:\\Users\\Rohan\\miniconda3\\lib\\site-packages\\keras\\engine\\training.py\", line 2253, in predict\n      tmp_batch_outputs = self.predict_function(iterator)\n    File \"C:\\Users\\Rohan\\miniconda3\\lib\\site-packages\\keras\\engine\\training.py\", line 2041, in predict_function\n      return step_function(self, iterator)\n    File \"C:\\Users\\Rohan\\miniconda3\\lib\\site-packages\\keras\\engine\\training.py\", line 2027, in step_function\n      outputs = model.distribute_strategy.run(run_step, args=(data,))\n    File \"C:\\Users\\Rohan\\miniconda3\\lib\\site-packages\\keras\\engine\\training.py\", line 2015, in run_step\n      outputs = model.predict_step(data)\n    File \"C:\\Users\\Rohan\\miniconda3\\lib\\site-packages\\keras\\engine\\training.py\", line 1983, in predict_step\n      return self(x, training=False)\n    File \"C:\\Users\\Rohan\\miniconda3\\lib\\site-packages\\keras\\utils\\traceback_utils.py\", line 65, in error_handler\n      return fn(*args, **kwargs)\n    File \"C:\\Users\\Rohan\\miniconda3\\lib\\site-packages\\keras\\engine\\training.py\", line 557, in __call__\n      return super().__call__(*args, **kwargs)\n    File \"C:\\Users\\Rohan\\miniconda3\\lib\\site-packages\\keras\\utils\\traceback_utils.py\", line 65, in error_handler\n      return fn(*args, **kwargs)\n    File \"C:\\Users\\Rohan\\miniconda3\\lib\\site-packages\\keras\\engine\\base_layer.py\", line 1097, in __call__\n      outputs = call_fn(inputs, *args, **kwargs)\n    File \"C:\\Users\\Rohan\\miniconda3\\lib\\site-packages\\keras\\utils\\traceback_utils.py\", line 96, in error_handler\n      return fn(*args, **kwargs)\n    File \"C:\\Users\\Rohan\\miniconda3\\lib\\site-packages\\keras\\engine\\sequential.py\", line 410, in call\n      return super().call(inputs, training=training, mask=mask)\n    File \"C:\\Users\\Rohan\\miniconda3\\lib\\site-packages\\keras\\engine\\functional.py\", line 510, in call\n      return self._run_internal_graph(inputs, training=training, mask=mask)\n    File \"C:\\Users\\Rohan\\miniconda3\\lib\\site-packages\\keras\\engine\\functional.py\", line 667, in _run_internal_graph\n      outputs = node.layer(*args, **kwargs)\n    File \"C:\\Users\\Rohan\\miniconda3\\lib\\site-packages\\keras\\utils\\traceback_utils.py\", line 65, in error_handler\n      return fn(*args, **kwargs)\n    File \"C:\\Users\\Rohan\\miniconda3\\lib\\site-packages\\keras\\engine\\base_layer.py\", line 1097, in __call__\n      outputs = call_fn(inputs, *args, **kwargs)\n    File \"C:\\Users\\Rohan\\miniconda3\\lib\\site-packages\\keras\\utils\\traceback_utils.py\", line 96, in error_handler\n      return fn(*args, **kwargs)\n    File \"C:\\Users\\Rohan\\miniconda3\\lib\\site-packages\\keras\\layers\\core\\dense.py\", line 241, in call\n      outputs = tf.matmul(a=inputs, b=self.kernel)\nNode: 'sequential/dense/MatMul'\nMatrix size-incompatible: In[0]: [1,4], In[1]: [6,2160]\n\t [[{{node sequential/dense/MatMul}}]] [Op:__inference_predict_function_11710]",
     "output_type": "error",
     "traceback": [
      "\u001b[1;31m---------------------------------------------------------------------------\u001b[0m",
      "\u001b[1;31mInvalidArgumentError\u001b[0m                      Traceback (most recent call last)",
      "Cell \u001b[1;32mIn[26], line 1\u001b[0m\n\u001b[1;32m----> 1\u001b[0m \u001b[43mmodel\u001b[49m\u001b[38;5;241;43m.\u001b[39;49m\u001b[43mpredict\u001b[49m\u001b[43m(\u001b[49m\u001b[43m[\u001b[49m\u001b[43m[\u001b[49m\u001b[38;5;241;43m400.3\u001b[39;49m\u001b[43m,\u001b[49m\u001b[43m \u001b[49m\u001b[38;5;241;43m21\u001b[39;49m\u001b[43m,\u001b[49m\u001b[43m \u001b[49m\u001b[38;5;241;43m3\u001b[39;49m\u001b[43m,\u001b[49m\u001b[43m \u001b[49m\u001b[38;5;241;43m2023\u001b[39;49m\u001b[43m]\u001b[49m\u001b[43m]\u001b[49m\u001b[43m)\u001b[49m\n",
      "File \u001b[1;32m~\\miniconda3\\lib\\site-packages\\keras\\utils\\traceback_utils.py:70\u001b[0m, in \u001b[0;36mfilter_traceback.<locals>.error_handler\u001b[1;34m(*args, **kwargs)\u001b[0m\n\u001b[0;32m     67\u001b[0m     filtered_tb \u001b[38;5;241m=\u001b[39m _process_traceback_frames(e\u001b[38;5;241m.\u001b[39m__traceback__)\n\u001b[0;32m     68\u001b[0m     \u001b[38;5;66;03m# To get the full stack trace, call:\u001b[39;00m\n\u001b[0;32m     69\u001b[0m     \u001b[38;5;66;03m# `tf.debugging.disable_traceback_filtering()`\u001b[39;00m\n\u001b[1;32m---> 70\u001b[0m     \u001b[38;5;28;01mraise\u001b[39;00m e\u001b[38;5;241m.\u001b[39mwith_traceback(filtered_tb) \u001b[38;5;28;01mfrom\u001b[39;00m \u001b[38;5;28mNone\u001b[39m\n\u001b[0;32m     71\u001b[0m \u001b[38;5;28;01mfinally\u001b[39;00m:\n\u001b[0;32m     72\u001b[0m     \u001b[38;5;28;01mdel\u001b[39;00m filtered_tb\n",
      "File \u001b[1;32m~\\miniconda3\\lib\\site-packages\\tensorflow\\python\\eager\\execute.py:54\u001b[0m, in \u001b[0;36mquick_execute\u001b[1;34m(op_name, num_outputs, inputs, attrs, ctx, name)\u001b[0m\n\u001b[0;32m     52\u001b[0m \u001b[38;5;28;01mtry\u001b[39;00m:\n\u001b[0;32m     53\u001b[0m   ctx\u001b[38;5;241m.\u001b[39mensure_initialized()\n\u001b[1;32m---> 54\u001b[0m   tensors \u001b[38;5;241m=\u001b[39m pywrap_tfe\u001b[38;5;241m.\u001b[39mTFE_Py_Execute(ctx\u001b[38;5;241m.\u001b[39m_handle, device_name, op_name,\n\u001b[0;32m     55\u001b[0m                                       inputs, attrs, num_outputs)\n\u001b[0;32m     56\u001b[0m \u001b[38;5;28;01mexcept\u001b[39;00m core\u001b[38;5;241m.\u001b[39m_NotOkStatusException \u001b[38;5;28;01mas\u001b[39;00m e:\n\u001b[0;32m     57\u001b[0m   \u001b[38;5;28;01mif\u001b[39;00m name \u001b[38;5;129;01mis\u001b[39;00m \u001b[38;5;129;01mnot\u001b[39;00m \u001b[38;5;28;01mNone\u001b[39;00m:\n",
      "\u001b[1;31mInvalidArgumentError\u001b[0m: Graph execution error:\n\nDetected at node 'sequential/dense/MatMul' defined at (most recent call last):\n    File \"C:\\Users\\Rohan\\miniconda3\\lib\\runpy.py\", line 196, in _run_module_as_main\n      return _run_code(code, main_globals, None,\n    File \"C:\\Users\\Rohan\\miniconda3\\lib\\runpy.py\", line 86, in _run_code\n      exec(code, run_globals)\n    File \"C:\\Users\\Rohan\\miniconda3\\lib\\site-packages\\ipykernel_launcher.py\", line 17, in <module>\n      app.launch_new_instance()\n    File \"C:\\Users\\Rohan\\miniconda3\\lib\\site-packages\\traitlets\\config\\application.py\", line 1043, in launch_instance\n      app.start()\n    File \"C:\\Users\\Rohan\\miniconda3\\lib\\site-packages\\ipykernel\\kernelapp.py\", line 725, in start\n      self.io_loop.start()\n    File \"C:\\Users\\Rohan\\miniconda3\\lib\\site-packages\\tornado\\platform\\asyncio.py\", line 215, in start\n      self.asyncio_loop.run_forever()\n    File \"C:\\Users\\Rohan\\miniconda3\\lib\\asyncio\\base_events.py\", line 603, in run_forever\n      self._run_once()\n    File \"C:\\Users\\Rohan\\miniconda3\\lib\\asyncio\\base_events.py\", line 1906, in _run_once\n      handle._run()\n    File \"C:\\Users\\Rohan\\miniconda3\\lib\\asyncio\\events.py\", line 80, in _run\n      self._context.run(self._callback, *self._args)\n    File \"C:\\Users\\Rohan\\miniconda3\\lib\\site-packages\\ipykernel\\kernelbase.py\", line 513, in dispatch_queue\n      await self.process_one()\n    File \"C:\\Users\\Rohan\\miniconda3\\lib\\site-packages\\ipykernel\\kernelbase.py\", line 502, in process_one\n      await dispatch(*args)\n    File \"C:\\Users\\Rohan\\miniconda3\\lib\\site-packages\\ipykernel\\kernelbase.py\", line 409, in dispatch_shell\n      await result\n    File \"C:\\Users\\Rohan\\miniconda3\\lib\\site-packages\\ipykernel\\kernelbase.py\", line 729, in execute_request\n      reply_content = await reply_content\n    File \"C:\\Users\\Rohan\\miniconda3\\lib\\site-packages\\ipykernel\\ipkernel.py\", line 422, in do_execute\n      res = shell.run_cell(\n    File \"C:\\Users\\Rohan\\miniconda3\\lib\\site-packages\\ipykernel\\zmqshell.py\", line 540, in run_cell\n      return super().run_cell(*args, **kwargs)\n    File \"C:\\Users\\Rohan\\miniconda3\\lib\\site-packages\\IPython\\core\\interactiveshell.py\", line 3006, in run_cell\n      result = self._run_cell(\n    File \"C:\\Users\\Rohan\\miniconda3\\lib\\site-packages\\IPython\\core\\interactiveshell.py\", line 3061, in _run_cell\n      result = runner(coro)\n    File \"C:\\Users\\Rohan\\miniconda3\\lib\\site-packages\\IPython\\core\\async_helpers.py\", line 129, in _pseudo_sync_runner\n      coro.send(None)\n    File \"C:\\Users\\Rohan\\miniconda3\\lib\\site-packages\\IPython\\core\\interactiveshell.py\", line 3266, in run_cell_async\n      has_raised = await self.run_ast_nodes(code_ast.body, cell_name,\n    File \"C:\\Users\\Rohan\\miniconda3\\lib\\site-packages\\IPython\\core\\interactiveshell.py\", line 3445, in run_ast_nodes\n      if await self.run_code(code, result, async_=asy):\n    File \"C:\\Users\\Rohan\\miniconda3\\lib\\site-packages\\IPython\\core\\interactiveshell.py\", line 3505, in run_code\n      exec(code_obj, self.user_global_ns, self.user_ns)\n    File \"C:\\Users\\Rohan\\AppData\\Local\\Temp\\ipykernel_15388\\3955819876.py\", line 1, in <module>\n      model.predict([[400.3, 21, 3, 2023]])\n    File \"C:\\Users\\Rohan\\miniconda3\\lib\\site-packages\\keras\\utils\\traceback_utils.py\", line 65, in error_handler\n      return fn(*args, **kwargs)\n    File \"C:\\Users\\Rohan\\miniconda3\\lib\\site-packages\\keras\\engine\\training.py\", line 2253, in predict\n      tmp_batch_outputs = self.predict_function(iterator)\n    File \"C:\\Users\\Rohan\\miniconda3\\lib\\site-packages\\keras\\engine\\training.py\", line 2041, in predict_function\n      return step_function(self, iterator)\n    File \"C:\\Users\\Rohan\\miniconda3\\lib\\site-packages\\keras\\engine\\training.py\", line 2027, in step_function\n      outputs = model.distribute_strategy.run(run_step, args=(data,))\n    File \"C:\\Users\\Rohan\\miniconda3\\lib\\site-packages\\keras\\engine\\training.py\", line 2015, in run_step\n      outputs = model.predict_step(data)\n    File \"C:\\Users\\Rohan\\miniconda3\\lib\\site-packages\\keras\\engine\\training.py\", line 1983, in predict_step\n      return self(x, training=False)\n    File \"C:\\Users\\Rohan\\miniconda3\\lib\\site-packages\\keras\\utils\\traceback_utils.py\", line 65, in error_handler\n      return fn(*args, **kwargs)\n    File \"C:\\Users\\Rohan\\miniconda3\\lib\\site-packages\\keras\\engine\\training.py\", line 557, in __call__\n      return super().__call__(*args, **kwargs)\n    File \"C:\\Users\\Rohan\\miniconda3\\lib\\site-packages\\keras\\utils\\traceback_utils.py\", line 65, in error_handler\n      return fn(*args, **kwargs)\n    File \"C:\\Users\\Rohan\\miniconda3\\lib\\site-packages\\keras\\engine\\base_layer.py\", line 1097, in __call__\n      outputs = call_fn(inputs, *args, **kwargs)\n    File \"C:\\Users\\Rohan\\miniconda3\\lib\\site-packages\\keras\\utils\\traceback_utils.py\", line 96, in error_handler\n      return fn(*args, **kwargs)\n    File \"C:\\Users\\Rohan\\miniconda3\\lib\\site-packages\\keras\\engine\\sequential.py\", line 410, in call\n      return super().call(inputs, training=training, mask=mask)\n    File \"C:\\Users\\Rohan\\miniconda3\\lib\\site-packages\\keras\\engine\\functional.py\", line 510, in call\n      return self._run_internal_graph(inputs, training=training, mask=mask)\n    File \"C:\\Users\\Rohan\\miniconda3\\lib\\site-packages\\keras\\engine\\functional.py\", line 667, in _run_internal_graph\n      outputs = node.layer(*args, **kwargs)\n    File \"C:\\Users\\Rohan\\miniconda3\\lib\\site-packages\\keras\\utils\\traceback_utils.py\", line 65, in error_handler\n      return fn(*args, **kwargs)\n    File \"C:\\Users\\Rohan\\miniconda3\\lib\\site-packages\\keras\\engine\\base_layer.py\", line 1097, in __call__\n      outputs = call_fn(inputs, *args, **kwargs)\n    File \"C:\\Users\\Rohan\\miniconda3\\lib\\site-packages\\keras\\utils\\traceback_utils.py\", line 96, in error_handler\n      return fn(*args, **kwargs)\n    File \"C:\\Users\\Rohan\\miniconda3\\lib\\site-packages\\keras\\layers\\core\\dense.py\", line 241, in call\n      outputs = tf.matmul(a=inputs, b=self.kernel)\nNode: 'sequential/dense/MatMul'\nMatrix size-incompatible: In[0]: [1,4], In[1]: [6,2160]\n\t [[{{node sequential/dense/MatMul}}]] [Op:__inference_predict_function_11710]"
     ]
    }
   ],
   "source": [
    "model.predict([[400.3, 21, 3, 2023]])"
   ]
  },
  {
   "cell_type": "code",
   "execution_count": 36,
   "id": "bc1660f4-8b3c-4965-8d4f-aeb217c14e95",
   "metadata": {},
   "outputs": [
    {
     "name": "stdout",
     "output_type": "stream",
     "text": [
      "15/15 [==============================] - 0s 2ms/step\n"
     ]
    }
   ],
   "source": [
    "predictions= model.predict(features)"
   ]
  },
  {
   "cell_type": "code",
   "execution_count": 37,
   "id": "c929e184-2a09-457b-9701-92d158e3357c",
   "metadata": {
    "tags": []
   },
   "outputs": [
    {
     "data": {
      "text/html": [
       "<div>\n",
       "<style scoped>\n",
       "    .dataframe tbody tr th:only-of-type {\n",
       "        vertical-align: middle;\n",
       "    }\n",
       "\n",
       "    .dataframe tbody tr th {\n",
       "        vertical-align: top;\n",
       "    }\n",
       "\n",
       "    .dataframe thead th {\n",
       "        text-align: right;\n",
       "    }\n",
       "</style>\n",
       "<table border=\"1\" class=\"dataframe\">\n",
       "  <thead>\n",
       "    <tr style=\"text-align: right;\">\n",
       "      <th></th>\n",
       "      <th>highPred</th>\n",
       "      <th>lowPred</th>\n",
       "      <th>closePred</th>\n",
       "    </tr>\n",
       "  </thead>\n",
       "  <tbody>\n",
       "    <tr>\n",
       "      <th>0</th>\n",
       "      <td>16223.211914</td>\n",
       "      <td>16200.054688</td>\n",
       "      <td>16249.049805</td>\n",
       "    </tr>\n",
       "    <tr>\n",
       "      <th>1</th>\n",
       "      <td>16134.468750</td>\n",
       "      <td>16111.427734</td>\n",
       "      <td>16160.127930</td>\n",
       "    </tr>\n",
       "  </tbody>\n",
       "</table>\n",
       "</div>"
      ],
      "text/plain": [
       "       highPred       lowPred     closePred\n",
       "0  16223.211914  16200.054688  16249.049805\n",
       "1  16134.468750  16111.427734  16160.127930"
      ]
     },
     "execution_count": 37,
     "metadata": {},
     "output_type": "execute_result"
    }
   ],
   "source": [
    "predDF= pd.DataFrame(predictions, columns=['highPred', 'lowPred', 'closePred'])\n",
    "predDF.head(2)"
   ]
  },
  {
   "cell_type": "code",
   "execution_count": 38,
   "id": "d8ff0a1f-0933-403b-993b-ad94c75ebbd8",
   "metadata": {},
   "outputs": [],
   "source": [
    "#model.save(f\"../exports/itcStockPred(v2)\")"
   ]
  },
  {
   "cell_type": "markdown",
   "id": "24cfa167-e86e-42c0-9e19-f869fcd45a3a",
   "metadata": {
    "tags": []
   },
   "source": [
    "# Comparison between actual and predicted values"
   ]
  },
  {
   "cell_type": "code",
   "execution_count": 39,
   "id": "2cf3e789-e3c5-4f68-80af-aa0eadd33261",
   "metadata": {},
   "outputs": [],
   "source": [
    "import seaborn as sns"
   ]
  },
  {
   "cell_type": "code",
   "execution_count": 40,
   "id": "eb201c18-9df7-4c64-a0c5-dcf1a84af6cc",
   "metadata": {
    "tags": []
   },
   "outputs": [
    {
     "data": {
      "image/png": "[encoded data removed]",
      "text/plain": [
       "<Figure size 1600x800 with 1 Axes>"
      ]
     },
     "metadata": {},
     "output_type": "display_data"
    }
   ],
   "source": [
    "plt.figure(figsize=(16,8))\n",
    "sns.lineplot(x=data['Date'], y=labels['Close'], label= 'Close')\n",
    "sns.lineplot(x=data['Date'], y=predDF['closePred'], label= 'Close (Predicted)')\n",
    "plt.legend(title= 'Legend')\n",
    "plt.show()"
   ]
  },
  {
   "cell_type": "code",
   "execution_count": null,
   "id": "f1f7d569-775d-4064-b145-c7c2184f7c02",
   "metadata": {
    "tags": []
   },
   "outputs": [],
   "source": [
    "plt.figure(figsize=(16,8))\n",
    "sns.lineplot(x=data['Date'], y=labels['High'], label= 'High')\n",
    "sns.lineplot(x=data['Date'], y=predDF['highPred'], label= 'High (Predicted)')\n",
    "plt.legend(title= 'Legend')\n",
    "plt.show()"
   ]
  },
  {
   "cell_type": "code",
   "execution_count": null,
   "id": "76e32534-c0d0-4a84-9fe2-807db6d252b1",
   "metadata": {
    "tags": []
   },
   "outputs": [],
   "source": [
    "plt.figure(figsize=(16,8))\n",
    "sns.lineplot(x=data['Date'], y=labels['Low'], label= 'Low')\n",
    "sns.lineplot(x=data['Date'], y=predDF['lowPred'], label= 'Low (Predicted)')\n",
    "plt.legend(title= 'Legend')\n",
    "plt.show()"
   ]
  },
  {
   "cell_type": "code",
   "execution_count": null,
   "id": "2d4ec8fe-e108-4fd5-8822-8b6b9953ee25",
   "metadata": {},
   "outputs": [],
   "source": []
  }
 ],
 "metadata": {
  "kernelspec": {
   "display_name": "Python 3 (ipykernel)",
   "language": "python",
   "name": "python3"
  },
  "language_info": {
   "codemirror_mode": {
    "name": "ipython",
    "version": 3
   },
   "file_extension": ".py",
   "mimetype": "text/x-python",
   "name": "python",
   "nbconvert_exporter": "python",
   "pygments_lexer": "ipython3",
   "version": "3.10.9"
  }
 },
 "nbformat": 4,
 "nbformat_minor": 5
}
