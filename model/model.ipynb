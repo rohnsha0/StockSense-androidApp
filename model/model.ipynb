{
 "cells": [
  {
   "cell_type": "code",
   "execution_count": 1,
   "id": "71b7d6a8-d691-4bb8-973f-f9c688ca6fd9",
   "metadata": {
    "tags": []
   },
   "outputs": [],
   "source": [
    "import numpy as np\n",
    "import pandas as pd\n",
    "import yfinance as yf\n",
    "import datetime"
   ]
  },
  {
   "cell_type": "code",
   "execution_count": 2,
   "id": "3b5de86d-79cb-44ac-9c46-ce6408007bf4",
   "metadata": {
    "tags": []
   },
   "outputs": [],
   "source": [
    "company= 'KOTAKBANK.NS'\n",
    "endDate= '2023-01-26'"
   ]
  },
  {
   "cell_type": "code",
   "execution_count": 3,
   "id": "ab3ac44a-8cb7-49a5-a910-e0391aa726e7",
   "metadata": {
    "tags": []
   },
   "outputs": [
    {
     "name": "stdout",
     "output_type": "stream",
     "text": [
      "[*********************100%***********************]  1 of 1 completed\n"
     ]
    },
    {
     "data": {
      "text/html": [
       "<div>\n",
       "<style scoped>\n",
       "    .dataframe tbody tr th:only-of-type {\n",
       "        vertical-align: middle;\n",
       "    }\n",
       "\n",
       "    .dataframe tbody tr th {\n",
       "        vertical-align: top;\n",
       "    }\n",
       "\n",
       "    .dataframe thead th {\n",
       "        text-align: right;\n",
       "    }\n",
       "</style>\n",
       "<table border=\"1\" class=\"dataframe\">\n",
       "  <thead>\n",
       "    <tr style=\"text-align: right;\">\n",
       "      <th></th>\n",
       "      <th>Open</th>\n",
       "      <th>High</th>\n",
       "      <th>Low</th>\n",
       "      <th>Close</th>\n",
       "      <th>Adj Close</th>\n",
       "      <th>Volume</th>\n",
       "    </tr>\n",
       "    <tr>\n",
       "      <th>Date</th>\n",
       "      <th></th>\n",
       "      <th></th>\n",
       "      <th></th>\n",
       "      <th></th>\n",
       "      <th></th>\n",
       "      <th></th>\n",
       "    </tr>\n",
       "  </thead>\n",
       "  <tbody>\n",
       "    <tr>\n",
       "      <th>2001-07-02</th>\n",
       "      <td>2.402500</td>\n",
       "      <td>2.475000</td>\n",
       "      <td>2.4000</td>\n",
       "      <td>2.402500</td>\n",
       "      <td>2.225060</td>\n",
       "      <td>110800</td>\n",
       "    </tr>\n",
       "    <tr>\n",
       "      <th>2001-07-03</th>\n",
       "      <td>2.475000</td>\n",
       "      <td>2.475000</td>\n",
       "      <td>2.3750</td>\n",
       "      <td>2.400000</td>\n",
       "      <td>2.222745</td>\n",
       "      <td>77520</td>\n",
       "    </tr>\n",
       "    <tr>\n",
       "      <th>2001-07-04</th>\n",
       "      <td>2.425000</td>\n",
       "      <td>2.450000</td>\n",
       "      <td>2.3875</td>\n",
       "      <td>2.420000</td>\n",
       "      <td>2.241268</td>\n",
       "      <td>49360</td>\n",
       "    </tr>\n",
       "    <tr>\n",
       "      <th>2001-07-05</th>\n",
       "      <td>2.450000</td>\n",
       "      <td>2.472500</td>\n",
       "      <td>2.4000</td>\n",
       "      <td>2.415000</td>\n",
       "      <td>2.236637</td>\n",
       "      <td>62700</td>\n",
       "    </tr>\n",
       "    <tr>\n",
       "      <th>2001-07-06</th>\n",
       "      <td>2.425000</td>\n",
       "      <td>2.425000</td>\n",
       "      <td>2.3500</td>\n",
       "      <td>2.400000</td>\n",
       "      <td>2.222745</td>\n",
       "      <td>117800</td>\n",
       "    </tr>\n",
       "    <tr>\n",
       "      <th>...</th>\n",
       "      <td>...</td>\n",
       "      <td>...</td>\n",
       "      <td>...</td>\n",
       "      <td>...</td>\n",
       "      <td>...</td>\n",
       "      <td>...</td>\n",
       "    </tr>\n",
       "    <tr>\n",
       "      <th>2023-01-19</th>\n",
       "      <td>1803.500000</td>\n",
       "      <td>1803.500000</td>\n",
       "      <td>1765.0000</td>\n",
       "      <td>1767.300049</td>\n",
       "      <td>1767.300049</td>\n",
       "      <td>4425644</td>\n",
       "    </tr>\n",
       "    <tr>\n",
       "      <th>2023-01-20</th>\n",
       "      <td>1778.900024</td>\n",
       "      <td>1778.900024</td>\n",
       "      <td>1757.0000</td>\n",
       "      <td>1762.900024</td>\n",
       "      <td>1762.900024</td>\n",
       "      <td>4270294</td>\n",
       "    </tr>\n",
       "    <tr>\n",
       "      <th>2023-01-23</th>\n",
       "      <td>1790.000000</td>\n",
       "      <td>1799.650024</td>\n",
       "      <td>1770.0000</td>\n",
       "      <td>1783.750000</td>\n",
       "      <td>1783.750000</td>\n",
       "      <td>7764627</td>\n",
       "    </tr>\n",
       "    <tr>\n",
       "      <th>2023-01-24</th>\n",
       "      <td>1792.699951</td>\n",
       "      <td>1792.699951</td>\n",
       "      <td>1748.7500</td>\n",
       "      <td>1760.250000</td>\n",
       "      <td>1760.250000</td>\n",
       "      <td>4159188</td>\n",
       "    </tr>\n",
       "    <tr>\n",
       "      <th>2023-01-25</th>\n",
       "      <td>1757.000000</td>\n",
       "      <td>1760.400024</td>\n",
       "      <td>1733.0000</td>\n",
       "      <td>1749.800049</td>\n",
       "      <td>1749.800049</td>\n",
       "      <td>4280333</td>\n",
       "    </tr>\n",
       "  </tbody>\n",
       "</table>\n",
       "<p>5372 rows × 6 columns</p>\n",
       "</div>"
      ],
      "text/plain": [
       "                   Open         High        Low        Close    Adj Close   \n",
       "Date                                                                        \n",
       "2001-07-02     2.402500     2.475000     2.4000     2.402500     2.225060  \\\n",
       "2001-07-03     2.475000     2.475000     2.3750     2.400000     2.222745   \n",
       "2001-07-04     2.425000     2.450000     2.3875     2.420000     2.241268   \n",
       "2001-07-05     2.450000     2.472500     2.4000     2.415000     2.236637   \n",
       "2001-07-06     2.425000     2.425000     2.3500     2.400000     2.222745   \n",
       "...                 ...          ...        ...          ...          ...   \n",
       "2023-01-19  1803.500000  1803.500000  1765.0000  1767.300049  1767.300049   \n",
       "2023-01-20  1778.900024  1778.900024  1757.0000  1762.900024  1762.900024   \n",
       "2023-01-23  1790.000000  1799.650024  1770.0000  1783.750000  1783.750000   \n",
       "2023-01-24  1792.699951  1792.699951  1748.7500  1760.250000  1760.250000   \n",
       "2023-01-25  1757.000000  1760.400024  1733.0000  1749.800049  1749.800049   \n",
       "\n",
       "             Volume  \n",
       "Date                 \n",
       "2001-07-02   110800  \n",
       "2001-07-03    77520  \n",
       "2001-07-04    49360  \n",
       "2001-07-05    62700  \n",
       "2001-07-06   117800  \n",
       "...             ...  \n",
       "2023-01-19  4425644  \n",
       "2023-01-20  4270294  \n",
       "2023-01-23  7764627  \n",
       "2023-01-24  4159188  \n",
       "2023-01-25  4280333  \n",
       "\n",
       "[5372 rows x 6 columns]"
      ]
     },
     "execution_count": 3,
     "metadata": {},
     "output_type": "execute_result"
    }
   ],
   "source": [
    "df= yf.download(company, period='max', end= endDate)\n",
    "df"
   ]
  },
  {
   "cell_type": "code",
   "execution_count": 4,
   "id": "befab8ef-6962-4fd4-868d-981004658ce4",
   "metadata": {
    "tags": []
   },
   "outputs": [],
   "source": [
    "trainSet= df.iloc[:, 1:2].values"
   ]
  },
  {
   "cell_type": "code",
   "execution_count": 5,
   "id": "4290e156-96af-4c1f-a302-15f2466d37e0",
   "metadata": {
    "tags": []
   },
   "outputs": [
    {
     "data": {
      "text/plain": [
       "(5372, 6)"
      ]
     },
     "execution_count": 5,
     "metadata": {},
     "output_type": "execute_result"
    }
   ],
   "source": [
    "df.shape"
   ]
  },
  {
   "cell_type": "code",
   "execution_count": 6,
   "id": "79b9ef41-ffae-4acb-9681-1da999bbff45",
   "metadata": {
    "tags": []
   },
   "outputs": [],
   "source": [
    "from sklearn.preprocessing import MinMaxScaler\n",
    "\n",
    "scaler= MinMaxScaler(feature_range=(0,1))"
   ]
  },
  {
   "cell_type": "code",
   "execution_count": 7,
   "id": "fb00b60f-d14f-42ad-b9fc-9271b12a8ff5",
   "metadata": {
    "tags": []
   },
   "outputs": [],
   "source": [
    "trainingSetScaled= scaler.fit_transform(df['Close'].values.reshape(-1,1))"
   ]
  },
  {
   "cell_type": "code",
   "execution_count": 8,
   "id": "8fab11b9-c797-41da-92ef-5290ae68928f",
   "metadata": {
    "tags": []
   },
   "outputs": [],
   "source": [
    "xTRAIN = []\n",
    "yTRAIN = []\n",
    "\n",
    "for i in range(60, len(trainingSetScaled)):\n",
    "    xTRAIN.append(trainingSetScaled[i-60:i, 0])\n",
    "    yTRAIN.append(trainingSetScaled[i, 0])\n",
    "    \n",
    "xTRAIN, yTRAIN= np.array(xTRAIN), np.array(yTRAIN)"
   ]
  },
  {
   "cell_type": "code",
   "execution_count": 9,
   "id": "cbd8001b-4a0a-4fd2-9065-b29386bc062b",
   "metadata": {
    "tags": []
   },
   "outputs": [],
   "source": [
    "xTRAIN= np.reshape(xTRAIN, newshape=(xTRAIN.shape[0], xTRAIN.shape[1], 1))"
   ]
  },
  {
   "cell_type": "code",
   "execution_count": 10,
   "id": "94428c54-0d8b-4ac5-8d29-95fbe0eb9256",
   "metadata": {
    "tags": []
   },
   "outputs": [
    {
     "data": {
      "text/plain": [
       "(5372, 1)"
      ]
     },
     "execution_count": 10,
     "metadata": {},
     "output_type": "execute_result"
    }
   ],
   "source": [
    "trainingSetScaled.shape"
   ]
  },
  {
   "cell_type": "code",
   "execution_count": 11,
   "id": "aa2e976f-2662-4a65-9906-2bcfa27011f8",
   "metadata": {
    "tags": []
   },
   "outputs": [
    {
     "data": {
      "text/plain": [
       "(5312, 60, 1)"
      ]
     },
     "execution_count": 11,
     "metadata": {},
     "output_type": "execute_result"
    }
   ],
   "source": [
    "xTRAIN.shape"
   ]
  },
  {
   "cell_type": "code",
   "execution_count": 12,
   "id": "2348c85d-8b88-4cce-bd14-1c54a71bef66",
   "metadata": {
    "tags": []
   },
   "outputs": [
    {
     "data": {
      "text/plain": [
       "(5312,)"
      ]
     },
     "execution_count": 12,
     "metadata": {},
     "output_type": "execute_result"
    }
   ],
   "source": [
    "yTRAIN.shape"
   ]
  },
  {
   "cell_type": "code",
   "execution_count": 13,
   "id": "5e6b1462-26e3-4444-bdb6-b8a67b2853e6",
   "metadata": {
    "tags": []
   },
   "outputs": [],
   "source": [
    "import tensorflow as tf\n",
    "from tensorflow import keras"
   ]
  },
  {
   "cell_type": "code",
   "execution_count": 61,
   "id": "d182ec53-6429-4327-a724-f1bf5c1d2ec8",
   "metadata": {
    "tags": []
   },
   "outputs": [],
   "source": [
    "regressor= keras.models.Sequential([\n",
    "    keras.layers.LSTM(units=70, return_sequences= True, input_shape= (xTRAIN.shape[1], 1)),\n",
    "    keras.layers.Dropout(rate= 0.2),\n",
    "    keras.layers.LSTM(units=64, return_sequences= True), \n",
    "    keras.layers.Dropout(rate= 0.2),\n",
    "    keras.layers.LSTM(units=55), \n",
    "    keras.layers.Dropout(rate= 0.2),\n",
    "    keras.layers.Dense(units= 1)\n",
    "])"
   ]
  },
  {
   "cell_type": "code",
   "execution_count": 62,
   "id": "0a41add4-812a-4cf4-8eb4-74f70717b4e2",
   "metadata": {
    "tags": []
   },
   "outputs": [
    {
     "name": "stdout",
     "output_type": "stream",
     "text": [
      "Model: \"sequential_2\"\n",
      "_________________________________________________________________\n",
      " Layer (type)                Output Shape              Param #   \n",
      "=================================================================\n",
      " lstm_6 (LSTM)               (None, 60, 70)            20160     \n",
      "                                                                 \n",
      " dropout_6 (Dropout)         (None, 60, 70)            0         \n",
      "                                                                 \n",
      " lstm_7 (LSTM)               (None, 60, 64)            34560     \n",
      "                                                                 \n",
      " dropout_7 (Dropout)         (None, 60, 64)            0         \n",
      "                                                                 \n",
      " lstm_8 (LSTM)               (None, 55)                26400     \n",
      "                                                                 \n",
      " dropout_8 (Dropout)         (None, 55)                0         \n",
      "                                                                 \n",
      " dense_2 (Dense)             (None, 1)                 56        \n",
      "                                                                 \n",
      "=================================================================\n",
      "Total params: 81,176\n",
      "Trainable params: 81,176\n",
      "Non-trainable params: 0\n",
      "_________________________________________________________________\n"
     ]
    }
   ],
   "source": [
    "regressor.summary()"
   ]
  },
  {
   "cell_type": "code",
   "execution_count": 63,
   "id": "fefcacef-bb27-46b4-9c0a-ba9dc874ff36",
   "metadata": {
    "tags": []
   },
   "outputs": [],
   "source": [
    "regressor.compile(optimizer= 'adam', loss= keras.losses.mean_squared_error)"
   ]
  },
  {
   "cell_type": "code",
   "execution_count": null,
   "id": "941f7d2e-5cd5-4a22-8c08-17d610181f14",
   "metadata": {
    "tags": []
   },
   "outputs": [
    {
     "name": "stdout",
     "output_type": "stream",
     "text": [
      "Epoch 1/100\n",
      "166/166 [==============================] - 9s 40ms/step - loss: 0.0038\n",
      "Epoch 2/100\n",
      "166/166 [==============================] - 7s 41ms/step - loss: 0.0016\n",
      "Epoch 3/100\n",
      "166/166 [==============================] - 7s 39ms/step - loss: 0.0014\n",
      "Epoch 4/100\n",
      "166/166 [==============================] - 7s 40ms/step - loss: 0.0013\n",
      "Epoch 5/100\n",
      "166/166 [==============================] - 7s 41ms/step - loss: 0.0012\n",
      "Epoch 6/100\n",
      "166/166 [==============================] - 7s 40ms/step - loss: 0.0011\n",
      "Epoch 7/100\n",
      "166/166 [==============================] - 7s 40ms/step - loss: 0.0010\n",
      "Epoch 8/100\n",
      "166/166 [==============================] - 7s 40ms/step - loss: 9.9448e-04\n",
      "Epoch 9/100\n",
      "166/166 [==============================] - 7s 40ms/step - loss: 9.3126e-04\n",
      "Epoch 10/100\n",
      "166/166 [==============================] - 7s 40ms/step - loss: 0.0010\n",
      "Epoch 11/100\n",
      "166/166 [==============================] - 7s 40ms/step - loss: 9.0046e-04\n",
      "Epoch 12/100\n",
      "166/166 [==============================] - 7s 43ms/step - loss: 9.4420e-04\n",
      "Epoch 13/100\n",
      "166/166 [==============================] - 7s 39ms/step - loss: 8.5591e-04\n",
      "Epoch 14/100\n",
      "166/166 [==============================] - 7s 41ms/step - loss: 8.4482e-04\n",
      "Epoch 15/100\n",
      "166/166 [==============================] - 7s 41ms/step - loss: 7.8848e-04\n",
      "Epoch 16/100\n",
      "166/166 [==============================] - 7s 40ms/step - loss: 7.9699e-04\n",
      "Epoch 17/100\n",
      "166/166 [==============================] - 7s 41ms/step - loss: 8.2781e-04\n",
      "Epoch 18/100\n",
      "166/166 [==============================] - 7s 41ms/step - loss: 7.6552e-04\n",
      "Epoch 19/100\n",
      "166/166 [==============================] - 7s 40ms/step - loss: 8.1839e-04\n",
      "Epoch 20/100\n",
      "166/166 [==============================] - 7s 41ms/step - loss: 7.2127e-04\n",
      "Epoch 21/100\n",
      "166/166 [==============================] - 7s 41ms/step - loss: 6.9454e-04\n",
      "Epoch 22/100\n",
      "166/166 [==============================] - 7s 40ms/step - loss: 7.3930e-04\n",
      "Epoch 23/100\n",
      "166/166 [==============================] - 7s 41ms/step - loss: 7.3021e-04\n",
      "Epoch 24/100\n",
      "166/166 [==============================] - 7s 40ms/step - loss: 7.2759e-04\n",
      "Epoch 25/100\n",
      "166/166 [==============================] - 7s 40ms/step - loss: 7.1498e-04\n",
      "Epoch 26/100\n",
      "166/166 [==============================] - 7s 41ms/step - loss: 7.0507e-04\n",
      "Epoch 27/100\n",
      "166/166 [==============================] - 7s 40ms/step - loss: 6.7739e-04\n",
      "Epoch 28/100\n",
      "166/166 [==============================] - 7s 40ms/step - loss: 7.0619e-04\n",
      "Epoch 29/100\n",
      "166/166 [==============================] - 7s 41ms/step - loss: 7.4269e-04\n",
      "Epoch 30/100\n",
      "166/166 [==============================] - 7s 41ms/step - loss: 7.2878e-04\n",
      "Epoch 31/100\n",
      "166/166 [==============================] - 7s 39ms/step - loss: 7.0878e-04\n",
      "Epoch 32/100\n",
      "166/166 [==============================] - 7s 41ms/step - loss: 6.5865e-04\n",
      "Epoch 33/100\n",
      "166/166 [==============================] - 7s 39ms/step - loss: 7.3178e-04\n",
      "Epoch 34/100\n",
      "166/166 [==============================] - 4s 23ms/step - loss: 7.2575e-04\n",
      "Epoch 35/100\n",
      "166/166 [==============================] - 3s 20ms/step - loss: 6.7386e-04\n",
      "Epoch 36/100\n",
      "166/166 [==============================] - 7s 41ms/step - loss: 7.0999e-04\n",
      "Epoch 37/100\n",
      "166/166 [==============================] - 7s 41ms/step - loss: 6.8115e-04\n",
      "Epoch 38/100\n",
      "166/166 [==============================] - 7s 40ms/step - loss: 6.5235e-04\n",
      "Epoch 39/100\n",
      "166/166 [==============================] - 7s 40ms/step - loss: 7.3194e-04\n",
      "Epoch 40/100\n",
      "166/166 [==============================] - 7s 39ms/step - loss: 6.4777e-04\n",
      "Epoch 41/100\n",
      "166/166 [==============================] - 7s 39ms/step - loss: 7.4756e-04\n",
      "Epoch 42/100\n",
      "166/166 [==============================] - 7s 40ms/step - loss: 6.4461e-04\n",
      "Epoch 43/100\n",
      "166/166 [==============================] - 7s 40ms/step - loss: 6.6140e-04\n",
      "Epoch 44/100\n",
      "166/166 [==============================] - 7s 40ms/step - loss: 6.5015e-04\n",
      "Epoch 45/100\n",
      "166/166 [==============================] - 7s 43ms/step - loss: 6.8650e-04\n",
      "Epoch 46/100\n",
      "166/166 [==============================] - 6s 33ms/step - loss: 6.7974e-04\n",
      "Epoch 47/100\n",
      "166/166 [==============================] - 3s 18ms/step - loss: 6.3558e-04\n",
      "Epoch 48/100\n",
      "166/166 [==============================] - 3s 18ms/step - loss: 7.1133e-04\n",
      "Epoch 49/100\n",
      "166/166 [==============================] - 3s 18ms/step - loss: 5.9720e-04\n",
      "Epoch 50/100\n",
      "166/166 [==============================] - 3s 18ms/step - loss: 6.3348e-04\n",
      "Epoch 51/100\n",
      "166/166 [==============================] - 3s 17ms/step - loss: 7.3113e-04\n",
      "Epoch 52/100\n",
      "166/166 [==============================] - 3s 17ms/step - loss: 6.6017e-04\n",
      "Epoch 53/100\n",
      "166/166 [==============================] - 3s 18ms/step - loss: 6.9767e-04\n",
      "Epoch 54/100\n",
      "166/166 [==============================] - 3s 17ms/step - loss: 6.8521e-04\n",
      "Epoch 55/100\n",
      "166/166 [==============================] - 4s 25ms/step - loss: 6.6610e-04\n",
      "Epoch 56/100\n",
      "166/166 [==============================] - 7s 44ms/step - loss: 6.5462e-04\n",
      "Epoch 57/100\n",
      "166/166 [==============================] - 7s 43ms/step - loss: 6.4456e-04\n",
      "Epoch 58/100\n",
      "166/166 [==============================] - 6s 33ms/step - loss: 6.6233e-04\n",
      "Epoch 59/100\n",
      "166/166 [==============================] - 6s 35ms/step - loss: 6.2925e-04\n",
      "Epoch 60/100\n",
      "166/166 [==============================] - 3s 19ms/step - loss: 6.4398e-04\n",
      "Epoch 61/100\n",
      "166/166 [==============================] - 3s 17ms/step - loss: 5.8688e-04\n",
      "Epoch 62/100\n",
      "166/166 [==============================] - 3s 18ms/step - loss: 6.0418e-04\n",
      "Epoch 63/100\n",
      "166/166 [==============================] - 7s 39ms/step - loss: 6.5752e-04\n",
      "Epoch 64/100\n",
      "166/166 [==============================] - 7s 40ms/step - loss: 6.0878e-04\n",
      "Epoch 65/100\n",
      "166/166 [==============================] - 3s 19ms/step - loss: 5.9597e-04\n",
      "Epoch 66/100\n",
      "166/166 [==============================] - 3s 17ms/step - loss: 5.9536e-04\n",
      "Epoch 67/100\n",
      "166/166 [==============================] - 3s 17ms/step - loss: 5.5750e-04\n",
      "Epoch 68/100\n",
      "166/166 [==============================] - 5s 27ms/step - loss: 6.3195e-04\n",
      "Epoch 69/100\n",
      "166/166 [==============================] - 7s 42ms/step - loss: 6.4463e-04\n",
      "Epoch 70/100\n",
      "166/166 [==============================] - 7s 41ms/step - loss: 6.2136e-04\n",
      "Epoch 71/100\n",
      "166/166 [==============================] - 7s 40ms/step - loss: 6.1861e-04\n",
      "Epoch 72/100\n",
      "166/166 [==============================] - 6s 35ms/step - loss: 5.7901e-04\n",
      "Epoch 73/100\n",
      "166/166 [==============================] - 3s 18ms/step - loss: 6.0528e-04\n",
      "Epoch 74/100\n",
      "166/166 [==============================] - 3s 18ms/step - loss: 6.6479e-04\n",
      "Epoch 75/100\n",
      "166/166 [==============================] - 4s 24ms/step - loss: 5.8124e-04\n",
      "Epoch 76/100\n",
      "166/166 [==============================] - 7s 40ms/step - loss: 6.0218e-04\n",
      "Epoch 77/100\n",
      "166/166 [==============================] - 6s 34ms/step - loss: 6.1550e-04\n",
      "Epoch 78/100\n",
      "166/166 [==============================] - 3s 18ms/step - loss: 6.0985e-04\n",
      "Epoch 79/100\n",
      "166/166 [==============================] - 3s 17ms/step - loss: 6.4589e-04\n",
      "Epoch 80/100\n",
      "166/166 [==============================] - 3s 17ms/step - loss: 5.8960e-04\n",
      "Epoch 81/100\n",
      "166/166 [==============================] - 3s 17ms/step - loss: 5.6209e-04\n",
      "Epoch 82/100\n",
      "166/166 [==============================] - 3s 17ms/step - loss: 6.3558e-04\n",
      "Epoch 83/100\n",
      " 30/166 [====>.........................] - ETA: 2s - loss: 5.8832e-04"
     ]
    }
   ],
   "source": [
    "regressor.fit(x= xTRAIN, y=yTRAIN, batch_size= 32, epochs= 100)"
   ]
  },
  {
   "cell_type": "code",
   "execution_count": 45,
   "id": "82a1215b-90c1-49fa-8bd6-e5c7c678bb2c",
   "metadata": {
    "tags": []
   },
   "outputs": [
    {
     "name": "stdout",
     "output_type": "stream",
     "text": [
      "166/166 [==============================] - 2s 9ms/step\n"
     ]
    }
   ],
   "source": [
    "prdctn= regressor.predict(xTRAIN)"
   ]
  },
  {
   "cell_type": "markdown",
   "id": "02c5a51c-6b13-41a0-b80d-854541b6322d",
   "metadata": {
    "tags": []
   },
   "source": [
    "regressor.save(f\"../model/exports/{company}/\")"
   ]
  },
  {
   "cell_type": "code",
   "execution_count": 46,
   "id": "e1cf83bd-e094-4ff0-8055-d7dd5b781a1b",
   "metadata": {
    "tags": []
   },
   "outputs": [
    {
     "name": "stdout",
     "output_type": "stream",
     "text": [
      "[*********************100%***********************]  1 of 1 completed\n"
     ]
    },
    {
     "data": {
      "text/html": [
       "<div>\n",
       "<style scoped>\n",
       "    .dataframe tbody tr th:only-of-type {\n",
       "        vertical-align: middle;\n",
       "    }\n",
       "\n",
       "    .dataframe tbody tr th {\n",
       "        vertical-align: top;\n",
       "    }\n",
       "\n",
       "    .dataframe thead th {\n",
       "        text-align: right;\n",
       "    }\n",
       "</style>\n",
       "<table border=\"1\" class=\"dataframe\">\n",
       "  <thead>\n",
       "    <tr style=\"text-align: right;\">\n",
       "      <th></th>\n",
       "      <th>Open</th>\n",
       "      <th>High</th>\n",
       "      <th>Low</th>\n",
       "      <th>Close</th>\n",
       "      <th>Adj Close</th>\n",
       "      <th>Volume</th>\n",
       "    </tr>\n",
       "    <tr>\n",
       "      <th>Date</th>\n",
       "      <th></th>\n",
       "      <th></th>\n",
       "      <th></th>\n",
       "      <th></th>\n",
       "      <th></th>\n",
       "      <th></th>\n",
       "    </tr>\n",
       "  </thead>\n",
       "  <tbody>\n",
       "    <tr>\n",
       "      <th>2023-06-08</th>\n",
       "      <td>1936.900024</td>\n",
       "      <td>1936.900024</td>\n",
       "      <td>1879.550049</td>\n",
       "      <td>1886.500000</td>\n",
       "      <td>1886.500000</td>\n",
       "      <td>5491614</td>\n",
       "    </tr>\n",
       "    <tr>\n",
       "      <th>2023-06-09</th>\n",
       "      <td>1862.000000</td>\n",
       "      <td>1897.699951</td>\n",
       "      <td>1860.699951</td>\n",
       "      <td>1872.000000</td>\n",
       "      <td>1872.000000</td>\n",
       "      <td>14196924</td>\n",
       "    </tr>\n",
       "    <tr>\n",
       "      <th>2023-06-12</th>\n",
       "      <td>1874.849976</td>\n",
       "      <td>1884.000000</td>\n",
       "      <td>1864.449951</td>\n",
       "      <td>1879.449951</td>\n",
       "      <td>1879.449951</td>\n",
       "      <td>2815173</td>\n",
       "    </tr>\n",
       "    <tr>\n",
       "      <th>2023-06-13</th>\n",
       "      <td>1875.349976</td>\n",
       "      <td>1883.000000</td>\n",
       "      <td>1852.000000</td>\n",
       "      <td>1855.949951</td>\n",
       "      <td>1855.949951</td>\n",
       "      <td>9561827</td>\n",
       "    </tr>\n",
       "    <tr>\n",
       "      <th>2023-06-14</th>\n",
       "      <td>1855.949951</td>\n",
       "      <td>1867.949951</td>\n",
       "      <td>1846.400024</td>\n",
       "      <td>1864.650024</td>\n",
       "      <td>1864.650024</td>\n",
       "      <td>5577779</td>\n",
       "    </tr>\n",
       "  </tbody>\n",
       "</table>\n",
       "</div>"
      ],
      "text/plain": [
       "                   Open         High          Low        Close    Adj Close   \n",
       "Date                                                                          \n",
       "2023-06-08  1936.900024  1936.900024  1879.550049  1886.500000  1886.500000  \\\n",
       "2023-06-09  1862.000000  1897.699951  1860.699951  1872.000000  1872.000000   \n",
       "2023-06-12  1874.849976  1884.000000  1864.449951  1879.449951  1879.449951   \n",
       "2023-06-13  1875.349976  1883.000000  1852.000000  1855.949951  1855.949951   \n",
       "2023-06-14  1855.949951  1867.949951  1846.400024  1864.650024  1864.650024   \n",
       "\n",
       "              Volume  \n",
       "Date                  \n",
       "2023-06-08   5491614  \n",
       "2023-06-09  14196924  \n",
       "2023-06-12   2815173  \n",
       "2023-06-13   9561827  \n",
       "2023-06-14   5577779  "
      ]
     },
     "execution_count": 46,
     "metadata": {},
     "output_type": "execute_result"
    }
   ],
   "source": [
    "testDF= yf.download(company, period='1d', start=endDate, end=datetime.datetime.now())\n",
    "testDF.tail()"
   ]
  },
  {
   "cell_type": "code",
   "execution_count": 47,
   "id": "389e55a0-69eb-47cf-911a-c25a144e7f54",
   "metadata": {
    "tags": []
   },
   "outputs": [],
   "source": [
    "realSP= testDF['Close'].values"
   ]
  },
  {
   "cell_type": "code",
   "execution_count": 48,
   "id": "b0b39f2a-b963-42e2-ac19-b094e7a600eb",
   "metadata": {
    "tags": []
   },
   "outputs": [],
   "source": [
    "dfTotal= pd.concat((df['Close'], testDF['Close']), axis=0)"
   ]
  },
  {
   "cell_type": "code",
   "execution_count": 49,
   "id": "1d38eef2-00f4-48ae-9995-45097a8e46d8",
   "metadata": {
    "tags": []
   },
   "outputs": [],
   "source": [
    "modelInp= dfTotal[len(dfTotal)-len(testDF)-60:].values"
   ]
  },
  {
   "cell_type": "code",
   "execution_count": 50,
   "id": "efadd80d-1716-4048-bbb8-9a25d60d02e4",
   "metadata": {
    "tags": []
   },
   "outputs": [],
   "source": [
    "modelInp= modelInp.reshape(-1,1)"
   ]
  },
  {
   "cell_type": "code",
   "execution_count": 51,
   "id": "129d98f2-7644-4d32-ab0a-b6f178ae339a",
   "metadata": {
    "tags": []
   },
   "outputs": [],
   "source": [
    "modelInp= scaler.transform(modelInp)"
   ]
  },
  {
   "cell_type": "code",
   "execution_count": 52,
   "id": "215cec3c-4799-4d2a-b96b-659e853a792a",
   "metadata": {
    "tags": []
   },
   "outputs": [],
   "source": [
    "xTEST= []\n",
    "\n",
    "for i in range(60, len(modelInp)):\n",
    "    xTEST.append(modelInp[i-60:i, 0])\n",
    "\n",
    "xTEST= np.array(xTEST)"
   ]
  },
  {
   "cell_type": "code",
   "execution_count": 53,
   "id": "46abbba4-f265-46e6-b2e2-82faf84b9fbc",
   "metadata": {
    "tags": []
   },
   "outputs": [
    {
     "data": {
      "text/plain": [
       "(93, 60)"
      ]
     },
     "execution_count": 53,
     "metadata": {},
     "output_type": "execute_result"
    }
   ],
   "source": [
    "xTEST.shape"
   ]
  },
  {
   "cell_type": "code",
   "execution_count": 54,
   "id": "7508bf79-7a2a-404b-bc04-78fca7301d88",
   "metadata": {
    "tags": []
   },
   "outputs": [],
   "source": [
    "xTEST= np.reshape(xTEST, newshape= (xTEST.shape[0], xTEST.shape[1], 1))"
   ]
  },
  {
   "cell_type": "code",
   "execution_count": 55,
   "id": "90fabbdf-9e5b-485e-b60b-864bcf66bf38",
   "metadata": {
    "tags": []
   },
   "outputs": [],
   "source": [
    "#pred = pred[..., 0]"
   ]
  },
  {
   "cell_type": "code",
   "execution_count": 56,
   "id": "55905254-03e5-422e-91a2-ae829100169c",
   "metadata": {
    "tags": []
   },
   "outputs": [
    {
     "name": "stdout",
     "output_type": "stream",
     "text": [
      "3/3 [==============================] - 1s 19ms/step\n"
     ]
    }
   ],
   "source": [
    "pred= regressor.predict(xTEST)"
   ]
  },
  {
   "cell_type": "code",
   "execution_count": 57,
   "id": "d632f691-866a-4672-8f85-c9fe50db3e7e",
   "metadata": {
    "tags": []
   },
   "outputs": [],
   "source": [
    "pred= scaler.inverse_transform(pred)"
   ]
  },
  {
   "cell_type": "code",
   "execution_count": 58,
   "id": "18057536-819d-4b2a-88cc-a47ffad1db0f",
   "metadata": {
    "tags": []
   },
   "outputs": [
    {
     "data": {
      "text/plain": [
       "(93, 1)"
      ]
     },
     "execution_count": 58,
     "metadata": {},
     "output_type": "execute_result"
    }
   ],
   "source": [
    "pred.shape"
   ]
  },
  {
   "cell_type": "code",
   "execution_count": 59,
   "id": "bab731b6-96d6-4757-a779-f7bdf9932dd1",
   "metadata": {
    "tags": []
   },
   "outputs": [],
   "source": [
    "import matplotlib.pyplot as plt"
   ]
  },
  {
   "cell_type": "code",
   "execution_count": 60,
   "id": "6bc99ada-388b-47ed-a0eb-56188f50264e",
   "metadata": {
    "tags": []
   },
   "outputs": [
    {
     "data": {
      "image/png": "[encoded data removed]",
      "text/plain": [
       "<Figure size 640x480 with 1 Axes>"
      ]
     },
     "metadata": {},
     "output_type": "display_data"
    }
   ],
   "source": [
    "plt.plot(realSP, color= 'r', label= 'real close price')\n",
    "plt.plot(pred, color= 'b', label= 'predicted close price')\n",
    "plt.title(company)\n",
    "plt.legend()\n",
    "plt.show()"
   ]
  },
  {
   "cell_type": "code",
   "execution_count": 34,
   "id": "143aaaeb-a2cd-4213-afb2-b7f96e2bd61b",
   "metadata": {},
   "outputs": [],
   "source": [
    "realData= [modelInp[len(modelInp)+1-60:len(modelInp+1), 0]]"
   ]
  },
  {
   "cell_type": "code",
   "execution_count": 35,
   "id": "b7790752-9217-44a3-972f-9d0dd52fc21a",
   "metadata": {
    "tags": []
   },
   "outputs": [],
   "source": [
    "realData= np.array(realData)"
   ]
  },
  {
   "cell_type": "code",
   "execution_count": 36,
   "id": "d0d14766-e093-4c4f-96d3-7aba1a23a870",
   "metadata": {
    "tags": []
   },
   "outputs": [],
   "source": [
    "realData= np.reshape(realData, newshape=(realData.shape[0], realData.shape[1], 1))"
   ]
  },
  {
   "cell_type": "code",
   "execution_count": 37,
   "id": "d77a0da8-bf64-48a8-a4d5-35661339b47e",
   "metadata": {
    "tags": []
   },
   "outputs": [
    {
     "name": "stdout",
     "output_type": "stream",
     "text": [
      "1/1 [==============================] - 1s 895ms/step\n"
     ]
    }
   ],
   "source": [
    "prediction= regressor.predict(realData)"
   ]
  },
  {
   "cell_type": "code",
   "execution_count": 38,
   "id": "02347ad7-ffae-48ad-a9b2-4ec5c20b1c2a",
   "metadata": {
    "tags": []
   },
   "outputs": [],
   "source": [
    "prediction= scaler.inverse_transform(prediction)"
   ]
  },
  {
   "cell_type": "code",
   "execution_count": 39,
   "id": "09566a1f-f9cc-4889-85b2-338b02787ee1",
   "metadata": {
    "tags": []
   },
   "outputs": [
    {
     "data": {
      "text/plain": [
       "array([[1912.4996]], dtype=float32)"
      ]
     },
     "execution_count": 39,
     "metadata": {},
     "output_type": "execute_result"
    }
   ],
   "source": [
    "prediction"
   ]
  },
  {
   "cell_type": "code",
   "execution_count": 40,
   "id": "5cefb55a-8f3a-46fe-abc0-3812c5d45b9d",
   "metadata": {
    "tags": []
   },
   "outputs": [
    {
     "name": "stderr",
     "output_type": "stream",
     "text": [
      "WARNING:absl:Found untraced functions such as lstm_cell_layer_call_fn, lstm_cell_layer_call_and_return_conditional_losses, lstm_cell_1_layer_call_fn, lstm_cell_1_layer_call_and_return_conditional_losses, lstm_cell_2_layer_call_fn while saving (showing 5 of 6). These functions will not be directly callable after loading.\n"
     ]
    },
    {
     "name": "stdout",
     "output_type": "stream",
     "text": [
      "INFO:tensorflow:Assets written to: C:\\Users\\Rohan\\AppData\\Local\\Temp\\tmp50vpxckk\\assets\n"
     ]
    },
    {
     "name": "stderr",
     "output_type": "stream",
     "text": [
      "INFO:tensorflow:Assets written to: C:\\Users\\Rohan\\AppData\\Local\\Temp\\tmp50vpxckk\\assets\n"
     ]
    }
   ],
   "source": [
    "# Load your Keras model\n",
    "#model = tf.keras.models.load_model('../model/exports/ITC.NS/')\n",
    "\n",
    "# Convert the model to TensorFlow Lite\n",
    "converter = tf.lite.TFLiteConverter.from_keras_model(regressor)\n",
    "converter.target_spec.supported_ops = [tf.lite.OpsSet.TFLITE_BUILTINS, tf.lite.OpsSet.SELECT_TF_OPS]\n",
    "converter.experimental_lower_tensor_list_ops = False  # Disable lowering of tensor list ops\n",
    "tflite_model = converter.convert()\n",
    "\n",
    "# Save the converted TensorFlow Lite model\n",
    "tflite_model_path = f\"../../stocksense-api/stockSenseAPI/stockSenseAPI/exports/{company}.tflite\"\n",
    "with open(tflite_model_path, 'wb') as f:\n",
    "    f.write(tflite_model)"
   ]
  },
  {
   "cell_type": "code",
   "execution_count": null,
   "id": "a42bff56-7d35-42f9-9af5-7c470d4f303f",
   "metadata": {},
   "outputs": [],
   "source": []
  }
 ],
 "metadata": {
  "kernelspec": {
   "display_name": "Python 3 (ipykernel)",
   "language": "python",
   "name": "python3"
  },
  "language_info": {
   "codemirror_mode": {
    "name": "ipython",
    "version": 3
   },
   "file_extension": ".py",
   "mimetype": "text/x-python",
   "name": "python",
   "nbconvert_exporter": "python",
   "pygments_lexer": "ipython3",
   "version": "3.10.9"
  }
 },
 "nbformat": 4,
 "nbformat_minor": 5
}
