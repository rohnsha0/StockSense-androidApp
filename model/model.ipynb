{
 "cells": [
  {
   "cell_type": "code",
   "execution_count": 1,
   "id": "71b7d6a8-d691-4bb8-973f-f9c688ca6fd9",
   "metadata": {
    "tags": []
   },
   "outputs": [],
   "source": [
    "import numpy as np\n",
    "import pandas as pd\n",
    "import yfinance as yf\n",
    "import datetime"
   ]
  },
  {
   "cell_type": "code",
   "execution_count": 2,
   "id": "3b5de86d-79cb-44ac-9c46-ce6408007bf4",
   "metadata": {
    "tags": []
   },
   "outputs": [],
   "source": [
    "company= 'INFY.NS'\n",
    "endDate= '2023-01-26'"
   ]
  },
  {
   "cell_type": "code",
   "execution_count": 3,
   "id": "ab3ac44a-8cb7-49a5-a910-e0391aa726e7",
   "metadata": {
    "tags": []
   },
   "outputs": [
    {
     "name": "stdout",
     "output_type": "stream",
     "text": [
      "[*********************100%***********************]  1 of 1 completed\n"
     ]
    },
    {
     "data": {
      "text/html": [
       "<div>\n",
       "<style scoped>\n",
       "    .dataframe tbody tr th:only-of-type {\n",
       "        vertical-align: middle;\n",
       "    }\n",
       "\n",
       "    .dataframe tbody tr th {\n",
       "        vertical-align: top;\n",
       "    }\n",
       "\n",
       "    .dataframe thead th {\n",
       "        text-align: right;\n",
       "    }\n",
       "</style>\n",
       "<table border=\"1\" class=\"dataframe\">\n",
       "  <thead>\n",
       "    <tr style=\"text-align: right;\">\n",
       "      <th></th>\n",
       "      <th>Open</th>\n",
       "      <th>High</th>\n",
       "      <th>Low</th>\n",
       "      <th>Close</th>\n",
       "      <th>Adj Close</th>\n",
       "      <th>Volume</th>\n",
       "    </tr>\n",
       "    <tr>\n",
       "      <th>Date</th>\n",
       "      <th></th>\n",
       "      <th></th>\n",
       "      <th></th>\n",
       "      <th></th>\n",
       "      <th></th>\n",
       "      <th></th>\n",
       "    </tr>\n",
       "  </thead>\n",
       "  <tbody>\n",
       "    <tr>\n",
       "      <th>1996-01-01</th>\n",
       "      <td>0.794921</td>\n",
       "      <td>0.796679</td>\n",
       "      <td>0.791015</td>\n",
       "      <td>0.796679</td>\n",
       "      <td>0.519068</td>\n",
       "      <td>204800</td>\n",
       "    </tr>\n",
       "    <tr>\n",
       "      <th>1996-01-02</th>\n",
       "      <td>0.794921</td>\n",
       "      <td>0.798828</td>\n",
       "      <td>0.793457</td>\n",
       "      <td>0.793457</td>\n",
       "      <td>0.516969</td>\n",
       "      <td>204800</td>\n",
       "    </tr>\n",
       "    <tr>\n",
       "      <th>1996-01-03</th>\n",
       "      <td>0.798828</td>\n",
       "      <td>0.798828</td>\n",
       "      <td>0.798828</td>\n",
       "      <td>0.798828</td>\n",
       "      <td>0.520468</td>\n",
       "      <td>102400</td>\n",
       "    </tr>\n",
       "    <tr>\n",
       "      <th>1996-01-04</th>\n",
       "      <td>0.791015</td>\n",
       "      <td>0.794921</td>\n",
       "      <td>0.791015</td>\n",
       "      <td>0.793554</td>\n",
       "      <td>0.517032</td>\n",
       "      <td>307200</td>\n",
       "    </tr>\n",
       "    <tr>\n",
       "      <th>1996-01-05</th>\n",
       "      <td>0.784179</td>\n",
       "      <td>0.784179</td>\n",
       "      <td>0.784179</td>\n",
       "      <td>0.784179</td>\n",
       "      <td>0.510924</td>\n",
       "      <td>51200</td>\n",
       "    </tr>\n",
       "    <tr>\n",
       "      <th>...</th>\n",
       "      <td>...</td>\n",
       "      <td>...</td>\n",
       "      <td>...</td>\n",
       "      <td>...</td>\n",
       "      <td>...</td>\n",
       "      <td>...</td>\n",
       "    </tr>\n",
       "    <tr>\n",
       "      <th>2023-01-19</th>\n",
       "      <td>1539.900024</td>\n",
       "      <td>1549.550049</td>\n",
       "      <td>1526.150024</td>\n",
       "      <td>1538.900024</td>\n",
       "      <td>1498.332764</td>\n",
       "      <td>6165284</td>\n",
       "    </tr>\n",
       "    <tr>\n",
       "      <th>2023-01-20</th>\n",
       "      <td>1538.000000</td>\n",
       "      <td>1545.000000</td>\n",
       "      <td>1524.000000</td>\n",
       "      <td>1525.550049</td>\n",
       "      <td>1485.334595</td>\n",
       "      <td>6496429</td>\n",
       "    </tr>\n",
       "    <tr>\n",
       "      <th>2023-01-23</th>\n",
       "      <td>1535.000000</td>\n",
       "      <td>1553.300049</td>\n",
       "      <td>1528.099976</td>\n",
       "      <td>1548.000000</td>\n",
       "      <td>1507.192749</td>\n",
       "      <td>4855020</td>\n",
       "    </tr>\n",
       "    <tr>\n",
       "      <th>2023-01-24</th>\n",
       "      <td>1560.000000</td>\n",
       "      <td>1568.800049</td>\n",
       "      <td>1549.750000</td>\n",
       "      <td>1551.900024</td>\n",
       "      <td>1510.989990</td>\n",
       "      <td>5200802</td>\n",
       "    </tr>\n",
       "    <tr>\n",
       "      <th>2023-01-25</th>\n",
       "      <td>1547.000000</td>\n",
       "      <td>1556.000000</td>\n",
       "      <td>1538.750000</td>\n",
       "      <td>1543.000000</td>\n",
       "      <td>1502.324585</td>\n",
       "      <td>4158617</td>\n",
       "    </tr>\n",
       "  </tbody>\n",
       "</table>\n",
       "<p>6811 rows × 6 columns</p>\n",
       "</div>"
      ],
      "text/plain": [
       "                   Open         High          Low        Close    Adj Close   \n",
       "Date                                                                          \n",
       "1996-01-01     0.794921     0.796679     0.791015     0.796679     0.519068  \\\n",
       "1996-01-02     0.794921     0.798828     0.793457     0.793457     0.516969   \n",
       "1996-01-03     0.798828     0.798828     0.798828     0.798828     0.520468   \n",
       "1996-01-04     0.791015     0.794921     0.791015     0.793554     0.517032   \n",
       "1996-01-05     0.784179     0.784179     0.784179     0.784179     0.510924   \n",
       "...                 ...          ...          ...          ...          ...   \n",
       "2023-01-19  1539.900024  1549.550049  1526.150024  1538.900024  1498.332764   \n",
       "2023-01-20  1538.000000  1545.000000  1524.000000  1525.550049  1485.334595   \n",
       "2023-01-23  1535.000000  1553.300049  1528.099976  1548.000000  1507.192749   \n",
       "2023-01-24  1560.000000  1568.800049  1549.750000  1551.900024  1510.989990   \n",
       "2023-01-25  1547.000000  1556.000000  1538.750000  1543.000000  1502.324585   \n",
       "\n",
       "             Volume  \n",
       "Date                 \n",
       "1996-01-01   204800  \n",
       "1996-01-02   204800  \n",
       "1996-01-03   102400  \n",
       "1996-01-04   307200  \n",
       "1996-01-05    51200  \n",
       "...             ...  \n",
       "2023-01-19  6165284  \n",
       "2023-01-20  6496429  \n",
       "2023-01-23  4855020  \n",
       "2023-01-24  5200802  \n",
       "2023-01-25  4158617  \n",
       "\n",
       "[6811 rows x 6 columns]"
      ]
     },
     "execution_count": 3,
     "metadata": {},
     "output_type": "execute_result"
    }
   ],
   "source": [
    "df= yf.download(company, period='max', end= endDate)\n",
    "df"
   ]
  },
  {
   "cell_type": "code",
   "execution_count": 4,
   "id": "befab8ef-6962-4fd4-868d-981004658ce4",
   "metadata": {
    "tags": []
   },
   "outputs": [],
   "source": [
    "trainSet= df.iloc[:, 1:2].values"
   ]
  },
  {
   "cell_type": "code",
   "execution_count": 5,
   "id": "4290e156-96af-4c1f-a302-15f2466d37e0",
   "metadata": {
    "tags": []
   },
   "outputs": [
    {
     "data": {
      "text/plain": [
       "(6811, 6)"
      ]
     },
     "execution_count": 5,
     "metadata": {},
     "output_type": "execute_result"
    }
   ],
   "source": [
    "df.shape"
   ]
  },
  {
   "cell_type": "code",
   "execution_count": 6,
   "id": "79b9ef41-ffae-4acb-9681-1da999bbff45",
   "metadata": {
    "tags": []
   },
   "outputs": [],
   "source": [
    "from sklearn.preprocessing import MinMaxScaler\n",
    "\n",
    "scaler= MinMaxScaler(feature_range=(0,1))"
   ]
  },
  {
   "cell_type": "code",
   "execution_count": 7,
   "id": "fb00b60f-d14f-42ad-b9fc-9271b12a8ff5",
   "metadata": {
    "tags": []
   },
   "outputs": [],
   "source": [
    "trainingSetScaled= scaler.fit_transform(df['Close'].values.reshape(-1,1))"
   ]
  },
  {
   "cell_type": "code",
   "execution_count": 8,
   "id": "8fab11b9-c797-41da-92ef-5290ae68928f",
   "metadata": {
    "tags": []
   },
   "outputs": [],
   "source": [
    "xTRAIN = []\n",
    "yTRAIN = []\n",
    "\n",
    "for i in range(100, len(trainingSetScaled)):\n",
    "    xTRAIN.append(trainingSetScaled[i-60:i, 0])\n",
    "    yTRAIN.append(trainingSetScaled[i, 0])\n",
    "    \n",
    "xTRAIN, yTRAIN= np.array(xTRAIN), np.array(yTRAIN)"
   ]
  },
  {
   "cell_type": "code",
   "execution_count": 9,
   "id": "cbd8001b-4a0a-4fd2-9065-b29386bc062b",
   "metadata": {
    "tags": []
   },
   "outputs": [],
   "source": [
    "xTRAIN= np.reshape(xTRAIN, newshape=(xTRAIN.shape[0], xTRAIN.shape[1], 1))"
   ]
  },
  {
   "cell_type": "code",
   "execution_count": 10,
   "id": "94428c54-0d8b-4ac5-8d29-95fbe0eb9256",
   "metadata": {
    "tags": []
   },
   "outputs": [
    {
     "data": {
      "text/plain": [
       "(6811, 1)"
      ]
     },
     "execution_count": 10,
     "metadata": {},
     "output_type": "execute_result"
    }
   ],
   "source": [
    "trainingSetScaled.shape"
   ]
  },
  {
   "cell_type": "code",
   "execution_count": 11,
   "id": "aa2e976f-2662-4a65-9906-2bcfa27011f8",
   "metadata": {
    "tags": []
   },
   "outputs": [
    {
     "data": {
      "text/plain": [
       "(6711, 60, 1)"
      ]
     },
     "execution_count": 11,
     "metadata": {},
     "output_type": "execute_result"
    }
   ],
   "source": [
    "xTRAIN.shape"
   ]
  },
  {
   "cell_type": "code",
   "execution_count": 12,
   "id": "2348c85d-8b88-4cce-bd14-1c54a71bef66",
   "metadata": {
    "tags": []
   },
   "outputs": [
    {
     "data": {
      "text/plain": [
       "(6711,)"
      ]
     },
     "execution_count": 12,
     "metadata": {},
     "output_type": "execute_result"
    }
   ],
   "source": [
    "yTRAIN.shape"
   ]
  },
  {
   "cell_type": "code",
   "execution_count": 13,
   "id": "5e6b1462-26e3-4444-bdb6-b8a67b2853e6",
   "metadata": {
    "tags": []
   },
   "outputs": [],
   "source": [
    "import tensorflow as tf\n",
    "from tensorflow import keras"
   ]
  },
  {
   "cell_type": "code",
   "execution_count": 40,
   "id": "d182ec53-6429-4327-a724-f1bf5c1d2ec8",
   "metadata": {
    "tags": []
   },
   "outputs": [],
   "source": [
    "regressor= keras.models.Sequential([\n",
    "    keras.layers.LSTM(units=384, return_sequences= True, input_shape= (xTRAIN.shape[1], 1)),\n",
    "    keras.layers.Dropout(rate= 0.2),\n",
    "    keras.layers.LSTM(units=256, return_sequences= True), \n",
    "    keras.layers.Dropout(rate= 0.3),\n",
    "    keras.layers.LSTM(units=128), \n",
    "    keras.layers.Dropout(rate= 0.4),\n",
    "    keras.layers.Dense(units= 1)\n",
    "])"
   ]
  },
  {
   "cell_type": "code",
   "execution_count": 41,
   "id": "0a41add4-812a-4cf4-8eb4-74f70717b4e2",
   "metadata": {
    "tags": []
   },
   "outputs": [
    {
     "name": "stdout",
     "output_type": "stream",
     "text": [
      "Model: \"sequential_1\"\n",
      "_________________________________________________________________\n",
      " Layer (type)                Output Shape              Param #   \n",
      "=================================================================\n",
      " lstm_3 (LSTM)               (None, 60, 384)           592896    \n",
      "                                                                 \n",
      " dropout_3 (Dropout)         (None, 60, 384)           0         \n",
      "                                                                 \n",
      " lstm_4 (LSTM)               (None, 60, 256)           656384    \n",
      "                                                                 \n",
      " dropout_4 (Dropout)         (None, 60, 256)           0         \n",
      "                                                                 \n",
      " lstm_5 (LSTM)               (None, 128)               197120    \n",
      "                                                                 \n",
      " dropout_5 (Dropout)         (None, 128)               0         \n",
      "                                                                 \n",
      " dense_1 (Dense)             (None, 1)                 129       \n",
      "                                                                 \n",
      "=================================================================\n",
      "Total params: 1,446,529\n",
      "Trainable params: 1,446,529\n",
      "Non-trainable params: 0\n",
      "_________________________________________________________________\n"
     ]
    }
   ],
   "source": [
    "regressor.summary()"
   ]
  },
  {
   "cell_type": "code",
   "execution_count": 42,
   "id": "fefcacef-bb27-46b4-9c0a-ba9dc874ff36",
   "metadata": {
    "tags": []
   },
   "outputs": [],
   "source": [
    "regressor.compile(optimizer= 'adam', loss= keras.losses.mean_squared_error)"
   ]
  },
  {
   "cell_type": "code",
   "execution_count": 43,
   "id": "941f7d2e-5cd5-4a22-8c08-17d610181f14",
   "metadata": {
    "tags": []
   },
   "outputs": [
    {
     "name": "stdout",
     "output_type": "stream",
     "text": [
      "Epoch 1/150\n",
      "210/210 [==============================] - 9s 28ms/step - loss: 0.0040\n",
      "Epoch 2/150\n",
      "210/210 [==============================] - 6s 28ms/step - loss: 0.0011\n",
      "Epoch 3/150\n",
      "210/210 [==============================] - 6s 28ms/step - loss: 0.0011\n",
      "Epoch 4/150\n",
      "210/210 [==============================] - 6s 28ms/step - loss: 9.0340e-04\n",
      "Epoch 5/150\n",
      "210/210 [==============================] - 6s 29ms/step - loss: 8.3015e-04\n",
      "Epoch 6/150\n",
      "210/210 [==============================] - 6s 27ms/step - loss: 7.0407e-04\n",
      "Epoch 7/150\n",
      "210/210 [==============================] - 6s 27ms/step - loss: 9.2127e-04\n",
      "Epoch 8/150\n",
      "210/210 [==============================] - 6s 27ms/step - loss: 7.1631e-04\n",
      "Epoch 9/150\n",
      "210/210 [==============================] - 6s 28ms/step - loss: 7.2029e-04\n",
      "Epoch 10/150\n",
      "210/210 [==============================] - 6s 29ms/step - loss: 6.8044e-04\n",
      "Epoch 11/150\n",
      "210/210 [==============================] - 6s 29ms/step - loss: 6.5999e-04\n",
      "Epoch 12/150\n",
      "210/210 [==============================] - 6s 28ms/step - loss: 6.7506e-04\n",
      "Epoch 13/150\n",
      "210/210 [==============================] - 6s 28ms/step - loss: 6.0027e-04\n",
      "Epoch 14/150\n",
      "210/210 [==============================] - 6s 28ms/step - loss: 6.6776e-04\n",
      "Epoch 15/150\n",
      "210/210 [==============================] - 6s 28ms/step - loss: 6.1837e-04\n",
      "Epoch 16/150\n",
      "210/210 [==============================] - 6s 28ms/step - loss: 5.3939e-04\n",
      "Epoch 17/150\n",
      "210/210 [==============================] - 6s 28ms/step - loss: 5.7738e-04\n",
      "Epoch 18/150\n",
      "210/210 [==============================] - 6s 29ms/step - loss: 5.9107e-04\n",
      "Epoch 19/150\n",
      "210/210 [==============================] - 6s 27ms/step - loss: 5.9253e-04\n",
      "Epoch 20/150\n",
      "210/210 [==============================] - 6s 27ms/step - loss: 5.2898e-04\n",
      "Epoch 21/150\n",
      "210/210 [==============================] - 6s 27ms/step - loss: 6.7851e-04\n",
      "Epoch 22/150\n",
      "210/210 [==============================] - 6s 27ms/step - loss: 6.0357e-04\n",
      "Epoch 23/150\n",
      "210/210 [==============================] - 6s 29ms/step - loss: 5.5472e-04\n",
      "Epoch 24/150\n",
      "210/210 [==============================] - 6s 27ms/step - loss: 5.3073e-04\n",
      "Epoch 25/150\n",
      "210/210 [==============================] - 6s 27ms/step - loss: 5.4697e-04\n",
      "Epoch 26/150\n",
      "210/210 [==============================] - 6s 27ms/step - loss: 5.3581e-04\n",
      "Epoch 27/150\n",
      "210/210 [==============================] - 6s 27ms/step - loss: 5.3812e-04\n",
      "Epoch 28/150\n",
      "210/210 [==============================] - 6s 27ms/step - loss: 5.7864e-04\n",
      "Epoch 29/150\n",
      "210/210 [==============================] - 6s 28ms/step - loss: 5.8076e-04\n",
      "Epoch 30/150\n",
      "210/210 [==============================] - 6s 28ms/step - loss: 5.4743e-04\n",
      "Epoch 31/150\n",
      "210/210 [==============================] - 6s 28ms/step - loss: 5.7854e-04\n",
      "Epoch 32/150\n",
      "210/210 [==============================] - 6s 27ms/step - loss: 5.0134e-04\n",
      "Epoch 33/150\n",
      "210/210 [==============================] - 6s 27ms/step - loss: 6.1474e-04\n",
      "Epoch 34/150\n",
      "210/210 [==============================] - 6s 27ms/step - loss: 5.3142e-04\n",
      "Epoch 35/150\n",
      "210/210 [==============================] - 6s 27ms/step - loss: 7.0016e-04\n",
      "Epoch 36/150\n",
      "210/210 [==============================] - 6s 28ms/step - loss: 6.3311e-04\n",
      "Epoch 37/150\n",
      "210/210 [==============================] - 6s 30ms/step - loss: 5.1854e-04\n",
      "Epoch 38/150\n",
      "210/210 [==============================] - 6s 29ms/step - loss: 5.2534e-04\n",
      "Epoch 39/150\n",
      "210/210 [==============================] - 6s 28ms/step - loss: 5.5862e-04\n",
      "Epoch 40/150\n",
      "210/210 [==============================] - 6s 27ms/step - loss: 5.0186e-04\n",
      "Epoch 41/150\n",
      "210/210 [==============================] - 6s 28ms/step - loss: 5.0013e-04\n",
      "Epoch 42/150\n",
      "210/210 [==============================] - 6s 28ms/step - loss: 5.0780e-04\n",
      "Epoch 43/150\n",
      "210/210 [==============================] - 6s 28ms/step - loss: 5.3680e-04\n",
      "Epoch 44/150\n",
      "210/210 [==============================] - 6s 27ms/step - loss: 4.7575e-04\n",
      "Epoch 45/150\n",
      "210/210 [==============================] - 6s 28ms/step - loss: 4.4976e-04\n",
      "Epoch 46/150\n",
      "210/210 [==============================] - 6s 29ms/step - loss: 5.7024e-04\n",
      "Epoch 47/150\n",
      "210/210 [==============================] - 6s 31ms/step - loss: 5.0683e-04\n",
      "Epoch 48/150\n",
      "210/210 [==============================] - 6s 31ms/step - loss: 4.5928e-04\n",
      "Epoch 49/150\n",
      "210/210 [==============================] - 6s 28ms/step - loss: 4.9207e-04\n",
      "Epoch 50/150\n",
      "210/210 [==============================] - 6s 28ms/step - loss: 5.0069e-04\n",
      "Epoch 51/150\n",
      "210/210 [==============================] - 6s 30ms/step - loss: 5.4098e-04\n",
      "Epoch 52/150\n",
      "210/210 [==============================] - 6s 30ms/step - loss: 4.2691e-04\n",
      "Epoch 53/150\n",
      "210/210 [==============================] - 7s 31ms/step - loss: 4.9415e-04\n",
      "Epoch 54/150\n",
      "210/210 [==============================] - 7s 32ms/step - loss: 5.2306e-04\n",
      "Epoch 55/150\n",
      "210/210 [==============================] - 8s 40ms/step - loss: 4.7651e-04\n",
      "Epoch 56/150\n",
      "210/210 [==============================] - 9s 41ms/step - loss: 4.4511e-04\n",
      "Epoch 57/150\n",
      "210/210 [==============================] - 7s 32ms/step - loss: 4.7829e-04\n",
      "Epoch 58/150\n",
      "210/210 [==============================] - 8s 38ms/step - loss: 4.7308e-04\n",
      "Epoch 59/150\n",
      "210/210 [==============================] - 7s 34ms/step - loss: 4.7320e-04\n",
      "Epoch 60/150\n",
      "210/210 [==============================] - 7s 33ms/step - loss: 4.5639e-04\n",
      "Epoch 61/150\n",
      "210/210 [==============================] - 9s 44ms/step - loss: 4.9636e-04\n",
      "Epoch 62/150\n",
      "210/210 [==============================] - 6s 31ms/step - loss: 4.7548e-04\n",
      "Epoch 63/150\n",
      "210/210 [==============================] - 6s 27ms/step - loss: 5.0324e-04\n",
      "Epoch 64/150\n",
      "210/210 [==============================] - 7s 35ms/step - loss: 4.3215e-04\n",
      "Epoch 65/150\n",
      "210/210 [==============================] - 9s 41ms/step - loss: 4.5003e-04\n",
      "Epoch 66/150\n",
      "210/210 [==============================] - 7s 31ms/step - loss: 4.7751e-04\n",
      "Epoch 67/150\n",
      "210/210 [==============================] - 6s 29ms/step - loss: 5.1444e-04\n",
      "Epoch 68/150\n",
      "210/210 [==============================] - 6s 27ms/step - loss: 4.3512e-04\n",
      "Epoch 69/150\n",
      "210/210 [==============================] - 6s 27ms/step - loss: 4.9782e-04\n",
      "Epoch 70/150\n",
      "210/210 [==============================] - 6s 27ms/step - loss: 4.3753e-04\n",
      "Epoch 71/150\n",
      "210/210 [==============================] - 6s 27ms/step - loss: 4.0218e-04\n",
      "Epoch 72/150\n",
      "210/210 [==============================] - 6s 28ms/step - loss: 4.3500e-04\n",
      "Epoch 73/150\n",
      "210/210 [==============================] - 6s 28ms/step - loss: 4.7898e-04\n",
      "Epoch 74/150\n",
      "210/210 [==============================] - 10s 46ms/step - loss: 4.3174e-04\n",
      "Epoch 75/150\n",
      "210/210 [==============================] - 8s 40ms/step - loss: 4.5970e-04\n",
      "Epoch 76/150\n",
      "210/210 [==============================] - 8s 37ms/step - loss: 4.2731e-04\n",
      "Epoch 77/150\n",
      "210/210 [==============================] - 8s 40ms/step - loss: 4.8472e-04\n",
      "Epoch 78/150\n",
      "210/210 [==============================] - 8s 38ms/step - loss: 4.3348e-04\n",
      "Epoch 79/150\n",
      "210/210 [==============================] - 7s 35ms/step - loss: 4.4056e-04\n",
      "Epoch 80/150\n",
      "210/210 [==============================] - 7s 35ms/step - loss: 4.4620e-04\n",
      "Epoch 81/150\n",
      "210/210 [==============================] - 6s 28ms/step - loss: 4.5182e-04\n",
      "Epoch 82/150\n",
      "210/210 [==============================] - 7s 33ms/step - loss: 4.6485e-04\n",
      "Epoch 83/150\n",
      "210/210 [==============================] - 6s 28ms/step - loss: 4.0809e-04\n",
      "Epoch 84/150\n",
      "210/210 [==============================] - 6s 28ms/step - loss: 4.2033e-04\n",
      "Epoch 85/150\n",
      "210/210 [==============================] - 6s 28ms/step - loss: 4.2011e-04\n",
      "Epoch 86/150\n",
      "210/210 [==============================] - 6s 28ms/step - loss: 5.0634e-04\n",
      "Epoch 87/150\n",
      "210/210 [==============================] - 6s 28ms/step - loss: 4.5568e-04\n",
      "Epoch 88/150\n",
      "210/210 [==============================] - 7s 31ms/step - loss: 4.3609e-04\n",
      "Epoch 89/150\n",
      "210/210 [==============================] - 7s 32ms/step - loss: 4.4285e-04\n",
      "Epoch 90/150\n",
      "210/210 [==============================] - 7s 33ms/step - loss: 4.1483e-04\n",
      "Epoch 91/150\n",
      "210/210 [==============================] - 7s 32ms/step - loss: 4.4515e-04\n",
      "Epoch 92/150\n",
      "210/210 [==============================] - 7s 32ms/step - loss: 4.2389e-04\n",
      "Epoch 93/150\n",
      "210/210 [==============================] - 8s 36ms/step - loss: 4.2743e-04\n",
      "Epoch 94/150\n",
      "210/210 [==============================] - 7s 32ms/step - loss: 4.1702e-04\n",
      "Epoch 95/150\n",
      "210/210 [==============================] - 7s 32ms/step - loss: 4.9075e-04\n",
      "Epoch 96/150\n",
      "210/210 [==============================] - 7s 31ms/step - loss: 4.1610e-04\n",
      "Epoch 97/150\n",
      "210/210 [==============================] - 6s 31ms/step - loss: 4.3852e-04\n",
      "Epoch 98/150\n",
      "210/210 [==============================] - 6s 30ms/step - loss: 3.9384e-04\n",
      "Epoch 99/150\n",
      "210/210 [==============================] - 6s 31ms/step - loss: 4.5164e-04\n",
      "Epoch 100/150\n",
      "210/210 [==============================] - 7s 33ms/step - loss: 4.2221e-04\n",
      "Epoch 101/150\n",
      "210/210 [==============================] - 7s 32ms/step - loss: 4.6516e-04\n",
      "Epoch 102/150\n",
      "210/210 [==============================] - 7s 31ms/step - loss: 4.3659e-04\n",
      "Epoch 103/150\n",
      "210/210 [==============================] - 6s 31ms/step - loss: 4.3308e-04\n",
      "Epoch 104/150\n",
      "210/210 [==============================] - 7s 32ms/step - loss: 4.3420e-04\n",
      "Epoch 105/150\n",
      "210/210 [==============================] - 7s 32ms/step - loss: 4.0813e-04\n",
      "Epoch 106/150\n",
      "210/210 [==============================] - 7s 32ms/step - loss: 4.3850e-04\n",
      "Epoch 107/150\n",
      "210/210 [==============================] - 7s 32ms/step - loss: 3.9175e-04\n",
      "Epoch 108/150\n",
      "210/210 [==============================] - 7s 32ms/step - loss: 4.3910e-04\n",
      "Epoch 109/150\n",
      "210/210 [==============================] - 7s 31ms/step - loss: 4.0306e-04\n",
      "Epoch 110/150\n",
      "210/210 [==============================] - 7s 31ms/step - loss: 4.2809e-04\n",
      "Epoch 111/150\n",
      "210/210 [==============================] - 8s 36ms/step - loss: 4.1518e-04\n",
      "Epoch 112/150\n",
      "210/210 [==============================] - 6s 27ms/step - loss: 4.0930e-04\n",
      "Epoch 113/150\n",
      "210/210 [==============================] - 6s 27ms/step - loss: 3.9474e-04\n",
      "Epoch 114/150\n",
      "210/210 [==============================] - 6s 28ms/step - loss: 3.9927e-04\n",
      "Epoch 115/150\n",
      "210/210 [==============================] - 6s 30ms/step - loss: 4.1220e-04\n",
      "Epoch 116/150\n",
      "210/210 [==============================] - 6s 29ms/step - loss: 4.0107e-04\n",
      "Epoch 117/150\n",
      "210/210 [==============================] - 7s 31ms/step - loss: 4.0653e-04\n",
      "Epoch 118/150\n",
      "210/210 [==============================] - 6s 31ms/step - loss: 4.7415e-04\n",
      "Epoch 119/150\n",
      "210/210 [==============================] - 8s 40ms/step - loss: 3.8482e-04\n",
      "Epoch 120/150\n",
      "210/210 [==============================] - 6s 27ms/step - loss: 4.4401e-04\n",
      "Epoch 121/150\n",
      "210/210 [==============================] - 6s 27ms/step - loss: 4.8554e-04\n",
      "Epoch 122/150\n",
      "210/210 [==============================] - 6s 28ms/step - loss: 4.0613e-04\n",
      "Epoch 123/150\n",
      "210/210 [==============================] - 6s 28ms/step - loss: 3.7188e-04\n",
      "Epoch 124/150\n",
      "210/210 [==============================] - 6s 28ms/step - loss: 3.7495e-04\n",
      "Epoch 125/150\n",
      "210/210 [==============================] - 6s 27ms/step - loss: 4.0310e-04\n",
      "Epoch 126/150\n",
      "210/210 [==============================] - 7s 32ms/step - loss: 4.4067e-04\n",
      "Epoch 127/150\n",
      "210/210 [==============================] - 6s 27ms/step - loss: 3.9260e-04\n",
      "Epoch 128/150\n",
      "210/210 [==============================] - 6s 27ms/step - loss: 4.4241e-04\n",
      "Epoch 129/150\n",
      "210/210 [==============================] - 6s 26ms/step - loss: 3.8636e-04\n",
      "Epoch 130/150\n",
      "210/210 [==============================] - 6s 27ms/step - loss: 4.0176e-04\n",
      "Epoch 131/150\n",
      "210/210 [==============================] - 6s 27ms/step - loss: 3.8621e-04\n",
      "Epoch 132/150\n",
      "210/210 [==============================] - 6s 27ms/step - loss: 3.9272e-04\n",
      "Epoch 133/150\n",
      "210/210 [==============================] - 6s 27ms/step - loss: 4.1951e-04\n",
      "Epoch 134/150\n",
      "210/210 [==============================] - 6s 27ms/step - loss: 4.1643e-04\n",
      "Epoch 135/150\n",
      "210/210 [==============================] - 6s 27ms/step - loss: 3.8446e-04\n",
      "Epoch 136/150\n",
      "210/210 [==============================] - 6s 27ms/step - loss: 4.2081e-04\n",
      "Epoch 137/150\n",
      "210/210 [==============================] - 6s 27ms/step - loss: 3.7875e-04\n",
      "Epoch 138/150\n",
      "210/210 [==============================] - 6s 27ms/step - loss: 3.8121e-04\n",
      "Epoch 139/150\n",
      "210/210 [==============================] - 6s 27ms/step - loss: 3.9085e-04\n",
      "Epoch 140/150\n",
      "210/210 [==============================] - 6s 27ms/step - loss: 3.7457e-04\n",
      "Epoch 141/150\n",
      "210/210 [==============================] - 6s 26ms/step - loss: 4.0080e-04\n",
      "Epoch 142/150\n",
      "210/210 [==============================] - 6s 26ms/step - loss: 3.7835e-04\n",
      "Epoch 143/150\n",
      "210/210 [==============================] - 6s 26ms/step - loss: 3.8973e-04\n",
      "Epoch 144/150\n",
      "210/210 [==============================] - 6s 26ms/step - loss: 3.7039e-04\n",
      "Epoch 145/150\n",
      "210/210 [==============================] - 6s 27ms/step - loss: 3.7831e-04\n",
      "Epoch 146/150\n",
      "210/210 [==============================] - 6s 27ms/step - loss: 3.7935e-04\n",
      "Epoch 147/150\n",
      "210/210 [==============================] - 6s 28ms/step - loss: 4.1196e-04\n",
      "Epoch 148/150\n",
      "210/210 [==============================] - 6s 27ms/step - loss: 4.1586e-04\n",
      "Epoch 149/150\n",
      "210/210 [==============================] - 6s 27ms/step - loss: 3.6511e-04\n",
      "Epoch 150/150\n",
      "210/210 [==============================] - 6s 26ms/step - loss: 3.9569e-04\n"
     ]
    },
    {
     "data": {
      "text/plain": [
       "<keras.callbacks.History at 0x251bdee76a0>"
      ]
     },
     "execution_count": 43,
     "metadata": {},
     "output_type": "execute_result"
    }
   ],
   "source": [
    "regressor.fit(x= xTRAIN, y=yTRAIN, batch_size= 32, epochs= 150)"
   ]
  },
  {
   "cell_type": "code",
   "execution_count": 44,
   "id": "82a1215b-90c1-49fa-8bd6-e5c7c678bb2c",
   "metadata": {
    "tags": []
   },
   "outputs": [
    {
     "name": "stdout",
     "output_type": "stream",
     "text": [
      "210/210 [==============================] - 3s 10ms/step\n"
     ]
    }
   ],
   "source": [
    "prdctn= regressor.predict(xTRAIN)"
   ]
  },
  {
   "cell_type": "markdown",
   "id": "02c5a51c-6b13-41a0-b80d-854541b6322d",
   "metadata": {
    "tags": []
   },
   "source": [
    "regressor.save(f\"../model/exports/{company}/\")"
   ]
  },
  {
   "cell_type": "code",
   "execution_count": 45,
   "id": "e1cf83bd-e094-4ff0-8055-d7dd5b781a1b",
   "metadata": {
    "tags": []
   },
   "outputs": [
    {
     "name": "stdout",
     "output_type": "stream",
     "text": [
      "[*********************100%***********************]  1 of 1 completed\n"
     ]
    },
    {
     "data": {
      "text/html": [
       "<div>\n",
       "<style scoped>\n",
       "    .dataframe tbody tr th:only-of-type {\n",
       "        vertical-align: middle;\n",
       "    }\n",
       "\n",
       "    .dataframe tbody tr th {\n",
       "        vertical-align: top;\n",
       "    }\n",
       "\n",
       "    .dataframe thead th {\n",
       "        text-align: right;\n",
       "    }\n",
       "</style>\n",
       "<table border=\"1\" class=\"dataframe\">\n",
       "  <thead>\n",
       "    <tr style=\"text-align: right;\">\n",
       "      <th></th>\n",
       "      <th>Open</th>\n",
       "      <th>High</th>\n",
       "      <th>Low</th>\n",
       "      <th>Close</th>\n",
       "      <th>Adj Close</th>\n",
       "      <th>Volume</th>\n",
       "    </tr>\n",
       "    <tr>\n",
       "      <th>Date</th>\n",
       "      <th></th>\n",
       "      <th></th>\n",
       "      <th></th>\n",
       "      <th></th>\n",
       "      <th></th>\n",
       "      <th></th>\n",
       "    </tr>\n",
       "  </thead>\n",
       "  <tbody>\n",
       "    <tr>\n",
       "      <th>2023-01-27</th>\n",
       "      <td>1546.000000</td>\n",
       "      <td>1550.949951</td>\n",
       "      <td>1507.400024</td>\n",
       "      <td>1519.150024</td>\n",
       "      <td>1479.103271</td>\n",
       "      <td>6209955</td>\n",
       "    </tr>\n",
       "    <tr>\n",
       "      <th>2023-01-30</th>\n",
       "      <td>1528.800049</td>\n",
       "      <td>1544.000000</td>\n",
       "      <td>1520.000000</td>\n",
       "      <td>1538.800049</td>\n",
       "      <td>1498.235352</td>\n",
       "      <td>6964719</td>\n",
       "    </tr>\n",
       "    <tr>\n",
       "      <th>2023-01-31</th>\n",
       "      <td>1548.900024</td>\n",
       "      <td>1548.900024</td>\n",
       "      <td>1513.000000</td>\n",
       "      <td>1533.750000</td>\n",
       "      <td>1493.318481</td>\n",
       "      <td>9448126</td>\n",
       "    </tr>\n",
       "    <tr>\n",
       "      <th>2023-02-01</th>\n",
       "      <td>1542.199951</td>\n",
       "      <td>1555.050049</td>\n",
       "      <td>1528.050049</td>\n",
       "      <td>1551.099976</td>\n",
       "      <td>1510.211060</td>\n",
       "      <td>6194199</td>\n",
       "    </tr>\n",
       "    <tr>\n",
       "      <th>2023-02-02</th>\n",
       "      <td>1552.000000</td>\n",
       "      <td>1586.949951</td>\n",
       "      <td>1552.000000</td>\n",
       "      <td>1583.750000</td>\n",
       "      <td>1542.000488</td>\n",
       "      <td>6916834</td>\n",
       "    </tr>\n",
       "    <tr>\n",
       "      <th>...</th>\n",
       "      <td>...</td>\n",
       "      <td>...</td>\n",
       "      <td>...</td>\n",
       "      <td>...</td>\n",
       "      <td>...</td>\n",
       "      <td>...</td>\n",
       "    </tr>\n",
       "    <tr>\n",
       "      <th>2023-06-05</th>\n",
       "      <td>1304.000000</td>\n",
       "      <td>1309.449951</td>\n",
       "      <td>1297.300049</td>\n",
       "      <td>1304.500000</td>\n",
       "      <td>1304.500000</td>\n",
       "      <td>5002553</td>\n",
       "    </tr>\n",
       "    <tr>\n",
       "      <th>2023-06-06</th>\n",
       "      <td>1288.599976</td>\n",
       "      <td>1288.599976</td>\n",
       "      <td>1273.000000</td>\n",
       "      <td>1279.000000</td>\n",
       "      <td>1279.000000</td>\n",
       "      <td>10008100</td>\n",
       "    </tr>\n",
       "    <tr>\n",
       "      <th>2023-06-07</th>\n",
       "      <td>1290.500000</td>\n",
       "      <td>1294.000000</td>\n",
       "      <td>1282.500000</td>\n",
       "      <td>1288.949951</td>\n",
       "      <td>1288.949951</td>\n",
       "      <td>5397578</td>\n",
       "    </tr>\n",
       "    <tr>\n",
       "      <th>2023-06-08</th>\n",
       "      <td>1286.199951</td>\n",
       "      <td>1292.000000</td>\n",
       "      <td>1281.099976</td>\n",
       "      <td>1282.800049</td>\n",
       "      <td>1282.800049</td>\n",
       "      <td>5034942</td>\n",
       "    </tr>\n",
       "    <tr>\n",
       "      <th>2023-06-09</th>\n",
       "      <td>1282.500000</td>\n",
       "      <td>1282.500000</td>\n",
       "      <td>1264.000000</td>\n",
       "      <td>1265.949951</td>\n",
       "      <td>1265.949951</td>\n",
       "      <td>5339073</td>\n",
       "    </tr>\n",
       "  </tbody>\n",
       "</table>\n",
       "<p>90 rows × 6 columns</p>\n",
       "</div>"
      ],
      "text/plain": [
       "                   Open         High          Low        Close    Adj Close   \n",
       "Date                                                                          \n",
       "2023-01-27  1546.000000  1550.949951  1507.400024  1519.150024  1479.103271  \\\n",
       "2023-01-30  1528.800049  1544.000000  1520.000000  1538.800049  1498.235352   \n",
       "2023-01-31  1548.900024  1548.900024  1513.000000  1533.750000  1493.318481   \n",
       "2023-02-01  1542.199951  1555.050049  1528.050049  1551.099976  1510.211060   \n",
       "2023-02-02  1552.000000  1586.949951  1552.000000  1583.750000  1542.000488   \n",
       "...                 ...          ...          ...          ...          ...   \n",
       "2023-06-05  1304.000000  1309.449951  1297.300049  1304.500000  1304.500000   \n",
       "2023-06-06  1288.599976  1288.599976  1273.000000  1279.000000  1279.000000   \n",
       "2023-06-07  1290.500000  1294.000000  1282.500000  1288.949951  1288.949951   \n",
       "2023-06-08  1286.199951  1292.000000  1281.099976  1282.800049  1282.800049   \n",
       "2023-06-09  1282.500000  1282.500000  1264.000000  1265.949951  1265.949951   \n",
       "\n",
       "              Volume  \n",
       "Date                  \n",
       "2023-01-27   6209955  \n",
       "2023-01-30   6964719  \n",
       "2023-01-31   9448126  \n",
       "2023-02-01   6194199  \n",
       "2023-02-02   6916834  \n",
       "...              ...  \n",
       "2023-06-05   5002553  \n",
       "2023-06-06  10008100  \n",
       "2023-06-07   5397578  \n",
       "2023-06-08   5034942  \n",
       "2023-06-09   5339073  \n",
       "\n",
       "[90 rows x 6 columns]"
      ]
     },
     "execution_count": 45,
     "metadata": {},
     "output_type": "execute_result"
    }
   ],
   "source": [
    "testDF= yf.download(company, period='1d', start=endDate, end=datetime.datetime.now())\n",
    "testDF"
   ]
  },
  {
   "cell_type": "code",
   "execution_count": 46,
   "id": "389e55a0-69eb-47cf-911a-c25a144e7f54",
   "metadata": {
    "tags": []
   },
   "outputs": [],
   "source": [
    "realSP= testDF['Close'].values"
   ]
  },
  {
   "cell_type": "code",
   "execution_count": 47,
   "id": "b0b39f2a-b963-42e2-ac19-b094e7a600eb",
   "metadata": {
    "tags": []
   },
   "outputs": [],
   "source": [
    "dfTotal= pd.concat((df['Open'], testDF['Open']), axis=0)"
   ]
  },
  {
   "cell_type": "code",
   "execution_count": 48,
   "id": "1d38eef2-00f4-48ae-9995-45097a8e46d8",
   "metadata": {
    "tags": []
   },
   "outputs": [],
   "source": [
    "modelInp= dfTotal[len(dfTotal)-len(testDF)-60:].values"
   ]
  },
  {
   "cell_type": "code",
   "execution_count": 49,
   "id": "efadd80d-1716-4048-bbb8-9a25d60d02e4",
   "metadata": {
    "tags": []
   },
   "outputs": [],
   "source": [
    "modelInp= modelInp.reshape(-1,1)"
   ]
  },
  {
   "cell_type": "code",
   "execution_count": 50,
   "id": "129d98f2-7644-4d32-ab0a-b6f178ae339a",
   "metadata": {
    "tags": []
   },
   "outputs": [],
   "source": [
    "modelInp= scaler.transform(modelInp)"
   ]
  },
  {
   "cell_type": "code",
   "execution_count": 51,
   "id": "215cec3c-4799-4d2a-b96b-659e853a792a",
   "metadata": {
    "tags": []
   },
   "outputs": [],
   "source": [
    "xTEST= []\n",
    "\n",
    "for i in range(60, len(modelInp)):\n",
    "    xTEST.append(modelInp[i-60:i, 0])\n",
    "\n",
    "xTEST= np.array(xTEST)"
   ]
  },
  {
   "cell_type": "code",
   "execution_count": 52,
   "id": "46abbba4-f265-46e6-b2e2-82faf84b9fbc",
   "metadata": {
    "tags": []
   },
   "outputs": [
    {
     "data": {
      "text/plain": [
       "(90, 60)"
      ]
     },
     "execution_count": 52,
     "metadata": {},
     "output_type": "execute_result"
    }
   ],
   "source": [
    "xTEST.shape"
   ]
  },
  {
   "cell_type": "code",
   "execution_count": 53,
   "id": "7508bf79-7a2a-404b-bc04-78fca7301d88",
   "metadata": {
    "tags": []
   },
   "outputs": [],
   "source": [
    "xTEST= np.reshape(xTEST, newshape= (xTEST.shape[0], xTEST.shape[1], 1))"
   ]
  },
  {
   "cell_type": "code",
   "execution_count": 54,
   "id": "90fabbdf-9e5b-485e-b60b-864bcf66bf38",
   "metadata": {
    "tags": []
   },
   "outputs": [],
   "source": [
    "#pred = pred[..., 0]"
   ]
  },
  {
   "cell_type": "code",
   "execution_count": 55,
   "id": "55905254-03e5-422e-91a2-ae829100169c",
   "metadata": {
    "tags": []
   },
   "outputs": [
    {
     "name": "stdout",
     "output_type": "stream",
     "text": [
      "3/3 [==============================] - 0s 77ms/step\n"
     ]
    }
   ],
   "source": [
    "pred= regressor.predict(xTEST)"
   ]
  },
  {
   "cell_type": "code",
   "execution_count": 56,
   "id": "d632f691-866a-4672-8f85-c9fe50db3e7e",
   "metadata": {
    "tags": []
   },
   "outputs": [],
   "source": [
    "pred= scaler.inverse_transform(pred)"
   ]
  },
  {
   "cell_type": "code",
   "execution_count": 57,
   "id": "18057536-819d-4b2a-88cc-a47ffad1db0f",
   "metadata": {
    "tags": []
   },
   "outputs": [
    {
     "data": {
      "text/plain": [
       "(90, 1)"
      ]
     },
     "execution_count": 57,
     "metadata": {},
     "output_type": "execute_result"
    }
   ],
   "source": [
    "pred.shape"
   ]
  },
  {
   "cell_type": "code",
   "execution_count": 58,
   "id": "bab731b6-96d6-4757-a779-f7bdf9932dd1",
   "metadata": {
    "tags": []
   },
   "outputs": [],
   "source": [
    "import matplotlib.pyplot as plt"
   ]
  },
  {
   "cell_type": "code",
   "execution_count": 59,
   "id": "6bc99ada-388b-47ed-a0eb-56188f50264e",
   "metadata": {
    "tags": []
   },
   "outputs": [
    {
     "data": {
      "image/png": "[encoded data removed]",
      "text/plain": [
       "<Figure size 640x480 with 1 Axes>"
      ]
     },
     "metadata": {},
     "output_type": "display_data"
    }
   ],
   "source": [
    "plt.plot(realSP, color= 'r', label= 'real close price')\n",
    "plt.plot(pred, color= 'b', label= 'predicted close price')\n",
    "plt.title(company)\n",
    "plt.legend()\n",
    "plt.show()"
   ]
  },
  {
   "cell_type": "code",
   "execution_count": 34,
   "id": "143aaaeb-a2cd-4213-afb2-b7f96e2bd61b",
   "metadata": {},
   "outputs": [],
   "source": [
    "realData= [modelInp[len(modelInp)+1-60:len(modelInp+1), 0]]"
   ]
  },
  {
   "cell_type": "code",
   "execution_count": 35,
   "id": "b7790752-9217-44a3-972f-9d0dd52fc21a",
   "metadata": {
    "tags": []
   },
   "outputs": [],
   "source": [
    "realData= np.array(realData)"
   ]
  },
  {
   "cell_type": "code",
   "execution_count": 36,
   "id": "d0d14766-e093-4c4f-96d3-7aba1a23a870",
   "metadata": {
    "tags": []
   },
   "outputs": [],
   "source": [
    "realData= np.reshape(realData, newshape=(realData.shape[0], realData.shape[1], 1))"
   ]
  },
  {
   "cell_type": "code",
   "execution_count": 37,
   "id": "d77a0da8-bf64-48a8-a4d5-35661339b47e",
   "metadata": {
    "tags": []
   },
   "outputs": [
    {
     "name": "stdout",
     "output_type": "stream",
     "text": [
      "1/1 [==============================] - 1s 947ms/step\n"
     ]
    }
   ],
   "source": [
    "prediction= regressor.predict(realData)"
   ]
  },
  {
   "cell_type": "code",
   "execution_count": 38,
   "id": "02347ad7-ffae-48ad-a9b2-4ec5c20b1c2a",
   "metadata": {
    "tags": []
   },
   "outputs": [],
   "source": [
    "prediction= scaler.inverse_transform(prediction)"
   ]
  },
  {
   "cell_type": "code",
   "execution_count": 39,
   "id": "09566a1f-f9cc-4889-85b2-338b02787ee1",
   "metadata": {
    "tags": []
   },
   "outputs": [
    {
     "data": {
      "text/plain": [
       "array([[1335.9021]], dtype=float32)"
      ]
     },
     "execution_count": 39,
     "metadata": {},
     "output_type": "execute_result"
    }
   ],
   "source": [
    "prediction"
   ]
  },
  {
   "cell_type": "markdown",
   "id": "46b49d95-d8ad-4ee4-8a10-e0f98ed478cf",
   "metadata": {
    "tags": []
   },
   "source": [
    "# Load your Keras model\n",
    "#model = tf.keras.models.load_model('../model/exports/ITC.NS/')\n",
    "\n",
    "# Convert the model to TensorFlow Lite\n",
    "converter = tf.lite.TFLiteConverter.from_keras_model(regressor)\n",
    "converter.target_spec.supported_ops = [tf.lite.OpsSet.TFLITE_BUILTINS, tf.lite.OpsSet.SELECT_TF_OPS]\n",
    "converter.experimental_lower_tensor_list_ops = False  # Disable lowering of tensor list ops\n",
    "tflite_model = converter.convert()\n",
    "\n",
    "# Save the converted TensorFlow Lite model\n",
    "tflite_model_path = f\"../../stocksense-api/stockSenseAPI/stockSenseAPI/exports/{company}.tflite\"\n",
    "with open(tflite_model_path, 'wb') as f:\n",
    "    f.write(tflite_model)"
   ]
  },
  {
   "cell_type": "code",
   "execution_count": null,
   "id": "fc4cf9fa-e4b1-48ae-a15f-301ea369c9bc",
   "metadata": {},
   "outputs": [],
   "source": []
  }
 ],
 "metadata": {
  "kernelspec": {
   "display_name": "Python 3 (ipykernel)",
   "language": "python",
   "name": "python3"
  },
  "language_info": {
   "codemirror_mode": {
    "name": "ipython",
    "version": 3
   },
   "file_extension": ".py",
   "mimetype": "text/x-python",
   "name": "python",
   "nbconvert_exporter": "python",
   "pygments_lexer": "ipython3",
   "version": "3.10.9"
  }
 },
 "nbformat": 4,
 "nbformat_minor": 5
}
