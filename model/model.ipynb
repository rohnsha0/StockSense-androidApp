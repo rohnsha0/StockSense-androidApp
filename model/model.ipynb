{
 "cells": [
  {
   "cell_type": "code",
   "execution_count": 1,
   "id": "71b7d6a8-d691-4bb8-973f-f9c688ca6fd9",
   "metadata": {
    "tags": []
   },
   "outputs": [],
   "source": [
    "import numpy as np\n",
    "import pandas as pd\n",
    "import yfinance as yf\n",
    "import datetime"
   ]
  },
  {
   "cell_type": "code",
   "execution_count": 2,
   "id": "3b5de86d-79cb-44ac-9c46-ce6408007bf4",
   "metadata": {
    "tags": []
   },
   "outputs": [],
   "source": [
    "company= 'ITC.NS'\n",
    "endDate= '2023-01-26'"
   ]
  },
  {
   "cell_type": "code",
   "execution_count": 3,
   "id": "ab3ac44a-8cb7-49a5-a910-e0391aa726e7",
   "metadata": {
    "tags": []
   },
   "outputs": [
    {
     "name": "stdout",
     "output_type": "stream",
     "text": [
      "[*********************100%***********************]  1 of 1 completed\n"
     ]
    },
    {
     "data": {
      "text/html": [
       "<div>\n",
       "<style scoped>\n",
       "    .dataframe tbody tr th:only-of-type {\n",
       "        vertical-align: middle;\n",
       "    }\n",
       "\n",
       "    .dataframe tbody tr th {\n",
       "        vertical-align: top;\n",
       "    }\n",
       "\n",
       "    .dataframe thead th {\n",
       "        text-align: right;\n",
       "    }\n",
       "</style>\n",
       "<table border=\"1\" class=\"dataframe\">\n",
       "  <thead>\n",
       "    <tr style=\"text-align: right;\">\n",
       "      <th></th>\n",
       "      <th>Open</th>\n",
       "      <th>High</th>\n",
       "      <th>Low</th>\n",
       "      <th>Close</th>\n",
       "      <th>Adj Close</th>\n",
       "      <th>Volume</th>\n",
       "    </tr>\n",
       "    <tr>\n",
       "      <th>Date</th>\n",
       "      <th></th>\n",
       "      <th></th>\n",
       "      <th></th>\n",
       "      <th></th>\n",
       "      <th></th>\n",
       "      <th></th>\n",
       "    </tr>\n",
       "  </thead>\n",
       "  <tbody>\n",
       "    <tr>\n",
       "      <th>1996-01-01</th>\n",
       "      <td>5.550000</td>\n",
       "      <td>5.600000</td>\n",
       "      <td>5.533333</td>\n",
       "      <td>5.583333</td>\n",
       "      <td>3.303552</td>\n",
       "      <td>985500</td>\n",
       "    </tr>\n",
       "    <tr>\n",
       "      <th>1996-01-02</th>\n",
       "      <td>5.466666</td>\n",
       "      <td>5.566666</td>\n",
       "      <td>5.288888</td>\n",
       "      <td>5.372222</td>\n",
       "      <td>3.178642</td>\n",
       "      <td>7470000</td>\n",
       "    </tr>\n",
       "    <tr>\n",
       "      <th>1996-01-03</th>\n",
       "      <td>5.133333</td>\n",
       "      <td>5.254444</td>\n",
       "      <td>5.101111</td>\n",
       "      <td>5.200000</td>\n",
       "      <td>3.076742</td>\n",
       "      <td>15160500</td>\n",
       "    </tr>\n",
       "    <tr>\n",
       "      <th>1996-01-04</th>\n",
       "      <td>5.200000</td>\n",
       "      <td>5.332222</td>\n",
       "      <td>5.144444</td>\n",
       "      <td>5.297777</td>\n",
       "      <td>3.134594</td>\n",
       "      <td>12397500</td>\n",
       "    </tr>\n",
       "    <tr>\n",
       "      <th>1996-01-05</th>\n",
       "      <td>5.297777</td>\n",
       "      <td>5.277777</td>\n",
       "      <td>5.188888</td>\n",
       "      <td>5.202222</td>\n",
       "      <td>3.078057</td>\n",
       "      <td>5008500</td>\n",
       "    </tr>\n",
       "    <tr>\n",
       "      <th>...</th>\n",
       "      <td>...</td>\n",
       "      <td>...</td>\n",
       "      <td>...</td>\n",
       "      <td>...</td>\n",
       "      <td>...</td>\n",
       "      <td>...</td>\n",
       "    </tr>\n",
       "    <tr>\n",
       "      <th>2023-01-19</th>\n",
       "      <td>334.000000</td>\n",
       "      <td>335.649994</td>\n",
       "      <td>331.649994</td>\n",
       "      <td>332.149994</td>\n",
       "      <td>324.990753</td>\n",
       "      <td>8346130</td>\n",
       "    </tr>\n",
       "    <tr>\n",
       "      <th>2023-01-20</th>\n",
       "      <td>332.000000</td>\n",
       "      <td>335.200012</td>\n",
       "      <td>329.250000</td>\n",
       "      <td>334.600006</td>\n",
       "      <td>327.387939</td>\n",
       "      <td>13103664</td>\n",
       "    </tr>\n",
       "    <tr>\n",
       "      <th>2023-01-23</th>\n",
       "      <td>336.000000</td>\n",
       "      <td>338.149994</td>\n",
       "      <td>333.049988</td>\n",
       "      <td>337.750000</td>\n",
       "      <td>330.470062</td>\n",
       "      <td>7124807</td>\n",
       "    </tr>\n",
       "    <tr>\n",
       "      <th>2023-01-24</th>\n",
       "      <td>337.799988</td>\n",
       "      <td>340.750000</td>\n",
       "      <td>337.600006</td>\n",
       "      <td>338.950012</td>\n",
       "      <td>331.644226</td>\n",
       "      <td>12302874</td>\n",
       "    </tr>\n",
       "    <tr>\n",
       "      <th>2023-01-25</th>\n",
       "      <td>338.899994</td>\n",
       "      <td>341.000000</td>\n",
       "      <td>335.250000</td>\n",
       "      <td>339.250000</td>\n",
       "      <td>331.937714</td>\n",
       "      <td>12497542</td>\n",
       "    </tr>\n",
       "  </tbody>\n",
       "</table>\n",
       "<p>6807 rows × 6 columns</p>\n",
       "</div>"
      ],
      "text/plain": [
       "                  Open        High         Low       Close   Adj Close   \n",
       "Date                                                                     \n",
       "1996-01-01    5.550000    5.600000    5.533333    5.583333    3.303552  \\\n",
       "1996-01-02    5.466666    5.566666    5.288888    5.372222    3.178642   \n",
       "1996-01-03    5.133333    5.254444    5.101111    5.200000    3.076742   \n",
       "1996-01-04    5.200000    5.332222    5.144444    5.297777    3.134594   \n",
       "1996-01-05    5.297777    5.277777    5.188888    5.202222    3.078057   \n",
       "...                ...         ...         ...         ...         ...   \n",
       "2023-01-19  334.000000  335.649994  331.649994  332.149994  324.990753   \n",
       "2023-01-20  332.000000  335.200012  329.250000  334.600006  327.387939   \n",
       "2023-01-23  336.000000  338.149994  333.049988  337.750000  330.470062   \n",
       "2023-01-24  337.799988  340.750000  337.600006  338.950012  331.644226   \n",
       "2023-01-25  338.899994  341.000000  335.250000  339.250000  331.937714   \n",
       "\n",
       "              Volume  \n",
       "Date                  \n",
       "1996-01-01    985500  \n",
       "1996-01-02   7470000  \n",
       "1996-01-03  15160500  \n",
       "1996-01-04  12397500  \n",
       "1996-01-05   5008500  \n",
       "...              ...  \n",
       "2023-01-19   8346130  \n",
       "2023-01-20  13103664  \n",
       "2023-01-23   7124807  \n",
       "2023-01-24  12302874  \n",
       "2023-01-25  12497542  \n",
       "\n",
       "[6807 rows x 6 columns]"
      ]
     },
     "execution_count": 3,
     "metadata": {},
     "output_type": "execute_result"
    }
   ],
   "source": [
    "df= yf.download(company, period='max', end= endDate)\n",
    "df"
   ]
  },
  {
   "cell_type": "code",
   "execution_count": 4,
   "id": "befab8ef-6962-4fd4-868d-981004658ce4",
   "metadata": {
    "tags": []
   },
   "outputs": [],
   "source": [
    "trainSet= df.iloc[:, 1:2].values"
   ]
  },
  {
   "cell_type": "code",
   "execution_count": 5,
   "id": "4290e156-96af-4c1f-a302-15f2466d37e0",
   "metadata": {
    "tags": []
   },
   "outputs": [
    {
     "data": {
      "text/plain": [
       "(6807, 6)"
      ]
     },
     "execution_count": 5,
     "metadata": {},
     "output_type": "execute_result"
    }
   ],
   "source": [
    "df.shape"
   ]
  },
  {
   "cell_type": "code",
   "execution_count": 6,
   "id": "79b9ef41-ffae-4acb-9681-1da999bbff45",
   "metadata": {
    "tags": []
   },
   "outputs": [],
   "source": [
    "from sklearn.preprocessing import MinMaxScaler\n",
    "\n",
    "scaler= MinMaxScaler(feature_range=(0,1))"
   ]
  },
  {
   "cell_type": "code",
   "execution_count": 7,
   "id": "fb00b60f-d14f-42ad-b9fc-9271b12a8ff5",
   "metadata": {
    "tags": []
   },
   "outputs": [],
   "source": [
    "trainingSetScaled= scaler.fit_transform(df['Close'].values.reshape(-1,1))"
   ]
  },
  {
   "cell_type": "code",
   "execution_count": 8,
   "id": "8fab11b9-c797-41da-92ef-5290ae68928f",
   "metadata": {
    "tags": []
   },
   "outputs": [],
   "source": [
    "xTRAIN = []\n",
    "yTRAIN = []\n",
    "\n",
    "for i in range(100, len(trainingSetScaled)):\n",
    "    xTRAIN.append(trainingSetScaled[i-60:i, 0])\n",
    "    yTRAIN.append(trainingSetScaled[i, 0])\n",
    "    \n",
    "xTRAIN, yTRAIN= np.array(xTRAIN), np.array(yTRAIN)"
   ]
  },
  {
   "cell_type": "code",
   "execution_count": 9,
   "id": "cbd8001b-4a0a-4fd2-9065-b29386bc062b",
   "metadata": {
    "tags": []
   },
   "outputs": [],
   "source": [
    "xTRAIN= np.reshape(xTRAIN, newshape=(xTRAIN.shape[0], xTRAIN.shape[1], 1))"
   ]
  },
  {
   "cell_type": "code",
   "execution_count": 10,
   "id": "94428c54-0d8b-4ac5-8d29-95fbe0eb9256",
   "metadata": {
    "tags": []
   },
   "outputs": [
    {
     "data": {
      "text/plain": [
       "(6807, 1)"
      ]
     },
     "execution_count": 10,
     "metadata": {},
     "output_type": "execute_result"
    }
   ],
   "source": [
    "trainingSetScaled.shape"
   ]
  },
  {
   "cell_type": "code",
   "execution_count": 11,
   "id": "aa2e976f-2662-4a65-9906-2bcfa27011f8",
   "metadata": {
    "tags": []
   },
   "outputs": [
    {
     "data": {
      "text/plain": [
       "(6707, 60, 1)"
      ]
     },
     "execution_count": 11,
     "metadata": {},
     "output_type": "execute_result"
    }
   ],
   "source": [
    "xTRAIN.shape"
   ]
  },
  {
   "cell_type": "code",
   "execution_count": 12,
   "id": "2348c85d-8b88-4cce-bd14-1c54a71bef66",
   "metadata": {
    "tags": []
   },
   "outputs": [
    {
     "data": {
      "text/plain": [
       "(6707,)"
      ]
     },
     "execution_count": 12,
     "metadata": {},
     "output_type": "execute_result"
    }
   ],
   "source": [
    "yTRAIN.shape"
   ]
  },
  {
   "cell_type": "code",
   "execution_count": 13,
   "id": "5e6b1462-26e3-4444-bdb6-b8a67b2853e6",
   "metadata": {
    "tags": []
   },
   "outputs": [],
   "source": [
    "import tensorflow as tf\n",
    "from tensorflow import keras"
   ]
  },
  {
   "cell_type": "code",
   "execution_count": 56,
   "id": "d182ec53-6429-4327-a724-f1bf5c1d2ec8",
   "metadata": {
    "tags": []
   },
   "outputs": [],
   "source": [
    "regressor= keras.models.Sequential([\n",
    "    keras.layers.LSTM(units=84, return_sequences= True, input_shape= (xTRAIN.shape[1], 1)),\n",
    "    keras.layers.Dropout(rate= 0.2),\n",
    "    keras.layers.LSTM(units=64, return_sequences= True), \n",
    "    keras.layers.Dropout(rate= 0.2),\n",
    "    keras.layers.LSTM(units=50), \n",
    "    keras.layers.Dropout(rate= 0.2),\n",
    "    keras.layers.Dense(units= 1)\n",
    "])"
   ]
  },
  {
   "cell_type": "code",
   "execution_count": 57,
   "id": "0a41add4-812a-4cf4-8eb4-74f70717b4e2",
   "metadata": {
    "tags": []
   },
   "outputs": [
    {
     "name": "stdout",
     "output_type": "stream",
     "text": [
      "Model: \"sequential_1\"\n",
      "_________________________________________________________________\n",
      " Layer (type)                Output Shape              Param #   \n",
      "=================================================================\n",
      " lstm_3 (LSTM)               (None, 60, 84)            28896     \n",
      "                                                                 \n",
      " dropout_3 (Dropout)         (None, 60, 84)            0         \n",
      "                                                                 \n",
      " lstm_4 (LSTM)               (None, 60, 64)            38144     \n",
      "                                                                 \n",
      " dropout_4 (Dropout)         (None, 60, 64)            0         \n",
      "                                                                 \n",
      " lstm_5 (LSTM)               (None, 50)                23000     \n",
      "                                                                 \n",
      " dropout_5 (Dropout)         (None, 50)                0         \n",
      "                                                                 \n",
      " dense_1 (Dense)             (None, 1)                 51        \n",
      "                                                                 \n",
      "=================================================================\n",
      "Total params: 90,091\n",
      "Trainable params: 90,091\n",
      "Non-trainable params: 0\n",
      "_________________________________________________________________\n"
     ]
    }
   ],
   "source": [
    "regressor.summary()"
   ]
  },
  {
   "cell_type": "code",
   "execution_count": 58,
   "id": "fefcacef-bb27-46b4-9c0a-ba9dc874ff36",
   "metadata": {
    "tags": []
   },
   "outputs": [],
   "source": [
    "regressor.compile(optimizer= 'adam', loss= keras.losses.mean_squared_error)"
   ]
  },
  {
   "cell_type": "code",
   "execution_count": 59,
   "id": "941f7d2e-5cd5-4a22-8c08-17d610181f14",
   "metadata": {
    "tags": []
   },
   "outputs": [
    {
     "name": "stdout",
     "output_type": "stream",
     "text": [
      "Epoch 1/100\n",
      "210/210 [==============================] - 7s 20ms/step - loss: 0.0061\n",
      "Epoch 2/100\n",
      "210/210 [==============================] - 4s 19ms/step - loss: 0.0020\n",
      "Epoch 3/100\n",
      "210/210 [==============================] - 4s 19ms/step - loss: 0.0015\n",
      "Epoch 4/100\n",
      "210/210 [==============================] - 4s 19ms/step - loss: 0.0015\n",
      "Epoch 5/100\n",
      "210/210 [==============================] - 4s 19ms/step - loss: 0.0014\n",
      "Epoch 6/100\n",
      "210/210 [==============================] - 4s 20ms/step - loss: 0.0013\n",
      "Epoch 7/100\n",
      "210/210 [==============================] - 4s 19ms/step - loss: 0.0013\n",
      "Epoch 8/100\n",
      "210/210 [==============================] - 4s 19ms/step - loss: 0.0012\n",
      "Epoch 9/100\n",
      "210/210 [==============================] - 4s 19ms/step - loss: 0.0011\n",
      "Epoch 10/100\n",
      "210/210 [==============================] - 4s 19ms/step - loss: 0.0011\n",
      "Epoch 11/100\n",
      "210/210 [==============================] - 4s 18ms/step - loss: 9.7831e-04\n",
      "Epoch 12/100\n",
      "210/210 [==============================] - 4s 18ms/step - loss: 9.6235e-04\n",
      "Epoch 13/100\n",
      "210/210 [==============================] - 4s 19ms/step - loss: 9.2151e-04\n",
      "Epoch 14/100\n",
      "210/210 [==============================] - 4s 19ms/step - loss: 8.5998e-04\n",
      "Epoch 15/100\n",
      "210/210 [==============================] - 4s 18ms/step - loss: 8.5140e-04\n",
      "Epoch 16/100\n",
      "210/210 [==============================] - 4s 19ms/step - loss: 9.2946e-04\n",
      "Epoch 17/100\n",
      "210/210 [==============================] - 4s 18ms/step - loss: 7.8446e-04\n",
      "Epoch 18/100\n",
      "210/210 [==============================] - 4s 18ms/step - loss: 8.7773e-04\n",
      "Epoch 19/100\n",
      "210/210 [==============================] - 4s 19ms/step - loss: 8.1280e-04\n",
      "Epoch 20/100\n",
      "210/210 [==============================] - 4s 19ms/step - loss: 7.8662e-04\n",
      "Epoch 21/100\n",
      "210/210 [==============================] - 4s 18ms/step - loss: 7.4564e-04\n",
      "Epoch 22/100\n",
      "210/210 [==============================] - 4s 19ms/step - loss: 7.5662e-04\n",
      "Epoch 23/100\n",
      "210/210 [==============================] - 4s 19ms/step - loss: 7.7985e-04\n",
      "Epoch 24/100\n",
      "210/210 [==============================] - 4s 19ms/step - loss: 7.6869e-04\n",
      "Epoch 25/100\n",
      "210/210 [==============================] - 4s 19ms/step - loss: 7.7520e-04\n",
      "Epoch 26/100\n",
      "210/210 [==============================] - 4s 19ms/step - loss: 7.4501e-04\n",
      "Epoch 27/100\n",
      "210/210 [==============================] - 4s 19ms/step - loss: 7.2082e-04\n",
      "Epoch 28/100\n",
      "210/210 [==============================] - 4s 18ms/step - loss: 7.2801e-04\n",
      "Epoch 29/100\n",
      "210/210 [==============================] - 4s 19ms/step - loss: 8.0465e-04\n",
      "Epoch 30/100\n",
      "210/210 [==============================] - 4s 19ms/step - loss: 7.1760e-04\n",
      "Epoch 31/100\n",
      "210/210 [==============================] - 4s 18ms/step - loss: 7.2820e-04\n",
      "Epoch 32/100\n",
      "210/210 [==============================] - 4s 19ms/step - loss: 7.2563e-04\n",
      "Epoch 33/100\n",
      "210/210 [==============================] - 4s 18ms/step - loss: 7.3249e-04\n",
      "Epoch 34/100\n",
      "210/210 [==============================] - 4s 18ms/step - loss: 7.5820e-04\n",
      "Epoch 35/100\n",
      "210/210 [==============================] - 4s 18ms/step - loss: 7.5347e-04\n",
      "Epoch 36/100\n",
      "210/210 [==============================] - 4s 19ms/step - loss: 7.4029e-04\n",
      "Epoch 37/100\n",
      "210/210 [==============================] - 4s 19ms/step - loss: 7.4635e-04\n",
      "Epoch 38/100\n",
      "210/210 [==============================] - 4s 19ms/step - loss: 7.5012e-04\n",
      "Epoch 39/100\n",
      "210/210 [==============================] - 4s 19ms/step - loss: 7.2080e-04\n",
      "Epoch 40/100\n",
      "210/210 [==============================] - 4s 18ms/step - loss: 7.2625e-04\n",
      "Epoch 41/100\n",
      "210/210 [==============================] - 4s 18ms/step - loss: 7.2617e-04\n",
      "Epoch 42/100\n",
      "210/210 [==============================] - 4s 18ms/step - loss: 7.9520e-04\n",
      "Epoch 43/100\n",
      "210/210 [==============================] - 4s 18ms/step - loss: 6.8797e-04\n",
      "Epoch 44/100\n",
      "210/210 [==============================] - 4s 18ms/step - loss: 6.9844e-04\n",
      "Epoch 45/100\n",
      "210/210 [==============================] - 4s 18ms/step - loss: 7.3500e-04\n",
      "Epoch 46/100\n",
      "210/210 [==============================] - 4s 18ms/step - loss: 7.2403e-04\n",
      "Epoch 47/100\n",
      "210/210 [==============================] - 4s 18ms/step - loss: 7.4834e-04\n",
      "Epoch 48/100\n",
      "210/210 [==============================] - 4s 18ms/step - loss: 7.1963e-04\n",
      "Epoch 49/100\n",
      "210/210 [==============================] - 4s 18ms/step - loss: 6.7718e-04\n",
      "Epoch 50/100\n",
      "210/210 [==============================] - 4s 18ms/step - loss: 7.0951e-04\n",
      "Epoch 51/100\n",
      "210/210 [==============================] - 4s 18ms/step - loss: 6.4601e-04\n",
      "Epoch 52/100\n",
      "210/210 [==============================] - 4s 18ms/step - loss: 6.8376e-04\n",
      "Epoch 53/100\n",
      "210/210 [==============================] - 4s 18ms/step - loss: 6.8261e-04\n",
      "Epoch 54/100\n",
      "210/210 [==============================] - 4s 19ms/step - loss: 6.7428e-04\n",
      "Epoch 55/100\n",
      "210/210 [==============================] - 4s 18ms/step - loss: 6.6173e-04\n",
      "Epoch 56/100\n",
      "210/210 [==============================] - 4s 18ms/step - loss: 7.1680e-04\n",
      "Epoch 57/100\n",
      "210/210 [==============================] - 4s 18ms/step - loss: 6.9107e-04\n",
      "Epoch 58/100\n",
      "210/210 [==============================] - 4s 18ms/step - loss: 6.5924e-04\n",
      "Epoch 59/100\n",
      "210/210 [==============================] - 4s 18ms/step - loss: 6.5407e-04\n",
      "Epoch 60/100\n",
      "210/210 [==============================] - 4s 18ms/step - loss: 7.1560e-04\n",
      "Epoch 61/100\n",
      "210/210 [==============================] - 4s 18ms/step - loss: 6.4975e-04\n",
      "Epoch 62/100\n",
      "210/210 [==============================] - 4s 18ms/step - loss: 6.7271e-04\n",
      "Epoch 63/100\n",
      "210/210 [==============================] - 4s 18ms/step - loss: 6.5006e-04\n",
      "Epoch 64/100\n",
      "210/210 [==============================] - 4s 18ms/step - loss: 6.7104e-04\n",
      "Epoch 65/100\n",
      "210/210 [==============================] - 4s 18ms/step - loss: 6.7102e-04\n",
      "Epoch 66/100\n",
      "210/210 [==============================] - 5s 23ms/step - loss: 7.0665e-04\n",
      "Epoch 67/100\n",
      "210/210 [==============================] - 4s 19ms/step - loss: 6.3819e-04\n",
      "Epoch 68/100\n",
      "210/210 [==============================] - 4s 19ms/step - loss: 6.4789e-04\n",
      "Epoch 69/100\n",
      "210/210 [==============================] - 4s 19ms/step - loss: 6.6241e-04\n",
      "Epoch 70/100\n",
      "210/210 [==============================] - 4s 19ms/step - loss: 6.8952e-04\n",
      "Epoch 71/100\n",
      "210/210 [==============================] - 4s 18ms/step - loss: 6.7936e-04\n",
      "Epoch 72/100\n",
      "210/210 [==============================] - 4s 18ms/step - loss: 6.6398e-04\n",
      "Epoch 73/100\n",
      "210/210 [==============================] - 4s 18ms/step - loss: 7.0850e-04\n",
      "Epoch 74/100\n",
      "210/210 [==============================] - 4s 18ms/step - loss: 6.8538e-04\n",
      "Epoch 75/100\n",
      "210/210 [==============================] - 4s 18ms/step - loss: 6.7680e-04\n",
      "Epoch 76/100\n",
      "210/210 [==============================] - 4s 18ms/step - loss: 6.6558e-04\n",
      "Epoch 77/100\n",
      "210/210 [==============================] - 4s 18ms/step - loss: 6.4892e-04\n",
      "Epoch 78/100\n",
      "210/210 [==============================] - 4s 18ms/step - loss: 6.9122e-04\n",
      "Epoch 79/100\n",
      "210/210 [==============================] - 4s 18ms/step - loss: 6.5010e-04\n",
      "Epoch 80/100\n",
      "210/210 [==============================] - 4s 18ms/step - loss: 6.5388e-04\n",
      "Epoch 81/100\n",
      "210/210 [==============================] - 4s 19ms/step - loss: 6.6892e-04\n",
      "Epoch 82/100\n",
      "210/210 [==============================] - 4s 18ms/step - loss: 6.4978e-04\n",
      "Epoch 83/100\n",
      "210/210 [==============================] - 4s 20ms/step - loss: 6.7087e-04\n",
      "Epoch 84/100\n",
      "210/210 [==============================] - 4s 19ms/step - loss: 6.7807e-04\n",
      "Epoch 85/100\n",
      "210/210 [==============================] - 4s 19ms/step - loss: 6.6230e-04\n",
      "Epoch 86/100\n",
      "210/210 [==============================] - 4s 18ms/step - loss: 6.6027e-04\n",
      "Epoch 87/100\n",
      "210/210 [==============================] - 4s 18ms/step - loss: 6.8374e-04\n",
      "Epoch 88/100\n",
      "210/210 [==============================] - 4s 18ms/step - loss: 6.3798e-04\n",
      "Epoch 89/100\n",
      "210/210 [==============================] - 4s 18ms/step - loss: 6.3198e-04\n",
      "Epoch 90/100\n",
      "210/210 [==============================] - 4s 18ms/step - loss: 6.6821e-04\n",
      "Epoch 91/100\n",
      "210/210 [==============================] - 4s 19ms/step - loss: 6.5037e-04\n",
      "Epoch 92/100\n",
      "210/210 [==============================] - 4s 19ms/step - loss: 6.2115e-04\n",
      "Epoch 93/100\n",
      "210/210 [==============================] - 4s 19ms/step - loss: 6.2204e-04\n",
      "Epoch 94/100\n",
      "210/210 [==============================] - 4s 19ms/step - loss: 6.6091e-04\n",
      "Epoch 95/100\n",
      "210/210 [==============================] - 4s 19ms/step - loss: 6.2481e-04\n",
      "Epoch 96/100\n",
      "210/210 [==============================] - 4s 19ms/step - loss: 6.2834e-04\n",
      "Epoch 97/100\n",
      "210/210 [==============================] - 4s 19ms/step - loss: 6.1905e-04\n",
      "Epoch 98/100\n",
      "210/210 [==============================] - 4s 19ms/step - loss: 6.2386e-04\n",
      "Epoch 99/100\n",
      "210/210 [==============================] - 4s 21ms/step - loss: 6.2566e-04\n",
      "Epoch 100/100\n",
      "210/210 [==============================] - 4s 19ms/step - loss: 6.4060e-04\n"
     ]
    },
    {
     "data": {
      "text/plain": [
       "<keras.callbacks.History at 0x1e44085db40>"
      ]
     },
     "execution_count": 59,
     "metadata": {},
     "output_type": "execute_result"
    }
   ],
   "source": [
    "regressor.fit(x= xTRAIN, y=yTRAIN, batch_size= 32, epochs= 100)"
   ]
  },
  {
   "cell_type": "code",
   "execution_count": 60,
   "id": "82a1215b-90c1-49fa-8bd6-e5c7c678bb2c",
   "metadata": {
    "tags": []
   },
   "outputs": [
    {
     "name": "stdout",
     "output_type": "stream",
     "text": [
      "210/210 [==============================] - 2s 8ms/step\n"
     ]
    }
   ],
   "source": [
    "prdctn= regressor.predict(xTRAIN)"
   ]
  },
  {
   "cell_type": "markdown",
   "id": "2a89718c-9641-4ec1-8408-f22033b1f78c",
   "metadata": {
    "tags": []
   },
   "source": [
    "import tensorflow as tf\n",
    "\n",
    "# Load your Keras model\n",
    "model = tf.keras.models.load_model('../model/exports/ITC.NS/')\n",
    "\n",
    "# Convert the model to TensorFlow Lite\n",
    "converter = tf.lite.TFLiteConverter.from_keras_model(model)\n",
    "converter.target_spec.supported_ops = [tf.lite.OpsSet.TFLITE_BUILTINS, tf.lite.OpsSet.SELECT_TF_OPS]\n",
    "converter.experimental_lower_tensor_list_ops = False  # Disable lowering of tensor list ops\n",
    "tflite_model = converter.convert()\n",
    "\n",
    "# Save the converted TensorFlow Lite model\n",
    "tflite_model_path = '../model/exports/ITCx.NS.tflite'\n",
    "with open(tflite_model_path, 'wb') as f:\n",
    "    f.write(tflite_model)"
   ]
  },
  {
   "cell_type": "markdown",
   "id": "02c5a51c-6b13-41a0-b80d-854541b6322d",
   "metadata": {
    "tags": []
   },
   "source": [
    "regressor.save(f\"../model/exports/{company}/\")"
   ]
  },
  {
   "cell_type": "code",
   "execution_count": 61,
   "id": "e1cf83bd-e094-4ff0-8055-d7dd5b781a1b",
   "metadata": {
    "tags": []
   },
   "outputs": [
    {
     "name": "stdout",
     "output_type": "stream",
     "text": [
      "[*********************100%***********************]  1 of 1 completed\n"
     ]
    },
    {
     "data": {
      "text/html": [
       "<div>\n",
       "<style scoped>\n",
       "    .dataframe tbody tr th:only-of-type {\n",
       "        vertical-align: middle;\n",
       "    }\n",
       "\n",
       "    .dataframe tbody tr th {\n",
       "        vertical-align: top;\n",
       "    }\n",
       "\n",
       "    .dataframe thead th {\n",
       "        text-align: right;\n",
       "    }\n",
       "</style>\n",
       "<table border=\"1\" class=\"dataframe\">\n",
       "  <thead>\n",
       "    <tr style=\"text-align: right;\">\n",
       "      <th></th>\n",
       "      <th>Open</th>\n",
       "      <th>High</th>\n",
       "      <th>Low</th>\n",
       "      <th>Close</th>\n",
       "      <th>Adj Close</th>\n",
       "      <th>Volume</th>\n",
       "    </tr>\n",
       "    <tr>\n",
       "      <th>Date</th>\n",
       "      <th></th>\n",
       "      <th></th>\n",
       "      <th></th>\n",
       "      <th></th>\n",
       "      <th></th>\n",
       "      <th></th>\n",
       "    </tr>\n",
       "  </thead>\n",
       "  <tbody>\n",
       "    <tr>\n",
       "      <th>2023-01-27</th>\n",
       "      <td>341.799988</td>\n",
       "      <td>348.850006</td>\n",
       "      <td>341.500000</td>\n",
       "      <td>346.000000</td>\n",
       "      <td>338.542236</td>\n",
       "      <td>21040139</td>\n",
       "    </tr>\n",
       "    <tr>\n",
       "      <th>2023-01-30</th>\n",
       "      <td>346.899994</td>\n",
       "      <td>351.750000</td>\n",
       "      <td>341.850006</td>\n",
       "      <td>344.799988</td>\n",
       "      <td>337.368103</td>\n",
       "      <td>14091519</td>\n",
       "    </tr>\n",
       "    <tr>\n",
       "      <th>2023-01-31</th>\n",
       "      <td>346.000000</td>\n",
       "      <td>355.000000</td>\n",
       "      <td>341.049988</td>\n",
       "      <td>352.350006</td>\n",
       "      <td>344.755402</td>\n",
       "      <td>17134291</td>\n",
       "    </tr>\n",
       "    <tr>\n",
       "      <th>2023-02-01</th>\n",
       "      <td>353.000000</td>\n",
       "      <td>365.700012</td>\n",
       "      <td>329.100006</td>\n",
       "      <td>361.399994</td>\n",
       "      <td>353.610291</td>\n",
       "      <td>64518967</td>\n",
       "    </tr>\n",
       "    <tr>\n",
       "      <th>2023-02-02</th>\n",
       "      <td>361.600006</td>\n",
       "      <td>384.700012</td>\n",
       "      <td>360.399994</td>\n",
       "      <td>378.600006</td>\n",
       "      <td>370.439575</td>\n",
       "      <td>55745171</td>\n",
       "    </tr>\n",
       "    <tr>\n",
       "      <th>...</th>\n",
       "      <td>...</td>\n",
       "      <td>...</td>\n",
       "      <td>...</td>\n",
       "      <td>...</td>\n",
       "      <td>...</td>\n",
       "      <td>...</td>\n",
       "    </tr>\n",
       "    <tr>\n",
       "      <th>2023-05-23</th>\n",
       "      <td>426.000000</td>\n",
       "      <td>431.200012</td>\n",
       "      <td>424.200012</td>\n",
       "      <td>429.149994</td>\n",
       "      <td>426.522156</td>\n",
       "      <td>8732608</td>\n",
       "    </tr>\n",
       "    <tr>\n",
       "      <th>2023-05-24</th>\n",
       "      <td>428.299988</td>\n",
       "      <td>434.750000</td>\n",
       "      <td>427.000000</td>\n",
       "      <td>433.500000</td>\n",
       "      <td>430.845520</td>\n",
       "      <td>11479706</td>\n",
       "    </tr>\n",
       "    <tr>\n",
       "      <th>2023-05-25</th>\n",
       "      <td>436.950012</td>\n",
       "      <td>442.450012</td>\n",
       "      <td>434.799988</td>\n",
       "      <td>441.149994</td>\n",
       "      <td>438.448669</td>\n",
       "      <td>18204464</td>\n",
       "    </tr>\n",
       "    <tr>\n",
       "      <th>2023-05-26</th>\n",
       "      <td>443.399994</td>\n",
       "      <td>444.750000</td>\n",
       "      <td>439.500000</td>\n",
       "      <td>443.600006</td>\n",
       "      <td>440.883667</td>\n",
       "      <td>12995706</td>\n",
       "    </tr>\n",
       "    <tr>\n",
       "      <th>2023-05-29</th>\n",
       "      <td>445.000000</td>\n",
       "      <td>451.799988</td>\n",
       "      <td>444.100006</td>\n",
       "      <td>449.100006</td>\n",
       "      <td>446.350006</td>\n",
       "      <td>19826254</td>\n",
       "    </tr>\n",
       "  </tbody>\n",
       "</table>\n",
       "<p>81 rows × 6 columns</p>\n",
       "</div>"
      ],
      "text/plain": [
       "                  Open        High         Low       Close   Adj Close   \n",
       "Date                                                                     \n",
       "2023-01-27  341.799988  348.850006  341.500000  346.000000  338.542236  \\\n",
       "2023-01-30  346.899994  351.750000  341.850006  344.799988  337.368103   \n",
       "2023-01-31  346.000000  355.000000  341.049988  352.350006  344.755402   \n",
       "2023-02-01  353.000000  365.700012  329.100006  361.399994  353.610291   \n",
       "2023-02-02  361.600006  384.700012  360.399994  378.600006  370.439575   \n",
       "...                ...         ...         ...         ...         ...   \n",
       "2023-05-23  426.000000  431.200012  424.200012  429.149994  426.522156   \n",
       "2023-05-24  428.299988  434.750000  427.000000  433.500000  430.845520   \n",
       "2023-05-25  436.950012  442.450012  434.799988  441.149994  438.448669   \n",
       "2023-05-26  443.399994  444.750000  439.500000  443.600006  440.883667   \n",
       "2023-05-29  445.000000  451.799988  444.100006  449.100006  446.350006   \n",
       "\n",
       "              Volume  \n",
       "Date                  \n",
       "2023-01-27  21040139  \n",
       "2023-01-30  14091519  \n",
       "2023-01-31  17134291  \n",
       "2023-02-01  64518967  \n",
       "2023-02-02  55745171  \n",
       "...              ...  \n",
       "2023-05-23   8732608  \n",
       "2023-05-24  11479706  \n",
       "2023-05-25  18204464  \n",
       "2023-05-26  12995706  \n",
       "2023-05-29  19826254  \n",
       "\n",
       "[81 rows x 6 columns]"
      ]
     },
     "execution_count": 61,
     "metadata": {},
     "output_type": "execute_result"
    }
   ],
   "source": [
    "testDF= yf.download(company, period='1d', start=endDate, end=datetime.datetime.now())\n",
    "testDF"
   ]
  },
  {
   "cell_type": "code",
   "execution_count": 62,
   "id": "389e55a0-69eb-47cf-911a-c25a144e7f54",
   "metadata": {
    "tags": []
   },
   "outputs": [],
   "source": [
    "realSP= testDF['Close'].values"
   ]
  },
  {
   "cell_type": "code",
   "execution_count": 63,
   "id": "b0b39f2a-b963-42e2-ac19-b094e7a600eb",
   "metadata": {
    "tags": []
   },
   "outputs": [],
   "source": [
    "dfTotal= pd.concat((df['Open'], testDF['Open']), axis=0)"
   ]
  },
  {
   "cell_type": "code",
   "execution_count": 64,
   "id": "1d38eef2-00f4-48ae-9995-45097a8e46d8",
   "metadata": {
    "tags": []
   },
   "outputs": [],
   "source": [
    "modelInp= dfTotal[len(dfTotal)-len(testDF)-60:].values"
   ]
  },
  {
   "cell_type": "code",
   "execution_count": 65,
   "id": "efadd80d-1716-4048-bbb8-9a25d60d02e4",
   "metadata": {
    "tags": []
   },
   "outputs": [],
   "source": [
    "modelInp= modelInp.reshape(-1,1)"
   ]
  },
  {
   "cell_type": "code",
   "execution_count": 66,
   "id": "129d98f2-7644-4d32-ab0a-b6f178ae339a",
   "metadata": {
    "tags": []
   },
   "outputs": [],
   "source": [
    "modelInp= scaler.transform(modelInp)"
   ]
  },
  {
   "cell_type": "code",
   "execution_count": 67,
   "id": "215cec3c-4799-4d2a-b96b-659e853a792a",
   "metadata": {
    "tags": []
   },
   "outputs": [],
   "source": [
    "xTEST= []\n",
    "\n",
    "for i in range(60, len(modelInp)):\n",
    "    xTEST.append(modelInp[i-60:i, 0])\n",
    "\n",
    "xTEST= np.array(xTEST)"
   ]
  },
  {
   "cell_type": "code",
   "execution_count": 68,
   "id": "46abbba4-f265-46e6-b2e2-82faf84b9fbc",
   "metadata": {
    "tags": []
   },
   "outputs": [
    {
     "data": {
      "text/plain": [
       "(81, 60)"
      ]
     },
     "execution_count": 68,
     "metadata": {},
     "output_type": "execute_result"
    }
   ],
   "source": [
    "xTEST.shape"
   ]
  },
  {
   "cell_type": "code",
   "execution_count": 69,
   "id": "7508bf79-7a2a-404b-bc04-78fca7301d88",
   "metadata": {
    "tags": []
   },
   "outputs": [],
   "source": [
    "xTEST= np.reshape(xTEST, newshape= (xTEST.shape[0], xTEST.shape[1], 1))"
   ]
  },
  {
   "cell_type": "code",
   "execution_count": 70,
   "id": "90fabbdf-9e5b-485e-b60b-864bcf66bf38",
   "metadata": {
    "tags": []
   },
   "outputs": [],
   "source": [
    "#pred = pred[..., 0]"
   ]
  },
  {
   "cell_type": "code",
   "execution_count": 71,
   "id": "55905254-03e5-422e-91a2-ae829100169c",
   "metadata": {
    "tags": []
   },
   "outputs": [
    {
     "name": "stdout",
     "output_type": "stream",
     "text": [
      "3/3 [==============================] - 0s 21ms/step\n"
     ]
    }
   ],
   "source": [
    "pred= regressor.predict(xTEST)"
   ]
  },
  {
   "cell_type": "code",
   "execution_count": 72,
   "id": "d632f691-866a-4672-8f85-c9fe50db3e7e",
   "metadata": {
    "tags": []
   },
   "outputs": [],
   "source": [
    "pred= scaler.inverse_transform(pred)"
   ]
  },
  {
   "cell_type": "code",
   "execution_count": 73,
   "id": "18057536-819d-4b2a-88cc-a47ffad1db0f",
   "metadata": {
    "tags": []
   },
   "outputs": [
    {
     "data": {
      "text/plain": [
       "(81, 1)"
      ]
     },
     "execution_count": 73,
     "metadata": {},
     "output_type": "execute_result"
    }
   ],
   "source": [
    "pred.shape"
   ]
  },
  {
   "cell_type": "code",
   "execution_count": 74,
   "id": "bab731b6-96d6-4757-a779-f7bdf9932dd1",
   "metadata": {
    "tags": []
   },
   "outputs": [],
   "source": [
    "import matplotlib.pyplot as plt"
   ]
  },
  {
   "cell_type": "code",
   "execution_count": 75,
   "id": "6bc99ada-388b-47ed-a0eb-56188f50264e",
   "metadata": {
    "tags": []
   },
   "outputs": [
    {
     "data": {
      "image/png": "[encoded data removed]",
      "text/plain": [
       "<Figure size 640x480 with 1 Axes>"
      ]
     },
     "metadata": {},
     "output_type": "display_data"
    }
   ],
   "source": [
    "plt.plot(realSP, color= 'r', label= 'real')\n",
    "plt.plot(pred, color= 'b', label= 'pred')\n",
    "plt.legend()\n",
    "plt.show()"
   ]
  },
  {
   "cell_type": "code",
   "execution_count": 34,
   "id": "143aaaeb-a2cd-4213-afb2-b7f96e2bd61b",
   "metadata": {},
   "outputs": [],
   "source": [
    "realData= [modelInp[len(modelInp)+1-60:len(modelInp+1), 0]]"
   ]
  },
  {
   "cell_type": "code",
   "execution_count": 35,
   "id": "b7790752-9217-44a3-972f-9d0dd52fc21a",
   "metadata": {
    "tags": []
   },
   "outputs": [],
   "source": [
    "realData= np.array(realData)"
   ]
  },
  {
   "cell_type": "code",
   "execution_count": 36,
   "id": "d0d14766-e093-4c4f-96d3-7aba1a23a870",
   "metadata": {
    "tags": []
   },
   "outputs": [],
   "source": [
    "realData= np.reshape(realData, newshape=(realData.shape[0], realData.shape[1], 1))"
   ]
  },
  {
   "cell_type": "code",
   "execution_count": 37,
   "id": "d77a0da8-bf64-48a8-a4d5-35661339b47e",
   "metadata": {
    "tags": []
   },
   "outputs": [
    {
     "name": "stdout",
     "output_type": "stream",
     "text": [
      "1/1 [==============================] - 1s 699ms/step\n"
     ]
    }
   ],
   "source": [
    "prediction= regressor.predict(realData)"
   ]
  },
  {
   "cell_type": "code",
   "execution_count": 38,
   "id": "02347ad7-ffae-48ad-a9b2-4ec5c20b1c2a",
   "metadata": {
    "tags": []
   },
   "outputs": [],
   "source": [
    "prediction= scaler.inverse_transform(prediction)"
   ]
  },
  {
   "cell_type": "code",
   "execution_count": 39,
   "id": "09566a1f-f9cc-4889-85b2-338b02787ee1",
   "metadata": {
    "tags": []
   },
   "outputs": [
    {
     "data": {
      "text/plain": [
       "array([[418.8656]], dtype=float32)"
      ]
     },
     "execution_count": 39,
     "metadata": {},
     "output_type": "execute_result"
    }
   ],
   "source": [
    "prediction"
   ]
  },
  {
   "cell_type": "code",
   "execution_count": null,
   "id": "47d2cfc1-9428-4cea-b298-6d06daf85b24",
   "metadata": {},
   "outputs": [],
   "source": []
  }
 ],
 "metadata": {
  "kernelspec": {
   "display_name": "Python 3 (ipykernel)",
   "language": "python",
   "name": "python3"
  },
  "language_info": {
   "codemirror_mode": {
    "name": "ipython",
    "version": 3
   },
   "file_extension": ".py",
   "mimetype": "text/x-python",
   "name": "python",
   "nbconvert_exporter": "python",
   "pygments_lexer": "ipython3",
   "version": "3.10.9"
  }
 },
 "nbformat": 4,
 "nbformat_minor": 5
}
