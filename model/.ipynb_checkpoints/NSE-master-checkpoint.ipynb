{
 "cells": [
  {
   "cell_type": "code",
   "execution_count": 1,
   "id": "71b7d6a8-d691-4bb8-973f-f9c688ca6fd9",
   "metadata": {
    "tags": []
   },
   "outputs": [],
   "source": [
    "import numpy as np\n",
    "import pandas as pd"
   ]
  },
  {
   "cell_type": "code",
   "execution_count": 2,
   "id": "22f983c4-1c20-40e2-9011-e092c793c086",
   "metadata": {
    "tags": []
   },
   "outputs": [
    {
     "data": {
      "text/html": [
       "<div>\n",
       "<style scoped>\n",
       "    .dataframe tbody tr th:only-of-type {\n",
       "        vertical-align: middle;\n",
       "    }\n",
       "\n",
       "    .dataframe tbody tr th {\n",
       "        vertical-align: top;\n",
       "    }\n",
       "\n",
       "    .dataframe thead th {\n",
       "        text-align: right;\n",
       "    }\n",
       "</style>\n",
       "<table border=\"1\" class=\"dataframe\">\n",
       "  <thead>\n",
       "    <tr style=\"text-align: right;\">\n",
       "      <th></th>\n",
       "      <th>Date</th>\n",
       "      <th>Open</th>\n",
       "      <th>High</th>\n",
       "      <th>Low</th>\n",
       "      <th>Close</th>\n",
       "      <th>Adj Close</th>\n",
       "      <th>Volume</th>\n",
       "    </tr>\n",
       "  </thead>\n",
       "  <tbody>\n",
       "    <tr>\n",
       "      <th>0</th>\n",
       "      <td>2010-05-11</td>\n",
       "      <td>5189.750000</td>\n",
       "      <td>5206.700195</td>\n",
       "      <td>5126.500000</td>\n",
       "      <td>5136.149902</td>\n",
       "      <td>5136.149902</td>\n",
       "      <td>0</td>\n",
       "    </tr>\n",
       "    <tr>\n",
       "      <th>1</th>\n",
       "      <td>2010-05-12</td>\n",
       "      <td>5133.750000</td>\n",
       "      <td>5172.850098</td>\n",
       "      <td>5098.799805</td>\n",
       "      <td>5156.649902</td>\n",
       "      <td>5156.649902</td>\n",
       "      <td>0</td>\n",
       "    </tr>\n",
       "    <tr>\n",
       "      <th>2</th>\n",
       "      <td>2010-05-13</td>\n",
       "      <td>5157.549805</td>\n",
       "      <td>5212.700195</td>\n",
       "      <td>5147.950195</td>\n",
       "      <td>5178.899902</td>\n",
       "      <td>5178.899902</td>\n",
       "      <td>0</td>\n",
       "    </tr>\n",
       "    <tr>\n",
       "      <th>3</th>\n",
       "      <td>2010-05-14</td>\n",
       "      <td>5180.549805</td>\n",
       "      <td>5192.750000</td>\n",
       "      <td>5070.950195</td>\n",
       "      <td>5093.500000</td>\n",
       "      <td>5093.500000</td>\n",
       "      <td>0</td>\n",
       "    </tr>\n",
       "    <tr>\n",
       "      <th>4</th>\n",
       "      <td>2010-05-17</td>\n",
       "      <td>5093.899902</td>\n",
       "      <td>5094.549805</td>\n",
       "      <td>4966.250000</td>\n",
       "      <td>5059.899902</td>\n",
       "      <td>5059.899902</td>\n",
       "      <td>0</td>\n",
       "    </tr>\n",
       "  </tbody>\n",
       "</table>\n",
       "</div>"
      ],
      "text/plain": [
       "         Date         Open         High          Low        Close   \n",
       "0  2010-05-11  5189.750000  5206.700195  5126.500000  5136.149902  \\\n",
       "1  2010-05-12  5133.750000  5172.850098  5098.799805  5156.649902   \n",
       "2  2010-05-13  5157.549805  5212.700195  5147.950195  5178.899902   \n",
       "3  2010-05-14  5180.549805  5192.750000  5070.950195  5093.500000   \n",
       "4  2010-05-17  5093.899902  5094.549805  4966.250000  5059.899902   \n",
       "\n",
       "     Adj Close  Volume  \n",
       "0  5136.149902       0  \n",
       "1  5156.649902       0  \n",
       "2  5178.899902       0  \n",
       "3  5093.500000       0  \n",
       "4  5059.899902       0  "
      ]
     },
     "execution_count": 2,
     "metadata": {},
     "output_type": "execute_result"
    }
   ],
   "source": [
    "df= pd.read_csv('../dataset/^NSEI-train.csv')\n",
    "df.head()"
   ]
  },
  {
   "cell_type": "code",
   "execution_count": 3,
   "id": "befab8ef-6962-4fd4-868d-981004658ce4",
   "metadata": {
    "tags": []
   },
   "outputs": [],
   "source": [
    "trainSet= df.iloc[:, 1:2].values"
   ]
  },
  {
   "cell_type": "code",
   "execution_count": 4,
   "id": "4290e156-96af-4c1f-a302-15f2466d37e0",
   "metadata": {
    "tags": []
   },
   "outputs": [
    {
     "data": {
      "text/plain": [
       "(2443, 7)"
      ]
     },
     "execution_count": 4,
     "metadata": {},
     "output_type": "execute_result"
    }
   ],
   "source": [
    "df.shape"
   ]
  },
  {
   "cell_type": "code",
   "execution_count": 5,
   "id": "79b9ef41-ffae-4acb-9681-1da999bbff45",
   "metadata": {
    "tags": []
   },
   "outputs": [],
   "source": [
    "from sklearn.preprocessing import MinMaxScaler\n",
    "\n",
    "scaler= MinMaxScaler(feature_range=(0,1))"
   ]
  },
  {
   "cell_type": "code",
   "execution_count": 6,
   "id": "fb00b60f-d14f-42ad-b9fc-9271b12a8ff5",
   "metadata": {
    "tags": []
   },
   "outputs": [],
   "source": [
    "trainingSetScaled= scaler.fit_transform(df['Close'].values.reshape(-1,1))"
   ]
  },
  {
   "cell_type": "code",
   "execution_count": 7,
   "id": "8fab11b9-c797-41da-92ef-5290ae68928f",
   "metadata": {
    "tags": []
   },
   "outputs": [],
   "source": [
    "xTRAIN = []\n",
    "yTRAIN = []\n",
    "\n",
    "for i in range(60, len(trainingSetScaled)):\n",
    "    xTRAIN.append(trainingSetScaled[i-60:i, 0])\n",
    "    yTRAIN.append(trainingSetScaled[i, 0])\n",
    "    \n",
    "xTRAIN, yTRAIN= np.array(xTRAIN), np.array(yTRAIN)"
   ]
  },
  {
   "cell_type": "code",
   "execution_count": 8,
   "id": "cbd8001b-4a0a-4fd2-9065-b29386bc062b",
   "metadata": {
    "tags": []
   },
   "outputs": [],
   "source": [
    "xTRAIN= np.reshape(xTRAIN, newshape=(xTRAIN.shape[0], xTRAIN.shape[1], 1))"
   ]
  },
  {
   "cell_type": "code",
   "execution_count": 9,
   "id": "94428c54-0d8b-4ac5-8d29-95fbe0eb9256",
   "metadata": {
    "tags": []
   },
   "outputs": [
    {
     "data": {
      "text/plain": [
       "(2443, 1)"
      ]
     },
     "execution_count": 9,
     "metadata": {},
     "output_type": "execute_result"
    }
   ],
   "source": [
    "trainingSetScaled.shape"
   ]
  },
  {
   "cell_type": "code",
   "execution_count": 10,
   "id": "aa2e976f-2662-4a65-9906-2bcfa27011f8",
   "metadata": {
    "tags": []
   },
   "outputs": [
    {
     "data": {
      "text/plain": [
       "(2383, 60, 1)"
      ]
     },
     "execution_count": 10,
     "metadata": {},
     "output_type": "execute_result"
    }
   ],
   "source": [
    "xTRAIN.shape"
   ]
  },
  {
   "cell_type": "code",
   "execution_count": 11,
   "id": "2348c85d-8b88-4cce-bd14-1c54a71bef66",
   "metadata": {
    "tags": []
   },
   "outputs": [
    {
     "data": {
      "text/plain": [
       "(2383,)"
      ]
     },
     "execution_count": 11,
     "metadata": {},
     "output_type": "execute_result"
    }
   ],
   "source": [
    "yTRAIN.shape"
   ]
  },
  {
   "cell_type": "code",
   "execution_count": 12,
   "id": "5e6b1462-26e3-4444-bdb6-b8a67b2853e6",
   "metadata": {
    "tags": []
   },
   "outputs": [],
   "source": [
    "import tensorflow as tf\n",
    "from tensorflow import keras"
   ]
  },
  {
   "cell_type": "code",
   "execution_count": 13,
   "id": "d182ec53-6429-4327-a724-f1bf5c1d2ec8",
   "metadata": {
    "tags": []
   },
   "outputs": [],
   "source": [
    "regressor= keras.models.Sequential([\n",
    "    keras.layers.LSTM(units=64, return_sequences= True, input_shape= (xTRAIN.shape[1], 1)),\n",
    "    keras.layers.Dropout(rate= 0.2),\n",
    "    keras.layers.LSTM(units=50, return_sequences= True), \n",
    "    keras.layers.Dropout(rate= 0.2),\n",
    "    keras.layers.LSTM(units=50), \n",
    "    keras.layers.Dropout(rate= 0.2),\n",
    "    keras.layers.Dense(units= 1)\n",
    "])"
   ]
  },
  {
   "cell_type": "code",
   "execution_count": 14,
   "id": "0a41add4-812a-4cf4-8eb4-74f70717b4e2",
   "metadata": {
    "tags": []
   },
   "outputs": [
    {
     "name": "stdout",
     "output_type": "stream",
     "text": [
      "Model: \"sequential\"\n",
      "_________________________________________________________________\n",
      " Layer (type)                Output Shape              Param #   \n",
      "=================================================================\n",
      " lstm (LSTM)                 (None, 60, 64)            16896     \n",
      "                                                                 \n",
      " dropout (Dropout)           (None, 60, 64)            0         \n",
      "                                                                 \n",
      " lstm_1 (LSTM)               (None, 60, 50)            23000     \n",
      "                                                                 \n",
      " dropout_1 (Dropout)         (None, 60, 50)            0         \n",
      "                                                                 \n",
      " lstm_2 (LSTM)               (None, 50)                20200     \n",
      "                                                                 \n",
      " dropout_2 (Dropout)         (None, 50)                0         \n",
      "                                                                 \n",
      " dense (Dense)               (None, 1)                 51        \n",
      "                                                                 \n",
      "=================================================================\n",
      "Total params: 60,147\n",
      "Trainable params: 60,147\n",
      "Non-trainable params: 0\n",
      "_________________________________________________________________\n"
     ]
    }
   ],
   "source": [
    "regressor.summary()"
   ]
  },
  {
   "cell_type": "code",
   "execution_count": 15,
   "id": "fefcacef-bb27-46b4-9c0a-ba9dc874ff36",
   "metadata": {
    "tags": []
   },
   "outputs": [],
   "source": [
    "regressor.compile(optimizer= 'adam', loss= keras.losses.mean_squared_error)"
   ]
  },
  {
   "cell_type": "code",
   "execution_count": 16,
   "id": "941f7d2e-5cd5-4a22-8c08-17d610181f14",
   "metadata": {
    "tags": []
   },
   "outputs": [
    {
     "name": "stdout",
     "output_type": "stream",
     "text": [
      "Epoch 1/100\n",
      "75/75 [==============================] - 6s 21ms/step - loss: 0.0169\n",
      "Epoch 2/100\n",
      "75/75 [==============================] - 1s 19ms/step - loss: 0.0044\n",
      "Epoch 3/100\n",
      "75/75 [==============================] - 1s 19ms/step - loss: 0.0037\n",
      "Epoch 4/100\n",
      "75/75 [==============================] - 2s 26ms/step - loss: 0.0035\n",
      "Epoch 5/100\n",
      "75/75 [==============================] - 2s 22ms/step - loss: 0.0036\n",
      "Epoch 6/100\n",
      "75/75 [==============================] - 1s 20ms/step - loss: 0.0028\n",
      "Epoch 7/100\n",
      "75/75 [==============================] - 2s 24ms/step - loss: 0.0027\n",
      "Epoch 8/100\n",
      "75/75 [==============================] - 2s 22ms/step - loss: 0.0028\n",
      "Epoch 9/100\n",
      "75/75 [==============================] - 1s 18ms/step - loss: 0.0031\n",
      "Epoch 10/100\n",
      "75/75 [==============================] - 2s 25ms/step - loss: 0.0026\n",
      "Epoch 11/100\n",
      "75/75 [==============================] - 2s 25ms/step - loss: 0.0024\n",
      "Epoch 12/100\n",
      "75/75 [==============================] - 1s 20ms/step - loss: 0.0024\n",
      "Epoch 13/100\n",
      "75/75 [==============================] - 1s 20ms/step - loss: 0.0024\n",
      "Epoch 14/100\n",
      "75/75 [==============================] - 1s 20ms/step - loss: 0.0022\n",
      "Epoch 15/100\n",
      "75/75 [==============================] - 1s 20ms/step - loss: 0.0022\n",
      "Epoch 16/100\n",
      "75/75 [==============================] - 1s 20ms/step - loss: 0.0021\n",
      "Epoch 17/100\n",
      "75/75 [==============================] - 1s 20ms/step - loss: 0.0020\n",
      "Epoch 18/100\n",
      "75/75 [==============================] - 1s 20ms/step - loss: 0.0020\n",
      "Epoch 19/100\n",
      "75/75 [==============================] - 1s 19ms/step - loss: 0.0018\n",
      "Epoch 20/100\n",
      "75/75 [==============================] - 1s 19ms/step - loss: 0.0018\n",
      "Epoch 21/100\n",
      "75/75 [==============================] - 2s 20ms/step - loss: 0.0020\n",
      "Epoch 22/100\n",
      "75/75 [==============================] - 2s 20ms/step - loss: 0.0019\n",
      "Epoch 23/100\n",
      "75/75 [==============================] - 2s 20ms/step - loss: 0.0017\n",
      "Epoch 24/100\n",
      "75/75 [==============================] - 2s 20ms/step - loss: 0.0018\n",
      "Epoch 25/100\n",
      "75/75 [==============================] - 2s 20ms/step - loss: 0.0015\n",
      "Epoch 26/100\n",
      "75/75 [==============================] - 2s 20ms/step - loss: 0.0015\n",
      "Epoch 27/100\n",
      "75/75 [==============================] - 2s 20ms/step - loss: 0.0018\n",
      "Epoch 28/100\n",
      "75/75 [==============================] - 2s 20ms/step - loss: 0.0016\n",
      "Epoch 29/100\n",
      "75/75 [==============================] - 1s 20ms/step - loss: 0.0015\n",
      "Epoch 30/100\n",
      "75/75 [==============================] - 2s 20ms/step - loss: 0.0014\n",
      "Epoch 31/100\n",
      "75/75 [==============================] - 2s 20ms/step - loss: 0.0014\n",
      "Epoch 32/100\n",
      "75/75 [==============================] - 1s 20ms/step - loss: 0.0015\n",
      "Epoch 33/100\n",
      "75/75 [==============================] - 2s 20ms/step - loss: 0.0015\n",
      "Epoch 34/100\n",
      "75/75 [==============================] - 2s 22ms/step - loss: 0.0014\n",
      "Epoch 35/100\n",
      "75/75 [==============================] - 2s 23ms/step - loss: 0.0015\n",
      "Epoch 36/100\n",
      "75/75 [==============================] - 2s 23ms/step - loss: 0.0014\n",
      "Epoch 37/100\n",
      "75/75 [==============================] - 1s 19ms/step - loss: 0.0012\n",
      "Epoch 38/100\n",
      "75/75 [==============================] - 1s 20ms/step - loss: 0.0012\n",
      "Epoch 39/100\n",
      "75/75 [==============================] - 1s 19ms/step - loss: 0.0014\n",
      "Epoch 40/100\n",
      "75/75 [==============================] - 1s 20ms/step - loss: 0.0012\n",
      "Epoch 41/100\n",
      "75/75 [==============================] - 1s 20ms/step - loss: 0.0011\n",
      "Epoch 42/100\n",
      "75/75 [==============================] - 1s 19ms/step - loss: 0.0012\n",
      "Epoch 43/100\n",
      "75/75 [==============================] - 2s 20ms/step - loss: 0.0011\n",
      "Epoch 44/100\n",
      "75/75 [==============================] - 1s 20ms/step - loss: 0.0011\n",
      "Epoch 45/100\n",
      "75/75 [==============================] - 1s 20ms/step - loss: 0.0012\n",
      "Epoch 46/100\n",
      "75/75 [==============================] - 1s 19ms/step - loss: 0.0012\n",
      "Epoch 47/100\n",
      "75/75 [==============================] - 2s 20ms/step - loss: 0.0012\n",
      "Epoch 48/100\n",
      "75/75 [==============================] - 1s 20ms/step - loss: 0.0011\n",
      "Epoch 49/100\n",
      "75/75 [==============================] - 1s 20ms/step - loss: 0.0010\n",
      "Epoch 50/100\n",
      "75/75 [==============================] - 2s 20ms/step - loss: 0.0010\n",
      "Epoch 51/100\n",
      "75/75 [==============================] - 2s 20ms/step - loss: 0.0011\n",
      "Epoch 52/100\n",
      "75/75 [==============================] - 2s 20ms/step - loss: 0.0011\n",
      "Epoch 53/100\n",
      "75/75 [==============================] - 1s 20ms/step - loss: 0.0010\n",
      "Epoch 54/100\n",
      "75/75 [==============================] - 2s 20ms/step - loss: 0.0010\n",
      "Epoch 55/100\n",
      "75/75 [==============================] - 2s 20ms/step - loss: 9.7043e-04\n",
      "Epoch 56/100\n",
      "75/75 [==============================] - 1s 20ms/step - loss: 0.0010\n",
      "Epoch 57/100\n",
      "75/75 [==============================] - 1s 20ms/step - loss: 9.8327e-04\n",
      "Epoch 58/100\n",
      "75/75 [==============================] - 2s 20ms/step - loss: 9.8192e-04\n",
      "Epoch 59/100\n",
      "75/75 [==============================] - 2s 22ms/step - loss: 0.0010\n",
      "Epoch 60/100\n",
      "75/75 [==============================] - 2s 22ms/step - loss: 9.2227e-04\n",
      "Epoch 61/100\n",
      "75/75 [==============================] - 1s 20ms/step - loss: 9.8937e-04\n",
      "Epoch 62/100\n",
      "75/75 [==============================] - 1s 20ms/step - loss: 9.8059e-04\n",
      "Epoch 63/100\n",
      "75/75 [==============================] - 1s 20ms/step - loss: 9.4244e-04\n",
      "Epoch 64/100\n",
      "75/75 [==============================] - 2s 20ms/step - loss: 0.0010\n",
      "Epoch 65/100\n",
      "75/75 [==============================] - 2s 20ms/step - loss: 9.5067e-04\n",
      "Epoch 66/100\n",
      "75/75 [==============================] - 2s 20ms/step - loss: 8.9547e-04\n",
      "Epoch 67/100\n",
      "75/75 [==============================] - 2s 20ms/step - loss: 9.1115e-04\n",
      "Epoch 68/100\n",
      "75/75 [==============================] - 2s 20ms/step - loss: 0.0010\n",
      "Epoch 69/100\n",
      "75/75 [==============================] - 2s 26ms/step - loss: 9.1591e-04\n",
      "Epoch 70/100\n",
      "75/75 [==============================] - 1s 20ms/step - loss: 9.7347e-04\n",
      "Epoch 71/100\n",
      "75/75 [==============================] - 2s 20ms/step - loss: 9.7060e-04\n",
      "Epoch 72/100\n",
      "75/75 [==============================] - 1s 20ms/step - loss: 8.9274e-04\n",
      "Epoch 73/100\n",
      "75/75 [==============================] - 1s 20ms/step - loss: 9.0147e-04\n",
      "Epoch 74/100\n",
      "75/75 [==============================] - 1s 20ms/step - loss: 9.0936e-04\n",
      "Epoch 75/100\n",
      "75/75 [==============================] - 2s 20ms/step - loss: 9.1855e-04\n",
      "Epoch 76/100\n",
      "75/75 [==============================] - 1s 20ms/step - loss: 8.4491e-04\n",
      "Epoch 77/100\n",
      "75/75 [==============================] - 2s 20ms/step - loss: 8.7094e-04\n",
      "Epoch 78/100\n",
      "75/75 [==============================] - 2s 20ms/step - loss: 8.4833e-04\n",
      "Epoch 79/100\n",
      "75/75 [==============================] - 2s 20ms/step - loss: 8.3531e-04\n",
      "Epoch 80/100\n",
      "75/75 [==============================] - 1s 20ms/step - loss: 9.2435e-04\n",
      "Epoch 81/100\n",
      "75/75 [==============================] - 2s 20ms/step - loss: 9.2474e-04\n",
      "Epoch 82/100\n",
      "75/75 [==============================] - 2s 20ms/step - loss: 9.1220e-04\n",
      "Epoch 83/100\n",
      "75/75 [==============================] - 2s 20ms/step - loss: 8.7008e-04\n",
      "Epoch 84/100\n",
      "75/75 [==============================] - 1s 20ms/step - loss: 8.1416e-04\n",
      "Epoch 85/100\n",
      "75/75 [==============================] - 2s 21ms/step - loss: 8.9374e-04\n",
      "Epoch 86/100\n",
      "75/75 [==============================] - 2s 24ms/step - loss: 8.5190e-04\n",
      "Epoch 87/100\n",
      "75/75 [==============================] - 1s 20ms/step - loss: 9.8908e-04\n",
      "Epoch 88/100\n",
      "75/75 [==============================] - 1s 20ms/step - loss: 8.1170e-04\n",
      "Epoch 89/100\n",
      "75/75 [==============================] - 1s 20ms/step - loss: 8.9241e-04\n",
      "Epoch 90/100\n",
      "75/75 [==============================] - 2s 20ms/step - loss: 8.9793e-04\n",
      "Epoch 91/100\n",
      "75/75 [==============================] - 1s 20ms/step - loss: 8.7483e-04\n",
      "Epoch 92/100\n",
      "75/75 [==============================] - 1s 20ms/step - loss: 8.6182e-04\n",
      "Epoch 93/100\n",
      "75/75 [==============================] - 2s 21ms/step - loss: 8.1400e-04\n",
      "Epoch 94/100\n",
      "75/75 [==============================] - 2s 28ms/step - loss: 7.9932e-04\n",
      "Epoch 95/100\n",
      "75/75 [==============================] - 2s 23ms/step - loss: 8.2032e-04\n",
      "Epoch 96/100\n",
      "75/75 [==============================] - 2s 28ms/step - loss: 8.3410e-04\n",
      "Epoch 97/100\n",
      "75/75 [==============================] - 2s 20ms/step - loss: 9.6623e-04\n",
      "Epoch 98/100\n",
      "75/75 [==============================] - 2s 20ms/step - loss: 8.4547e-04\n",
      "Epoch 99/100\n",
      "75/75 [==============================] - 2s 21ms/step - loss: 7.9320e-04\n",
      "Epoch 100/100\n",
      "75/75 [==============================] - 1s 19ms/step - loss: 7.4983e-04\n"
     ]
    },
    {
     "data": {
      "text/plain": [
       "<keras.callbacks.History at 0x25a3d9762c0>"
      ]
     },
     "execution_count": 16,
     "metadata": {},
     "output_type": "execute_result"
    }
   ],
   "source": [
    "regressor.fit(x= xTRAIN, y=yTRAIN, batch_size= 32, epochs= 100)"
   ]
  },
  {
   "cell_type": "code",
   "execution_count": 17,
   "id": "82a1215b-90c1-49fa-8bd6-e5c7c678bb2c",
   "metadata": {
    "tags": []
   },
   "outputs": [
    {
     "name": "stdout",
     "output_type": "stream",
     "text": [
      "75/75 [==============================] - 1s 8ms/step\n"
     ]
    }
   ],
   "source": [
    "prdctn= regressor.predict(xTRAIN)"
   ]
  },
  {
   "cell_type": "code",
   "execution_count": 83,
   "id": "f1e8bebb-873a-4f8e-90ff-d5185a1fdb3c",
   "metadata": {
    "tags": []
   },
   "outputs": [
    {
     "name": "stderr",
     "output_type": "stream",
     "text": [
      "WARNING:absl:Found untraced functions such as lstm_cell_layer_call_fn, lstm_cell_layer_call_and_return_conditional_losses, lstm_cell_1_layer_call_fn, lstm_cell_1_layer_call_and_return_conditional_losses, lstm_cell_2_layer_call_fn while saving (showing 5 of 6). These functions will not be directly callable after loading.\n"
     ]
    },
    {
     "name": "stdout",
     "output_type": "stream",
     "text": [
      "INFO:tensorflow:Assets written to: ../model/exports/itcStockPredLSTM(v2)/assets\n"
     ]
    },
    {
     "name": "stderr",
     "output_type": "stream",
     "text": [
      "INFO:tensorflow:Assets written to: ../model/exports/itcStockPredLSTM(v2)/assets\n"
     ]
    }
   ],
   "source": [
    "regressor.save(f\"../model/exports/itcStockPredLSTM(v2)/\")"
   ]
  },
  {
   "cell_type": "code",
   "execution_count": 66,
   "id": "e1cf83bd-e094-4ff0-8055-d7dd5b781a1b",
   "metadata": {
    "tags": []
   },
   "outputs": [
    {
     "data": {
      "text/html": [
       "<div>\n",
       "<style scoped>\n",
       "    .dataframe tbody tr th:only-of-type {\n",
       "        vertical-align: middle;\n",
       "    }\n",
       "\n",
       "    .dataframe tbody tr th {\n",
       "        vertical-align: top;\n",
       "    }\n",
       "\n",
       "    .dataframe thead th {\n",
       "        text-align: right;\n",
       "    }\n",
       "</style>\n",
       "<table border=\"1\" class=\"dataframe\">\n",
       "  <thead>\n",
       "    <tr style=\"text-align: right;\">\n",
       "      <th></th>\n",
       "      <th>Date</th>\n",
       "      <th>Open</th>\n",
       "      <th>High</th>\n",
       "      <th>Low</th>\n",
       "      <th>Close</th>\n",
       "      <th>Adj Close</th>\n",
       "      <th>Volume</th>\n",
       "    </tr>\n",
       "  </thead>\n",
       "  <tbody>\n",
       "    <tr>\n",
       "      <th>0</th>\n",
       "      <td>2021-05-10</td>\n",
       "      <td>207.149994</td>\n",
       "      <td>207.449997</td>\n",
       "      <td>205.000000</td>\n",
       "      <td>205.550003</td>\n",
       "      <td>188.025925</td>\n",
       "      <td>16295368</td>\n",
       "    </tr>\n",
       "    <tr>\n",
       "      <th>1</th>\n",
       "      <td>2021-05-11</td>\n",
       "      <td>203.899994</td>\n",
       "      <td>206.500000</td>\n",
       "      <td>203.750000</td>\n",
       "      <td>204.000000</td>\n",
       "      <td>186.608047</td>\n",
       "      <td>13747541</td>\n",
       "    </tr>\n",
       "    <tr>\n",
       "      <th>2</th>\n",
       "      <td>2021-05-12</td>\n",
       "      <td>203.899994</td>\n",
       "      <td>205.250000</td>\n",
       "      <td>202.850006</td>\n",
       "      <td>203.250000</td>\n",
       "      <td>185.922012</td>\n",
       "      <td>16537612</td>\n",
       "    </tr>\n",
       "    <tr>\n",
       "      <th>3</th>\n",
       "      <td>2021-05-14</td>\n",
       "      <td>205.000000</td>\n",
       "      <td>213.199997</td>\n",
       "      <td>204.000000</td>\n",
       "      <td>212.250000</td>\n",
       "      <td>194.154709</td>\n",
       "      <td>61647120</td>\n",
       "    </tr>\n",
       "    <tr>\n",
       "      <th>4</th>\n",
       "      <td>2021-05-17</td>\n",
       "      <td>216.800003</td>\n",
       "      <td>217.000000</td>\n",
       "      <td>211.649994</td>\n",
       "      <td>212.600006</td>\n",
       "      <td>194.474869</td>\n",
       "      <td>38001828</td>\n",
       "    </tr>\n",
       "    <tr>\n",
       "      <th>...</th>\n",
       "      <td>...</td>\n",
       "      <td>...</td>\n",
       "      <td>...</td>\n",
       "      <td>...</td>\n",
       "      <td>...</td>\n",
       "      <td>...</td>\n",
       "      <td>...</td>\n",
       "    </tr>\n",
       "    <tr>\n",
       "      <th>489</th>\n",
       "      <td>2023-04-28</td>\n",
       "      <td>418.000000</td>\n",
       "      <td>428.250000</td>\n",
       "      <td>413.700012</td>\n",
       "      <td>425.549988</td>\n",
       "      <td>425.549988</td>\n",
       "      <td>12718721</td>\n",
       "    </tr>\n",
       "    <tr>\n",
       "      <th>490</th>\n",
       "      <td>2023-05-02</td>\n",
       "      <td>426.000000</td>\n",
       "      <td>427.000000</td>\n",
       "      <td>421.200012</td>\n",
       "      <td>424.450012</td>\n",
       "      <td>424.450012</td>\n",
       "      <td>10253527</td>\n",
       "    </tr>\n",
       "    <tr>\n",
       "      <th>491</th>\n",
       "      <td>2023-05-03</td>\n",
       "      <td>424.000000</td>\n",
       "      <td>428.500000</td>\n",
       "      <td>422.049988</td>\n",
       "      <td>427.149994</td>\n",
       "      <td>427.149994</td>\n",
       "      <td>7325483</td>\n",
       "    </tr>\n",
       "    <tr>\n",
       "      <th>492</th>\n",
       "      <td>2023-05-04</td>\n",
       "      <td>425.299988</td>\n",
       "      <td>427.000000</td>\n",
       "      <td>424.000000</td>\n",
       "      <td>424.600006</td>\n",
       "      <td>424.600006</td>\n",
       "      <td>7984933</td>\n",
       "    </tr>\n",
       "    <tr>\n",
       "      <th>493</th>\n",
       "      <td>2023-05-05</td>\n",
       "      <td>425.950012</td>\n",
       "      <td>431.899994</td>\n",
       "      <td>424.350006</td>\n",
       "      <td>428.750000</td>\n",
       "      <td>428.750000</td>\n",
       "      <td>12412416</td>\n",
       "    </tr>\n",
       "  </tbody>\n",
       "</table>\n",
       "<p>494 rows × 7 columns</p>\n",
       "</div>"
      ],
      "text/plain": [
       "           Date        Open        High         Low       Close   Adj Close   \n",
       "0    2021-05-10  207.149994  207.449997  205.000000  205.550003  188.025925  \\\n",
       "1    2021-05-11  203.899994  206.500000  203.750000  204.000000  186.608047   \n",
       "2    2021-05-12  203.899994  205.250000  202.850006  203.250000  185.922012   \n",
       "3    2021-05-14  205.000000  213.199997  204.000000  212.250000  194.154709   \n",
       "4    2021-05-17  216.800003  217.000000  211.649994  212.600006  194.474869   \n",
       "..          ...         ...         ...         ...         ...         ...   \n",
       "489  2023-04-28  418.000000  428.250000  413.700012  425.549988  425.549988   \n",
       "490  2023-05-02  426.000000  427.000000  421.200012  424.450012  424.450012   \n",
       "491  2023-05-03  424.000000  428.500000  422.049988  427.149994  427.149994   \n",
       "492  2023-05-04  425.299988  427.000000  424.000000  424.600006  424.600006   \n",
       "493  2023-05-05  425.950012  431.899994  424.350006  428.750000  428.750000   \n",
       "\n",
       "       Volume  \n",
       "0    16295368  \n",
       "1    13747541  \n",
       "2    16537612  \n",
       "3    61647120  \n",
       "4    38001828  \n",
       "..        ...  \n",
       "489  12718721  \n",
       "490  10253527  \n",
       "491   7325483  \n",
       "492   7984933  \n",
       "493  12412416  \n",
       "\n",
       "[494 rows x 7 columns]"
      ]
     },
     "execution_count": 66,
     "metadata": {},
     "output_type": "execute_result"
    }
   ],
   "source": [
    "testDF= pd.read_csv('../dataset/ITC.NS-test.csv')\n",
    "testDF"
   ]
  },
  {
   "cell_type": "code",
   "execution_count": 81,
   "id": "389e55a0-69eb-47cf-911a-c25a144e7f54",
   "metadata": {
    "tags": []
   },
   "outputs": [],
   "source": [
    "realSP= testDF['Close'].values"
   ]
  },
  {
   "cell_type": "code",
   "execution_count": 68,
   "id": "b0b39f2a-b963-42e2-ac19-b094e7a600eb",
   "metadata": {
    "tags": []
   },
   "outputs": [],
   "source": [
    "dfTotal= pd.concat((df['Open'], testDF['Open']), axis=0)"
   ]
  },
  {
   "cell_type": "code",
   "execution_count": 69,
   "id": "1d38eef2-00f4-48ae-9995-45097a8e46d8",
   "metadata": {
    "tags": []
   },
   "outputs": [],
   "source": [
    "modelInp= dfTotal[len(dfTotal)-len(testDF)-60:].values"
   ]
  },
  {
   "cell_type": "code",
   "execution_count": 70,
   "id": "efadd80d-1716-4048-bbb8-9a25d60d02e4",
   "metadata": {
    "tags": []
   },
   "outputs": [],
   "source": [
    "modelInp= modelInp.reshape(-1,1)"
   ]
  },
  {
   "cell_type": "code",
   "execution_count": 71,
   "id": "129d98f2-7644-4d32-ab0a-b6f178ae339a",
   "metadata": {
    "tags": []
   },
   "outputs": [],
   "source": [
    "modelInp= scaler.transform(modelInp)"
   ]
  },
  {
   "cell_type": "code",
   "execution_count": 72,
   "id": "215cec3c-4799-4d2a-b96b-659e853a792a",
   "metadata": {
    "tags": []
   },
   "outputs": [],
   "source": [
    "xTEST= []\n",
    "\n",
    "for i in range(60, len(modelInp)):\n",
    "    xTEST.append(modelInp[i-60:i, 0])\n",
    "\n",
    "xTEST= np.array(xTEST)"
   ]
  },
  {
   "cell_type": "code",
   "execution_count": 73,
   "id": "46abbba4-f265-46e6-b2e2-82faf84b9fbc",
   "metadata": {
    "tags": []
   },
   "outputs": [
    {
     "data": {
      "text/plain": [
       "(494, 60)"
      ]
     },
     "execution_count": 73,
     "metadata": {},
     "output_type": "execute_result"
    }
   ],
   "source": [
    "xTEST.shape"
   ]
  },
  {
   "cell_type": "code",
   "execution_count": 74,
   "id": "7508bf79-7a2a-404b-bc04-78fca7301d88",
   "metadata": {
    "tags": []
   },
   "outputs": [],
   "source": [
    "xTEST= np.reshape(xTEST, newshape= (xTEST.shape[0], xTEST.shape[1], 1))"
   ]
  },
  {
   "cell_type": "code",
   "execution_count": 75,
   "id": "90fabbdf-9e5b-485e-b60b-864bcf66bf38",
   "metadata": {
    "tags": []
   },
   "outputs": [],
   "source": [
    "#pred = pred[..., 0]"
   ]
  },
  {
   "cell_type": "code",
   "execution_count": 76,
   "id": "18057536-819d-4b2a-88cc-a47ffad1db0f",
   "metadata": {
    "tags": []
   },
   "outputs": [
    {
     "data": {
      "text/plain": [
       "(494, 1)"
      ]
     },
     "execution_count": 76,
     "metadata": {},
     "output_type": "execute_result"
    }
   ],
   "source": [
    "pred.shape"
   ]
  },
  {
   "cell_type": "code",
   "execution_count": 77,
   "id": "55905254-03e5-422e-91a2-ae829100169c",
   "metadata": {
    "tags": []
   },
   "outputs": [
    {
     "name": "stdout",
     "output_type": "stream",
     "text": [
      "16/16 [==============================] - 0s 20ms/step\n"
     ]
    }
   ],
   "source": [
    "pred= regressor.predict(xTEST)"
   ]
  },
  {
   "cell_type": "code",
   "execution_count": 78,
   "id": "d632f691-866a-4672-8f85-c9fe50db3e7e",
   "metadata": {
    "tags": []
   },
   "outputs": [],
   "source": [
    "pred= scaler.inverse_transform(pred)"
   ]
  },
  {
   "cell_type": "code",
   "execution_count": 79,
   "id": "bab731b6-96d6-4757-a779-f7bdf9932dd1",
   "metadata": {
    "tags": []
   },
   "outputs": [],
   "source": [
    "import matplotlib.pyplot as plt"
   ]
  },
  {
   "cell_type": "code",
   "execution_count": 82,
   "id": "6bc99ada-388b-47ed-a0eb-56188f50264e",
   "metadata": {
    "tags": []
   },
   "outputs": [
    {
     "data": {
      "image/png": "[encoded data removed]",
      "text/plain": [
       "<Figure size 640x480 with 1 Axes>"
      ]
     },
     "metadata": {},
     "output_type": "display_data"
    }
   ],
   "source": [
    "plt.plot(realSP, color= 'r', label= 'real')\n",
    "plt.plot(pred, color= 'b', label= 'pred')\n",
    "plt.legend()\n",
    "plt.show()"
   ]
  },
  {
   "cell_type": "code",
   "execution_count": null,
   "id": "143aaaeb-a2cd-4213-afb2-b7f96e2bd61b",
   "metadata": {},
   "outputs": [],
   "source": []
  }
 ],
 "metadata": {
  "kernelspec": {
   "display_name": "Python 3 (ipykernel)",
   "language": "python",
   "name": "python3"
  },
  "language_info": {
   "codemirror_mode": {
    "name": "ipython",
    "version": 3
   },
   "file_extension": ".py",
   "mimetype": "text/x-python",
   "name": "python",
   "nbconvert_exporter": "python",
   "pygments_lexer": "ipython3",
   "version": "3.10.9"
  }
 },
 "nbformat": 4,
 "nbformat_minor": 5
}
