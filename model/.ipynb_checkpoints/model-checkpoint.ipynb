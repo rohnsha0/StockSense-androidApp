{
 "cells": [
  {
   "cell_type": "code",
   "execution_count": 1,
   "id": "71b7d6a8-d691-4bb8-973f-f9c688ca6fd9",
   "metadata": {
    "tags": []
   },
   "outputs": [],
   "source": [
    "import numpy as np\n",
    "import pandas as pd"
   ]
  },
  {
   "cell_type": "code",
   "execution_count": 2,
   "id": "22f983c4-1c20-40e2-9011-e092c793c086",
   "metadata": {
    "tags": []
   },
   "outputs": [
    {
     "data": {
      "text/html": [
       "<div>\n",
       "<style scoped>\n",
       "    .dataframe tbody tr th:only-of-type {\n",
       "        vertical-align: middle;\n",
       "    }\n",
       "\n",
       "    .dataframe tbody tr th {\n",
       "        vertical-align: top;\n",
       "    }\n",
       "\n",
       "    .dataframe thead th {\n",
       "        text-align: right;\n",
       "    }\n",
       "</style>\n",
       "<table border=\"1\" class=\"dataframe\">\n",
       "  <thead>\n",
       "    <tr style=\"text-align: right;\">\n",
       "      <th></th>\n",
       "      <th>Date</th>\n",
       "      <th>Open</th>\n",
       "      <th>High</th>\n",
       "      <th>Low</th>\n",
       "      <th>Close</th>\n",
       "      <th>Adj Close</th>\n",
       "      <th>Volume</th>\n",
       "    </tr>\n",
       "  </thead>\n",
       "  <tbody>\n",
       "    <tr>\n",
       "      <th>0</th>\n",
       "      <td>2010-05-11</td>\n",
       "      <td>333.725006</td>\n",
       "      <td>334.312500</td>\n",
       "      <td>329.500000</td>\n",
       "      <td>332.593750</td>\n",
       "      <td>251.369781</td>\n",
       "      <td>5802824</td>\n",
       "    </tr>\n",
       "    <tr>\n",
       "      <th>1</th>\n",
       "      <td>2010-05-12</td>\n",
       "      <td>332.000000</td>\n",
       "      <td>337.362488</td>\n",
       "      <td>331.531250</td>\n",
       "      <td>335.212494</td>\n",
       "      <td>253.348938</td>\n",
       "      <td>9185176</td>\n",
       "    </tr>\n",
       "    <tr>\n",
       "      <th>2</th>\n",
       "      <td>2010-05-13</td>\n",
       "      <td>335.500000</td>\n",
       "      <td>340.375000</td>\n",
       "      <td>332.656250</td>\n",
       "      <td>338.268738</td>\n",
       "      <td>255.658859</td>\n",
       "      <td>4923880</td>\n",
       "    </tr>\n",
       "    <tr>\n",
       "      <th>3</th>\n",
       "      <td>2010-05-14</td>\n",
       "      <td>338.750000</td>\n",
       "      <td>340.875000</td>\n",
       "      <td>328.750000</td>\n",
       "      <td>331.487488</td>\n",
       "      <td>250.533630</td>\n",
       "      <td>6824496</td>\n",
       "    </tr>\n",
       "    <tr>\n",
       "      <th>4</th>\n",
       "      <td>2010-05-17</td>\n",
       "      <td>329.375000</td>\n",
       "      <td>331.006256</td>\n",
       "      <td>322.006256</td>\n",
       "      <td>327.043762</td>\n",
       "      <td>247.175095</td>\n",
       "      <td>8170824</td>\n",
       "    </tr>\n",
       "  </tbody>\n",
       "</table>\n",
       "</div>"
      ],
      "text/plain": [
       "         Date        Open        High         Low       Close   Adj Close   \n",
       "0  2010-05-11  333.725006  334.312500  329.500000  332.593750  251.369781  \\\n",
       "1  2010-05-12  332.000000  337.362488  331.531250  335.212494  253.348938   \n",
       "2  2010-05-13  335.500000  340.375000  332.656250  338.268738  255.658859   \n",
       "3  2010-05-14  338.750000  340.875000  328.750000  331.487488  250.533630   \n",
       "4  2010-05-17  329.375000  331.006256  322.006256  327.043762  247.175095   \n",
       "\n",
       "    Volume  \n",
       "0  5802824  \n",
       "1  9185176  \n",
       "2  4923880  \n",
       "3  6824496  \n",
       "4  8170824  "
      ]
     },
     "execution_count": 2,
     "metadata": {},
     "output_type": "execute_result"
    }
   ],
   "source": [
    "df= pd.read_csv('../dataset/WIPRO.NS-train.csv')\n",
    "df.head()"
   ]
  },
  {
   "cell_type": "code",
   "execution_count": 3,
   "id": "befab8ef-6962-4fd4-868d-981004658ce4",
   "metadata": {
    "tags": []
   },
   "outputs": [],
   "source": [
    "trainSet= df.iloc[:, 1:2].values"
   ]
  },
  {
   "cell_type": "code",
   "execution_count": 4,
   "id": "4290e156-96af-4c1f-a302-15f2466d37e0",
   "metadata": {
    "tags": []
   },
   "outputs": [
    {
     "data": {
      "text/plain": [
       "(2713, 7)"
      ]
     },
     "execution_count": 4,
     "metadata": {},
     "output_type": "execute_result"
    }
   ],
   "source": [
    "df.shape"
   ]
  },
  {
   "cell_type": "code",
   "execution_count": 5,
   "id": "79b9ef41-ffae-4acb-9681-1da999bbff45",
   "metadata": {
    "tags": []
   },
   "outputs": [],
   "source": [
    "from sklearn.preprocessing import MinMaxScaler\n",
    "\n",
    "scaler= MinMaxScaler(feature_range=(0,1))"
   ]
  },
  {
   "cell_type": "code",
   "execution_count": 6,
   "id": "fb00b60f-d14f-42ad-b9fc-9271b12a8ff5",
   "metadata": {
    "tags": []
   },
   "outputs": [],
   "source": [
    "trainingSetScaled= scaler.fit_transform(df['Close'].values.reshape(-1,1))"
   ]
  },
  {
   "cell_type": "code",
   "execution_count": 7,
   "id": "8fab11b9-c797-41da-92ef-5290ae68928f",
   "metadata": {
    "tags": []
   },
   "outputs": [],
   "source": [
    "xTRAIN = []\n",
    "yTRAIN = []\n",
    "\n",
    "for i in range(60, len(trainingSetScaled)):\n",
    "    xTRAIN.append(trainingSetScaled[i-60:i, 0])\n",
    "    yTRAIN.append(trainingSetScaled[i, 0])\n",
    "    \n",
    "xTRAIN, yTRAIN= np.array(xTRAIN), np.array(yTRAIN)"
   ]
  },
  {
   "cell_type": "code",
   "execution_count": 8,
   "id": "cbd8001b-4a0a-4fd2-9065-b29386bc062b",
   "metadata": {
    "tags": []
   },
   "outputs": [],
   "source": [
    "xTRAIN= np.reshape(xTRAIN, newshape=(xTRAIN.shape[0], xTRAIN.shape[1], 1))"
   ]
  },
  {
   "cell_type": "code",
   "execution_count": 9,
   "id": "94428c54-0d8b-4ac5-8d29-95fbe0eb9256",
   "metadata": {
    "tags": []
   },
   "outputs": [
    {
     "data": {
      "text/plain": [
       "(2713, 1)"
      ]
     },
     "execution_count": 9,
     "metadata": {},
     "output_type": "execute_result"
    }
   ],
   "source": [
    "trainingSetScaled.shape"
   ]
  },
  {
   "cell_type": "code",
   "execution_count": 10,
   "id": "aa2e976f-2662-4a65-9906-2bcfa27011f8",
   "metadata": {
    "tags": []
   },
   "outputs": [
    {
     "data": {
      "text/plain": [
       "(2653, 60, 1)"
      ]
     },
     "execution_count": 10,
     "metadata": {},
     "output_type": "execute_result"
    }
   ],
   "source": [
    "xTRAIN.shape"
   ]
  },
  {
   "cell_type": "code",
   "execution_count": 11,
   "id": "2348c85d-8b88-4cce-bd14-1c54a71bef66",
   "metadata": {
    "tags": []
   },
   "outputs": [
    {
     "data": {
      "text/plain": [
       "(2653,)"
      ]
     },
     "execution_count": 11,
     "metadata": {},
     "output_type": "execute_result"
    }
   ],
   "source": [
    "yTRAIN.shape"
   ]
  },
  {
   "cell_type": "code",
   "execution_count": 12,
   "id": "5e6b1462-26e3-4444-bdb6-b8a67b2853e6",
   "metadata": {
    "tags": []
   },
   "outputs": [],
   "source": [
    "import tensorflow as tf\n",
    "from tensorflow import keras"
   ]
  },
  {
   "cell_type": "code",
   "execution_count": 13,
   "id": "d182ec53-6429-4327-a724-f1bf5c1d2ec8",
   "metadata": {
    "tags": []
   },
   "outputs": [],
   "source": [
    "regressor= keras.models.Sequential([\n",
    "    keras.layers.LSTM(units=64, return_sequences= True, input_shape= (xTRAIN.shape[1], 1)),\n",
    "    keras.layers.Dropout(rate= 0.2),\n",
    "    keras.layers.LSTM(units=50, return_sequences= True), \n",
    "    keras.layers.Dropout(rate= 0.2),\n",
    "    keras.layers.LSTM(units=50), \n",
    "    keras.layers.Dropout(rate= 0.2),\n",
    "    keras.layers.Dense(units= 1)\n",
    "])"
   ]
  },
  {
   "cell_type": "code",
   "execution_count": 14,
   "id": "0a41add4-812a-4cf4-8eb4-74f70717b4e2",
   "metadata": {
    "tags": []
   },
   "outputs": [
    {
     "name": "stdout",
     "output_type": "stream",
     "text": [
      "Model: \"sequential\"\n",
      "_________________________________________________________________\n",
      " Layer (type)                Output Shape              Param #   \n",
      "=================================================================\n",
      " lstm (LSTM)                 (None, 60, 64)            16896     \n",
      "                                                                 \n",
      " dropout (Dropout)           (None, 60, 64)            0         \n",
      "                                                                 \n",
      " lstm_1 (LSTM)               (None, 60, 50)            23000     \n",
      "                                                                 \n",
      " dropout_1 (Dropout)         (None, 60, 50)            0         \n",
      "                                                                 \n",
      " lstm_2 (LSTM)               (None, 50)                20200     \n",
      "                                                                 \n",
      " dropout_2 (Dropout)         (None, 50)                0         \n",
      "                                                                 \n",
      " dense (Dense)               (None, 1)                 51        \n",
      "                                                                 \n",
      "=================================================================\n",
      "Total params: 60,147\n",
      "Trainable params: 60,147\n",
      "Non-trainable params: 0\n",
      "_________________________________________________________________\n"
     ]
    }
   ],
   "source": [
    "regressor.summary()"
   ]
  },
  {
   "cell_type": "code",
   "execution_count": 15,
   "id": "fefcacef-bb27-46b4-9c0a-ba9dc874ff36",
   "metadata": {
    "tags": []
   },
   "outputs": [],
   "source": [
    "regressor.compile(optimizer= 'adam', loss= keras.losses.mean_squared_error)"
   ]
  },
  {
   "cell_type": "code",
   "execution_count": 16,
   "id": "941f7d2e-5cd5-4a22-8c08-17d610181f14",
   "metadata": {
    "tags": []
   },
   "outputs": [
    {
     "name": "stdout",
     "output_type": "stream",
     "text": [
      "Epoch 1/100\n",
      "83/83 [==============================] - 6s 19ms/step - loss: 0.0061\n",
      "Epoch 2/100\n",
      "83/83 [==============================] - 2s 19ms/step - loss: 0.0017\n",
      "Epoch 3/100\n",
      "83/83 [==============================] - 2s 19ms/step - loss: 0.0015\n",
      "Epoch 4/100\n",
      "83/83 [==============================] - 2s 18ms/step - loss: 0.0014\n",
      "Epoch 5/100\n",
      "83/83 [==============================] - 2s 19ms/step - loss: 0.0015\n",
      "Epoch 6/100\n",
      "83/83 [==============================] - 2s 19ms/step - loss: 0.0012\n",
      "Epoch 7/100\n",
      "83/83 [==============================] - 2s 19ms/step - loss: 0.0012\n",
      "Epoch 8/100\n",
      "83/83 [==============================] - 2s 19ms/step - loss: 0.0011\n",
      "Epoch 9/100\n",
      "83/83 [==============================] - 2s 19ms/step - loss: 0.0012\n",
      "Epoch 10/100\n",
      "83/83 [==============================] - 2s 19ms/step - loss: 0.0011\n",
      "Epoch 11/100\n",
      "83/83 [==============================] - 2s 18ms/step - loss: 8.9045e-04\n",
      "Epoch 12/100\n",
      "83/83 [==============================] - 2s 19ms/step - loss: 0.0010\n",
      "Epoch 13/100\n",
      "83/83 [==============================] - 2s 19ms/step - loss: 8.4127e-04\n",
      "Epoch 14/100\n",
      "83/83 [==============================] - 2s 19ms/step - loss: 9.1518e-04\n",
      "Epoch 15/100\n",
      "83/83 [==============================] - 2s 19ms/step - loss: 8.3532e-04\n",
      "Epoch 16/100\n",
      "83/83 [==============================] - 2s 18ms/step - loss: 9.6142e-04\n",
      "Epoch 17/100\n",
      "83/83 [==============================] - 2s 19ms/step - loss: 7.9533e-04\n",
      "Epoch 18/100\n",
      "83/83 [==============================] - 2s 19ms/step - loss: 8.5493e-04\n",
      "Epoch 19/100\n",
      "83/83 [==============================] - 2s 19ms/step - loss: 7.1410e-04\n",
      "Epoch 20/100\n",
      "83/83 [==============================] - 2s 18ms/step - loss: 7.8089e-04\n",
      "Epoch 21/100\n",
      "83/83 [==============================] - 2s 18ms/step - loss: 6.7749e-04\n",
      "Epoch 22/100\n",
      "83/83 [==============================] - 2s 18ms/step - loss: 7.5067e-04\n",
      "Epoch 23/100\n",
      "83/83 [==============================] - 2s 19ms/step - loss: 6.6696e-04\n",
      "Epoch 24/100\n",
      "83/83 [==============================] - 2s 19ms/step - loss: 6.8807e-04\n",
      "Epoch 25/100\n",
      "83/83 [==============================] - 2s 19ms/step - loss: 6.7706e-04\n",
      "Epoch 26/100\n",
      "83/83 [==============================] - 2s 19ms/step - loss: 6.1801e-04\n",
      "Epoch 27/100\n",
      "83/83 [==============================] - 2s 18ms/step - loss: 5.8548e-04\n",
      "Epoch 28/100\n",
      "83/83 [==============================] - 2s 19ms/step - loss: 5.8016e-04\n",
      "Epoch 29/100\n",
      "83/83 [==============================] - 2s 19ms/step - loss: 6.3171e-04\n",
      "Epoch 30/100\n",
      "83/83 [==============================] - 2s 18ms/step - loss: 5.9555e-04\n",
      "Epoch 31/100\n",
      "83/83 [==============================] - 2s 18ms/step - loss: 6.2686e-04\n",
      "Epoch 32/100\n",
      "83/83 [==============================] - 2s 19ms/step - loss: 5.5044e-04\n",
      "Epoch 33/100\n",
      "83/83 [==============================] - 2s 18ms/step - loss: 5.8303e-04\n",
      "Epoch 34/100\n",
      "83/83 [==============================] - 2s 19ms/step - loss: 5.7884e-04\n",
      "Epoch 35/100\n",
      "83/83 [==============================] - 2s 18ms/step - loss: 5.5701e-04\n",
      "Epoch 36/100\n",
      "83/83 [==============================] - 2s 18ms/step - loss: 6.8585e-04\n",
      "Epoch 37/100\n",
      "83/83 [==============================] - 2s 18ms/step - loss: 5.5651e-04\n",
      "Epoch 38/100\n",
      "83/83 [==============================] - 2s 19ms/step - loss: 6.0661e-04\n",
      "Epoch 39/100\n",
      "83/83 [==============================] - 2s 19ms/step - loss: 6.0617e-04\n",
      "Epoch 40/100\n",
      "83/83 [==============================] - 2s 19ms/step - loss: 5.5860e-04\n",
      "Epoch 41/100\n",
      "83/83 [==============================] - 2s 18ms/step - loss: 6.3330e-04\n",
      "Epoch 42/100\n",
      "83/83 [==============================] - 2s 19ms/step - loss: 5.6664e-04\n",
      "Epoch 43/100\n",
      "83/83 [==============================] - 2s 19ms/step - loss: 5.2978e-04\n",
      "Epoch 44/100\n",
      "83/83 [==============================] - 2s 19ms/step - loss: 4.9725e-04\n",
      "Epoch 45/100\n",
      "83/83 [==============================] - 2s 19ms/step - loss: 5.5502e-04\n",
      "Epoch 46/100\n",
      "83/83 [==============================] - 2s 19ms/step - loss: 5.8304e-04\n",
      "Epoch 47/100\n",
      "83/83 [==============================] - 2s 19ms/step - loss: 5.8135e-04\n",
      "Epoch 48/100\n",
      "83/83 [==============================] - 2s 18ms/step - loss: 5.4235e-04\n",
      "Epoch 49/100\n",
      "83/83 [==============================] - 2s 19ms/step - loss: 5.2452e-04\n",
      "Epoch 50/100\n",
      "83/83 [==============================] - 2s 18ms/step - loss: 4.7860e-04\n",
      "Epoch 51/100\n",
      "83/83 [==============================] - 2s 18ms/step - loss: 5.6532e-04\n",
      "Epoch 52/100\n",
      "83/83 [==============================] - 2s 19ms/step - loss: 5.5808e-04\n",
      "Epoch 53/100\n",
      "83/83 [==============================] - 2s 19ms/step - loss: 5.2020e-04\n",
      "Epoch 54/100\n",
      "83/83 [==============================] - 2s 19ms/step - loss: 4.9882e-04\n",
      "Epoch 55/100\n",
      "83/83 [==============================] - 2s 19ms/step - loss: 5.8103e-04\n",
      "Epoch 56/100\n",
      "83/83 [==============================] - 2s 18ms/step - loss: 5.5806e-04\n",
      "Epoch 57/100\n",
      "83/83 [==============================] - 2s 18ms/step - loss: 5.3585e-04\n",
      "Epoch 58/100\n",
      "83/83 [==============================] - 2s 19ms/step - loss: 4.5824e-04\n",
      "Epoch 59/100\n",
      "83/83 [==============================] - 2s 19ms/step - loss: 5.6350e-04\n",
      "Epoch 60/100\n",
      "83/83 [==============================] - 2s 19ms/step - loss: 4.8076e-04\n",
      "Epoch 61/100\n",
      "83/83 [==============================] - 2s 18ms/step - loss: 6.1728e-04\n",
      "Epoch 62/100\n",
      "83/83 [==============================] - 2s 19ms/step - loss: 5.7219e-04\n",
      "Epoch 63/100\n",
      "83/83 [==============================] - 2s 19ms/step - loss: 5.2854e-04\n",
      "Epoch 64/100\n",
      "83/83 [==============================] - 2s 19ms/step - loss: 4.9708e-04\n",
      "Epoch 65/100\n",
      "83/83 [==============================] - 2s 19ms/step - loss: 5.0235e-04\n",
      "Epoch 66/100\n",
      "83/83 [==============================] - 2s 18ms/step - loss: 5.0923e-04\n",
      "Epoch 67/100\n",
      "83/83 [==============================] - 2s 19ms/step - loss: 4.5266e-04\n",
      "Epoch 68/100\n",
      "83/83 [==============================] - 2s 18ms/step - loss: 4.8696e-04\n",
      "Epoch 69/100\n",
      "83/83 [==============================] - 2s 19ms/step - loss: 4.0344e-04\n",
      "Epoch 70/100\n",
      "83/83 [==============================] - 2s 19ms/step - loss: 4.2855e-04\n",
      "Epoch 71/100\n",
      "83/83 [==============================] - 2s 19ms/step - loss: 4.5347e-04\n",
      "Epoch 72/100\n",
      "83/83 [==============================] - 2s 18ms/step - loss: 4.5267e-04\n",
      "Epoch 73/100\n",
      "83/83 [==============================] - 2s 18ms/step - loss: 4.9816e-04\n",
      "Epoch 74/100\n",
      "83/83 [==============================] - 2s 19ms/step - loss: 4.4765e-04\n",
      "Epoch 75/100\n",
      "83/83 [==============================] - 2s 19ms/step - loss: 5.4550e-04\n",
      "Epoch 76/100\n",
      "83/83 [==============================] - 2s 19ms/step - loss: 4.6172e-04\n",
      "Epoch 77/100\n",
      "83/83 [==============================] - 2s 18ms/step - loss: 4.7819e-04\n",
      "Epoch 78/100\n",
      "83/83 [==============================] - 2s 19ms/step - loss: 4.9053e-04\n",
      "Epoch 79/100\n",
      "83/83 [==============================] - 2s 18ms/step - loss: 4.5779e-04\n",
      "Epoch 80/100\n",
      "83/83 [==============================] - 2s 19ms/step - loss: 4.4478e-04\n",
      "Epoch 81/100\n",
      "83/83 [==============================] - 2s 19ms/step - loss: 4.3154e-04\n",
      "Epoch 82/100\n",
      "83/83 [==============================] - 2s 19ms/step - loss: 4.5592e-04\n",
      "Epoch 83/100\n",
      "83/83 [==============================] - 2s 19ms/step - loss: 5.5454e-04\n",
      "Epoch 84/100\n",
      "83/83 [==============================] - 2s 19ms/step - loss: 6.3546e-04\n",
      "Epoch 85/100\n",
      "83/83 [==============================] - 2s 19ms/step - loss: 4.7182e-04\n",
      "Epoch 86/100\n",
      "83/83 [==============================] - 2s 19ms/step - loss: 4.0155e-04\n",
      "Epoch 87/100\n",
      "83/83 [==============================] - 2s 19ms/step - loss: 5.1521e-04\n",
      "Epoch 88/100\n",
      "83/83 [==============================] - 2s 19ms/step - loss: 3.9573e-04\n",
      "Epoch 89/100\n",
      "83/83 [==============================] - 2s 19ms/step - loss: 4.3928e-04\n",
      "Epoch 90/100\n",
      "83/83 [==============================] - 2s 20ms/step - loss: 4.9324e-04\n",
      "Epoch 91/100\n",
      "83/83 [==============================] - 2s 21ms/step - loss: 4.6662e-04\n",
      "Epoch 92/100\n",
      "83/83 [==============================] - 2s 20ms/step - loss: 4.1468e-04\n",
      "Epoch 93/100\n",
      "83/83 [==============================] - 2s 20ms/step - loss: 4.1536e-04\n",
      "Epoch 94/100\n",
      "83/83 [==============================] - 2s 20ms/step - loss: 3.8549e-04\n",
      "Epoch 95/100\n",
      "83/83 [==============================] - 2s 20ms/step - loss: 4.5066e-04\n",
      "Epoch 96/100\n",
      "83/83 [==============================] - 2s 20ms/step - loss: 4.9102e-04\n",
      "Epoch 97/100\n",
      "83/83 [==============================] - 2s 20ms/step - loss: 5.2891e-04\n",
      "Epoch 98/100\n",
      "83/83 [==============================] - 2s 20ms/step - loss: 4.0250e-04\n",
      "Epoch 99/100\n",
      "83/83 [==============================] - 2s 20ms/step - loss: 4.3124e-04\n",
      "Epoch 100/100\n",
      "83/83 [==============================] - 2s 20ms/step - loss: 4.2951e-04\n"
     ]
    },
    {
     "data": {
      "text/plain": [
       "<keras.callbacks.History at 0x2bd1b70c490>"
      ]
     },
     "execution_count": 16,
     "metadata": {},
     "output_type": "execute_result"
    }
   ],
   "source": [
    "regressor.fit(x= xTRAIN, y=yTRAIN, batch_size= 32, epochs= 100)"
   ]
  },
  {
   "cell_type": "code",
   "execution_count": 17,
   "id": "82a1215b-90c1-49fa-8bd6-e5c7c678bb2c",
   "metadata": {
    "tags": []
   },
   "outputs": [
    {
     "name": "stdout",
     "output_type": "stream",
     "text": [
      "83/83 [==============================] - 1s 8ms/step\n"
     ]
    }
   ],
   "source": [
    "prdctn= regressor.predict(xTRAIN)"
   ]
  },
  {
   "cell_type": "code",
   "execution_count": 18,
   "id": "f1e8bebb-873a-4f8e-90ff-d5185a1fdb3c",
   "metadata": {
    "tags": []
   },
   "outputs": [
    {
     "name": "stderr",
     "output_type": "stream",
     "text": [
      "WARNING:absl:Found untraced functions such as lstm_cell_layer_call_fn, lstm_cell_layer_call_and_return_conditional_losses, lstm_cell_1_layer_call_fn, lstm_cell_1_layer_call_and_return_conditional_losses, lstm_cell_2_layer_call_fn while saving (showing 5 of 6). These functions will not be directly callable after loading.\n"
     ]
    },
    {
     "name": "stdout",
     "output_type": "stream",
     "text": [
      "INFO:tensorflow:Assets written to: ../model/exports/INFY/assets\n"
     ]
    },
    {
     "name": "stderr",
     "output_type": "stream",
     "text": [
      "INFO:tensorflow:Assets written to: ../model/exports/INFY/assets\n"
     ]
    }
   ],
   "source": [
    "regressor.save(f\"../model/exports/WIPRO/\")"
   ]
  },
  {
   "cell_type": "code",
   "execution_count": 19,
   "id": "e1cf83bd-e094-4ff0-8055-d7dd5b781a1b",
   "metadata": {
    "tags": []
   },
   "outputs": [
    {
     "data": {
      "text/html": [
       "<div>\n",
       "<style scoped>\n",
       "    .dataframe tbody tr th:only-of-type {\n",
       "        vertical-align: middle;\n",
       "    }\n",
       "\n",
       "    .dataframe tbody tr th {\n",
       "        vertical-align: top;\n",
       "    }\n",
       "\n",
       "    .dataframe thead th {\n",
       "        text-align: right;\n",
       "    }\n",
       "</style>\n",
       "<table border=\"1\" class=\"dataframe\">\n",
       "  <thead>\n",
       "    <tr style=\"text-align: right;\">\n",
       "      <th></th>\n",
       "      <th>Date</th>\n",
       "      <th>Open</th>\n",
       "      <th>High</th>\n",
       "      <th>Low</th>\n",
       "      <th>Close</th>\n",
       "      <th>Adj Close</th>\n",
       "      <th>Volume</th>\n",
       "    </tr>\n",
       "  </thead>\n",
       "  <tbody>\n",
       "    <tr>\n",
       "      <th>0</th>\n",
       "      <td>2021-05-10</td>\n",
       "      <td>1349.849976</td>\n",
       "      <td>1352.900024</td>\n",
       "      <td>1335.050049</td>\n",
       "      <td>1339.550049</td>\n",
       "      <td>1285.789917</td>\n",
       "      <td>7195348</td>\n",
       "    </tr>\n",
       "    <tr>\n",
       "      <th>1</th>\n",
       "      <td>2021-05-11</td>\n",
       "      <td>1336.900024</td>\n",
       "      <td>1341.000000</td>\n",
       "      <td>1325.099976</td>\n",
       "      <td>1330.650024</td>\n",
       "      <td>1277.247070</td>\n",
       "      <td>6420988</td>\n",
       "    </tr>\n",
       "    <tr>\n",
       "      <th>2</th>\n",
       "      <td>2021-05-12</td>\n",
       "      <td>1330.000000</td>\n",
       "      <td>1330.000000</td>\n",
       "      <td>1314.500000</td>\n",
       "      <td>1327.000000</td>\n",
       "      <td>1273.743530</td>\n",
       "      <td>5241898</td>\n",
       "    </tr>\n",
       "    <tr>\n",
       "      <th>3</th>\n",
       "      <td>2021-05-14</td>\n",
       "      <td>1326.849976</td>\n",
       "      <td>1326.849976</td>\n",
       "      <td>1311.300049</td>\n",
       "      <td>1316.400024</td>\n",
       "      <td>1263.568970</td>\n",
       "      <td>4824609</td>\n",
       "    </tr>\n",
       "    <tr>\n",
       "      <th>4</th>\n",
       "      <td>2021-05-17</td>\n",
       "      <td>1320.300049</td>\n",
       "      <td>1334.949951</td>\n",
       "      <td>1320.300049</td>\n",
       "      <td>1329.400024</td>\n",
       "      <td>1276.047119</td>\n",
       "      <td>5017129</td>\n",
       "    </tr>\n",
       "    <tr>\n",
       "      <th>...</th>\n",
       "      <td>...</td>\n",
       "      <td>...</td>\n",
       "      <td>...</td>\n",
       "      <td>...</td>\n",
       "      <td>...</td>\n",
       "      <td>...</td>\n",
       "      <td>...</td>\n",
       "    </tr>\n",
       "    <tr>\n",
       "      <th>489</th>\n",
       "      <td>2023-04-28</td>\n",
       "      <td>1255.699951</td>\n",
       "      <td>1259.000000</td>\n",
       "      <td>1244.949951</td>\n",
       "      <td>1252.750000</td>\n",
       "      <td>1252.750000</td>\n",
       "      <td>10118277</td>\n",
       "    </tr>\n",
       "    <tr>\n",
       "      <th>490</th>\n",
       "      <td>2023-05-02</td>\n",
       "      <td>1254.550049</td>\n",
       "      <td>1279.750000</td>\n",
       "      <td>1254.550049</td>\n",
       "      <td>1277.449951</td>\n",
       "      <td>1277.449951</td>\n",
       "      <td>8886401</td>\n",
       "    </tr>\n",
       "    <tr>\n",
       "      <th>491</th>\n",
       "      <td>2023-05-03</td>\n",
       "      <td>1266.000000</td>\n",
       "      <td>1272.500000</td>\n",
       "      <td>1262.099976</td>\n",
       "      <td>1269.150024</td>\n",
       "      <td>1269.150024</td>\n",
       "      <td>5549783</td>\n",
       "    </tr>\n",
       "    <tr>\n",
       "      <th>492</th>\n",
       "      <td>2023-05-04</td>\n",
       "      <td>1268.949951</td>\n",
       "      <td>1275.800049</td>\n",
       "      <td>1262.500000</td>\n",
       "      <td>1273.550049</td>\n",
       "      <td>1273.550049</td>\n",
       "      <td>4505401</td>\n",
       "    </tr>\n",
       "    <tr>\n",
       "      <th>493</th>\n",
       "      <td>2023-05-05</td>\n",
       "      <td>1279.000000</td>\n",
       "      <td>1279.000000</td>\n",
       "      <td>1254.250000</td>\n",
       "      <td>1259.099976</td>\n",
       "      <td>1259.099976</td>\n",
       "      <td>5373791</td>\n",
       "    </tr>\n",
       "  </tbody>\n",
       "</table>\n",
       "<p>494 rows × 7 columns</p>\n",
       "</div>"
      ],
      "text/plain": [
       "           Date         Open         High          Low        Close   \n",
       "0    2021-05-10  1349.849976  1352.900024  1335.050049  1339.550049  \\\n",
       "1    2021-05-11  1336.900024  1341.000000  1325.099976  1330.650024   \n",
       "2    2021-05-12  1330.000000  1330.000000  1314.500000  1327.000000   \n",
       "3    2021-05-14  1326.849976  1326.849976  1311.300049  1316.400024   \n",
       "4    2021-05-17  1320.300049  1334.949951  1320.300049  1329.400024   \n",
       "..          ...          ...          ...          ...          ...   \n",
       "489  2023-04-28  1255.699951  1259.000000  1244.949951  1252.750000   \n",
       "490  2023-05-02  1254.550049  1279.750000  1254.550049  1277.449951   \n",
       "491  2023-05-03  1266.000000  1272.500000  1262.099976  1269.150024   \n",
       "492  2023-05-04  1268.949951  1275.800049  1262.500000  1273.550049   \n",
       "493  2023-05-05  1279.000000  1279.000000  1254.250000  1259.099976   \n",
       "\n",
       "       Adj Close    Volume  \n",
       "0    1285.789917   7195348  \n",
       "1    1277.247070   6420988  \n",
       "2    1273.743530   5241898  \n",
       "3    1263.568970   4824609  \n",
       "4    1276.047119   5017129  \n",
       "..           ...       ...  \n",
       "489  1252.750000  10118277  \n",
       "490  1277.449951   8886401  \n",
       "491  1269.150024   5549783  \n",
       "492  1273.550049   4505401  \n",
       "493  1259.099976   5373791  \n",
       "\n",
       "[494 rows x 7 columns]"
      ]
     },
     "execution_count": 19,
     "metadata": {},
     "output_type": "execute_result"
    }
   ],
   "source": [
    "testDF= pd.read_csv('../dataset/WIPRO.NS-test.csv')\n",
    "testDF"
   ]
  },
  {
   "cell_type": "code",
   "execution_count": 20,
   "id": "389e55a0-69eb-47cf-911a-c25a144e7f54",
   "metadata": {
    "tags": []
   },
   "outputs": [],
   "source": [
    "realSP= testDF['Close'].values"
   ]
  },
  {
   "cell_type": "code",
   "execution_count": 21,
   "id": "b0b39f2a-b963-42e2-ac19-b094e7a600eb",
   "metadata": {
    "tags": []
   },
   "outputs": [],
   "source": [
    "dfTotal= pd.concat((df['Open'], testDF['Open']), axis=0)"
   ]
  },
  {
   "cell_type": "code",
   "execution_count": 22,
   "id": "1d38eef2-00f4-48ae-9995-45097a8e46d8",
   "metadata": {
    "tags": []
   },
   "outputs": [],
   "source": [
    "modelInp= dfTotal[len(dfTotal)-len(testDF)-60:].values"
   ]
  },
  {
   "cell_type": "code",
   "execution_count": 23,
   "id": "efadd80d-1716-4048-bbb8-9a25d60d02e4",
   "metadata": {
    "tags": []
   },
   "outputs": [],
   "source": [
    "modelInp= modelInp.reshape(-1,1)"
   ]
  },
  {
   "cell_type": "code",
   "execution_count": 24,
   "id": "129d98f2-7644-4d32-ab0a-b6f178ae339a",
   "metadata": {
    "tags": []
   },
   "outputs": [],
   "source": [
    "modelInp= scaler.transform(modelInp)"
   ]
  },
  {
   "cell_type": "code",
   "execution_count": 25,
   "id": "215cec3c-4799-4d2a-b96b-659e853a792a",
   "metadata": {
    "tags": []
   },
   "outputs": [],
   "source": [
    "xTEST= []\n",
    "\n",
    "for i in range(60, len(modelInp)):\n",
    "    xTEST.append(modelInp[i-60:i, 0])\n",
    "\n",
    "xTEST= np.array(xTEST)"
   ]
  },
  {
   "cell_type": "code",
   "execution_count": 26,
   "id": "46abbba4-f265-46e6-b2e2-82faf84b9fbc",
   "metadata": {
    "tags": []
   },
   "outputs": [
    {
     "data": {
      "text/plain": [
       "(494, 60)"
      ]
     },
     "execution_count": 26,
     "metadata": {},
     "output_type": "execute_result"
    }
   ],
   "source": [
    "xTEST.shape"
   ]
  },
  {
   "cell_type": "code",
   "execution_count": 27,
   "id": "7508bf79-7a2a-404b-bc04-78fca7301d88",
   "metadata": {
    "tags": []
   },
   "outputs": [],
   "source": [
    "xTEST= np.reshape(xTEST, newshape= (xTEST.shape[0], xTEST.shape[1], 1))"
   ]
  },
  {
   "cell_type": "code",
   "execution_count": 28,
   "id": "90fabbdf-9e5b-485e-b60b-864bcf66bf38",
   "metadata": {
    "tags": []
   },
   "outputs": [],
   "source": [
    "#pred = pred[..., 0]"
   ]
  },
  {
   "cell_type": "code",
   "execution_count": 30,
   "id": "55905254-03e5-422e-91a2-ae829100169c",
   "metadata": {
    "tags": []
   },
   "outputs": [
    {
     "name": "stdout",
     "output_type": "stream",
     "text": [
      "16/16 [==============================] - 0s 19ms/step\n"
     ]
    }
   ],
   "source": [
    "pred= regressor.predict(xTEST)"
   ]
  },
  {
   "cell_type": "code",
   "execution_count": 31,
   "id": "d632f691-866a-4672-8f85-c9fe50db3e7e",
   "metadata": {
    "tags": []
   },
   "outputs": [],
   "source": [
    "pred= scaler.inverse_transform(pred)"
   ]
  },
  {
   "cell_type": "code",
   "execution_count": 32,
   "id": "18057536-819d-4b2a-88cc-a47ffad1db0f",
   "metadata": {
    "tags": []
   },
   "outputs": [
    {
     "data": {
      "text/plain": [
       "(494, 1)"
      ]
     },
     "execution_count": 32,
     "metadata": {},
     "output_type": "execute_result"
    }
   ],
   "source": [
    "pred.shape"
   ]
  },
  {
   "cell_type": "code",
   "execution_count": 33,
   "id": "bab731b6-96d6-4757-a779-f7bdf9932dd1",
   "metadata": {
    "tags": []
   },
   "outputs": [],
   "source": [
    "import matplotlib.pyplot as plt"
   ]
  },
  {
   "cell_type": "code",
   "execution_count": 34,
   "id": "6bc99ada-388b-47ed-a0eb-56188f50264e",
   "metadata": {
    "tags": []
   },
   "outputs": [
    {
     "data": {
      "image/png": "[encoded data removed]",
      "text/plain": [
       "<Figure size 640x480 with 1 Axes>"
      ]
     },
     "metadata": {},
     "output_type": "display_data"
    }
   ],
   "source": [
    "plt.plot(realSP, color= 'r', label= 'real')\n",
    "plt.plot(pred, color= 'b', label= 'pred')\n",
    "plt.legend()\n",
    "plt.show()"
   ]
  },
  {
   "cell_type": "code",
   "execution_count": 47,
   "id": "143aaaeb-a2cd-4213-afb2-b7f96e2bd61b",
   "metadata": {},
   "outputs": [],
   "source": [
    "realData= [modelInp[len(modelInp)+1-60:len(modelInp+1), 0]]"
   ]
  },
  {
   "cell_type": "code",
   "execution_count": 48,
   "id": "b7790752-9217-44a3-972f-9d0dd52fc21a",
   "metadata": {
    "tags": []
   },
   "outputs": [],
   "source": [
    "realData= np.array(realData)"
   ]
  },
  {
   "cell_type": "code",
   "execution_count": 49,
   "id": "d0d14766-e093-4c4f-96d3-7aba1a23a870",
   "metadata": {
    "tags": []
   },
   "outputs": [],
   "source": [
    "realData= np.reshape(realData, newshape=(realData.shape[0], realData.shape[1], 1))"
   ]
  },
  {
   "cell_type": "code",
   "execution_count": 50,
   "id": "d77a0da8-bf64-48a8-a4d5-35661339b47e",
   "metadata": {
    "tags": []
   },
   "outputs": [
    {
     "name": "stdout",
     "output_type": "stream",
     "text": [
      "1/1 [==============================] - 0s 25ms/step\n"
     ]
    }
   ],
   "source": [
    "prediction= regressor.predict(realData)"
   ]
  },
  {
   "cell_type": "code",
   "execution_count": 51,
   "id": "02347ad7-ffae-48ad-a9b2-4ec5c20b1c2a",
   "metadata": {
    "tags": []
   },
   "outputs": [],
   "source": [
    "prediction= scaler.inverse_transform(prediction)"
   ]
  },
  {
   "cell_type": "code",
   "execution_count": 52,
   "id": "09566a1f-f9cc-4889-85b2-338b02787ee1",
   "metadata": {
    "tags": []
   },
   "outputs": [
    {
     "data": {
      "text/plain": [
       "array([[1237.9133]], dtype=float32)"
      ]
     },
     "execution_count": 52,
     "metadata": {},
     "output_type": "execute_result"
    }
   ],
   "source": [
    "prediction"
   ]
  },
  {
   "cell_type": "code",
   "execution_count": null,
   "id": "47d2cfc1-9428-4cea-b298-6d06daf85b24",
   "metadata": {},
   "outputs": [],
   "source": []
  }
 ],
 "metadata": {
  "kernelspec": {
   "display_name": "Python 3 (ipykernel)",
   "language": "python",
   "name": "python3"
  },
  "language_info": {
   "codemirror_mode": {
    "name": "ipython",
    "version": 3
   },
   "file_extension": ".py",
   "mimetype": "text/x-python",
   "name": "python",
   "nbconvert_exporter": "python",
   "pygments_lexer": "ipython3",
   "version": "3.10.9"
  }
 },
 "nbformat": 4,
 "nbformat_minor": 5
}
