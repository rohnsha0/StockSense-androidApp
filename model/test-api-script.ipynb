{
 "cells": [
  {
   "cell_type": "code",
   "execution_count": 1,
   "id": "0b34e70c-ba33-43cf-9c0f-67e10c820adb",
   "metadata": {
    "tags": []
   },
   "outputs": [],
   "source": [
    "import yfinance as yf\n",
    "from sklearn.preprocessing import MinMaxScaler\n",
    "import numpy as np\n",
    "import pandas as pd\n",
    "from datetime import datetime, timedelta\n",
    "import requests\n",
    "import json\n",
    "import tensorflow as tf\n",
    "from tensorflow import keras"
   ]
  },
  {
   "cell_type": "code",
   "execution_count": 2,
   "id": "ab7e0f93-0849-44b1-8a1d-8ce0eedaad63",
   "metadata": {
    "tags": []
   },
   "outputs": [],
   "source": [
    "end_date = datetime.now().date() - timedelta(days=15)\n",
    "start_date = datetime.now().date() - timedelta(days=59)\n",
    "\n",
    "end_date1 = datetime.now().date()\n",
    "start_date1 = datetime.now().date() - timedelta(days=14)"
   ]
  },
  {
   "cell_type": "code",
   "execution_count": 3,
   "id": "0ea5aee8-742e-4405-a67c-141b93b64896",
   "metadata": {},
   "outputs": [],
   "source": [
    "symb='RELIANCE.NS'"
   ]
  },
  {
   "cell_type": "code",
   "execution_count": 4,
   "id": "157a9f40-391b-4dfa-8304-c904bfc25884",
   "metadata": {
    "tags": []
   },
   "outputs": [
    {
     "name": "stdout",
     "output_type": "stream",
     "text": [
      "[*********************100%***********************]  1 of 1 completed\n"
     ]
    }
   ],
   "source": [
    "df = yf.download(symb, interval='30m', start=start_date, end=end_date)"
   ]
  },
  {
   "cell_type": "code",
   "execution_count": 5,
   "id": "5e46d2a5-7bf1-4cae-b8ad-6485f3e609e7",
   "metadata": {
    "tags": []
   },
   "outputs": [
    {
     "data": {
      "text/html": [
       "<div>\n",
       "<style scoped>\n",
       "    .dataframe tbody tr th:only-of-type {\n",
       "        vertical-align: middle;\n",
       "    }\n",
       "\n",
       "    .dataframe tbody tr th {\n",
       "        vertical-align: top;\n",
       "    }\n",
       "\n",
       "    .dataframe thead th {\n",
       "        text-align: right;\n",
       "    }\n",
       "</style>\n",
       "<table border=\"1\" class=\"dataframe\">\n",
       "  <thead>\n",
       "    <tr style=\"text-align: right;\">\n",
       "      <th></th>\n",
       "      <th>Open</th>\n",
       "      <th>High</th>\n",
       "      <th>Low</th>\n",
       "      <th>Close</th>\n",
       "      <th>Adj Close</th>\n",
       "      <th>Volume</th>\n",
       "    </tr>\n",
       "    <tr>\n",
       "      <th>Datetime</th>\n",
       "      <th></th>\n",
       "      <th></th>\n",
       "      <th></th>\n",
       "      <th></th>\n",
       "      <th></th>\n",
       "      <th></th>\n",
       "    </tr>\n",
       "  </thead>\n",
       "  <tbody>\n",
       "    <tr>\n",
       "      <th>2023-03-16 09:30:00</th>\n",
       "      <td>2219.399902</td>\n",
       "      <td>2219.399902</td>\n",
       "      <td>2202.199951</td>\n",
       "      <td>2210.000000</td>\n",
       "      <td>2210.000000</td>\n",
       "      <td>1165669</td>\n",
       "    </tr>\n",
       "    <tr>\n",
       "      <th>2023-03-16 10:00:00</th>\n",
       "      <td>2210.000000</td>\n",
       "      <td>2235.949951</td>\n",
       "      <td>2207.000000</td>\n",
       "      <td>2229.000000</td>\n",
       "      <td>2229.000000</td>\n",
       "      <td>1103249</td>\n",
       "    </tr>\n",
       "    <tr>\n",
       "      <th>2023-03-16 10:30:00</th>\n",
       "      <td>2229.000000</td>\n",
       "      <td>2248.550049</td>\n",
       "      <td>2226.250000</td>\n",
       "      <td>2244.449951</td>\n",
       "      <td>2244.449951</td>\n",
       "      <td>766763</td>\n",
       "    </tr>\n",
       "    <tr>\n",
       "      <th>2023-03-16 11:00:00</th>\n",
       "      <td>2243.600098</td>\n",
       "      <td>2254.000000</td>\n",
       "      <td>2242.199951</td>\n",
       "      <td>2246.300049</td>\n",
       "      <td>2246.300049</td>\n",
       "      <td>555690</td>\n",
       "    </tr>\n",
       "    <tr>\n",
       "      <th>2023-03-16 11:30:00</th>\n",
       "      <td>2246.500000</td>\n",
       "      <td>2248.000000</td>\n",
       "      <td>2230.699951</td>\n",
       "      <td>2232.000000</td>\n",
       "      <td>2232.000000</td>\n",
       "      <td>457350</td>\n",
       "    </tr>\n",
       "  </tbody>\n",
       "</table>\n",
       "</div>"
      ],
      "text/plain": [
       "                            Open         High          Low        Close   \n",
       "Datetime                                                                  \n",
       "2023-03-16 09:30:00  2219.399902  2219.399902  2202.199951  2210.000000  \\\n",
       "2023-03-16 10:00:00  2210.000000  2235.949951  2207.000000  2229.000000   \n",
       "2023-03-16 10:30:00  2229.000000  2248.550049  2226.250000  2244.449951   \n",
       "2023-03-16 11:00:00  2243.600098  2254.000000  2242.199951  2246.300049   \n",
       "2023-03-16 11:30:00  2246.500000  2248.000000  2230.699951  2232.000000   \n",
       "\n",
       "                       Adj Close   Volume  \n",
       "Datetime                                   \n",
       "2023-03-16 09:30:00  2210.000000  1165669  \n",
       "2023-03-16 10:00:00  2229.000000  1103249  \n",
       "2023-03-16 10:30:00  2244.449951   766763  \n",
       "2023-03-16 11:00:00  2246.300049   555690  \n",
       "2023-03-16 11:30:00  2232.000000   457350  "
      ]
     },
     "execution_count": 5,
     "metadata": {},
     "output_type": "execute_result"
    }
   ],
   "source": [
    "df.head()"
   ]
  },
  {
   "cell_type": "markdown",
   "id": "8e4c8ad3-e074-4bfa-a28a-902e21c01dd2",
   "metadata": {
    "tags": []
   },
   "source": [
    "data=data.reset_index()"
   ]
  },
  {
   "cell_type": "code",
   "execution_count": 6,
   "id": "4d0e8324-cd9a-4c8d-9bb0-1b4189452bb7",
   "metadata": {
    "tags": []
   },
   "outputs": [],
   "source": [
    "df.reset_index(inplace=True)"
   ]
  },
  {
   "cell_type": "markdown",
   "id": "c58e1caa-c12c-4ac9-84dc-cfb70c9b9b65",
   "metadata": {
    "tags": []
   },
   "source": [
    "dataDF= requests.get(\"http://127.0.0.1:8000/api/query/ITC.NS/\") "
   ]
  },
  {
   "cell_type": "markdown",
   "id": "97587c16-f706-469a-99fe-58796fd5e286",
   "metadata": {
    "tags": []
   },
   "source": [
    "dataD= dataDF.json()"
   ]
  },
  {
   "cell_type": "markdown",
   "id": "3c5cb14e-b436-406f-b603-fe6b84990b3c",
   "metadata": {
    "tags": []
   },
   "source": [
    "df= pd.read_json(dataDF.json())"
   ]
  },
  {
   "cell_type": "code",
   "execution_count": 7,
   "id": "bb1ea128-d2c0-4185-a73f-a9334050314b",
   "metadata": {
    "tags": []
   },
   "outputs": [
    {
     "data": {
      "text/html": [
       "<div>\n",
       "<style scoped>\n",
       "    .dataframe tbody tr th:only-of-type {\n",
       "        vertical-align: middle;\n",
       "    }\n",
       "\n",
       "    .dataframe tbody tr th {\n",
       "        vertical-align: top;\n",
       "    }\n",
       "\n",
       "    .dataframe thead th {\n",
       "        text-align: right;\n",
       "    }\n",
       "</style>\n",
       "<table border=\"1\" class=\"dataframe\">\n",
       "  <thead>\n",
       "    <tr style=\"text-align: right;\">\n",
       "      <th></th>\n",
       "      <th>Datetime</th>\n",
       "      <th>Open</th>\n",
       "      <th>High</th>\n",
       "      <th>Low</th>\n",
       "      <th>Close</th>\n",
       "      <th>Adj Close</th>\n",
       "      <th>Volume</th>\n",
       "    </tr>\n",
       "  </thead>\n",
       "  <tbody>\n",
       "    <tr>\n",
       "      <th>0</th>\n",
       "      <td>2023-03-16 09:30:00</td>\n",
       "      <td>2219.399902</td>\n",
       "      <td>2219.399902</td>\n",
       "      <td>2202.199951</td>\n",
       "      <td>2210.000000</td>\n",
       "      <td>2210.000000</td>\n",
       "      <td>1165669</td>\n",
       "    </tr>\n",
       "    <tr>\n",
       "      <th>1</th>\n",
       "      <td>2023-03-16 10:00:00</td>\n",
       "      <td>2210.000000</td>\n",
       "      <td>2235.949951</td>\n",
       "      <td>2207.000000</td>\n",
       "      <td>2229.000000</td>\n",
       "      <td>2229.000000</td>\n",
       "      <td>1103249</td>\n",
       "    </tr>\n",
       "    <tr>\n",
       "      <th>2</th>\n",
       "      <td>2023-03-16 10:30:00</td>\n",
       "      <td>2229.000000</td>\n",
       "      <td>2248.550049</td>\n",
       "      <td>2226.250000</td>\n",
       "      <td>2244.449951</td>\n",
       "      <td>2244.449951</td>\n",
       "      <td>766763</td>\n",
       "    </tr>\n",
       "    <tr>\n",
       "      <th>3</th>\n",
       "      <td>2023-03-16 11:00:00</td>\n",
       "      <td>2243.600098</td>\n",
       "      <td>2254.000000</td>\n",
       "      <td>2242.199951</td>\n",
       "      <td>2246.300049</td>\n",
       "      <td>2246.300049</td>\n",
       "      <td>555690</td>\n",
       "    </tr>\n",
       "    <tr>\n",
       "      <th>4</th>\n",
       "      <td>2023-03-16 11:30:00</td>\n",
       "      <td>2246.500000</td>\n",
       "      <td>2248.000000</td>\n",
       "      <td>2230.699951</td>\n",
       "      <td>2232.000000</td>\n",
       "      <td>2232.000000</td>\n",
       "      <td>457350</td>\n",
       "    </tr>\n",
       "  </tbody>\n",
       "</table>\n",
       "</div>"
      ],
      "text/plain": [
       "             Datetime         Open         High          Low        Close   \n",
       "0 2023-03-16 09:30:00  2219.399902  2219.399902  2202.199951  2210.000000  \\\n",
       "1 2023-03-16 10:00:00  2210.000000  2235.949951  2207.000000  2229.000000   \n",
       "2 2023-03-16 10:30:00  2229.000000  2248.550049  2226.250000  2244.449951   \n",
       "3 2023-03-16 11:00:00  2243.600098  2254.000000  2242.199951  2246.300049   \n",
       "4 2023-03-16 11:30:00  2246.500000  2248.000000  2230.699951  2232.000000   \n",
       "\n",
       "     Adj Close   Volume  \n",
       "0  2210.000000  1165669  \n",
       "1  2229.000000  1103249  \n",
       "2  2244.449951   766763  \n",
       "3  2246.300049   555690  \n",
       "4  2232.000000   457350  "
      ]
     },
     "execution_count": 7,
     "metadata": {},
     "output_type": "execute_result"
    }
   ],
   "source": [
    "df.head()"
   ]
  },
  {
   "cell_type": "code",
   "execution_count": 8,
   "id": "f3afa1c7-9263-4c50-8e64-7c1f0581c612",
   "metadata": {
    "tags": []
   },
   "outputs": [
    {
     "data": {
      "text/plain": [
       "Datetime     datetime64[ns]\n",
       "Open                float64\n",
       "High                float64\n",
       "Low                 float64\n",
       "Close               float64\n",
       "Adj Close           float64\n",
       "Volume                int64\n",
       "dtype: object"
      ]
     },
     "execution_count": 8,
     "metadata": {},
     "output_type": "execute_result"
    }
   ],
   "source": [
    "df.dtypes"
   ]
  },
  {
   "cell_type": "code",
   "execution_count": 9,
   "id": "22593803-fd82-47ed-9506-9b454ea0bceb",
   "metadata": {},
   "outputs": [],
   "source": [
    "trainSet = df.iloc[:, 1:2].values\n",
    "scaler = MinMaxScaler(feature_range=(0, 1))\n",
    "trainingSetScaled = scaler.fit_transform(df['Close'].values.reshape(-1, 1))\n",
    "\n",
    "xTRAIN = []\n",
    "yTRAIN = []\n",
    "for i in range(60, len(trainingSetScaled)):\n",
    "    xTRAIN.append(trainingSetScaled[i - 60:i, 0])\n",
    "    yTRAIN.append(trainingSetScaled[i, 0])\n",
    "xTRAIN, yTRAIN = np.array(xTRAIN), np.array(yTRAIN)"
   ]
  },
  {
   "cell_type": "code",
   "execution_count": 10,
   "id": "14df80fd-7cd6-45c5-9bf9-db8c9815af83",
   "metadata": {
    "tags": []
   },
   "outputs": [],
   "source": [
    "base_mdl= keras.models.load_model('../model/exports/^NSEI-LSTMv2/')"
   ]
  },
  {
   "cell_type": "code",
   "execution_count": 11,
   "id": "b0e23fd5-56ca-451b-9f4b-f32e3a066d6d",
   "metadata": {
    "tags": []
   },
   "outputs": [],
   "source": [
    "xTRAIN = np.reshape(xTRAIN, newshape=(xTRAIN.shape[0], xTRAIN.shape[1], 1))\n",
    "regressor = keras.models.Sequential([\n",
    "            keras.layers.LSTM(units=128, return_sequences=True, input_shape=(xTRAIN.shape[1], 1)),\n",
    "            keras.layers.Dropout(rate=0.2),\n",
    "            keras.layers.LSTM(units=64, return_sequences=True),\n",
    "            keras.layers.Dropout(rate=0.3),\n",
    "            keras.layers.LSTM(units=64),\n",
    "            keras.layers.Dropout(rate=0.5),\n",
    "            keras.layers.Dense(units=1)\n",
    "        ])"
   ]
  },
  {
   "cell_type": "code",
   "execution_count": 12,
   "id": "0a199267-8bb5-4f1e-96e7-34c8c549b590",
   "metadata": {
    "tags": []
   },
   "outputs": [
    {
     "name": "stdout",
     "output_type": "stream",
     "text": [
      "Model: \"sequential\"\n",
      "_________________________________________________________________\n",
      " Layer (type)                Output Shape              Param #   \n",
      "=================================================================\n",
      " lstm (LSTM)                 (None, 60, 128)           66560     \n",
      "                                                                 \n",
      " dropout (Dropout)           (None, 60, 128)           0         \n",
      "                                                                 \n",
      " lstm_1 (LSTM)               (None, 60, 64)            49408     \n",
      "                                                                 \n",
      " dropout_1 (Dropout)         (None, 60, 64)            0         \n",
      "                                                                 \n",
      " lstm_2 (LSTM)               (None, 64)                33024     \n",
      "                                                                 \n",
      " dropout_2 (Dropout)         (None, 64)                0         \n",
      "                                                                 \n",
      " dense (Dense)               (None, 1)                 65        \n",
      "                                                                 \n",
      "=================================================================\n",
      "Total params: 149,057\n",
      "Trainable params: 149,057\n",
      "Non-trainable params: 0\n",
      "_________________________________________________________________\n"
     ]
    }
   ],
   "source": [
    "regressor.summary()"
   ]
  },
  {
   "cell_type": "code",
   "execution_count": 13,
   "id": "cc9ab83d-73ca-43e5-a472-d6492fa97e99",
   "metadata": {
    "tags": []
   },
   "outputs": [
    {
     "data": {
      "text/plain": [
       "(276, 60, 1)"
      ]
     },
     "execution_count": 13,
     "metadata": {},
     "output_type": "execute_result"
    }
   ],
   "source": [
    "xTRAIN.shape"
   ]
  },
  {
   "cell_type": "code",
   "execution_count": 14,
   "id": "0e810f5e-e01c-4bad-ad98-c71cf95bb471",
   "metadata": {
    "tags": []
   },
   "outputs": [
    {
     "name": "stdout",
     "output_type": "stream",
     "text": [
      "Epoch 1/50\n",
      "9/9 [==============================] - 5s 36ms/step - loss: 0.1460\n",
      "Epoch 2/50\n",
      "9/9 [==============================] - 0s 19ms/step - loss: 0.0407\n",
      "Epoch 3/50\n",
      "9/9 [==============================] - 0s 18ms/step - loss: 0.0304\n",
      "Epoch 4/50\n",
      "9/9 [==============================] - 0s 20ms/step - loss: 0.0208\n",
      "Epoch 5/50\n",
      "9/9 [==============================] - 0s 20ms/step - loss: 0.0186\n",
      "Epoch 6/50\n",
      "9/9 [==============================] - 0s 20ms/step - loss: 0.0207\n",
      "Epoch 7/50\n",
      "9/9 [==============================] - 0s 19ms/step - loss: 0.0192\n",
      "Epoch 8/50\n",
      "9/9 [==============================] - 0s 19ms/step - loss: 0.0171\n",
      "Epoch 9/50\n",
      "9/9 [==============================] - 0s 19ms/step - loss: 0.0157\n",
      "Epoch 10/50\n",
      "9/9 [==============================] - 0s 18ms/step - loss: 0.0151\n",
      "Epoch 11/50\n",
      "9/9 [==============================] - 0s 19ms/step - loss: 0.0185\n",
      "Epoch 12/50\n",
      "9/9 [==============================] - 0s 20ms/step - loss: 0.0164\n",
      "Epoch 13/50\n",
      "9/9 [==============================] - 0s 21ms/step - loss: 0.0166\n",
      "Epoch 14/50\n",
      "9/9 [==============================] - 0s 20ms/step - loss: 0.0173\n",
      "Epoch 15/50\n",
      "9/9 [==============================] - 0s 21ms/step - loss: 0.0139\n",
      "Epoch 16/50\n",
      "9/9 [==============================] - 0s 21ms/step - loss: 0.0142\n",
      "Epoch 17/50\n",
      "9/9 [==============================] - 0s 20ms/step - loss: 0.0133\n",
      "Epoch 18/50\n",
      "9/9 [==============================] - 0s 20ms/step - loss: 0.0141\n",
      "Epoch 19/50\n",
      "9/9 [==============================] - 0s 20ms/step - loss: 0.0132\n",
      "Epoch 20/50\n",
      "9/9 [==============================] - 0s 19ms/step - loss: 0.0141\n",
      "Epoch 21/50\n",
      "9/9 [==============================] - 0s 19ms/step - loss: 0.0144\n",
      "Epoch 22/50\n",
      "9/9 [==============================] - 0s 29ms/step - loss: 0.0128\n",
      "Epoch 23/50\n",
      "9/9 [==============================] - 0s 35ms/step - loss: 0.0139\n",
      "Epoch 24/50\n",
      "9/9 [==============================] - 0s 23ms/step - loss: 0.0173\n",
      "Epoch 25/50\n",
      "9/9 [==============================] - 0s 20ms/step - loss: 0.0170\n",
      "Epoch 26/50\n",
      "9/9 [==============================] - 0s 19ms/step - loss: 0.0128\n",
      "Epoch 27/50\n",
      "9/9 [==============================] - 0s 19ms/step - loss: 0.0138\n",
      "Epoch 28/50\n",
      "9/9 [==============================] - 0s 19ms/step - loss: 0.0119\n",
      "Epoch 29/50\n",
      "9/9 [==============================] - 0s 20ms/step - loss: 0.0127\n",
      "Epoch 30/50\n",
      "9/9 [==============================] - 0s 20ms/step - loss: 0.0124\n",
      "Epoch 31/50\n",
      "9/9 [==============================] - 0s 19ms/step - loss: 0.0109\n",
      "Epoch 32/50\n",
      "9/9 [==============================] - 0s 19ms/step - loss: 0.0110\n",
      "Epoch 33/50\n",
      "9/9 [==============================] - 0s 20ms/step - loss: 0.0123\n",
      "Epoch 34/50\n",
      "9/9 [==============================] - 0s 19ms/step - loss: 0.0119\n",
      "Epoch 35/50\n",
      "9/9 [==============================] - 0s 25ms/step - loss: 0.0125\n",
      "Epoch 36/50\n",
      "9/9 [==============================] - 0s 28ms/step - loss: 0.0108\n",
      "Epoch 37/50\n",
      "9/9 [==============================] - 0s 21ms/step - loss: 0.0116\n",
      "Epoch 38/50\n",
      "9/9 [==============================] - 0s 25ms/step - loss: 0.0115\n",
      "Epoch 39/50\n",
      "9/9 [==============================] - 0s 34ms/step - loss: 0.0117\n",
      "Epoch 40/50\n",
      "9/9 [==============================] - 0s 28ms/step - loss: 0.0083\n",
      "Epoch 41/50\n",
      "9/9 [==============================] - 0s 24ms/step - loss: 0.0112\n",
      "Epoch 42/50\n",
      "9/9 [==============================] - 0s 29ms/step - loss: 0.0112\n",
      "Epoch 43/50\n",
      "9/9 [==============================] - 0s 28ms/step - loss: 0.0112\n",
      "Epoch 44/50\n",
      "9/9 [==============================] - 0s 30ms/step - loss: 0.0113\n",
      "Epoch 45/50\n",
      "9/9 [==============================] - 0s 34ms/step - loss: 0.0120\n",
      "Epoch 46/50\n",
      "9/9 [==============================] - 0s 35ms/step - loss: 0.0122\n",
      "Epoch 47/50\n",
      "9/9 [==============================] - 0s 34ms/step - loss: 0.0106\n",
      "Epoch 48/50\n",
      "9/9 [==============================] - 0s 23ms/step - loss: 0.0089\n",
      "Epoch 49/50\n",
      "9/9 [==============================] - 0s 24ms/step - loss: 0.0096\n",
      "Epoch 50/50\n",
      "9/9 [==============================] - 0s 22ms/step - loss: 0.0097\n"
     ]
    },
    {
     "data": {
      "text/plain": [
       "<keras.callbacks.History at 0x2dff33e5cc0>"
      ]
     },
     "execution_count": 14,
     "metadata": {},
     "output_type": "execute_result"
    }
   ],
   "source": [
    "regressor.compile(optimizer= 'adam', loss= keras.losses.mean_squared_error)\n",
    "regressor.fit(x= xTRAIN, y=yTRAIN, batch_size= 32, epochs= 50)"
   ]
  },
  {
   "cell_type": "markdown",
   "id": "62d21800-8a1e-4683-b008-01bdc5bcd92d",
   "metadata": {
    "tags": []
   },
   "source": [
    "for layer in regressor.layers:\n",
    "    intermediate_layer_model = tf.keras.models.Model(inputs=regressor.input,\n",
    "                                                     outputs=layer.output)\n",
    "    intermediate_output = intermediate_layer_model.predict(featuresTest)\n",
    "    print(layer.name)\n",
    "    print(intermediate_output)"
   ]
  },
  {
   "cell_type": "code",
   "execution_count": 15,
   "id": "c2cf8cdf-46ed-4e39-81e3-e2f9031db590",
   "metadata": {
    "tags": []
   },
   "outputs": [
    {
     "name": "stdout",
     "output_type": "stream",
     "text": [
      "[*********************100%***********************]  1 of 1 completed\n"
     ]
    }
   ],
   "source": [
    "testDF = yf.download(symb, interval='30m', start=start_date1, end=end_date1)\n",
    "realSP= testDF['Close'].values\n",
    "dfTotal= pd.concat((df['Open'], testDF['Open']), axis=0)\n",
    "modelInp= dfTotal[len(dfTotal)-len(testDF)-60:].values\n",
    "modelInp= modelInp.reshape(-1,1)\n",
    "modelInp= scaler.transform(modelInp)\n",
    "\n",
    "xTEST= []\n",
    "for i in range(60, len(modelInp)):\n",
    "    xTEST.append(modelInp[i-60:i, 0])\n",
    "xTEST= np.array(xTEST)\n",
    "xTEST= np.reshape(xTEST, newshape= (xTEST.shape[0], xTEST.shape[1], 1))"
   ]
  },
  {
   "cell_type": "code",
   "execution_count": 16,
   "id": "5b8a28ab-3932-4b15-bb86-e55e460f33a3",
   "metadata": {
    "tags": []
   },
   "outputs": [],
   "source": [
    "import matplotlib.pyplot as plt"
   ]
  },
  {
   "cell_type": "code",
   "execution_count": 17,
   "id": "150dbb83-b3cd-457b-a0e6-242c747faf7e",
   "metadata": {
    "tags": []
   },
   "outputs": [
    {
     "name": "stdout",
     "output_type": "stream",
     "text": [
      "4/4 [==============================] - 1s 18ms/step\n"
     ]
    },
    {
     "data": {
      "image/png": "[encoded data removed]",
      "text/plain": [
       "<Figure size 640x480 with 1 Axes>"
      ]
     },
     "metadata": {},
     "output_type": "display_data"
    }
   ],
   "source": [
    "pred= regressor.predict(xTEST)\n",
    "pred= scaler.inverse_transform(pred)\n",
    "plt.plot(realSP, color= 'r', label= 'real')\n",
    "plt.plot(pred, color= 'b', label= 'pred')\n",
    "plt.legend()\n",
    "plt.show()"
   ]
  },
  {
   "cell_type": "code",
   "execution_count": 18,
   "id": "b1bdc32a-adea-4f34-8711-ef15f64bba52",
   "metadata": {
    "tags": []
   },
   "outputs": [
    {
     "name": "stdout",
     "output_type": "stream",
     "text": [
      "1/1 [==============================] - 1s 1s/step\n",
      "[[2471.8984]]\n"
     ]
    }
   ],
   "source": [
    "realData= [modelInp[len(modelInp)+1-60:len(modelInp+1), 0]]\n",
    "realData= np.array(realData)\n",
    "realData= np.reshape(realData, newshape=(realData.shape[0], realData.shape[1], 1))\n",
    "prediction= regressor.predict(realData)\n",
    "prediction= scaler.inverse_transform(prediction)\n",
    "print(prediction)"
   ]
  },
  {
   "cell_type": "code",
   "execution_count": 19,
   "id": "4033edb0-4a5b-4a94-9e3c-efc2cead553b",
   "metadata": {
    "tags": []
   },
   "outputs": [
    {
     "data": {
      "text/plain": [
       "(1, 59, 1)"
      ]
     },
     "execution_count": 19,
     "metadata": {},
     "output_type": "execute_result"
    }
   ],
   "source": [
    "realData.shape"
   ]
  },
  {
   "cell_type": "code",
   "execution_count": 20,
   "id": "1e0acc0b-dcc9-4e14-9b2e-b1ccbb396527",
   "metadata": {
    "tags": []
   },
   "outputs": [
    {
     "data": {
      "text/plain": [
       "(108,)"
      ]
     },
     "execution_count": 20,
     "metadata": {},
     "output_type": "execute_result"
    }
   ],
   "source": [
    "realSP.shape"
   ]
  },
  {
   "cell_type": "code",
   "execution_count": null,
   "id": "d2ef73db-6b5a-41ae-aeaf-067cad0efcb5",
   "metadata": {},
   "outputs": [],
   "source": []
  }
 ],
 "metadata": {
  "kernelspec": {
   "display_name": "Python 3 (ipykernel)",
   "language": "python",
   "name": "python3"
  },
  "language_info": {
   "codemirror_mode": {
    "name": "ipython",
    "version": 3
   },
   "file_extension": ".py",
   "mimetype": "text/x-python",
   "name": "python",
   "nbconvert_exporter": "python",
   "pygments_lexer": "ipython3",
   "version": "3.10.9"
  }
 },
 "nbformat": 4,
 "nbformat_minor": 5
}
