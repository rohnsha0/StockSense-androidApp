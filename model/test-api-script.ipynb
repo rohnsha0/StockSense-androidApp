{
 "cells": [
  {
   "cell_type": "code",
   "execution_count": 1,
   "id": "0b34e70c-ba33-43cf-9c0f-67e10c820adb",
   "metadata": {
    "tags": []
   },
   "outputs": [],
   "source": [
    "import yfinance as yf\n",
    "from sklearn.preprocessing import MinMaxScaler\n",
    "import numpy as np\n",
    "import pandas as pd\n",
    "from datetime import datetime, timedelta\n",
    "import requests\n",
    "import json\n",
    "import tensorflow as tf\n",
    "from tensorflow import keras"
   ]
  },
  {
   "cell_type": "code",
   "execution_count": 2,
   "id": "ab7e0f93-0849-44b1-8a1d-8ce0eedaad63",
   "metadata": {
    "tags": []
   },
   "outputs": [],
   "source": [
    "end_date = datetime.now().date() - timedelta(days=15)\n",
    "start_date = datetime.now().date() - timedelta(days=59)\n",
    "\n",
    "end_date1 = datetime.now().date()\n",
    "start_date1 = datetime.now().date() - timedelta(days=14)"
   ]
  },
  {
   "cell_type": "code",
   "execution_count": 3,
   "id": "157a9f40-391b-4dfa-8304-c904bfc25884",
   "metadata": {
    "tags": []
   },
   "outputs": [
    {
     "name": "stdout",
     "output_type": "stream",
     "text": [
      "[*********************100%***********************]  1 of 1 completed\n"
     ]
    }
   ],
   "source": [
    "df = yf.download('ITC.NS', interval='30m', start=start_date, end=end_date)"
   ]
  },
  {
   "cell_type": "code",
   "execution_count": 4,
   "id": "5e46d2a5-7bf1-4cae-b8ad-6485f3e609e7",
   "metadata": {
    "tags": []
   },
   "outputs": [
    {
     "data": {
      "text/html": [
       "<div>\n",
       "<style scoped>\n",
       "    .dataframe tbody tr th:only-of-type {\n",
       "        vertical-align: middle;\n",
       "    }\n",
       "\n",
       "    .dataframe tbody tr th {\n",
       "        vertical-align: top;\n",
       "    }\n",
       "\n",
       "    .dataframe thead th {\n",
       "        text-align: right;\n",
       "    }\n",
       "</style>\n",
       "<table border=\"1\" class=\"dataframe\">\n",
       "  <thead>\n",
       "    <tr style=\"text-align: right;\">\n",
       "      <th></th>\n",
       "      <th>Open</th>\n",
       "      <th>High</th>\n",
       "      <th>Low</th>\n",
       "      <th>Close</th>\n",
       "      <th>Adj Close</th>\n",
       "      <th>Volume</th>\n",
       "    </tr>\n",
       "    <tr>\n",
       "      <th>Datetime</th>\n",
       "      <th></th>\n",
       "      <th></th>\n",
       "      <th></th>\n",
       "      <th></th>\n",
       "      <th></th>\n",
       "      <th></th>\n",
       "    </tr>\n",
       "  </thead>\n",
       "  <tbody>\n",
       "    <tr>\n",
       "      <th>2023-03-16 09:30:00</th>\n",
       "      <td>379.149994</td>\n",
       "      <td>380.299988</td>\n",
       "      <td>378.149994</td>\n",
       "      <td>379.350006</td>\n",
       "      <td>379.350006</td>\n",
       "      <td>546945</td>\n",
       "    </tr>\n",
       "    <tr>\n",
       "      <th>2023-03-16 10:00:00</th>\n",
       "      <td>379.350006</td>\n",
       "      <td>380.000000</td>\n",
       "      <td>378.299988</td>\n",
       "      <td>380.000000</td>\n",
       "      <td>380.000000</td>\n",
       "      <td>500615</td>\n",
       "    </tr>\n",
       "    <tr>\n",
       "      <th>2023-03-16 10:30:00</th>\n",
       "      <td>380.000000</td>\n",
       "      <td>380.500000</td>\n",
       "      <td>379.399994</td>\n",
       "      <td>380.000000</td>\n",
       "      <td>380.000000</td>\n",
       "      <td>750547</td>\n",
       "    </tr>\n",
       "    <tr>\n",
       "      <th>2023-03-16 11:00:00</th>\n",
       "      <td>380.000000</td>\n",
       "      <td>380.450012</td>\n",
       "      <td>379.250000</td>\n",
       "      <td>379.250000</td>\n",
       "      <td>379.250000</td>\n",
       "      <td>419573</td>\n",
       "    </tr>\n",
       "    <tr>\n",
       "      <th>2023-03-16 11:30:00</th>\n",
       "      <td>379.250000</td>\n",
       "      <td>379.799988</td>\n",
       "      <td>378.549988</td>\n",
       "      <td>379.149994</td>\n",
       "      <td>379.149994</td>\n",
       "      <td>461125</td>\n",
       "    </tr>\n",
       "  </tbody>\n",
       "</table>\n",
       "</div>"
      ],
      "text/plain": [
       "                           Open        High         Low       Close   \n",
       "Datetime                                                              \n",
       "2023-03-16 09:30:00  379.149994  380.299988  378.149994  379.350006  \\\n",
       "2023-03-16 10:00:00  379.350006  380.000000  378.299988  380.000000   \n",
       "2023-03-16 10:30:00  380.000000  380.500000  379.399994  380.000000   \n",
       "2023-03-16 11:00:00  380.000000  380.450012  379.250000  379.250000   \n",
       "2023-03-16 11:30:00  379.250000  379.799988  378.549988  379.149994   \n",
       "\n",
       "                      Adj Close  Volume  \n",
       "Datetime                                 \n",
       "2023-03-16 09:30:00  379.350006  546945  \n",
       "2023-03-16 10:00:00  380.000000  500615  \n",
       "2023-03-16 10:30:00  380.000000  750547  \n",
       "2023-03-16 11:00:00  379.250000  419573  \n",
       "2023-03-16 11:30:00  379.149994  461125  "
      ]
     },
     "execution_count": 4,
     "metadata": {},
     "output_type": "execute_result"
    }
   ],
   "source": [
    "df.head()"
   ]
  },
  {
   "cell_type": "markdown",
   "id": "8e4c8ad3-e074-4bfa-a28a-902e21c01dd2",
   "metadata": {
    "tags": []
   },
   "source": [
    "data=data.reset_index()"
   ]
  },
  {
   "cell_type": "code",
   "execution_count": 5,
   "id": "4d0e8324-cd9a-4c8d-9bb0-1b4189452bb7",
   "metadata": {
    "tags": []
   },
   "outputs": [],
   "source": [
    "df.reset_index(inplace=True)"
   ]
  },
  {
   "cell_type": "markdown",
   "id": "c58e1caa-c12c-4ac9-84dc-cfb70c9b9b65",
   "metadata": {
    "tags": []
   },
   "source": [
    "dataDF= requests.get(\"http://127.0.0.1:8000/api/query/ITC.NS/\") "
   ]
  },
  {
   "cell_type": "markdown",
   "id": "97587c16-f706-469a-99fe-58796fd5e286",
   "metadata": {
    "tags": []
   },
   "source": [
    "dataD= dataDF.json()"
   ]
  },
  {
   "cell_type": "markdown",
   "id": "3c5cb14e-b436-406f-b603-fe6b84990b3c",
   "metadata": {
    "tags": []
   },
   "source": [
    "df= pd.read_json(dataDF.json())"
   ]
  },
  {
   "cell_type": "code",
   "execution_count": 6,
   "id": "bb1ea128-d2c0-4185-a73f-a9334050314b",
   "metadata": {
    "tags": []
   },
   "outputs": [
    {
     "data": {
      "text/html": [
       "<div>\n",
       "<style scoped>\n",
       "    .dataframe tbody tr th:only-of-type {\n",
       "        vertical-align: middle;\n",
       "    }\n",
       "\n",
       "    .dataframe tbody tr th {\n",
       "        vertical-align: top;\n",
       "    }\n",
       "\n",
       "    .dataframe thead th {\n",
       "        text-align: right;\n",
       "    }\n",
       "</style>\n",
       "<table border=\"1\" class=\"dataframe\">\n",
       "  <thead>\n",
       "    <tr style=\"text-align: right;\">\n",
       "      <th></th>\n",
       "      <th>Datetime</th>\n",
       "      <th>Open</th>\n",
       "      <th>High</th>\n",
       "      <th>Low</th>\n",
       "      <th>Close</th>\n",
       "      <th>Adj Close</th>\n",
       "      <th>Volume</th>\n",
       "    </tr>\n",
       "  </thead>\n",
       "  <tbody>\n",
       "    <tr>\n",
       "      <th>0</th>\n",
       "      <td>2023-03-16 09:30:00</td>\n",
       "      <td>379.149994</td>\n",
       "      <td>380.299988</td>\n",
       "      <td>378.149994</td>\n",
       "      <td>379.350006</td>\n",
       "      <td>379.350006</td>\n",
       "      <td>546945</td>\n",
       "    </tr>\n",
       "    <tr>\n",
       "      <th>1</th>\n",
       "      <td>2023-03-16 10:00:00</td>\n",
       "      <td>379.350006</td>\n",
       "      <td>380.000000</td>\n",
       "      <td>378.299988</td>\n",
       "      <td>380.000000</td>\n",
       "      <td>380.000000</td>\n",
       "      <td>500615</td>\n",
       "    </tr>\n",
       "    <tr>\n",
       "      <th>2</th>\n",
       "      <td>2023-03-16 10:30:00</td>\n",
       "      <td>380.000000</td>\n",
       "      <td>380.500000</td>\n",
       "      <td>379.399994</td>\n",
       "      <td>380.000000</td>\n",
       "      <td>380.000000</td>\n",
       "      <td>750547</td>\n",
       "    </tr>\n",
       "    <tr>\n",
       "      <th>3</th>\n",
       "      <td>2023-03-16 11:00:00</td>\n",
       "      <td>380.000000</td>\n",
       "      <td>380.450012</td>\n",
       "      <td>379.250000</td>\n",
       "      <td>379.250000</td>\n",
       "      <td>379.250000</td>\n",
       "      <td>419573</td>\n",
       "    </tr>\n",
       "    <tr>\n",
       "      <th>4</th>\n",
       "      <td>2023-03-16 11:30:00</td>\n",
       "      <td>379.250000</td>\n",
       "      <td>379.799988</td>\n",
       "      <td>378.549988</td>\n",
       "      <td>379.149994</td>\n",
       "      <td>379.149994</td>\n",
       "      <td>461125</td>\n",
       "    </tr>\n",
       "  </tbody>\n",
       "</table>\n",
       "</div>"
      ],
      "text/plain": [
       "             Datetime        Open        High         Low       Close   \n",
       "0 2023-03-16 09:30:00  379.149994  380.299988  378.149994  379.350006  \\\n",
       "1 2023-03-16 10:00:00  379.350006  380.000000  378.299988  380.000000   \n",
       "2 2023-03-16 10:30:00  380.000000  380.500000  379.399994  380.000000   \n",
       "3 2023-03-16 11:00:00  380.000000  380.450012  379.250000  379.250000   \n",
       "4 2023-03-16 11:30:00  379.250000  379.799988  378.549988  379.149994   \n",
       "\n",
       "    Adj Close  Volume  \n",
       "0  379.350006  546945  \n",
       "1  380.000000  500615  \n",
       "2  380.000000  750547  \n",
       "3  379.250000  419573  \n",
       "4  379.149994  461125  "
      ]
     },
     "execution_count": 6,
     "metadata": {},
     "output_type": "execute_result"
    }
   ],
   "source": [
    "df.head()"
   ]
  },
  {
   "cell_type": "code",
   "execution_count": 7,
   "id": "f3afa1c7-9263-4c50-8e64-7c1f0581c612",
   "metadata": {
    "tags": []
   },
   "outputs": [
    {
     "data": {
      "text/plain": [
       "Datetime     datetime64[ns]\n",
       "Open                float64\n",
       "High                float64\n",
       "Low                 float64\n",
       "Close               float64\n",
       "Adj Close           float64\n",
       "Volume                int64\n",
       "dtype: object"
      ]
     },
     "execution_count": 7,
     "metadata": {},
     "output_type": "execute_result"
    }
   ],
   "source": [
    "df.dtypes"
   ]
  },
  {
   "cell_type": "code",
   "execution_count": 8,
   "id": "22593803-fd82-47ed-9506-9b454ea0bceb",
   "metadata": {},
   "outputs": [],
   "source": [
    "trainSet = df.iloc[:, 1:2].values\n",
    "scaler = MinMaxScaler(feature_range=(0, 1))\n",
    "trainingSetScaled = scaler.fit_transform(df['Close'].values.reshape(-1, 1))\n",
    "\n",
    "xTRAIN = []\n",
    "yTRAIN = []\n",
    "for i in range(60, len(trainingSetScaled)):\n",
    "    xTRAIN.append(trainingSetScaled[i - 60:i, 0])\n",
    "    yTRAIN.append(trainingSetScaled[i, 0])\n",
    "xTRAIN, yTRAIN = np.array(xTRAIN), np.array(yTRAIN)"
   ]
  },
  {
   "cell_type": "code",
   "execution_count": 9,
   "id": "b0e23fd5-56ca-451b-9f4b-f32e3a066d6d",
   "metadata": {
    "tags": []
   },
   "outputs": [],
   "source": [
    "xTRAIN = np.reshape(xTRAIN, newshape=(xTRAIN.shape[0], xTRAIN.shape[1], 1))\n",
    "regressor = keras.models.Sequential([\n",
    "    keras.layers.LSTM(units=64, return_sequences=True, input_shape=(xTRAIN.shape[1], 1)),\n",
    "    keras.layers.Dropout(rate=0.2),\n",
    "    keras.layers.LSTM(units=50, return_sequences=True),\n",
    "    keras.layers.Dropout(rate=0.2),\n",
    "    keras.layers.LSTM(units=50),\n",
    "    keras.layers.Dropout(rate=0.2),\n",
    "    keras.layers.Dense(units=1)\n",
    "    ])"
   ]
  },
  {
   "cell_type": "code",
   "execution_count": 10,
   "id": "cc9ab83d-73ca-43e5-a472-d6492fa97e99",
   "metadata": {
    "tags": []
   },
   "outputs": [
    {
     "data": {
      "text/plain": [
       "(276, 60, 1)"
      ]
     },
     "execution_count": 10,
     "metadata": {},
     "output_type": "execute_result"
    }
   ],
   "source": [
    "xTRAIN.shape"
   ]
  },
  {
   "cell_type": "code",
   "execution_count": 11,
   "id": "0e810f5e-e01c-4bad-ad98-c71cf95bb471",
   "metadata": {
    "tags": []
   },
   "outputs": [
    {
     "name": "stdout",
     "output_type": "stream",
     "text": [
      "Epoch 1/5\n",
      "9/9 [==============================] - 11s 50ms/step - loss: 0.0843\n",
      "Epoch 2/5\n",
      "9/9 [==============================] - 0s 25ms/step - loss: 0.0199\n",
      "Epoch 3/5\n",
      "9/9 [==============================] - 0s 23ms/step - loss: 0.0102\n",
      "Epoch 4/5\n",
      "9/9 [==============================] - 0s 23ms/step - loss: 0.0085\n",
      "Epoch 5/5\n",
      "9/9 [==============================] - 0s 23ms/step - loss: 0.0053\n"
     ]
    },
    {
     "data": {
      "text/plain": [
       "<keras.callbacks.History at 0x231101b7b20>"
      ]
     },
     "execution_count": 11,
     "metadata": {},
     "output_type": "execute_result"
    }
   ],
   "source": [
    "regressor.compile(optimizer= 'adam', loss= keras.losses.mean_squared_error)\n",
    "regressor.fit(x= xTRAIN, y=yTRAIN, batch_size= 32, epochs= 5)"
   ]
  },
  {
   "cell_type": "code",
   "execution_count": 12,
   "id": "c2cf8cdf-46ed-4e39-81e3-e2f9031db590",
   "metadata": {
    "tags": []
   },
   "outputs": [
    {
     "name": "stdout",
     "output_type": "stream",
     "text": [
      "[*********************100%***********************]  1 of 1 completed\n"
     ]
    }
   ],
   "source": [
    "testDF = yf.download('ITC.NS', interval='30m', start=start_date1, end=end_date1)\n",
    "realSP= testDF['Close'].values\n",
    "dfTotal= pd.concat((df['Open'], testDF['Open']), axis=0)\n",
    "modelInp= dfTotal[len(dfTotal)-len(testDF)-60:].values\n",
    "modelInp= modelInp.reshape(-1,1)\n",
    "modelInp= scaler.transform(modelInp)\n",
    "\n",
    "xTEST= []\n",
    "for i in range(60, len(modelInp)):\n",
    "    xTEST.append(modelInp[i-60:i, 0])\n",
    "xTEST= np.array(xTEST)\n",
    "xTEST= np.reshape(xTEST, newshape= (xTEST.shape[0], xTEST.shape[1], 1))"
   ]
  },
  {
   "cell_type": "code",
   "execution_count": 13,
   "id": "5b8a28ab-3932-4b15-bb86-e55e460f33a3",
   "metadata": {
    "tags": []
   },
   "outputs": [],
   "source": [
    "import matplotlib.pyplot as plt"
   ]
  },
  {
   "cell_type": "code",
   "execution_count": 14,
   "id": "150dbb83-b3cd-457b-a0e6-242c747faf7e",
   "metadata": {
    "tags": []
   },
   "outputs": [
    {
     "name": "stdout",
     "output_type": "stream",
     "text": [
      "4/4 [==============================] - 2s 34ms/step\n"
     ]
    },
    {
     "data": {
      "image/png": "[encoded data removed]",
      "text/plain": [
       "<Figure size 640x480 with 1 Axes>"
      ]
     },
     "metadata": {},
     "output_type": "display_data"
    }
   ],
   "source": [
    "pred= regressor.predict(xTEST)\n",
    "pred= scaler.inverse_transform(pred)\n",
    "plt.plot(realSP, color= 'r', label= 'real')\n",
    "plt.plot(pred, color= 'b', label= 'pred')\n",
    "plt.legend()\n",
    "plt.show()"
   ]
  },
  {
   "cell_type": "code",
   "execution_count": 15,
   "id": "b1bdc32a-adea-4f34-8711-ef15f64bba52",
   "metadata": {
    "tags": []
   },
   "outputs": [
    {
     "name": "stdout",
     "output_type": "stream",
     "text": [
      "1/1 [==============================] - 1s 875ms/step\n",
      "[[419.93652]]\n"
     ]
    }
   ],
   "source": [
    "realData= [modelInp[len(modelInp)+1-60:len(modelInp+1), 0]]\n",
    "realData= np.array(realData)\n",
    "realData= np.reshape(realData, newshape=(realData.shape[0], realData.shape[1], 1))\n",
    "prediction= regressor.predict(realData)\n",
    "prediction= scaler.inverse_transform(prediction)\n",
    "print(prediction)"
   ]
  },
  {
   "cell_type": "code",
   "execution_count": 16,
   "id": "4033edb0-4a5b-4a94-9e3c-efc2cead553b",
   "metadata": {
    "tags": []
   },
   "outputs": [
    {
     "data": {
      "text/plain": [
       "(1, 59, 1)"
      ]
     },
     "execution_count": 16,
     "metadata": {},
     "output_type": "execute_result"
    }
   ],
   "source": [
    "realData.shape"
   ]
  },
  {
   "cell_type": "code",
   "execution_count": 17,
   "id": "1e0acc0b-dcc9-4e14-9b2e-b1ccbb396527",
   "metadata": {
    "tags": []
   },
   "outputs": [
    {
     "data": {
      "text/plain": [
       "(108,)"
      ]
     },
     "execution_count": 17,
     "metadata": {},
     "output_type": "execute_result"
    }
   ],
   "source": [
    "realSP.shape"
   ]
  },
  {
   "cell_type": "code",
   "execution_count": null,
   "id": "d2ef73db-6b5a-41ae-aeaf-067cad0efcb5",
   "metadata": {},
   "outputs": [],
   "source": []
  }
 ],
 "metadata": {
  "kernelspec": {
   "display_name": "Python 3 (ipykernel)",
   "language": "python",
   "name": "python3"
  },
  "language_info": {
   "codemirror_mode": {
    "name": "ipython",
    "version": 3
   },
   "file_extension": ".py",
   "mimetype": "text/x-python",
   "name": "python",
   "nbconvert_exporter": "python",
   "pygments_lexer": "ipython3",
   "version": "3.10.9"
  }
 },
 "nbformat": 4,
 "nbformat_minor": 5
}
